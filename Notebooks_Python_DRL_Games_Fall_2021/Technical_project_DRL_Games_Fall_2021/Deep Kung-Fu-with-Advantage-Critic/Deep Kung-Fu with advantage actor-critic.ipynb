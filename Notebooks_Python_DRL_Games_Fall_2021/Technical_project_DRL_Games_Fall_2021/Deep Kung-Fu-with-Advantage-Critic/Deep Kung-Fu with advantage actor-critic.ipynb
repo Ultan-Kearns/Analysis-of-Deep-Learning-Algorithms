{
  "nbformat": 4,
  "nbformat_minor": 0,
  "metadata": {
    "colab": {
      "name": "A3C.ipynb",
      "provenance": [],
      "include_colab_link": true
    },
    "kernelspec": {
      "name": "python3",
      "display_name": "Python 3"
    },
    "accelerator": "GPU"
  },
  "cells": [
    {
      "cell_type": "markdown",
      "metadata": {
        "id": "view-in-github",
        "colab_type": "text"
      },
      "source": [
        "<a href=\"https://colab.research.google.com/github/Ultan-Kearns/Artificial-Intelligence-CA/blob/master/Notebooks_Python_DRL_Games_Fall_2021/Technical_project_DRL_Games_Fall_2021/Deep%20Kung-Fu-with-Advantage-Critic/Deep%20Kung-Fu%20with%20advantage%20actor-critic.ipynb\" target=\"_parent\"><img src=\"https://colab.research.google.com/assets/colab-badge.svg\" alt=\"Open In Colab\"/></a>"
      ]
    },
    {
      "cell_type": "markdown",
      "metadata": {
        "id": "PjC4uqSP17ai"
      },
      "source": [
        "# Deep Kung-Fu with advantage actor-critic"
      ]
    },
    {
      "cell_type": "markdown",
      "metadata": {
        "id": "wRXcuuh3qB6q"
      },
      "source": [
        "# Environment Setup"
      ]
    },
    {
      "cell_type": "code",
      "metadata": {
        "id": "jWdlrlePjq-g",
        "outputId": "5b9fe814-a8d1-49a7-e217-dde458c3bae3",
        "colab": {
          "base_uri": "https://localhost:8080/"
        }
      },
      "source": [
        "!pip install gym"
      ],
      "execution_count": 1,
      "outputs": [
        {
          "output_type": "stream",
          "name": "stdout",
          "text": [
            "Requirement already satisfied: gym in /usr/local/lib/python3.7/dist-packages (0.17.3)\n",
            "Requirement already satisfied: numpy>=1.10.4 in /usr/local/lib/python3.7/dist-packages (from gym) (1.19.5)\n",
            "Requirement already satisfied: cloudpickle<1.7.0,>=1.2.0 in /usr/local/lib/python3.7/dist-packages (from gym) (1.3.0)\n",
            "Requirement already satisfied: scipy in /usr/local/lib/python3.7/dist-packages (from gym) (1.1.0)\n",
            "Requirement already satisfied: pyglet<=1.5.0,>=1.4.0 in /usr/local/lib/python3.7/dist-packages (from gym) (1.5.0)\n",
            "Requirement already satisfied: future in /usr/local/lib/python3.7/dist-packages (from pyglet<=1.5.0,>=1.4.0->gym) (0.16.0)\n"
          ]
        }
      ]
    },
    {
      "cell_type": "code",
      "metadata": {
        "id": "xcOgo4xwj4PJ",
        "outputId": "3cb71340-b762-45de-c684-5ab40094c797",
        "colab": {
          "base_uri": "https://localhost:8080/"
        }
      },
      "source": [
        "!apt-get install python-opengl -y"
      ],
      "execution_count": 2,
      "outputs": [
        {
          "output_type": "stream",
          "name": "stdout",
          "text": [
            "Reading package lists... Done\n",
            "Building dependency tree       \n",
            "Reading state information... Done\n",
            "python-opengl is already the newest version (3.1.0+dfsg-1).\n",
            "0 upgraded, 0 newly installed, 0 to remove and 37 not upgraded.\n"
          ]
        }
      ]
    },
    {
      "cell_type": "code",
      "metadata": {
        "id": "2aS0God8kBDE",
        "outputId": "7162c6aa-5d25-4fd4-8cd0-dabd37883468",
        "colab": {
          "base_uri": "https://localhost:8080/"
        }
      },
      "source": [
        "!apt install xvfb -y"
      ],
      "execution_count": 3,
      "outputs": [
        {
          "output_type": "stream",
          "name": "stdout",
          "text": [
            "Reading package lists... Done\n",
            "Building dependency tree       \n",
            "Reading state information... Done\n",
            "xvfb is already the newest version (2:1.19.6-1ubuntu4.10).\n",
            "0 upgraded, 0 newly installed, 0 to remove and 37 not upgraded.\n"
          ]
        }
      ]
    },
    {
      "cell_type": "code",
      "metadata": {
        "id": "WZuEBujtkKoj",
        "outputId": "1d32ea40-efa7-45c7-f0a4-9cc04a00c8dd",
        "colab": {
          "base_uri": "https://localhost:8080/"
        }
      },
      "source": [
        "!pip install pyvirtualdisplay\n",
        "!pip install piglet"
      ],
      "execution_count": 4,
      "outputs": [
        {
          "output_type": "stream",
          "name": "stdout",
          "text": [
            "Requirement already satisfied: pyvirtualdisplay in /usr/local/lib/python3.7/dist-packages (2.2)\n",
            "Requirement already satisfied: EasyProcess in /usr/local/lib/python3.7/dist-packages (from pyvirtualdisplay) (1.1)\n",
            "Requirement already satisfied: piglet in /usr/local/lib/python3.7/dist-packages (1.0.0)\n",
            "Requirement already satisfied: piglet-templates in /usr/local/lib/python3.7/dist-packages (from piglet) (1.2.0)\n",
            "Requirement already satisfied: pyparsing in /usr/local/lib/python3.7/dist-packages (from piglet-templates->piglet) (3.0.7)\n",
            "Requirement already satisfied: markupsafe in /usr/local/lib/python3.7/dist-packages (from piglet-templates->piglet) (2.0.1)\n",
            "Requirement already satisfied: attrs in /usr/local/lib/python3.7/dist-packages (from piglet-templates->piglet) (21.4.0)\n",
            "Requirement already satisfied: astunparse in /usr/local/lib/python3.7/dist-packages (from piglet-templates->piglet) (1.6.3)\n",
            "Requirement already satisfied: wheel<1.0,>=0.23.0 in /usr/local/lib/python3.7/dist-packages (from astunparse->piglet-templates->piglet) (0.37.1)\n",
            "Requirement already satisfied: six<2.0,>=1.6.1 in /usr/local/lib/python3.7/dist-packages (from astunparse->piglet-templates->piglet) (1.15.0)\n"
          ]
        }
      ]
    },
    {
      "cell_type": "code",
      "metadata": {
        "id": "Sfq6FvJ9kW1G",
        "outputId": "e5e1f8cb-9fb5-4a65-e946-45b69df8c685",
        "colab": {
          "base_uri": "https://localhost:8080/"
        }
      },
      "source": [
        "from pyvirtualdisplay import Display\n",
        "display = Display(visible=0, size=(1400, 900))\n",
        "display.start()"
      ],
      "execution_count": 5,
      "outputs": [
        {
          "output_type": "execute_result",
          "data": {
            "text/plain": [
              "<pyvirtualdisplay.display.Display at 0x7f5f3f5eb750>"
            ]
          },
          "metadata": {},
          "execution_count": 5
        }
      ]
    },
    {
      "cell_type": "code",
      "metadata": {
        "id": "RW0KjeOVkc88"
      },
      "source": [
        "from __future__ import print_function, division\n",
        "from IPython.core import display\n",
        "import matplotlib.pyplot as plt\n",
        "%matplotlib inline\n",
        "import numpy as np\n",
        "\n",
        "#If you are running on a server, launch xvfb to record game videos\n",
        "#Please make sure you have xvfb installed\n",
        "import os\n",
        "if os.environ.get(\"DISPLAY\") is str and len(os.environ.get(\"DISPLAY\"))!=0:\n",
        "    !bash ../xvfb start\n",
        "    %env DISPLAY=:1"
      ],
      "execution_count": 6,
      "outputs": []
    },
    {
      "cell_type": "markdown",
      "metadata": {
        "id": "iTsbpF4In-3c"
      },
      "source": [
        "# Atari Environment\n",
        "\n",
        "---\n",
        "\n"
      ]
    },
    {
      "cell_type": "code",
      "metadata": {
        "id": "_w1HpxbzX81j",
        "outputId": "519306a4-ca49-4273-93b5-277990e06438",
        "colab": {
          "base_uri": "https://localhost:8080/"
        }
      },
      "source": [
        "pip install scipy==1.1.0"
      ],
      "execution_count": 7,
      "outputs": [
        {
          "output_type": "stream",
          "name": "stdout",
          "text": [
            "Requirement already satisfied: scipy==1.1.0 in /usr/local/lib/python3.7/dist-packages (1.1.0)\n",
            "Requirement already satisfied: numpy>=1.8.2 in /usr/local/lib/python3.7/dist-packages (from scipy==1.1.0) (1.19.5)\n"
          ]
        }
      ]
    },
    {
      "cell_type": "code",
      "metadata": {
        "id": "oR12anpKlcId",
        "outputId": "912fd181-a120-4fe0-e6f7-b54531e2ec0f",
        "colab": {
          "base_uri": "https://localhost:8080/"
        }
      },
      "source": [
        "!apt-get install -y python-numpy python-dev cmake zlib1g-dev libjpeg-dev xvfb libav-tools xorg-dev python-opengl libboost-all-dev libsdl2-dev swig"
      ],
      "execution_count": 8,
      "outputs": [
        {
          "output_type": "stream",
          "name": "stdout",
          "text": [
            "Reading package lists... Done\n",
            "Building dependency tree       \n",
            "Reading state information... Done\n",
            "Package libav-tools is not available, but is referred to by another package.\n",
            "This may mean that the package is missing, has been obsoleted, or\n",
            "is only available from another source\n",
            "However the following packages replace it:\n",
            "  ffmpeg\n",
            "\n",
            "E: Package 'libav-tools' has no installation candidate\n"
          ]
        }
      ]
    },
    {
      "cell_type": "code",
      "metadata": {
        "id": "hl5urImpnSBQ",
        "outputId": "af56dcf3-15f6-4af5-f5dc-4007042c71ee",
        "colab": {
          "base_uri": "https://localhost:8080/"
        }
      },
      "source": [
        "!python -m pip install \"gym[atari,accept-rom-license]\"\n"
      ],
      "execution_count": 9,
      "outputs": [
        {
          "output_type": "stream",
          "name": "stdout",
          "text": [
            "Requirement already satisfied: gym[accept-rom-license,atari] in /usr/local/lib/python3.7/dist-packages (0.17.3)\n",
            "\u001b[33mWARNING: gym 0.17.3 does not provide the extra 'accept-rom-license'\u001b[0m\n",
            "Requirement already satisfied: numpy>=1.10.4 in /usr/local/lib/python3.7/dist-packages (from gym[accept-rom-license,atari]) (1.19.5)\n",
            "Requirement already satisfied: cloudpickle<1.7.0,>=1.2.0 in /usr/local/lib/python3.7/dist-packages (from gym[accept-rom-license,atari]) (1.3.0)\n",
            "Requirement already satisfied: pyglet<=1.5.0,>=1.4.0 in /usr/local/lib/python3.7/dist-packages (from gym[accept-rom-license,atari]) (1.5.0)\n",
            "Requirement already satisfied: scipy in /usr/local/lib/python3.7/dist-packages (from gym[accept-rom-license,atari]) (1.1.0)\n",
            "Requirement already satisfied: opencv-python in /usr/local/lib/python3.7/dist-packages (from gym[accept-rom-license,atari]) (4.1.2.30)\n",
            "Requirement already satisfied: Pillow in /usr/local/lib/python3.7/dist-packages (from gym[accept-rom-license,atari]) (7.1.2)\n",
            "Requirement already satisfied: atari-py~=0.2.0 in /usr/local/lib/python3.7/dist-packages (from gym[accept-rom-license,atari]) (0.2.9)\n",
            "Requirement already satisfied: six in /usr/local/lib/python3.7/dist-packages (from atari-py~=0.2.0->gym[accept-rom-license,atari]) (1.15.0)\n",
            "Requirement already satisfied: future in /usr/local/lib/python3.7/dist-packages (from pyglet<=1.5.0,>=1.4.0->gym[accept-rom-license,atari]) (0.16.0)\n"
          ]
        }
      ]
    },
    {
      "cell_type": "code",
      "source": [
        "# mount gdrive\n",
        "\n",
        "from google.colab import drive\n",
        "drive.mount('/content/gdrive')\n",
        "\n",
        "# Atari depreacated installing ale-py instead\n",
        "!python -m pip install ale-py\n",
        "!pip install gym[atari] \n",
        "from ale_py import ALEInterface \n",
        "ale = ALEInterface()\n",
        "\n",
        "!ale-import-roms '/content/gdrive/My Drive/roms'\n",
        "\n",
        "ale.loadROM('KungFuMaster')\n"
      ],
      "metadata": {
        "colab": {
          "base_uri": "https://localhost:8080/"
        },
        "id": "vSxKeJXPYXjC",
        "outputId": "6208d752-c0af-4d7d-9233-efc7d6f092a6"
      },
      "execution_count": null,
      "outputs": [
        {
          "output_type": "stream",
          "name": "stdout",
          "text": [
            "Drive already mounted at /content/gdrive; to attempt to forcibly remount, call drive.mount(\"/content/gdrive\", force_remount=True).\n",
            "Requirement already satisfied: ale-py in /usr/local/lib/python3.7/dist-packages (0.7.3)\n",
            "Requirement already satisfied: importlib-metadata in /usr/local/lib/python3.7/dist-packages (from ale-py) (4.10.1)\n",
            "Requirement already satisfied: numpy in /usr/local/lib/python3.7/dist-packages (from ale-py) (1.19.5)\n",
            "Requirement already satisfied: importlib-resources in /usr/local/lib/python3.7/dist-packages (from ale-py) (5.4.0)\n",
            "Requirement already satisfied: zipp>=0.5 in /usr/local/lib/python3.7/dist-packages (from importlib-metadata->ale-py) (3.7.0)\n",
            "Requirement already satisfied: typing-extensions>=3.6.4 in /usr/local/lib/python3.7/dist-packages (from importlib-metadata->ale-py) (3.10.0.2)\n",
            "Requirement already satisfied: gym[atari] in /usr/local/lib/python3.7/dist-packages (0.17.3)\n",
            "Requirement already satisfied: cloudpickle<1.7.0,>=1.2.0 in /usr/local/lib/python3.7/dist-packages (from gym[atari]) (1.3.0)\n",
            "Requirement already satisfied: pyglet<=1.5.0,>=1.4.0 in /usr/local/lib/python3.7/dist-packages (from gym[atari]) (1.5.0)\n",
            "Requirement already satisfied: scipy in /usr/local/lib/python3.7/dist-packages (from gym[atari]) (1.1.0)\n",
            "Requirement already satisfied: numpy>=1.10.4 in /usr/local/lib/python3.7/dist-packages (from gym[atari]) (1.19.5)\n",
            "Requirement already satisfied: opencv-python in /usr/local/lib/python3.7/dist-packages (from gym[atari]) (4.1.2.30)\n",
            "Requirement already satisfied: Pillow in /usr/local/lib/python3.7/dist-packages (from gym[atari]) (7.1.2)\n",
            "Requirement already satisfied: atari-py~=0.2.0 in /usr/local/lib/python3.7/dist-packages (from gym[atari]) (0.2.9)\n",
            "Requirement already satisfied: six in /usr/local/lib/python3.7/dist-packages (from atari-py~=0.2.0->gym[atari]) (1.15.0)\n",
            "Requirement already satisfied: future in /usr/local/lib/python3.7/dist-packages (from pyglet<=1.5.0,>=1.4.0->gym[atari]) (0.16.0)\n",
            "\u001b[92m[SUPPORTED]    \u001b[0m             breakout /content/gdrive/My Drive/roms/Breakout.bin\n",
            "\u001b[92m[SUPPORTED]    \u001b[0m       kung_fu_master /content/gdrive/My Drive/roms/KungFuMaster.bin\n",
            "\n",
            "\n",
            "\n",
            "Imported 2 / 2 ROMs\n"
          ]
        }
      ]
    },
    {
      "cell_type": "code",
      "source": [
        "# Had issue with preprocess atari so needed code from Github\n",
        "# Reference: https://github.com/sshkhr/Practical_RL/blob/master/week6_policy_based/atari_util.py\n",
        "# Code by https://github.com/sshkhr \n",
        "\n",
        "\n",
        "\n",
        "\"\"\"Auxilary files for those who wanted to solve breakout with CEM or policy gradient\"\"\"\n",
        "import numpy as np\n",
        "import gym\n",
        "from scipy.misc import imresize\n",
        "from gym.core import Wrapper\n",
        "from gym.spaces.box import Box\n",
        "\n",
        "class PreprocessAtari(Wrapper):\n",
        "    def __init__(self, env, height=42, width=42, color=False, crop=lambda img: img, \n",
        "                 n_frames=4, dim_order='theano', reward_scale=1,):\n",
        "        \"\"\"A gym wrapper that reshapes, crops and scales image into the desired shapes\"\"\"\n",
        "        super(PreprocessAtari, self).__init__(env)\n",
        "        assert dim_order in ('theano', 'tensorflow')\n",
        "        self.img_size = (height, width)\n",
        "        self.crop=crop\n",
        "        self.color=color\n",
        "        self.dim_order = dim_order\n",
        "        self.reward_scale = reward_scale\n",
        "        \n",
        "        n_channels = (3 * n_frames) if color else n_frames\n",
        "        obs_shape = [n_channels,height,width] if dim_order == 'theano' else [height,width,n_channels]\n",
        "        self.observation_space = Box(0.0, 1.0, obs_shape)\n",
        "        self.framebuffer = np.zeros(obs_shape, 'float32')\n",
        "        \n",
        "    def reset(self):\n",
        "        \"\"\"resets breakout, returns initial frames\"\"\"\n",
        "        self.framebuffer = np.zeros_like(self.framebuffer)\n",
        "        self.update_buffer(self.env.reset())\n",
        "        return self.framebuffer\n",
        "    \n",
        "    def step(self,action):\n",
        "        \"\"\"plays breakout for 1 step, returns frame buffer\"\"\"\n",
        "        new_img, reward, done, info = self.env.step(action)\n",
        "        self.update_buffer(new_img)\n",
        "        return self.framebuffer, reward * self.reward_scale, done, info\n",
        "    \n",
        "    ### image processing ###\n",
        "    \n",
        "    def update_buffer(self,img):\n",
        "        img = self.preproc_image(img)\n",
        "        offset = 3 if self.color else 1\n",
        "        if self.dim_order == 'theano':\n",
        "            axis = 0\n",
        "            cropped_framebuffer = self.framebuffer[:-offset]\n",
        "        else:\n",
        "            axis = -1\n",
        "            cropped_framebuffer = self.framebuffer[:,:,:-offset]\n",
        "        self.framebuffer = np.concatenate([img, cropped_framebuffer], axis = axis)\n",
        "\n",
        "    def preproc_image(self, img):\n",
        "        \"\"\"what happens to the observation\"\"\"\n",
        "        img = self.crop(img)\n",
        "        img = imresize(img, self.img_size)\n",
        "        if not self.color:\n",
        "            img = img.mean(-1, keepdims=True)\n",
        "        if self.dim_order == 'theano':\n",
        "            img = img.transpose([2,0,1]) # [h, w, c] to [c, h, w]\n",
        "        img = img.astype('float32') / 255.\n",
        "        return img"
      ],
      "metadata": {
        "id": "fCZdVhCN5lKK"
      },
      "execution_count": 1,
      "outputs": []
    },
    {
      "cell_type": "markdown",
      "metadata": {
        "id": "xMEwvBMNoRdt"
      },
      "source": [
        "# Deep Kung-Fu with advantage actor-critic\n",
        "\n",
        "---\n",
        "\n",
        "For starters, let's take a look at the game itself:\n",
        "\n",
        " * Image resized to 42x42 and grayscale to run faster\n",
        " * Rewards divided by 100 'cuz they are all divisible by 100\n",
        " * Agent sees last 4 frames of game to account for object velocity"
      ]
    },
    {
      "cell_type": "code",
      "metadata": {
        "id": "mRSoMY-Tkkmb",
        "outputId": "c05c4cae-b7c4-4242-c047-7e30ecd7d147",
        "colab": {
          "base_uri": "https://localhost:8080/"
        }
      },
      "source": [
        "import gym\n",
        "\n",
        "def make_env():\n",
        "    env = gym.make(\"KungFuMaster-v0\")\n",
        "    env = PreprocessAtari(env, height=42, width=42,\n",
        "                          crop = lambda img: img[60:-30, 5:],\n",
        "                          dim_order = 'tensorflow',\n",
        "                          color=False, n_frames=4,\n",
        "                          reward_scale = 0.01)\n",
        "    return env\n",
        "\n",
        "env = make_env()\n",
        "\n",
        "obs_shape = env.observation_space.shape\n",
        "n_actions = env.action_space.n\n",
        "\n",
        "print(\"Observation shape:\", obs_shape)\n",
        "print(\"Num actions:\", n_actions)\n",
        "print(\"Action names:\", env.env.env.get_action_meanings())"
      ],
      "execution_count": 2,
      "outputs": [
        {
          "output_type": "stream",
          "name": "stderr",
          "text": [
            "/usr/local/lib/python3.7/dist-packages/ale_py/roms/utils.py:90: DeprecationWarning: SelectableGroups dict interface is deprecated. Use select.\n",
            "  for external in metadata.entry_points().get(self.group, []):\n",
            "/usr/local/lib/python3.7/dist-packages/gym/logger.py:30: UserWarning: \u001b[33mWARN: obs_type \"image\" should be replaced with the image type, one of: rgb, grayscale\u001b[0m\n",
            "  warnings.warn(colorize('%s: %s'%('WARN', msg % args), 'yellow'))\n"
          ]
        },
        {
          "output_type": "stream",
          "name": "stdout",
          "text": [
            "Observation shape: (42, 42, 4)\n",
            "Num actions: 18\n",
            "Action names: ['NOOP', 'FIRE', 'UP', 'RIGHT', 'LEFT', 'DOWN', 'UPRIGHT', 'UPLEFT', 'DOWNRIGHT', 'DOWNLEFT', 'UPFIRE', 'RIGHTFIRE', 'LEFTFIRE', 'DOWNFIRE', 'UPRIGHTFIRE', 'UPLEFTFIRE', 'DOWNRIGHTFIRE', 'DOWNLEFTFIRE']\n"
          ]
        }
      ]
    },
    {
      "cell_type": "code",
      "metadata": {
        "id": "ems5qHMeZU0q"
      },
      "source": [
        "import matplotlib.pyplot as plt"
      ],
      "execution_count": 3,
      "outputs": []
    },
    {
      "cell_type": "code",
      "metadata": {
        "id": "m7pd1KapnM0A",
        "outputId": "cf94a1fc-5636-45f7-deac-27b915e067aa",
        "colab": {
          "base_uri": "https://localhost:8080/",
          "height": 463
        }
      },
      "source": [
        "s = env.reset()\n",
        "for _ in range(100):\n",
        "    s, _, _, _ = env.step(env.action_space.sample())\n",
        "\n",
        "plt.title('Game image')\n",
        "plt.imshow(env.render('rgb_array'))\n",
        "plt.show()\n",
        "\n",
        "plt.title('Agent observation (4-frame buffer)')\n",
        "plt.imshow(s.transpose([0,2,1]).reshape([42,-1]))\n",
        "plt.show()"
      ],
      "execution_count": 4,
      "outputs": [
        {
          "output_type": "stream",
          "name": "stderr",
          "text": [
            "/usr/local/lib/python3.7/dist-packages/ipykernel_launcher.py:59: DeprecationWarning:     `imresize` is deprecated!\n",
            "    `imresize` is deprecated in SciPy 1.0.0, and will be removed in 1.2.0.\n",
            "    Use ``skimage.transform.resize`` instead.\n"
          ]
        },
        {
          "output_type": "display_data",
          "data": {
            "image/png": "[encoded data removed]",
            "text/plain": [
              "<Figure size 432x288 with 1 Axes>"
            ]
          },
          "metadata": {
            "needs_background": "light"
          }
        },
        {
          "output_type": "display_data",
          "data": {
            "image/png": "[encoded data removed]",
            "text/plain": [
              "<Figure size 432x288 with 1 Axes>"
            ]
          },
          "metadata": {
            "needs_background": "light"
          }
        }
      ]
    },
    {
      "cell_type": "markdown",
      "metadata": {
        "id": "ejdlsSzJovVP"
      },
      "source": [
        "# Build an agent\n",
        "\n",
        "---\n",
        "\n",
        "\n",
        "We now have to build an agent for actor-critic training - a convolutional neural network that converts states into action probabilities and state values .\n",
        "\n",
        "Your assignment here is to build and apply a neural network - with any framework you want.\n",
        "\n",
        "For starters, we want you to implement this architecture: \n",
        "\n",
        "After you get above 50 points, we encourage you to experiment with model architecture to score even better."
      ]
    },
    {
      "cell_type": "code",
      "metadata": {
        "id": "P0Qg7FRfkokL"
      },
      "source": [
        "import tensorflow as tf\n",
        "tf.compat.v1.reset_default_graph()\n",
        "sess = tf.compat.v1.InteractiveSession()"
      ],
      "execution_count": 5,
      "outputs": []
    },
    {
      "cell_type": "code",
      "metadata": {
        "id": "tRb-25lKoAjy"
      },
      "source": [
        "from keras.layers import Conv2D, Dense, Flatten, Input\n",
        "import keras\n",
        "from keras.models import Model, Sequential\n",
        "\n",
        "class Agent:\n",
        "    def __init__(self, name, state_shape, n_actions, reuse=False):\n",
        "        \"\"\"A simple actor-critic agent\"\"\"\n",
        "        \n",
        "        with tf.compat.v1.variable_scope(name, reuse=reuse):\n",
        "            ####\n",
        "            inputs = Input(shape=state_shape)\n",
        "            x = Conv2D(32, (3, 3), strides=2, activation='relu')(inputs)\n",
        "            x = Conv2D(32, (3, 3), strides=2, activation='relu')(x)\n",
        "            x = Conv2D(32, (3, 3), strides=2, activation='relu')(x)\n",
        "            x = Flatten()(x)\n",
        "            x = Dense(128, activation='relu')(x)\n",
        "            \n",
        "            # two different output layers\n",
        "            logits = Dense(n_actions, activation='linear')(x)\n",
        "            state_value = Dense(1, activation='linear')(x)\n",
        "            \n",
        "            self.network = Model(inputs=inputs, outputs=[logits, state_value])\n",
        "            \n",
        "            \n",
        "            # prepare a graph for agent step\n",
        "            self.state_t = tf.compat.v1.placeholder('float32', [None,] + list(state_shape))\n",
        "            self.agent_outputs = self.symbolic_step(self.state_t)\n",
        "        \n",
        "    def symbolic_step(self, state_t):\n",
        "        \"\"\"Takes agent's previous step and observation, returns next state and whatever it needs to learn (tf tensors)\"\"\"\n",
        "        \n",
        "        # Apply neural network\n",
        "        ### Apply agent's neural network to get policy logits and state values.\n",
        "#         network_output = self.network(state_t)\n",
        "\n",
        "#         logits = network_output[:,1:]\n",
        "#         state_value = network_output[:,0]\n",
        "        \n",
        "        \n",
        "        logits, state_value = self.network(state_t)\n",
        "        state_value = state_value[:, 0]\n",
        "        \n",
        "        assert tf.compat.v1.is_numeric_tensor(state_value) and state_value.shape.ndims == 1, \\\n",
        "            \"please return 1D tf tensor of state values [you got %s]\" % repr(state_value)\n",
        "        assert tf.compat.v1.is_numeric_tensor(logits) and logits.shape.ndims == 2, \\\n",
        "            \"please return 2d tf tensor of logits [you got %s]\" % repr(logits)\n",
        "        # if you triggered state_values assert with your shape being [None, 1], \n",
        "        # just select [:, 0]-th element of state values as new state values\n",
        "        \n",
        "        return (logits, state_value)\n",
        "    \n",
        "    def step(self, state_t):\n",
        "        \"\"\"Same as symbolic step except it operates on numpy arrays\"\"\"\n",
        "        sess = tf.compat.v1.get_default_session()\n",
        "        return sess.run(self.agent_outputs, {self.state_t: state_t})\n",
        "    \n",
        "    def sample_actions(self, agent_outputs):\n",
        "        \"\"\"pick actions given numeric agent outputs (np arrays)\"\"\"\n",
        "        logits, state_values = agent_outputs\n",
        "        policy = np.exp(logits) / np.sum(np.exp(logits), axis=-1, keepdims=True)\n",
        "        return np.array([np.random.choice(len(p), p=p) for p in policy])"
      ],
      "execution_count": 6,
      "outputs": []
    },
    {
      "cell_type": "markdown",
      "source": [
        "# Updating hyper parameters\n"
      ],
      "metadata": {
        "id": "pwSNyBPU5WYt"
      }
    },
    {
      "cell_type": "code",
      "source": [
        "from keras.layers import Conv2D, Dense, Flatten, Input\n",
        "import keras\n",
        "from keras.models import Model, Sequential\n",
        "\n",
        "class Agent:\n",
        "    def __init__(self, name, state_shape, n_actions, reuse=False):\n",
        "        \"\"\"A simple actor-critic agent\"\"\"\n",
        "        \n",
        "        with tf.compat.v1.variable_scope(name, reuse=reuse):\n",
        "            ####\n",
        "            inputs = Input(shape=state_shape)\n",
        "            x = Conv2D(1024, (3, 3), strides=1, activation='relu')(inputs)\n",
        "            x = Conv2D(1024, (3, 3), strides=1, activation='relu')(x)\n",
        "            x = Conv2D(1024, (3, 3), strides=1, activation='relu')(x)\n",
        "            x = Flatten()(x)\n",
        "            x = Dense(1024, activation='softmax')(x)\n",
        "            \n",
        "            # two different output layers\n",
        "            logits = Dense(n_actions, activation='linear')(x)\n",
        "            state_value = Dense(1, activation='linear')(x)\n",
        "            \n",
        "            self.network = Model(inputs=inputs, outputs=[logits, state_value])\n",
        "            \n",
        "            \n",
        "            # prepare a graph for agent step\n",
        "            self.state_t = tf.compat.v1.placeholder('float32', [None,] + list(state_shape))\n",
        "            self.agent_outputs = self.symbolic_step(self.state_t)\n",
        "        \n",
        "    def symbolic_step(self, state_t):\n",
        "        \"\"\"Takes agent's previous step and observation, returns next state and whatever it needs to learn (tf tensors)\"\"\"\n",
        "        \n",
        "        # Apply neural network\n",
        "        ### Apply agent's neural network to get policy logits and state values.\n",
        "#         network_output = self.network(state_t)\n",
        "\n",
        "#         logits = network_output[:,1:]\n",
        "#         state_value = network_output[:,0]\n",
        "        \n",
        "        \n",
        "        logits, state_value = self.network(state_t)\n",
        "        state_value = state_value[:, 0]\n",
        "        \n",
        "        assert tf.compat.v1.is_numeric_tensor(state_value) and state_value.shape.ndims == 1, \\\n",
        "            \"please return 1D tf tensor of state values [you got %s]\" % repr(state_value)\n",
        "        assert tf.compat.v1.is_numeric_tensor(logits) and logits.shape.ndims == 2, \\\n",
        "            \"please return 2d tf tensor of logits [you got %s]\" % repr(logits)\n",
        "        # if you triggered state_values assert with your shape being [None, 1], \n",
        "        # just select [:, 0]-th element of state values as new state values\n",
        "        \n",
        "        return (logits, state_value)\n",
        "    \n",
        "    def step(self, state_t):\n",
        "        \"\"\"Same as symbolic step except it operates on numpy arrays\"\"\"\n",
        "        sess = tf.compat.v1.get_default_session()\n",
        "        return sess.run(self.agent_outputs, {self.state_t: state_t})\n",
        "    \n",
        "    def sample_actions(self, agent_outputs):\n",
        "        \"\"\"pick actions given numeric agent outputs (np arrays)\"\"\"\n",
        "        logits, state_values = agent_outputs\n",
        "        policy = np.exp(logits) / np.sum(np.exp(logits), axis=-1, keepdims=True)\n",
        "        return np.array([np.random.choice(len(p), p=p) for p in policy])"
      ],
      "metadata": {
        "id": "v9wsyTNc5Z7f"
      },
      "execution_count": 7,
      "outputs": []
    },
    {
      "cell_type": "code",
      "metadata": {
        "id": "bjtQetyEoHMD"
      },
      "source": [
        "tf.compat.v1.disable_eager_execution()\n",
        "agent = Agent(\"agent\", obs_shape, n_actions)\n",
        "sess.run(tf.compat.v1.global_variables_initializer())"
      ],
      "execution_count": 8,
      "outputs": []
    },
    {
      "cell_type": "code",
      "metadata": {
        "id": "lRUs5NBuoNWB",
        "outputId": "595119d7-b412-45b1-ad7d-869043f6cc2c",
        "colab": {
          "base_uri": "https://localhost:8080/"
        }
      },
      "source": [
        "state = [env.reset()]\n",
        "logits, value = agent.step(state)\n",
        "print(\"action logits:\\n\", logits)\n",
        "print(\"state values:\\n\", value)"
      ],
      "execution_count": 9,
      "outputs": [
        {
          "output_type": "stream",
          "name": "stderr",
          "text": [
            "/usr/local/lib/python3.7/dist-packages/ipykernel_launcher.py:59: DeprecationWarning:     `imresize` is deprecated!\n",
            "    `imresize` is deprecated in SciPy 1.0.0, and will be removed in 1.2.0.\n",
            "    Use ``skimage.transform.resize`` instead.\n"
          ]
        },
        {
          "output_type": "stream",
          "name": "stdout",
          "text": [
            "action logits:\n",
            " [[-1.3304944e-03  2.4183290e-03  7.0787565e-04 -4.9814925e-04\n",
            "  -2.3755711e-04  1.4471187e-03 -3.1358740e-04 -1.8821666e-03\n",
            "   3.7396036e-04 -1.4402170e-04 -3.6126788e-04  1.6204568e-03\n",
            "   1.3337363e-03 -4.8007118e-04 -1.0804276e-03 -6.2078820e-04\n",
            "   1.4792628e-03  2.9686467e-05]]\n",
            "state values:\n",
            " [0.00104694]\n"
          ]
        }
      ]
    },
    {
      "cell_type": "markdown",
      "metadata": {
        "id": "7OqIoeqmo4n5"
      },
      "source": [
        "# Let's play!\n",
        "\n",
        "---\n",
        "\n",
        "\n",
        "Let's build a function that measures agent's average reward."
      ]
    },
    {
      "cell_type": "code",
      "metadata": {
        "id": "9AFcqPHKoQ_i"
      },
      "source": [
        "def evaluate(agent, env, n_games=1):\n",
        "    \"\"\"Plays an a game from start till done, returns per-game rewards \"\"\"\n",
        "\n",
        "    game_rewards = []\n",
        "    for _ in range(n_games):\n",
        "        state = env.reset()\n",
        "        \n",
        "        total_reward = 0\n",
        "        while True:\n",
        "            action = agent.sample_actions(agent.step([state]))[0]\n",
        "            state, reward, done, info = env.step(action)\n",
        "            total_reward += reward\n",
        "            if done: break\n",
        "                \n",
        "        game_rewards.append(total_reward)\n",
        "    return game_rewards\n"
      ],
      "execution_count": 10,
      "outputs": []
    },
    {
      "cell_type": "code",
      "metadata": {
        "id": "PUPl5-sKoVpg",
        "outputId": "c59023de-20c0-4314-ebdc-297c77269b7d",
        "colab": {
          "base_uri": "https://localhost:8080/"
        }
      },
      "source": [
        "env_monitor = gym.wrappers.Monitor(env, directory=\"kungfu_videos\", force=True)\n",
        "rw = evaluate(agent, env_monitor, n_games=3,)\n",
        "env_monitor.close()\n",
        "print (rw)"
      ],
      "execution_count": 11,
      "outputs": [
        {
          "output_type": "stream",
          "name": "stderr",
          "text": [
            "/usr/local/lib/python3.7/dist-packages/ipykernel_launcher.py:59: DeprecationWarning:     `imresize` is deprecated!\n",
            "    `imresize` is deprecated in SciPy 1.0.0, and will be removed in 1.2.0.\n",
            "    Use ``skimage.transform.resize`` instead.\n",
            "/usr/local/lib/python3.7/dist-packages/ipykernel_launcher.py:59: DeprecationWarning:     `imresize` is deprecated!\n",
            "    `imresize` is deprecated in SciPy 1.0.0, and will be removed in 1.2.0.\n",
            "    Use ``skimage.transform.resize`` instead.\n",
            "/usr/local/lib/python3.7/dist-packages/ipykernel_launcher.py:59: DeprecationWarning:     `imresize` is deprecated!\n",
            "    `imresize` is deprecated in SciPy 1.0.0, and will be removed in 1.2.0.\n",
            "    Use ``skimage.transform.resize`` instead.\n"
          ]
        },
        {
          "output_type": "stream",
          "name": "stdout",
          "text": [
            "[4.0, 1.0, 5.0]\n"
          ]
        }
      ]
    },
    {
      "cell_type": "code",
      "metadata": {
        "id": "wcr9OW2IoZU1",
        "outputId": "a132cc30-1e32-4b0b-df94-003e6d86d2bd",
        "colab": {
          "base_uri": "https://localhost:8080/",
          "height": 501
        }
      },
      "source": [
        "from IPython.display import HTML\n",
        "import os\n",
        "\n",
        "# needed to import code to fix issue with video also changed the dir to remove \n",
        "# underscore\n",
        "# ref for this code below https://stackoverflow.com/questions/57377185/how-play-mp4-video-in-google-colab\n",
        "video_names = list(filter(lambda s:s.endswith(\".mp4\"),os.listdir(\"./kungfu_videos/\")))\n",
        "from base64 import b64encode\n",
        "mp4 = open(\"./kungfu_videos/\"+video_names[0],'rb').read()\n",
        "agent_video = \"data:video/mp4;base64,\" + b64encode(mp4).decode()\n",
        "\n",
        "HTML(\"\"\"\n",
        "<video width=\"640\" height=\"480\" controls>\n",
        "  <source src=%s type=\"video/mp4\">\n",
        "</video>\n",
        "\"\"\" %agent_video) #this may or may not be _last_ video. Try other indices\n"
      ],
      "execution_count": 12,
      "outputs": [
        {
          "output_type": "execute_result",
          "data": {
            "text/html": [
              "\n",
              "<video width=\"640\" height=\"480\" controls>\n",
              "  <source src=data:video/mp4;base64,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 type=\"video/mp4\">\n",
              "</video>\n"
            ],
            "text/plain": [
              "<IPython.core.display.HTML object>"
            ]
          },
          "metadata": {},
          "execution_count": 12
        }
      ]
    },
    {
      "cell_type": "markdown",
      "metadata": {
        "id": "8MmDLcuUpGMj"
      },
      "source": [
        "# Training on parallel games\n",
        "\n",
        "---\n",
        "\n",
        "\n",
        "\n",
        "![alt text](https://camo.githubusercontent.com/f894eba2ee745652f1fc95484cfa45bf26decb8e/68747470733a2f2f6769746875622e636f6d2f79616e646578646174617363686f6f6c2f50726163746963616c5f524c2f7261772f6d61737465722f7965745f616e6f746865725f7765656b2f5f7265736f757263652f2f656e765f706f6f6c2e706e67)\n",
        "\n",
        "To make actor-critic training more stable, we shall play several games in parallel. This means ya'll have to initialize several parallel gym envs, send agent's actions there and .reset() each env if it becomes terminated. To minimize learner brain damage, we've taken care of them for ya - just make sure you read it before you use it."
      ]
    },
    {
      "cell_type": "code",
      "metadata": {
        "id": "QX-uaGwCojPt"
      },
      "source": [
        "class EnvBatch:\n",
        "    def __init__(self, n_envs = 10):\n",
        "        \"\"\" Creates n_envs environments and babysits them for ya' \"\"\"\n",
        "        self.envs = [make_env() for _ in range(n_envs)]\n",
        "        \n",
        "    def reset(self):\n",
        "        \"\"\" Reset all games and return [n_envs, *obs_shape] observations \"\"\"\n",
        "        return np.array([env.reset() for env in self.envs])\n",
        "    \n",
        "    def step(self, actions):\n",
        "        \"\"\"\n",
        "        Send a vector[batch_size] of actions into respective environments\n",
        "        :returns: observations[n_envs, *obs_shape], rewards[n_envs], done[n_envs,], info[n_envs]\n",
        "        \"\"\"\n",
        "        results = [env.step(a) for env, a in zip(self.envs, actions)]\n",
        "        new_obs, rewards, done, infos = map(np.array, zip(*results))\n",
        "        \n",
        "        # reset environments automatically\n",
        "        for i in range(len(self.envs)):\n",
        "            if done[i]:\n",
        "                new_obs[i] = self.envs[i].reset()\n",
        "        \n",
        "        return new_obs, rewards, done, infos"
      ],
      "execution_count": 13,
      "outputs": []
    },
    {
      "cell_type": "code",
      "metadata": {
        "id": "3JawlpBFo0Yb",
        "outputId": "dd8e5193-a53f-4f46-8411-630d2b89b993",
        "colab": {
          "base_uri": "https://localhost:8080/"
        }
      },
      "source": [
        "env_batch = EnvBatch(10)\n",
        "\n",
        "batch_states = env_batch.reset()\n",
        "\n",
        "batch_actions = agent.sample_actions(agent.step(batch_states))\n",
        "\n",
        "batch_next_states, batch_rewards, batch_done, _ = env_batch.step(batch_actions)\n",
        "\n",
        "print(\"State shape:\", batch_states.shape)\n",
        "print(\"Actions:\", batch_actions[:3])\n",
        "print(\"Rewards:\", batch_rewards[:3])\n",
        "print(\"Done:\", batch_done[:3])\n"
      ],
      "execution_count": 14,
      "outputs": [
        {
          "output_type": "stream",
          "name": "stderr",
          "text": [
            "/usr/local/lib/python3.7/dist-packages/gym/logger.py:30: UserWarning: \u001b[33mWARN: obs_type \"image\" should be replaced with the image type, one of: rgb, grayscale\u001b[0m\n",
            "  warnings.warn(colorize('%s: %s'%('WARN', msg % args), 'yellow'))\n",
            "/usr/local/lib/python3.7/dist-packages/ipykernel_launcher.py:59: DeprecationWarning:     `imresize` is deprecated!\n",
            "    `imresize` is deprecated in SciPy 1.0.0, and will be removed in 1.2.0.\n",
            "    Use ``skimage.transform.resize`` instead.\n"
          ]
        },
        {
          "output_type": "stream",
          "name": "stdout",
          "text": [
            "State shape: (10, 42, 42, 4)\n",
            "Actions: [17 13 10]\n",
            "Rewards: [0. 0. 0.]\n",
            "Done: [False False False]\n"
          ]
        }
      ]
    },
    {
      "cell_type": "markdown",
      "metadata": {
        "id": "UwEPCL46pfHO"
      },
      "source": [
        "# Actor-critic\n",
        "\n",
        "---\n",
        "\n",
        "\n",
        "Here we define a loss functions and learning algorithms as usual."
      ]
    },
    {
      "cell_type": "code",
      "metadata": {
        "id": "0C6zD_V1o35d"
      },
      "source": [
        "# These placeholders mean exactly the same as in \"Let's try it out\" section above\n",
        "tf.compat.v1.disable_eager_execution()\n",
        "states_ph = tf.compat.v1.placeholder('float32', [None,] + list(obs_shape))    \n",
        "next_states_ph =  tf.compat.v1.placeholder('float32', [None,] + list(obs_shape))\n",
        "actions_ph =  tf.compat.v1.placeholder('int32', (None,))\n",
        "rewards_ph =  tf.compat.v1.placeholder('float32', (None,))\n",
        "is_done_ph =  tf.compat.v1.placeholder('float32', (None,))"
      ],
      "execution_count": 15,
      "outputs": []
    },
    {
      "cell_type": "code",
      "metadata": {
        "id": "Ktpq6pJgo-Dl"
      },
      "source": [
        "# logits[n_envs, n_actions] and state_values[n_envs, n_actions]\n",
        "logits, state_values = agent.symbolic_step(states_ph)\n",
        "next_logits, next_state_values = agent.symbolic_step(next_states_ph)\n",
        "next_state_values = next_state_values * (1 - is_done_ph)\n",
        "\n",
        "# probabilities and log-probabilities for all actions\n",
        "probs = tf.nn.softmax(logits)            # [n_envs, n_actions]\n",
        "logprobs = tf.nn.log_softmax(logits)     # [n_envs, n_actions]\n",
        "\n",
        "# log-probabilities only for agent's chosen actions\n",
        "logp_actions = tf.reduce_sum(logprobs * tf.one_hot(actions_ph, n_actions), axis=-1) # [n_envs,]"
      ],
      "execution_count": 16,
      "outputs": []
    },
    {
      "cell_type": "code",
      "metadata": {
        "id": "b-aNY8wRpBk9"
      },
      "source": [
        "\n",
        "\n",
        "# compute advantage using rewards_ph, state_values and next_state_values\n",
        "gamma = 0.99\n",
        "advantage = rewards_ph + gamma*next_state_values - state_values\n",
        "\n",
        "assert advantage.shape.ndims == 1, \"please compute advantage for each sample, vector of shape [n_envs,]\"\n",
        "\n",
        "# compute policy entropy given logits_seq. Mind the \"-\" sign!\n",
        "entropy =  -tf.reduce_sum(probs * logprobs, 1, name=\"entropy\")\n",
        "\n",
        "assert entropy.shape.ndims == 1, \"please compute pointwise entropy vector of shape [n_envs,] \"\n",
        "\n",
        "\n",
        "\n",
        "actor_loss =  - tf.reduce_mean(logp_actions * tf.stop_gradient(advantage)) - 0.001 * tf.reduce_mean(entropy)\n",
        "\n",
        "# compute target state values using temporal difference formula. Use rewards_ph and next_step_values\n",
        "target_state_values = rewards_ph+gamma*next_state_values\n",
        "\n",
        "critic_loss = tf.reduce_mean((state_values - tf.stop_gradient(target_state_values))**2 )\n",
        "\n",
        "train_step = tf.compat.v1.train.AdamOptimizer(1e-4).minimize(actor_loss + critic_loss)\n",
        "sess.run(tf.compat.v1.global_variables_initializer())"
      ],
      "execution_count": null,
      "outputs": []
    },
    {
      "cell_type": "code",
      "metadata": {
        "id": "Z9qCcr3cpEtw"
      },
      "source": [
        "# Sanity checks to catch some errors. Specific to KungFuMaster in assignment's default setup.\n",
        "l_act, l_crit, adv, ent = sess.run([actor_loss, critic_loss, advantage, entropy], feed_dict = {\n",
        "        states_ph: batch_states,\n",
        "        actions_ph: batch_actions,\n",
        "        next_states_ph: batch_states,\n",
        "        rewards_ph: batch_rewards,\n",
        "        is_done_ph: batch_done,\n",
        "    })\n",
        "\n",
        "assert abs(l_act) < 100 and abs(l_crit) < 100, \"losses seem abnormally large\"\n",
        "assert 0 <= ent.mean() <= np.log(n_actions), \"impossible entropy value, double-check the formula pls\"\n",
        "if ent.mean() < np.log(n_actions) / 2: print(\"Entropy is too low for untrained agent\")\n",
        "print(\"You just might be fine!\")"
      ],
      "execution_count": null,
      "outputs": []
    },
    {
      "cell_type": "code",
      "metadata": {
        "id": "KGMW7v42peBa"
      },
      "source": [
        "!pip install tqdm"
      ],
      "execution_count": null,
      "outputs": []
    },
    {
      "cell_type": "markdown",
      "metadata": {
        "id": "jAFWsGKlpuIM"
      },
      "source": [
        "# Train\n",
        "\n",
        "---\n",
        "\n",
        "\n",
        "Just the usual - play a bit, compute loss, follow the graidents, repeat a few million times.\n",
        "\n",
        "![alt text](https://camo.githubusercontent.com/69cc1e7cffa2ebd5db67c39f7c7c2724aaf5594b/687474703a2f2f696d61676573362e66616e706f702e636f6d2f696d6167652f70686f746f732f33383930303030302f44616e69656c2d73616e2d747261696e696e672d7468652d6b61726174652d6b69642d33383934373336312d3439392d3238382e676966)\n",
        "\n"
      ]
    },
    {
      "cell_type": "code",
      "metadata": {
        "id": "Y6TQ0p8ul1ZA"
      },
      "source": [
        "!pip install pandas"
      ],
      "execution_count": null,
      "outputs": []
    },
    {
      "cell_type": "code",
      "metadata": {
        "id": "hpqugPcIpIlq"
      },
      "source": [
        "from IPython.display import clear_output\n",
        "from tqdm import trange\n",
        "import pandas as pd\n",
        "#from pandas import ewm\n",
        "\n",
        "env_batch = EnvBatch(10)\n",
        "batch_states = env_batch.reset()\n",
        "\n",
        "rewards_history = []\n",
        "entropy_history = []\n"
      ],
      "execution_count": null,
      "outputs": []
    },
    {
      "cell_type": "code",
      "metadata": {
        "id": "C-uNJ4-TpNC_"
      },
      "source": [
        "for i in trange(100000): \n",
        "    \n",
        "    batch_actions = agent.sample_actions(agent.step(batch_states))\n",
        "    batch_next_states, batch_rewards, batch_done, _ = env_batch.step(batch_actions)\n",
        "    \n",
        "    feed_dict = {\n",
        "        states_ph: batch_states,\n",
        "        actions_ph: batch_actions,\n",
        "        next_states_ph: batch_next_states,\n",
        "        rewards_ph: batch_rewards,\n",
        "        is_done_ph: batch_done,\n",
        "    }\n",
        "    batch_states = batch_next_states\n",
        "    \n",
        "    _, ent_t = sess.run([train_step, entropy], feed_dict)\n",
        "    entropy_history.append(np.mean(ent_t))\n",
        "\n",
        "    if i % 500 == 0: \n",
        "        if i % 2500 == 0:\n",
        "            rewards_history.append(np.mean(evaluate(agent, env, n_games=3)))\n",
        "            if rewards_history[-1] >= 50:\n",
        "                print(\"Your agent has earned the yellow belt\")\n",
        "\n",
        "        clear_output(True)\n",
        "        plt.figure(figsize=[8,4])\n",
        "        plt.subplot(1,2,1)\n",
        "        plt.plot(rewards_history, label='rewards')\n",
        "        df = pd.DataFrame(rewards_history)\n",
        "        plt.plot(df.ewm(halflife=1000).mean(), marker='.', label='rewards ewma@10')\n",
        "        plt.title(\"Session rewards\"); plt.grid(); plt.legend()\n",
        "        \n",
        "        plt.subplot(1,2,2)\n",
        "        plt.plot(entropy_history, label='entropy')\n",
        "        df2 = pd.DataFrame(entropy_history)\n",
        "        plt.plot(df2.ewm(halflife=1000).mean(), label='entropy ewma@1000')\n",
        "        plt.title(\"Policy entropy\"); plt.grid(); plt.legend()        \n",
        "        plt.show()\n",
        "        \n",
        "df = pd.DataFrame(data=batch_rewards)\n",
        "\n"
      ],
      "execution_count": null,
      "outputs": []
    },
    {
      "cell_type": "code",
      "metadata": {
        "id": "XC3JUqqPpo6k"
      },
      "source": [
        "env_monitor = gym.wrappers.Monitor(env, directory=\"kungfu_videos\", force=True)\n",
        "final_rewards = evaluate(agent, env_monitor, n_games=1,)\n",
        "env_monitor.close()\n",
        "print(\"Final mean reward:\", np.mean(final_rewards))\n",
        "\n",
        "video_names = list(filter(lambda s:s.endswith(\".mp4\"),os.listdir(\"./kungfu_videos/\")))"
      ],
      "execution_count": null,
      "outputs": []
    },
    {
      "cell_type": "code",
      "metadata": {
        "id": "BVwb5QCk3YUb"
      },
      "source": [
        "df.ewm(halflife=12).mean()"
      ],
      "execution_count": null,
      "outputs": []
    },
    {
      "cell_type": "code",
      "source": [
        ""
      ],
      "metadata": {
        "id": "jghRDEjNThIH"
      },
      "execution_count": null,
      "outputs": []
    }
  ]
}