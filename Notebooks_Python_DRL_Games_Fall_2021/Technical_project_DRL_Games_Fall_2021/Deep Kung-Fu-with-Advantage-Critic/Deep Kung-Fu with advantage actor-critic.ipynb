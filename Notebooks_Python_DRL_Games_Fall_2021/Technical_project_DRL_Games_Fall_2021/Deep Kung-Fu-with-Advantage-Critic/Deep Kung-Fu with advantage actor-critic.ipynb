{
  "nbformat": 4,
  "nbformat_minor": 0,
  "metadata": {
    "colab": {
      "name": "A3C.ipynb",
      "provenance": [],
      "include_colab_link": true
    },
    "kernelspec": {
      "name": "python3",
      "display_name": "Python 3"
    },
    "accelerator": "GPU"
  },
  "cells": [
    {
      "cell_type": "markdown",
      "metadata": {
        "id": "view-in-github",
        "colab_type": "text"
      },
      "source": [
        "<a href=\"https://colab.research.google.com/github/Ultan-Kearns/Artificial-Intelligence-CA/blob/master/Notebooks_Python_DRL_Games_Fall_2021/Technical_project_DRL_Games_Fall_2021/Deep%20Kung-Fu-with-Advantage-Critic/Deep%20Kung-Fu%20with%20advantage%20actor-critic.ipynb\" target=\"_parent\"><img src=\"https://colab.research.google.com/assets/colab-badge.svg\" alt=\"Open In Colab\"/></a>"
      ]
    },
    {
      "cell_type": "markdown",
      "metadata": {
        "id": "PjC4uqSP17ai"
      },
      "source": [
        "# Deep Kung-Fu with advantage actor-critic"
      ]
    },
    {
      "cell_type": "markdown",
      "metadata": {
        "id": "wRXcuuh3qB6q"
      },
      "source": [
        "# Environment Setup"
      ]
    },
    {
      "cell_type": "code",
      "metadata": {
        "id": "jWdlrlePjq-g",
        "outputId": "d7715ea8-271e-418d-81db-931f4fbd16a2",
        "colab": {
          "base_uri": "https://localhost:8080/"
        }
      },
      "source": [
        "!pip install gym"
      ],
      "execution_count": 1,
      "outputs": [
        {
          "output_type": "stream",
          "name": "stdout",
          "text": [
            "Requirement already satisfied: gym in /usr/local/lib/python3.7/dist-packages (0.17.3)\n",
            "Requirement already satisfied: numpy>=1.10.4 in /usr/local/lib/python3.7/dist-packages (from gym) (1.19.5)\n",
            "Requirement already satisfied: cloudpickle<1.7.0,>=1.2.0 in /usr/local/lib/python3.7/dist-packages (from gym) (1.3.0)\n",
            "Requirement already satisfied: scipy in /usr/local/lib/python3.7/dist-packages (from gym) (1.1.0)\n",
            "Requirement already satisfied: pyglet<=1.5.0,>=1.4.0 in /usr/local/lib/python3.7/dist-packages (from gym) (1.5.0)\n",
            "Requirement already satisfied: future in /usr/local/lib/python3.7/dist-packages (from pyglet<=1.5.0,>=1.4.0->gym) (0.16.0)\n"
          ]
        }
      ]
    },
    {
      "cell_type": "code",
      "metadata": {
        "id": "xcOgo4xwj4PJ",
        "outputId": "2001a80a-c952-42de-ccb7-c23e5eed6cac",
        "colab": {
          "base_uri": "https://localhost:8080/"
        }
      },
      "source": [
        "!apt-get install python-opengl -y"
      ],
      "execution_count": 2,
      "outputs": [
        {
          "output_type": "stream",
          "name": "stdout",
          "text": [
            "Reading package lists... Done\n",
            "Building dependency tree       \n",
            "Reading state information... Done\n",
            "python-opengl is already the newest version (3.1.0+dfsg-1).\n",
            "0 upgraded, 0 newly installed, 0 to remove and 37 not upgraded.\n"
          ]
        }
      ]
    },
    {
      "cell_type": "code",
      "metadata": {
        "id": "2aS0God8kBDE",
        "outputId": "9484c536-faea-45be-e249-0e55085dbe9e",
        "colab": {
          "base_uri": "https://localhost:8080/"
        }
      },
      "source": [
        "!apt install xvfb -y"
      ],
      "execution_count": 3,
      "outputs": [
        {
          "output_type": "stream",
          "name": "stdout",
          "text": [
            "Reading package lists... Done\n",
            "Building dependency tree       \n",
            "Reading state information... Done\n",
            "xvfb is already the newest version (2:1.19.6-1ubuntu4.10).\n",
            "0 upgraded, 0 newly installed, 0 to remove and 37 not upgraded.\n"
          ]
        }
      ]
    },
    {
      "cell_type": "code",
      "metadata": {
        "id": "WZuEBujtkKoj",
        "outputId": "6cfa771c-456f-4556-dee7-ff1d540d301f",
        "colab": {
          "base_uri": "https://localhost:8080/"
        }
      },
      "source": [
        "!pip install pyvirtualdisplay\n",
        "!pip install piglet"
      ],
      "execution_count": 4,
      "outputs": [
        {
          "output_type": "stream",
          "name": "stdout",
          "text": [
            "Requirement already satisfied: pyvirtualdisplay in /usr/local/lib/python3.7/dist-packages (2.2)\n",
            "Requirement already satisfied: EasyProcess in /usr/local/lib/python3.7/dist-packages (from pyvirtualdisplay) (1.1)\n",
            "Requirement already satisfied: piglet in /usr/local/lib/python3.7/dist-packages (1.0.0)\n",
            "Requirement already satisfied: piglet-templates in /usr/local/lib/python3.7/dist-packages (from piglet) (1.2.0)\n",
            "Requirement already satisfied: pyparsing in /usr/local/lib/python3.7/dist-packages (from piglet-templates->piglet) (3.0.6)\n",
            "Requirement already satisfied: astunparse in /usr/local/lib/python3.7/dist-packages (from piglet-templates->piglet) (1.6.3)\n",
            "Requirement already satisfied: markupsafe in /usr/local/lib/python3.7/dist-packages (from piglet-templates->piglet) (2.0.1)\n",
            "Requirement already satisfied: attrs in /usr/local/lib/python3.7/dist-packages (from piglet-templates->piglet) (21.4.0)\n",
            "Requirement already satisfied: six<2.0,>=1.6.1 in /usr/local/lib/python3.7/dist-packages (from astunparse->piglet-templates->piglet) (1.15.0)\n",
            "Requirement already satisfied: wheel<1.0,>=0.23.0 in /usr/local/lib/python3.7/dist-packages (from astunparse->piglet-templates->piglet) (0.37.1)\n"
          ]
        }
      ]
    },
    {
      "cell_type": "code",
      "metadata": {
        "id": "Sfq6FvJ9kW1G",
        "outputId": "0dd51814-1b12-4682-9cbf-ff406e53439f",
        "colab": {
          "base_uri": "https://localhost:8080/"
        }
      },
      "source": [
        "from pyvirtualdisplay import Display\n",
        "display = Display(visible=0, size=(1400, 900))\n",
        "display.start()"
      ],
      "execution_count": 5,
      "outputs": [
        {
          "output_type": "execute_result",
          "data": {
            "text/plain": [
              "<pyvirtualdisplay.display.Display at 0x7f9574c40390>"
            ]
          },
          "metadata": {},
          "execution_count": 5
        }
      ]
    },
    {
      "cell_type": "code",
      "metadata": {
        "id": "RW0KjeOVkc88"
      },
      "source": [
        "from __future__ import print_function, division\n",
        "from IPython.core import display\n",
        "import matplotlib.pyplot as plt\n",
        "%matplotlib inline\n",
        "import numpy as np\n",
        "\n",
        "#If you are running on a server, launch xvfb to record game videos\n",
        "#Please make sure you have xvfb installed\n",
        "import os\n",
        "if os.environ.get(\"DISPLAY\") is str and len(os.environ.get(\"DISPLAY\"))!=0:\n",
        "    !bash ../xvfb start\n",
        "    %env DISPLAY=:1"
      ],
      "execution_count": 6,
      "outputs": []
    },
    {
      "cell_type": "markdown",
      "metadata": {
        "id": "iTsbpF4In-3c"
      },
      "source": [
        "# Atari Environment\n",
        "\n",
        "---\n",
        "\n"
      ]
    },
    {
      "cell_type": "code",
      "metadata": {
        "id": "_w1HpxbzX81j",
        "outputId": "c289da8f-a481-4a26-b7a8-bb9c8ecc4170",
        "colab": {
          "base_uri": "https://localhost:8080/"
        }
      },
      "source": [
        "pip install scipy==1.1.0"
      ],
      "execution_count": 7,
      "outputs": [
        {
          "output_type": "stream",
          "name": "stdout",
          "text": [
            "Requirement already satisfied: scipy==1.1.0 in /usr/local/lib/python3.7/dist-packages (1.1.0)\n",
            "Requirement already satisfied: numpy>=1.8.2 in /usr/local/lib/python3.7/dist-packages (from scipy==1.1.0) (1.19.5)\n"
          ]
        }
      ]
    },
    {
      "cell_type": "code",
      "metadata": {
        "id": "oR12anpKlcId",
        "outputId": "5a081ba2-923b-453a-fe94-3bd770833684",
        "colab": {
          "base_uri": "https://localhost:8080/"
        }
      },
      "source": [
        "!apt-get install -y python-numpy python-dev cmake zlib1g-dev libjpeg-dev xvfb libav-tools xorg-dev python-opengl libboost-all-dev libsdl2-dev swig"
      ],
      "execution_count": 9,
      "outputs": [
        {
          "output_type": "stream",
          "name": "stdout",
          "text": [
            "Reading package lists... Done\n",
            "Building dependency tree       \n",
            "Reading state information... Done\n",
            "Package libav-tools is not available, but is referred to by another package.\n",
            "This may mean that the package is missing, has been obsoleted, or\n",
            "is only available from another source\n",
            "However the following packages replace it:\n",
            "  ffmpeg\n",
            "\n",
            "E: Package 'libav-tools' has no installation candidate\n"
          ]
        }
      ]
    },
    {
      "cell_type": "code",
      "metadata": {
        "id": "hl5urImpnSBQ",
        "outputId": "05c5614b-1c4d-47cf-d147-2dfd10cf856a",
        "colab": {
          "base_uri": "https://localhost:8080/"
        }
      },
      "source": [
        "!python -m pip install \"gym[atari,accept-rom-license]\"\n"
      ],
      "execution_count": 10,
      "outputs": [
        {
          "output_type": "stream",
          "name": "stdout",
          "text": [
            "Requirement already satisfied: gym[accept-rom-license,atari] in /usr/local/lib/python3.7/dist-packages (0.17.3)\n",
            "\u001b[33mWARNING: gym 0.17.3 does not provide the extra 'accept-rom-license'\u001b[0m\n",
            "Requirement already satisfied: numpy>=1.10.4 in /usr/local/lib/python3.7/dist-packages (from gym[accept-rom-license,atari]) (1.19.5)\n",
            "Requirement already satisfied: scipy in /usr/local/lib/python3.7/dist-packages (from gym[accept-rom-license,atari]) (1.1.0)\n",
            "Requirement already satisfied: pyglet<=1.5.0,>=1.4.0 in /usr/local/lib/python3.7/dist-packages (from gym[accept-rom-license,atari]) (1.5.0)\n",
            "Requirement already satisfied: cloudpickle<1.7.0,>=1.2.0 in /usr/local/lib/python3.7/dist-packages (from gym[accept-rom-license,atari]) (1.3.0)\n",
            "Requirement already satisfied: opencv-python in /usr/local/lib/python3.7/dist-packages (from gym[accept-rom-license,atari]) (4.1.2.30)\n",
            "Requirement already satisfied: Pillow in /usr/local/lib/python3.7/dist-packages (from gym[accept-rom-license,atari]) (7.1.2)\n",
            "Requirement already satisfied: atari-py~=0.2.0 in /usr/local/lib/python3.7/dist-packages (from gym[accept-rom-license,atari]) (0.2.9)\n",
            "Requirement already satisfied: six in /usr/local/lib/python3.7/dist-packages (from atari-py~=0.2.0->gym[accept-rom-license,atari]) (1.15.0)\n",
            "Requirement already satisfied: future in /usr/local/lib/python3.7/dist-packages (from pyglet<=1.5.0,>=1.4.0->gym[accept-rom-license,atari]) (0.16.0)\n"
          ]
        }
      ]
    },
    {
      "cell_type": "code",
      "source": [
        "# mount gdrive\n",
        "\n",
        "from google.colab import drive\n",
        "drive.mount('/content/gdrive')\n",
        "\n",
        "# Atari depreacated installing ale-py instead\n",
        "!python -m pip install ale-py\n",
        "!pip install gym[atari] \n",
        "from ale_py import ALEInterface \n",
        "ale = ALEInterface()\n",
        "\n",
        "!ale-import-roms '/content/gdrive/My Drive/roms'\n",
        "\n",
        "ale.loadROM('KungFuMaster')\n"
      ],
      "metadata": {
        "colab": {
          "base_uri": "https://localhost:8080/"
        },
        "id": "vSxKeJXPYXjC",
        "outputId": "f0ab71bc-6a18-4f66-9be4-00eedc097851"
      },
      "execution_count": null,
      "outputs": [
        {
          "output_type": "stream",
          "name": "stdout",
          "text": [
            "Drive already mounted at /content/gdrive; to attempt to forcibly remount, call drive.mount(\"/content/gdrive\", force_remount=True).\n",
            "Requirement already satisfied: ale-py in /usr/local/lib/python3.7/dist-packages (0.7.3)\n",
            "Requirement already satisfied: importlib-resources in /usr/local/lib/python3.7/dist-packages (from ale-py) (5.4.0)\n",
            "Requirement already satisfied: numpy in /usr/local/lib/python3.7/dist-packages (from ale-py) (1.19.5)\n",
            "Requirement already satisfied: importlib-metadata in /usr/local/lib/python3.7/dist-packages (from ale-py) (4.10.0)\n",
            "Requirement already satisfied: typing-extensions>=3.6.4 in /usr/local/lib/python3.7/dist-packages (from importlib-metadata->ale-py) (3.10.0.2)\n",
            "Requirement already satisfied: zipp>=0.5 in /usr/local/lib/python3.7/dist-packages (from importlib-metadata->ale-py) (3.7.0)\n",
            "Requirement already satisfied: gym[atari] in /usr/local/lib/python3.7/dist-packages (0.17.3)\n",
            "Requirement already satisfied: scipy in /usr/local/lib/python3.7/dist-packages (from gym[atari]) (1.1.0)\n",
            "Requirement already satisfied: numpy>=1.10.4 in /usr/local/lib/python3.7/dist-packages (from gym[atari]) (1.19.5)\n",
            "Requirement already satisfied: cloudpickle<1.7.0,>=1.2.0 in /usr/local/lib/python3.7/dist-packages (from gym[atari]) (1.3.0)\n",
            "Requirement already satisfied: pyglet<=1.5.0,>=1.4.0 in /usr/local/lib/python3.7/dist-packages (from gym[atari]) (1.5.0)\n",
            "Requirement already satisfied: opencv-python in /usr/local/lib/python3.7/dist-packages (from gym[atari]) (4.1.2.30)\n",
            "Requirement already satisfied: Pillow in /usr/local/lib/python3.7/dist-packages (from gym[atari]) (7.1.2)\n",
            "Requirement already satisfied: atari-py~=0.2.0 in /usr/local/lib/python3.7/dist-packages (from gym[atari]) (0.2.9)\n",
            "Requirement already satisfied: six in /usr/local/lib/python3.7/dist-packages (from atari-py~=0.2.0->gym[atari]) (1.15.0)\n",
            "Requirement already satisfied: future in /usr/local/lib/python3.7/dist-packages (from pyglet<=1.5.0,>=1.4.0->gym[atari]) (0.16.0)\n",
            "\u001b[92m[SUPPORTED]    \u001b[0m       kung_fu_master /content/gdrive/My Drive/roms/KungFuMaster.bin\n",
            "\n",
            "\n",
            "\n",
            "Imported 1 / 1 ROMs\n"
          ]
        }
      ]
    },
    {
      "cell_type": "code",
      "source": [
        "# Had issue with preprocess atari so needed code from Github\n",
        "# Reference: https://github.com/sshkhr/Practical_RL/blob/master/week6_policy_based/atari_util.py\n",
        "# Code by https://github.com/sshkhr \n",
        "\n",
        "\n",
        "\n",
        "\"\"\"Auxilary files for those who wanted to solve breakout with CEM or policy gradient\"\"\"\n",
        "import numpy as np\n",
        "import gym\n",
        "from scipy.misc import imresize\n",
        "from gym.core import Wrapper\n",
        "from gym.spaces.box import Box\n",
        "\n",
        "class PreprocessAtari(Wrapper):\n",
        "    def __init__(self, env, height=42, width=42, color=False, crop=lambda img: img, \n",
        "                 n_frames=4, dim_order='theano', reward_scale=1,):\n",
        "        \"\"\"A gym wrapper that reshapes, crops and scales image into the desired shapes\"\"\"\n",
        "        super(PreprocessAtari, self).__init__(env)\n",
        "        assert dim_order in ('theano', 'tensorflow')\n",
        "        self.img_size = (height, width)\n",
        "        self.crop=crop\n",
        "        self.color=color\n",
        "        self.dim_order = dim_order\n",
        "        self.reward_scale = reward_scale\n",
        "        \n",
        "        n_channels = (3 * n_frames) if color else n_frames\n",
        "        obs_shape = [n_channels,height,width] if dim_order == 'theano' else [height,width,n_channels]\n",
        "        self.observation_space = Box(0.0, 1.0, obs_shape)\n",
        "        self.framebuffer = np.zeros(obs_shape, 'float32')\n",
        "        \n",
        "    def reset(self):\n",
        "        \"\"\"resets breakout, returns initial frames\"\"\"\n",
        "        self.framebuffer = np.zeros_like(self.framebuffer)\n",
        "        self.update_buffer(self.env.reset())\n",
        "        return self.framebuffer\n",
        "    \n",
        "    def step(self,action):\n",
        "        \"\"\"plays breakout for 1 step, returns frame buffer\"\"\"\n",
        "        new_img, reward, done, info = self.env.step(action)\n",
        "        self.update_buffer(new_img)\n",
        "        return self.framebuffer, reward * self.reward_scale, done, info\n",
        "    \n",
        "    ### image processing ###\n",
        "    \n",
        "    def update_buffer(self,img):\n",
        "        img = self.preproc_image(img)\n",
        "        offset = 3 if self.color else 1\n",
        "        if self.dim_order == 'theano':\n",
        "            axis = 0\n",
        "            cropped_framebuffer = self.framebuffer[:-offset]\n",
        "        else:\n",
        "            axis = -1\n",
        "            cropped_framebuffer = self.framebuffer[:,:,:-offset]\n",
        "        self.framebuffer = np.concatenate([img, cropped_framebuffer], axis = axis)\n",
        "\n",
        "    def preproc_image(self, img):\n",
        "        \"\"\"what happens to the observation\"\"\"\n",
        "        img = self.crop(img)\n",
        "        img = imresize(img, self.img_size)\n",
        "        if not self.color:\n",
        "            img = img.mean(-1, keepdims=True)\n",
        "        if self.dim_order == 'theano':\n",
        "            img = img.transpose([2,0,1]) # [h, w, c] to [c, h, w]\n",
        "        img = img.astype('float32') / 255.\n",
        "        return img"
      ],
      "metadata": {
        "id": "fCZdVhCN5lKK"
      },
      "execution_count": 1,
      "outputs": []
    },
    {
      "cell_type": "markdown",
      "metadata": {
        "id": "xMEwvBMNoRdt"
      },
      "source": [
        "# Deep Kung-Fu with advantage actor-critic\n",
        "\n",
        "---\n",
        "\n",
        "For starters, let's take a look at the game itself:\n",
        "\n",
        " * Image resized to 42x42 and grayscale to run faster\n",
        " * Rewards divided by 100 'cuz they are all divisible by 100\n",
        " * Agent sees last 4 frames of game to account for object velocity"
      ]
    },
    {
      "cell_type": "code",
      "metadata": {
        "id": "mRSoMY-Tkkmb",
        "outputId": "291c289e-ea97-48ac-f88c-b4ed3c9d515a",
        "colab": {
          "base_uri": "https://localhost:8080/"
        }
      },
      "source": [
        "import gym\n",
        "\n",
        "def make_env():\n",
        "    env = gym.make(\"KungFuMaster-v0\")\n",
        "    env = PreprocessAtari(env, height=42, width=42,\n",
        "                          crop = lambda img: img[60:-30, 5:],\n",
        "                          dim_order = 'tensorflow',\n",
        "                          color=False, n_frames=4,\n",
        "                          reward_scale = 0.01)\n",
        "    return env\n",
        "\n",
        "env = make_env()\n",
        "\n",
        "obs_shape = env.observation_space.shape\n",
        "n_actions = env.action_space.n\n",
        "\n",
        "print(\"Observation shape:\", obs_shape)\n",
        "print(\"Num actions:\", n_actions)\n",
        "print(\"Action names:\", env.env.env.get_action_meanings())"
      ],
      "execution_count": 2,
      "outputs": [
        {
          "output_type": "stream",
          "name": "stdout",
          "text": [
            "Observation shape: (42, 42, 4)\n",
            "Num actions: 18\n",
            "Action names: ['NOOP', 'FIRE', 'UP', 'RIGHT', 'LEFT', 'DOWN', 'UPRIGHT', 'UPLEFT', 'DOWNRIGHT', 'DOWNLEFT', 'UPFIRE', 'RIGHTFIRE', 'LEFTFIRE', 'DOWNFIRE', 'UPRIGHTFIRE', 'UPLEFTFIRE', 'DOWNRIGHTFIRE', 'DOWNLEFTFIRE']\n"
          ]
        },
        {
          "output_type": "stream",
          "name": "stderr",
          "text": [
            "/usr/local/lib/python3.7/dist-packages/ale_py/roms/utils.py:90: DeprecationWarning: SelectableGroups dict interface is deprecated. Use select.\n",
            "  for external in metadata.entry_points().get(self.group, []):\n",
            "/usr/local/lib/python3.7/dist-packages/gym/logger.py:30: UserWarning: \u001b[33mWARN: obs_type \"image\" should be replaced with the image type, one of: rgb, grayscale\u001b[0m\n",
            "  warnings.warn(colorize('%s: %s'%('WARN', msg % args), 'yellow'))\n"
          ]
        }
      ]
    },
    {
      "cell_type": "code",
      "metadata": {
        "id": "ems5qHMeZU0q"
      },
      "source": [
        "import matplotlib.pyplot as plt"
      ],
      "execution_count": 3,
      "outputs": []
    },
    {
      "cell_type": "code",
      "metadata": {
        "id": "m7pd1KapnM0A",
        "outputId": "161661e5-e5b7-45bf-947b-5bdbfe228131",
        "colab": {
          "base_uri": "https://localhost:8080/",
          "height": 464
        }
      },
      "source": [
        "s = env.reset()\n",
        "for _ in range(100):\n",
        "    s, _, _, _ = env.step(env.action_space.sample())\n",
        "\n",
        "plt.title('Game image')\n",
        "plt.imshow(env.render('rgb_array'))\n",
        "plt.show()\n",
        "\n",
        "plt.title('Agent observation (4-frame buffer)')\n",
        "plt.imshow(s.transpose([0,2,1]).reshape([42,-1]))\n",
        "plt.show()"
      ],
      "execution_count": 4,
      "outputs": [
        {
          "output_type": "stream",
          "name": "stderr",
          "text": [
            "/usr/local/lib/python3.7/dist-packages/ipykernel_launcher.py:59: DeprecationWarning:     `imresize` is deprecated!\n",
            "    `imresize` is deprecated in SciPy 1.0.0, and will be removed in 1.2.0.\n",
            "    Use ``skimage.transform.resize`` instead.\n"
          ]
        },
        {
          "output_type": "display_data",
          "data": {
            "image/png": "[encoded data removed]",
            "text/plain": [
              "<Figure size 432x288 with 1 Axes>"
            ]
          },
          "metadata": {
            "needs_background": "light"
          }
        },
        {
          "output_type": "display_data",
          "data": {
            "image/png": "[encoded data removed]",
            "text/plain": [
              "<Figure size 432x288 with 1 Axes>"
            ]
          },
          "metadata": {
            "needs_background": "light"
          }
        }
      ]
    },
    {
      "cell_type": "markdown",
      "metadata": {
        "id": "ejdlsSzJovVP"
      },
      "source": [
        "# Build an agent\n",
        "\n",
        "---\n",
        "\n",
        "\n",
        "We now have to build an agent for actor-critic training - a convolutional neural network that converts states into action probabilities and state values .\n",
        "\n",
        "Your assignment here is to build and apply a neural network - with any framework you want.\n",
        "\n",
        "For starters, we want you to implement this architecture: \n",
        "\n",
        "After you get above 50 points, we encourage you to experiment with model architecture to score even better."
      ]
    },
    {
      "cell_type": "code",
      "metadata": {
        "id": "P0Qg7FRfkokL"
      },
      "source": [
        "import tensorflow as tf\n",
        "tf.compat.v1.reset_default_graph()\n",
        "sess = tf.compat.v1.InteractiveSession()"
      ],
      "execution_count": 5,
      "outputs": []
    },
    {
      "cell_type": "code",
      "metadata": {
        "id": "tRb-25lKoAjy"
      },
      "source": [
        "from keras.layers import Conv2D, Dense, Flatten, Input\n",
        "import keras\n",
        "from keras.models import Model, Sequential\n",
        "\n",
        "class Agent:\n",
        "    def __init__(self, name, state_shape, n_actions, reuse=False):\n",
        "        \"\"\"A simple actor-critic agent\"\"\"\n",
        "        \n",
        "        with tf.compat.v1.variable_scope(name, reuse=reuse):\n",
        "            ####\n",
        "            inputs = Input(shape=state_shape)\n",
        "            x = Conv2D(32, (3, 3), strides=2, activation='relu')(inputs)\n",
        "            x = Conv2D(32, (3, 3), strides=2, activation='relu')(x)\n",
        "            x = Conv2D(32, (3, 3), strides=2, activation='relu')(x)\n",
        "            x = Flatten()(x)\n",
        "            x = Dense(128, activation='relu')(x)\n",
        "            \n",
        "            # two different output layers\n",
        "            logits = Dense(n_actions, activation='linear')(x)\n",
        "            state_value = Dense(1, activation='linear')(x)\n",
        "            \n",
        "            self.network = Model(inputs=inputs, outputs=[logits, state_value])\n",
        "            \n",
        "            \n",
        "            # prepare a graph for agent step\n",
        "            self.state_t = tf.compat.v1.placeholder('float32', [None,] + list(state_shape))\n",
        "            self.agent_outputs = self.symbolic_step(self.state_t)\n",
        "        \n",
        "    def symbolic_step(self, state_t):\n",
        "        \"\"\"Takes agent's previous step and observation, returns next state and whatever it needs to learn (tf tensors)\"\"\"\n",
        "        \n",
        "        # Apply neural network\n",
        "        ### Apply agent's neural network to get policy logits and state values.\n",
        "#         network_output = self.network(state_t)\n",
        "\n",
        "#         logits = network_output[:,1:]\n",
        "#         state_value = network_output[:,0]\n",
        "        \n",
        "        \n",
        "        logits, state_value = self.network(state_t)\n",
        "        state_value = state_value[:, 0]\n",
        "        \n",
        "        assert tf.compat.v1.is_numeric_tensor(state_value) and state_value.shape.ndims == 1, \\\n",
        "            \"please return 1D tf tensor of state values [you got %s]\" % repr(state_value)\n",
        "        assert tf.compat.v1.is_numeric_tensor(logits) and logits.shape.ndims == 2, \\\n",
        "            \"please return 2d tf tensor of logits [you got %s]\" % repr(logits)\n",
        "        # if you triggered state_values assert with your shape being [None, 1], \n",
        "        # just select [:, 0]-th element of state values as new state values\n",
        "        \n",
        "        return (logits, state_value)\n",
        "    \n",
        "    def step(self, state_t):\n",
        "        \"\"\"Same as symbolic step except it operates on numpy arrays\"\"\"\n",
        "        sess = tf.compat.v1.get_default_session()\n",
        "        return sess.run(self.agent_outputs, {self.state_t: state_t})\n",
        "    \n",
        "    def sample_actions(self, agent_outputs):\n",
        "        \"\"\"pick actions given numeric agent outputs (np arrays)\"\"\"\n",
        "        logits, state_values = agent_outputs\n",
        "        policy = np.exp(logits) / np.sum(np.exp(logits), axis=-1, keepdims=True)\n",
        "        return np.array([np.random.choice(len(p), p=p) for p in policy])"
      ],
      "execution_count": 6,
      "outputs": []
    },
    {
      "cell_type": "code",
      "metadata": {
        "id": "bjtQetyEoHMD"
      },
      "source": [
        "tf.compat.v1.disable_eager_execution()\n",
        "agent = Agent(\"agent\", obs_shape, n_actions)\n",
        "sess.run(tf.compat.v1.global_variables_initializer())"
      ],
      "execution_count": 7,
      "outputs": []
    },
    {
      "cell_type": "code",
      "metadata": {
        "id": "lRUs5NBuoNWB",
        "outputId": "a026f516-2c13-449e-d677-ae00093df85a",
        "colab": {
          "base_uri": "https://localhost:8080/"
        }
      },
      "source": [
        "state = [env.reset()]\n",
        "logits, value = agent.step(state)\n",
        "print(\"action logits:\\n\", logits)\n",
        "print(\"state values:\\n\", value)"
      ],
      "execution_count": 8,
      "outputs": [
        {
          "output_type": "stream",
          "name": "stderr",
          "text": [
            "/usr/local/lib/python3.7/dist-packages/ipykernel_launcher.py:59: DeprecationWarning:     `imresize` is deprecated!\n",
            "    `imresize` is deprecated in SciPy 1.0.0, and will be removed in 1.2.0.\n",
            "    Use ``skimage.transform.resize`` instead.\n"
          ]
        },
        {
          "output_type": "stream",
          "name": "stdout",
          "text": [
            "action logits:\n",
            " [[-0.00546414  0.01173837 -0.01997839 -0.02319285  0.02027495 -0.01395099\n",
            "  -0.00789745 -0.02760939 -0.0196513  -0.03922042 -0.00285989  0.0079581\n",
            "   0.00464944  0.00821451 -0.00487891  0.02082079  0.02126112 -0.0217024 ]]\n",
            "state values:\n",
            " [0.00676209]\n"
          ]
        }
      ]
    },
    {
      "cell_type": "markdown",
      "metadata": {
        "id": "7OqIoeqmo4n5"
      },
      "source": [
        "# Let's play!\n",
        "\n",
        "---\n",
        "\n",
        "\n",
        "Let's build a function that measures agent's average reward."
      ]
    },
    {
      "cell_type": "code",
      "metadata": {
        "id": "9AFcqPHKoQ_i"
      },
      "source": [
        "def evaluate(agent, env, n_games=1):\n",
        "    \"\"\"Plays an a game from start till done, returns per-game rewards \"\"\"\n",
        "\n",
        "    game_rewards = []\n",
        "    for _ in range(n_games):\n",
        "        state = env.reset()\n",
        "        \n",
        "        total_reward = 0\n",
        "        while True:\n",
        "            action = agent.sample_actions(agent.step([state]))[0]\n",
        "            state, reward, done, info = env.step(action)\n",
        "            total_reward += reward\n",
        "            if done: break\n",
        "                \n",
        "        game_rewards.append(total_reward)\n",
        "    return game_rewards\n"
      ],
      "execution_count": 9,
      "outputs": []
    },
    {
      "cell_type": "code",
      "metadata": {
        "id": "PUPl5-sKoVpg",
        "outputId": "867db043-fa3c-4991-99c2-1845b9226b50",
        "colab": {
          "base_uri": "https://localhost:8080/"
        }
      },
      "source": [
        "env_monitor = gym.wrappers.Monitor(env, directory=\"kungfu_videos\", force=True)\n",
        "rw = evaluate(agent, env_monitor, n_games=3,)\n",
        "env_monitor.close()\n",
        "print (rw)"
      ],
      "execution_count": 10,
      "outputs": [
        {
          "output_type": "stream",
          "name": "stderr",
          "text": [
            "/usr/local/lib/python3.7/dist-packages/ipykernel_launcher.py:59: DeprecationWarning:     `imresize` is deprecated!\n",
            "    `imresize` is deprecated in SciPy 1.0.0, and will be removed in 1.2.0.\n",
            "    Use ``skimage.transform.resize`` instead.\n",
            "/usr/local/lib/python3.7/dist-packages/ipykernel_launcher.py:59: DeprecationWarning:     `imresize` is deprecated!\n",
            "    `imresize` is deprecated in SciPy 1.0.0, and will be removed in 1.2.0.\n",
            "    Use ``skimage.transform.resize`` instead.\n",
            "/usr/local/lib/python3.7/dist-packages/ipykernel_launcher.py:59: DeprecationWarning:     `imresize` is deprecated!\n",
            "    `imresize` is deprecated in SciPy 1.0.0, and will be removed in 1.2.0.\n",
            "    Use ``skimage.transform.resize`` instead.\n"
          ]
        },
        {
          "output_type": "stream",
          "name": "stdout",
          "text": [
            "[0.0, 11.0, 6.0]\n"
          ]
        }
      ]
    },
    {
      "cell_type": "code",
      "metadata": {
        "id": "wcr9OW2IoZU1",
        "outputId": "d628fbf9-1853-481b-a55b-af0753e8214f",
        "colab": {
          "base_uri": "https://localhost:8080/",
          "height": 501
        }
      },
      "source": [
        "from IPython.display import HTML\n",
        "import os\n",
        "\n",
        "# needed to import code to fix issue with video also changed the dir to remove \n",
        "# underscore\n",
        "# ref for this code below https://stackoverflow.com/questions/57377185/how-play-mp4-video-in-google-colab\n",
        "video_names = list(filter(lambda s:s.endswith(\".mp4\"),os.listdir(\"./kungfu_videos/\")))\n",
        "from base64 import b64encode\n",
        "mp4 = open(\"./kungfu_videos/\"+video_names[0],'rb').read()\n",
        "agent_video = \"data:video/mp4;base64,\" + b64encode(mp4).decode()\n",
        "\n",
        "HTML(\"\"\"\n",
        "<video width=\"640\" height=\"480\" controls>\n",
        "  <source src=%s type=\"video/mp4\">\n",
        "</video>\n",
        "\"\"\" %agent_video) #this may or may not be _last_ video. Try other indices\n"
      ],
      "execution_count": 11,
      "outputs": [
        {
          "output_type": "execute_result",
          "data": {
            "text/html": [
              "\n",
              "<video width=\"640\" height=\"480\" controls>\n",
              "  <source src=data:video/mp4;base64,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 type=\"video/mp4\">\n",
              "</video>\n"
            ],
            "text/plain": [
              "<IPython.core.display.HTML object>"
            ]
          },
          "metadata": {},
          "execution_count": 11
        }
      ]
    },
    {
      "cell_type": "markdown",
      "source": [
        "# Updating hyper parameters \n",
        "Lets see what happens when we add more layers"
      ],
      "metadata": {
        "id": "xJlQG743NL2b"
      }
    },
    {
      "cell_type": "code",
      "source": [
        "from keras.layers import Conv2D, Dense, Flatten, Input\n",
        "import keras\n",
        "from keras.models import Model, Sequential\n",
        "\n",
        "class Agent:\n",
        "    def __init__(self, name, state_shape, n_actions, reuse=False):\n",
        "        \"\"\"A simple actor-critic agent\"\"\"\n",
        "        \n",
        "        with tf.compat.v1.variable_scope(name, reuse=reuse):\n",
        "            ####\n",
        "            inputs = Input(shape=state_shape)\n",
        "            x = Conv2D(128, (3, 3), strides=2, activation='relu')(inputs)\n",
        "            x = Conv2D(128, (3, 3), strides=2, activation='relu')(x)\n",
        "            x = Conv2D(128, (3, 3), strides=2, activation='relu')(x)\n",
        "            x = Flatten()(x)\n",
        "            x = Dense(128, activation='relu')(x)\n",
        "            \n",
        "            # two different output layers\n",
        "            logits = Dense(n_actions, activation='linear')(x)\n",
        "            state_value = Dense(1, activation='linear')(x)\n",
        "            \n",
        "            self.network = Model(inputs=inputs, outputs=[logits, state_value])\n",
        "            \n",
        "            \n",
        "            # prepare a graph for agent step\n",
        "            self.state_t = tf.compat.v1.placeholder('float32', [None,] + list(state_shape))\n",
        "            self.agent_outputs = self.symbolic_step(self.state_t)\n",
        "        \n",
        "    def symbolic_step(self, state_t):\n",
        "        \"\"\"Takes agent's previous step and observation, returns next state and whatever it needs to learn (tf tensors)\"\"\"\n",
        "        \n",
        "        # Apply neural network\n",
        "        ### Apply agent's neural network to get policy logits and state values.\n",
        "#         network_output = self.network(state_t)\n",
        "\n",
        "#         logits = network_output[:,1:]\n",
        "#         state_value = network_output[:,0]\n",
        "        \n",
        "        \n",
        "        logits, state_value = self.network(state_t)\n",
        "        state_value = state_value[:, 0]\n",
        "        \n",
        "        assert tf.compat.v1.is_numeric_tensor(state_value) and state_value.shape.ndims == 1, \\\n",
        "            \"please return 1D tf tensor of state values [you got %s]\" % repr(state_value)\n",
        "        assert tf.compat.v1.is_numeric_tensor(logits) and logits.shape.ndims == 2, \\\n",
        "            \"please return 2d tf tensor of logits [you got %s]\" % repr(logits)\n",
        "        # if you triggered state_values assert with your shape being [None, 1], \n",
        "        # just select [:, 0]-th element of state values as new state values\n",
        "        \n",
        "        return (logits, state_value)\n",
        "    \n",
        "    def step(self, state_t):\n",
        "        \"\"\"Same as symbolic step except it operates on numpy arrays\"\"\"\n",
        "        sess = tf.compat.v1.get_default_session()\n",
        "        return sess.run(self.agent_outputs, {self.state_t: state_t})\n",
        "    \n",
        "    def sample_actions(self, agent_outputs):\n",
        "        \"\"\"pick actions given numeric agent outputs (np arrays)\"\"\"\n",
        "        logits, state_values = agent_outputs\n",
        "        policy = np.exp(logits) / np.sum(np.exp(logits), axis=-1, keepdims=True)\n",
        "        return np.array([np.random.choice(len(p), p=p) for p in policy])"
      ],
      "metadata": {
        "id": "MKYzITxdNRNO"
      },
      "execution_count": null,
      "outputs": []
    },
    {
      "cell_type": "code",
      "source": [
        "from IPython.display import HTML\n",
        "import os\n",
        "\n",
        "# needed to import code to fix issue with video also changed the dir to remove \n",
        "# underscore\n",
        "# ref for this code below https://stackoverflow.com/questions/57377185/how-play-mp4-video-in-google-colab\n",
        "video_names = list(filter(lambda s:s.endswith(\".mp4\"),os.listdir(\"./kungfu_videos/\")))\n",
        "from base64 import b64encode\n",
        "mp4 = open(\"./kungfu_videos/\"+video_names[0],'rb').read()\n",
        "agent_video = \"data:video/mp4;base64,\" + b64encode(mp4).decode()\n",
        "\n",
        "HTML(\"\"\"\n",
        "<video width=\"640\" height=\"480\" controls>\n",
        "  <source src=%s type=\"video/mp4\">\n",
        "</video>\n",
        "\"\"\" %agent_video) #this may or may not be _last_ video. Try other indices\n"
      ],
      "metadata": {
        "id": "I0bDsugHNeWD"
      },
      "execution_count": null,
      "outputs": []
    },
    {
      "cell_type": "code",
      "source": [
        "from IPython.display import HTML\n",
        "import os\n",
        "\n",
        "# needed to import code to fix issue with video also changed the dir to remove \n",
        "# underscore\n",
        "# ref for this code below https://stackoverflow.com/questions/57377185/how-play-mp4-video-in-google-colab\n",
        "video_names = list(filter(lambda s:s.endswith(\".mp4\"),os.listdir(\"./kungfu_videos/\")))\n",
        "from base64 import b64encode\n",
        "mp4 = open(\"./kungfu_videos/\"+video_names[0],'rb').read()\n",
        "agent_video = \"data:video/mp4;base64,\" + b64encode(mp4).decode()\n",
        "\n",
        "HTML(\"\"\"\n",
        "<video width=\"640\" height=\"480\" controls>\n",
        "  <source src=%s type=\"video/mp4\">\n",
        "</video>\n",
        "\"\"\" %agent_video) #this may or may not be _last_ video. Try other indices\n"
      ],
      "metadata": {
        "id": "rJD8SaZ1NRds"
      },
      "execution_count": null,
      "outputs": []
    },
    {
      "cell_type": "markdown",
      "metadata": {
        "id": "8MmDLcuUpGMj"
      },
      "source": [
        "# Training on parallel games\n",
        "\n",
        "---\n",
        "\n",
        "\n",
        "\n",
        "![alt text](https://camo.githubusercontent.com/f894eba2ee745652f1fc95484cfa45bf26decb8e/68747470733a2f2f6769746875622e636f6d2f79616e646578646174617363686f6f6c2f50726163746963616c5f524c2f7261772f6d61737465722f7965745f616e6f746865725f7765656b2f5f7265736f757263652f2f656e765f706f6f6c2e706e67)\n",
        "\n",
        "To make actor-critic training more stable, we shall play several games in parallel. This means ya'll have to initialize several parallel gym envs, send agent's actions there and .reset() each env if it becomes terminated. To minimize learner brain damage, we've taken care of them for ya - just make sure you read it before you use it."
      ]
    },
    {
      "cell_type": "code",
      "metadata": {
        "id": "QX-uaGwCojPt"
      },
      "source": [
        "class EnvBatch:\n",
        "    def __init__(self, n_envs = 10):\n",
        "        \"\"\" Creates n_envs environments and babysits them for ya' \"\"\"\n",
        "        self.envs = [make_env() for _ in range(n_envs)]\n",
        "        \n",
        "    def reset(self):\n",
        "        \"\"\" Reset all games and return [n_envs, *obs_shape] observations \"\"\"\n",
        "        return np.array([env.reset() for env in self.envs])\n",
        "    \n",
        "    def step(self, actions):\n",
        "        \"\"\"\n",
        "        Send a vector[batch_size] of actions into respective environments\n",
        "        :returns: observations[n_envs, *obs_shape], rewards[n_envs], done[n_envs,], info[n_envs]\n",
        "        \"\"\"\n",
        "        results = [env.step(a) for env, a in zip(self.envs, actions)]\n",
        "        new_obs, rewards, done, infos = map(np.array, zip(*results))\n",
        "        \n",
        "        # reset environments automatically\n",
        "        for i in range(len(self.envs)):\n",
        "            if done[i]:\n",
        "                new_obs[i] = self.envs[i].reset()\n",
        "        \n",
        "        return new_obs, rewards, done, infos"
      ],
      "execution_count": 12,
      "outputs": []
    },
    {
      "cell_type": "code",
      "metadata": {
        "id": "3JawlpBFo0Yb",
        "outputId": "43423b27-3071-42f3-ee8c-fbdbcbd0151c",
        "colab": {
          "base_uri": "https://localhost:8080/"
        }
      },
      "source": [
        "env_batch = EnvBatch(10)\n",
        "\n",
        "batch_states = env_batch.reset()\n",
        "\n",
        "batch_actions = agent.sample_actions(agent.step(batch_states))\n",
        "\n",
        "batch_next_states, batch_rewards, batch_done, _ = env_batch.step(batch_actions)\n",
        "\n",
        "print(\"State shape:\", batch_states.shape)\n",
        "print(\"Actions:\", batch_actions[:3])\n",
        "print(\"Rewards:\", batch_rewards[:3])\n",
        "print(\"Done:\", batch_done[:3])\n"
      ],
      "execution_count": 13,
      "outputs": [
        {
          "output_type": "stream",
          "name": "stderr",
          "text": [
            "/usr/local/lib/python3.7/dist-packages/gym/logger.py:30: UserWarning: \u001b[33mWARN: obs_type \"image\" should be replaced with the image type, one of: rgb, grayscale\u001b[0m\n",
            "  warnings.warn(colorize('%s: %s'%('WARN', msg % args), 'yellow'))\n"
          ]
        },
        {
          "output_type": "stream",
          "name": "stdout",
          "text": [
            "State shape: (10, 42, 42, 4)\n",
            "Actions: [6 9 3]\n",
            "Rewards: [0. 0. 0.]\n",
            "Done: [False False False]\n"
          ]
        },
        {
          "output_type": "stream",
          "name": "stderr",
          "text": [
            "/usr/local/lib/python3.7/dist-packages/ipykernel_launcher.py:59: DeprecationWarning:     `imresize` is deprecated!\n",
            "    `imresize` is deprecated in SciPy 1.0.0, and will be removed in 1.2.0.\n",
            "    Use ``skimage.transform.resize`` instead.\n"
          ]
        }
      ]
    },
    {
      "cell_type": "markdown",
      "metadata": {
        "id": "UwEPCL46pfHO"
      },
      "source": [
        "# Actor-critic\n",
        "\n",
        "---\n",
        "\n",
        "\n",
        "Here we define a loss functions and learning algorithms as usual."
      ]
    },
    {
      "cell_type": "code",
      "metadata": {
        "id": "0C6zD_V1o35d"
      },
      "source": [
        "# These placeholders mean exactly the same as in \"Let's try it out\" section above\n",
        "tf.compat.v1.disable_eager_execution()\n",
        "states_ph = tf.compat.v1.placeholder('float32', [None,] + list(obs_shape))    \n",
        "next_states_ph =  tf.compat.v1.placeholder('float32', [None,] + list(obs_shape))\n",
        "actions_ph =  tf.compat.v1.placeholder('int32', (None,))\n",
        "rewards_ph =  tf.compat.v1.placeholder('float32', (None,))\n",
        "is_done_ph =  tf.compat.v1.placeholder('float32', (None,))"
      ],
      "execution_count": 14,
      "outputs": []
    },
    {
      "cell_type": "code",
      "metadata": {
        "id": "Ktpq6pJgo-Dl"
      },
      "source": [
        "# logits[n_envs, n_actions] and state_values[n_envs, n_actions]\n",
        "logits, state_values = agent.symbolic_step(states_ph)\n",
        "next_logits, next_state_values = agent.symbolic_step(next_states_ph)\n",
        "next_state_values = next_state_values * (1 - is_done_ph)\n",
        "\n",
        "# probabilities and log-probabilities for all actions\n",
        "probs = tf.nn.softmax(logits)            # [n_envs, n_actions]\n",
        "logprobs = tf.nn.log_softmax(logits)     # [n_envs, n_actions]\n",
        "\n",
        "# log-probabilities only for agent's chosen actions\n",
        "logp_actions = tf.reduce_sum(logprobs * tf.one_hot(actions_ph, n_actions), axis=-1) # [n_envs,]"
      ],
      "execution_count": 15,
      "outputs": []
    },
    {
      "cell_type": "code",
      "metadata": {
        "id": "b-aNY8wRpBk9"
      },
      "source": [
        "\n",
        "\n",
        "# compute advantage using rewards_ph, state_values and next_state_values\n",
        "gamma = 0.99\n",
        "advantage = rewards_ph + gamma*next_state_values - state_values\n",
        "\n",
        "assert advantage.shape.ndims == 1, \"please compute advantage for each sample, vector of shape [n_envs,]\"\n",
        "\n",
        "# compute policy entropy given logits_seq. Mind the \"-\" sign!\n",
        "entropy =  -tf.reduce_sum(probs * logprobs, 1, name=\"entropy\")\n",
        "\n",
        "assert entropy.shape.ndims == 1, \"please compute pointwise entropy vector of shape [n_envs,] \"\n",
        "\n",
        "\n",
        "\n",
        "actor_loss =  - tf.reduce_mean(logp_actions * tf.stop_gradient(advantage)) - 0.001 * tf.reduce_mean(entropy)\n",
        "\n",
        "# compute target state values using temporal difference formula. Use rewards_ph and next_step_values\n",
        "target_state_values = rewards_ph+gamma*next_state_values\n",
        "\n",
        "critic_loss = tf.reduce_mean((state_values - tf.stop_gradient(target_state_values))**2 )\n",
        "\n",
        "train_step = tf.compat.v1.train.AdamOptimizer(1e-4).minimize(actor_loss + critic_loss)\n",
        "sess.run(tf.compat.v1.global_variables_initializer())"
      ],
      "execution_count": 16,
      "outputs": []
    },
    {
      "cell_type": "code",
      "metadata": {
        "id": "Z9qCcr3cpEtw",
        "outputId": "2aee04fa-2d8a-4790-9c22-c1a1a4736512",
        "colab": {
          "base_uri": "https://localhost:8080/"
        }
      },
      "source": [
        "# Sanity checks to catch some errors. Specific to KungFuMaster in assignment's default setup.\n",
        "l_act, l_crit, adv, ent = sess.run([actor_loss, critic_loss, advantage, entropy], feed_dict = {\n",
        "        states_ph: batch_states,\n",
        "        actions_ph: batch_actions,\n",
        "        next_states_ph: batch_states,\n",
        "        rewards_ph: batch_rewards,\n",
        "        is_done_ph: batch_done,\n",
        "    })\n",
        "\n",
        "assert abs(l_act) < 100 and abs(l_crit) < 100, \"losses seem abnormally large\"\n",
        "assert 0 <= ent.mean() <= np.log(n_actions), \"impossible entropy value, double-check the formula pls\"\n",
        "if ent.mean() < np.log(n_actions) / 2: print(\"Entropy is too low for untrained agent\")\n",
        "print(\"You just might be fine!\")"
      ],
      "execution_count": 17,
      "outputs": [
        {
          "output_type": "stream",
          "name": "stdout",
          "text": [
            "You just might be fine!\n"
          ]
        }
      ]
    },
    {
      "cell_type": "code",
      "metadata": {
        "id": "KGMW7v42peBa",
        "outputId": "28912a21-b90b-4684-a9c6-d767cfd4e4d5",
        "colab": {
          "base_uri": "https://localhost:8080/"
        }
      },
      "source": [
        "!pip install tqdm"
      ],
      "execution_count": 18,
      "outputs": [
        {
          "output_type": "stream",
          "name": "stdout",
          "text": [
            "Requirement already satisfied: tqdm in /usr/local/lib/python3.7/dist-packages (4.62.3)\n"
          ]
        }
      ]
    },
    {
      "cell_type": "markdown",
      "metadata": {
        "id": "jAFWsGKlpuIM"
      },
      "source": [
        "# Train\n",
        "\n",
        "---\n",
        "\n",
        "\n",
        "Just the usual - play a bit, compute loss, follow the graidents, repeat a few million times.\n",
        "\n",
        "![alt text](https://camo.githubusercontent.com/69cc1e7cffa2ebd5db67c39f7c7c2724aaf5594b/687474703a2f2f696d61676573362e66616e706f702e636f6d2f696d6167652f70686f746f732f33383930303030302f44616e69656c2d73616e2d747261696e696e672d7468652d6b61726174652d6b69642d33383934373336312d3439392d3238382e676966)\n",
        "\n"
      ]
    },
    {
      "cell_type": "code",
      "metadata": {
        "id": "Y6TQ0p8ul1ZA",
        "outputId": "b670ce93-286e-4198-b60f-72ae9031eedb",
        "colab": {
          "base_uri": "https://localhost:8080/"
        }
      },
      "source": [
        "!pip install pandas"
      ],
      "execution_count": 19,
      "outputs": [
        {
          "output_type": "stream",
          "name": "stdout",
          "text": [
            "Requirement already satisfied: pandas in /usr/local/lib/python3.7/dist-packages (1.1.5)\n",
            "Requirement already satisfied: numpy>=1.15.4 in /usr/local/lib/python3.7/dist-packages (from pandas) (1.19.5)\n",
            "Requirement already satisfied: python-dateutil>=2.7.3 in /usr/local/lib/python3.7/dist-packages (from pandas) (2.8.2)\n",
            "Requirement already satisfied: pytz>=2017.2 in /usr/local/lib/python3.7/dist-packages (from pandas) (2018.9)\n",
            "Requirement already satisfied: six>=1.5 in /usr/local/lib/python3.7/dist-packages (from python-dateutil>=2.7.3->pandas) (1.15.0)\n"
          ]
        }
      ]
    },
    {
      "cell_type": "code",
      "metadata": {
        "id": "hpqugPcIpIlq",
        "outputId": "00019388-38eb-49b3-94dc-c58458b6bd06",
        "colab": {
          "base_uri": "https://localhost:8080/"
        }
      },
      "source": [
        "from IPython.display import clear_output\n",
        "from tqdm import trange\n",
        "import pandas as pd\n",
        "#from pandas import ewm\n",
        "\n",
        "env_batch = EnvBatch(10)\n",
        "batch_states = env_batch.reset()\n",
        "\n",
        "rewards_history = []\n",
        "entropy_history = []\n",
        "df = pd.DataFrame(data=batch_rewards)"
      ],
      "execution_count": 20,
      "outputs": [
        {
          "output_type": "stream",
          "name": "stderr",
          "text": [
            "/usr/local/lib/python3.7/dist-packages/gym/logger.py:30: UserWarning: \u001b[33mWARN: obs_type \"image\" should be replaced with the image type, one of: rgb, grayscale\u001b[0m\n",
            "  warnings.warn(colorize('%s: %s'%('WARN', msg % args), 'yellow'))\n",
            "/usr/local/lib/python3.7/dist-packages/ipykernel_launcher.py:59: DeprecationWarning:     `imresize` is deprecated!\n",
            "    `imresize` is deprecated in SciPy 1.0.0, and will be removed in 1.2.0.\n",
            "    Use ``skimage.transform.resize`` instead.\n"
          ]
        }
      ]
    },
    {
      "cell_type": "code",
      "metadata": {
        "id": "ISPHZ1Ed7y-M",
        "outputId": "2c41b0fe-b5b8-40c9-f9e1-05d3245fc2ec",
        "colab": {
          "base_uri": "https://localhost:8080/",
          "height": 362
        }
      },
      "source": [
        "df.ewm(halflife=12).mean()"
      ],
      "execution_count": 21,
      "outputs": [
        {
          "output_type": "execute_result",
          "data": {
            "text/html": [
              "\n",
              "  <div id=\"df-d3105a6f-9821-486d-9970-b7868a21d05d\">\n",
              "    <div class=\"colab-df-container\">\n",
              "      <div>\n",
              "<style scoped>\n",
              "    .dataframe tbody tr th:only-of-type {\n",
              "        vertical-align: middle;\n",
              "    }\n",
              "\n",
              "    .dataframe tbody tr th {\n",
              "        vertical-align: top;\n",
              "    }\n",
              "\n",
              "    .dataframe thead th {\n",
              "        text-align: right;\n",
              "    }\n",
              "</style>\n",
              "<table border=\"1\" class=\"dataframe\">\n",
              "  <thead>\n",
              "    <tr style=\"text-align: right;\">\n",
              "      <th></th>\n",
              "      <th>0</th>\n",
              "    </tr>\n",
              "  </thead>\n",
              "  <tbody>\n",
              "    <tr>\n",
              "      <th>0</th>\n",
              "      <td>0.0</td>\n",
              "    </tr>\n",
              "    <tr>\n",
              "      <th>1</th>\n",
              "      <td>0.0</td>\n",
              "    </tr>\n",
              "    <tr>\n",
              "      <th>2</th>\n",
              "      <td>0.0</td>\n",
              "    </tr>\n",
              "    <tr>\n",
              "      <th>3</th>\n",
              "      <td>0.0</td>\n",
              "    </tr>\n",
              "    <tr>\n",
              "      <th>4</th>\n",
              "      <td>0.0</td>\n",
              "    </tr>\n",
              "    <tr>\n",
              "      <th>5</th>\n",
              "      <td>0.0</td>\n",
              "    </tr>\n",
              "    <tr>\n",
              "      <th>6</th>\n",
              "      <td>0.0</td>\n",
              "    </tr>\n",
              "    <tr>\n",
              "      <th>7</th>\n",
              "      <td>0.0</td>\n",
              "    </tr>\n",
              "    <tr>\n",
              "      <th>8</th>\n",
              "      <td>0.0</td>\n",
              "    </tr>\n",
              "    <tr>\n",
              "      <th>9</th>\n",
              "      <td>0.0</td>\n",
              "    </tr>\n",
              "  </tbody>\n",
              "</table>\n",
              "</div>\n",
              "      <button class=\"colab-df-convert\" onclick=\"convertToInteractive('df-d3105a6f-9821-486d-9970-b7868a21d05d')\"\n",
              "              title=\"Convert this dataframe to an interactive table.\"\n",
              "              style=\"display:none;\">\n",
              "        \n",
              "  <svg xmlns=\"http://www.w3.org/2000/svg\" height=\"24px\"viewBox=\"0 0 24 24\"\n",
              "       width=\"24px\">\n",
              "    <path d=\"M0 0h24v24H0V0z\" fill=\"none\"/>\n",
              "    <path d=\"M18.56 5.44l.94 2.06.94-2.06 2.06-.94-2.06-.94-.94-2.06-.94 2.06-2.06.94zm-11 1L8.5 8.5l.94-2.06 2.06-.94-2.06-.94L8.5 2.5l-.94 2.06-2.06.94zm10 10l.94 2.06.94-2.06 2.06-.94-2.06-.94-.94-2.06-.94 2.06-2.06.94z\"/><path d=\"M17.41 7.96l-1.37-1.37c-.4-.4-.92-.59-1.43-.59-.52 0-1.04.2-1.43.59L10.3 9.45l-7.72 7.72c-.78.78-.78 2.05 0 2.83L4 21.41c.39.39.9.59 1.41.59.51 0 1.02-.2 1.41-.59l7.78-7.78 2.81-2.81c.8-.78.8-2.07 0-2.86zM5.41 20L4 18.59l7.72-7.72 1.47 1.35L5.41 20z\"/>\n",
              "  </svg>\n",
              "      </button>\n",
              "      \n",
              "  <style>\n",
              "    .colab-df-container {\n",
              "      display:flex;\n",
              "      flex-wrap:wrap;\n",
              "      gap: 12px;\n",
              "    }\n",
              "\n",
              "    .colab-df-convert {\n",
              "      background-color: #E8F0FE;\n",
              "      border: none;\n",
              "      border-radius: 50%;\n",
              "      cursor: pointer;\n",
              "      display: none;\n",
              "      fill: #1967D2;\n",
              "      height: 32px;\n",
              "      padding: 0 0 0 0;\n",
              "      width: 32px;\n",
              "    }\n",
              "\n",
              "    .colab-df-convert:hover {\n",
              "      background-color: #E2EBFA;\n",
              "      box-shadow: 0px 1px 2px rgba(60, 64, 67, 0.3), 0px 1px 3px 1px rgba(60, 64, 67, 0.15);\n",
              "      fill: #174EA6;\n",
              "    }\n",
              "\n",
              "    [theme=dark] .colab-df-convert {\n",
              "      background-color: #3B4455;\n",
              "      fill: #D2E3FC;\n",
              "    }\n",
              "\n",
              "    [theme=dark] .colab-df-convert:hover {\n",
              "      background-color: #434B5C;\n",
              "      box-shadow: 0px 1px 3px 1px rgba(0, 0, 0, 0.15);\n",
              "      filter: drop-shadow(0px 1px 2px rgba(0, 0, 0, 0.3));\n",
              "      fill: #FFFFFF;\n",
              "    }\n",
              "  </style>\n",
              "\n",
              "      <script>\n",
              "        const buttonEl =\n",
              "          document.querySelector('#df-d3105a6f-9821-486d-9970-b7868a21d05d button.colab-df-convert');\n",
              "        buttonEl.style.display =\n",
              "          google.colab.kernel.accessAllowed ? 'block' : 'none';\n",
              "\n",
              "        async function convertToInteractive(key) {\n",
              "          const element = document.querySelector('#df-d3105a6f-9821-486d-9970-b7868a21d05d');\n",
              "          const dataTable =\n",
              "            await google.colab.kernel.invokeFunction('convertToInteractive',\n",
              "                                                     [key], {});\n",
              "          if (!dataTable) return;\n",
              "\n",
              "          const docLinkHtml = 'Like what you see? Visit the ' +\n",
              "            '<a target=\"_blank\" href=https://colab.research.google.com/notebooks/data_table.ipynb>data table notebook</a>'\n",
              "            + ' to learn more about interactive tables.';\n",
              "          element.innerHTML = '';\n",
              "          dataTable['output_type'] = 'display_data';\n",
              "          await google.colab.output.renderOutput(dataTable, element);\n",
              "          const docLink = document.createElement('div');\n",
              "          docLink.innerHTML = docLinkHtml;\n",
              "          element.appendChild(docLink);\n",
              "        }\n",
              "      </script>\n",
              "    </div>\n",
              "  </div>\n",
              "  "
            ],
            "text/plain": [
              "     0\n",
              "0  0.0\n",
              "1  0.0\n",
              "2  0.0\n",
              "3  0.0\n",
              "4  0.0\n",
              "5  0.0\n",
              "6  0.0\n",
              "7  0.0\n",
              "8  0.0\n",
              "9  0.0"
            ]
          },
          "metadata": {},
          "execution_count": 21
        }
      ]
    },
    {
      "cell_type": "code",
      "metadata": {
        "id": "C-uNJ4-TpNC_",
        "outputId": "5feab14c-beb1-4224-f07f-9630eb9ebfdf",
        "colab": {
          "base_uri": "https://localhost:8080/",
          "height": 298
        }
      },
      "source": [
        "for i in trange(100000): \n",
        "    \n",
        "    batch_actions = agent.sample_actions(agent.step(batch_states))\n",
        "    batch_next_states, batch_rewards, batch_done, _ = env_batch.step(batch_actions)\n",
        "    \n",
        "    feed_dict = {\n",
        "        states_ph: batch_states,\n",
        "        actions_ph: batch_actions,\n",
        "        next_states_ph: batch_next_states,\n",
        "        rewards_ph: batch_rewards,\n",
        "        is_done_ph: batch_done,\n",
        "    }\n",
        "    batch_states = batch_next_states\n",
        "    \n",
        "    _, ent_t = sess.run([train_step, entropy], feed_dict)\n",
        "    entropy_history.append(np.mean(ent_t))\n",
        "\n",
        "    if i % 500 == 0: \n",
        "        if i % 2500 == 0:\n",
        "            rewards_history.append(np.mean(evaluate(agent, env, n_games=3)))\n",
        "            if rewards_history[-1] >= 50:\n",
        "                print(\"Your agent has earned the yellow belt\")\n",
        "\n",
        "        clear_output(True)\n",
        "        plt.figure(figsize=[8,4])\n",
        "        plt.subplot(1,2,1)\n",
        "        plt.plot(rewards_history, label='rewards')\n",
        "        df = pd.DataFrame(rewards_history)\n",
        "        plt.plot(df.ewm(halflife=1000).mean(), marker='.', label='rewards ewma@10')\n",
        "        plt.title(\"Session rewards\"); plt.grid(); plt.legend()\n",
        "        \n",
        "        plt.subplot(1,2,2)\n",
        "        plt.plot(entropy_history, label='entropy')\n",
        "        df2 = pd.DataFrame(entropy_history)\n",
        "        plt.plot(df2.ewm(halflife=1000).mean(), label='entropy ewma@1000')\n",
        "        plt.title(\"Policy entropy\"); plt.grid(); plt.legend()        \n",
        "        plt.show()\n",
        "        \n",
        "        \n",
        "\n"
      ],
      "execution_count": null,
      "outputs": [
        {
          "output_type": "display_data",
          "data": {
            "image/png": "[encoded data removed]",
            "text/plain": [
              "<Figure size 576x288 with 2 Axes>"
            ]
          },
          "metadata": {
            "needs_background": "light"
          }
        },
        {
          "output_type": "stream",
          "name": "stderr",
          "text": [
            " 27%|██▋       | 26995/100000 [11:40<27:15, 44.64it/s]"
          ]
        }
      ]
    },
    {
      "cell_type": "code",
      "metadata": {
        "id": "XC3JUqqPpo6k"
      },
      "source": [
        "env_monitor = gym.wrappers.Monitor(env, directory=\"kungfu_videos\", force=True)\n",
        "final_rewards = evaluate(agent, env_monitor, n_games=1,)\n",
        "env_monitor.close()\n",
        "print(\"Final mean reward:\", np.mean(final_rewards))\n",
        "\n",
        "video_names = list(filter(lambda s:s.endswith(\".mp4\"),os.listdir(\"./kungfu_videos/\")))"
      ],
      "execution_count": null,
      "outputs": []
    },
    {
      "cell_type": "code",
      "metadata": {
        "id": "BVwb5QCk3YUb"
      },
      "source": [
        ""
      ],
      "execution_count": null,
      "outputs": []
    }
  ]
}