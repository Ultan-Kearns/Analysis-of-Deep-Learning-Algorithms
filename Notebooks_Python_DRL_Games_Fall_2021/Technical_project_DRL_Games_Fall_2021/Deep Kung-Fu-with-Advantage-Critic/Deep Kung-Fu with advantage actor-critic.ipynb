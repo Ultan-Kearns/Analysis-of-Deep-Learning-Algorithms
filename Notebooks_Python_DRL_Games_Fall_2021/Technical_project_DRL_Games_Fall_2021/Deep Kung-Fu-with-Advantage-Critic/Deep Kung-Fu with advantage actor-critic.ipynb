{
  "nbformat": 4,
  "nbformat_minor": 0,
  "metadata": {
    "colab": {
      "name": "A3C.ipynb",
      "provenance": [],
      "include_colab_link": true
    },
    "kernelspec": {
      "name": "python3",
      "display_name": "Python 3"
    },
    "accelerator": "GPU"
  },
  "cells": [
    {
      "cell_type": "markdown",
      "metadata": {
        "id": "view-in-github",
        "colab_type": "text"
      },
      "source": [
        "<a href=\"https://colab.research.google.com/github/Ultan-Kearns/Artificial-Intelligence-CA/blob/master/Notebooks_Python_DRL_Games_Fall_2021/Technical_project_DRL_Games_Fall_2021/Deep%20Kung-Fu-with-Advantage-Critic/Deep%20Kung-Fu%20with%20advantage%20actor-critic.ipynb\" target=\"_parent\"><img src=\"https://colab.research.google.com/assets/colab-badge.svg\" alt=\"Open In Colab\"/></a>"
      ]
    },
    {
      "cell_type": "markdown",
      "metadata": {
        "id": "PjC4uqSP17ai"
      },
      "source": [
        "# Deep Kung-Fu with advantage actor-critic"
      ]
    },
    {
      "cell_type": "markdown",
      "metadata": {
        "id": "wRXcuuh3qB6q"
      },
      "source": [
        "# Environment Setup"
      ]
    },
    {
      "cell_type": "code",
      "metadata": {
        "id": "jWdlrlePjq-g",
        "outputId": "ffe608b0-e347-4704-cc60-b36570de7adf",
        "colab": {
          "base_uri": "https://localhost:8080/"
        }
      },
      "source": [
        "!pip install gym"
      ],
      "execution_count": null,
      "outputs": [
        {
          "output_type": "stream",
          "name": "stdout",
          "text": [
            "Requirement already satisfied: gym in /usr/local/lib/python3.7/dist-packages (0.17.3)\n",
            "Requirement already satisfied: pyglet<=1.5.0,>=1.4.0 in /usr/local/lib/python3.7/dist-packages (from gym) (1.5.0)\n",
            "Requirement already satisfied: scipy in /usr/local/lib/python3.7/dist-packages (from gym) (1.7.3)\n",
            "Requirement already satisfied: cloudpickle<1.7.0,>=1.2.0 in /usr/local/lib/python3.7/dist-packages (from gym) (1.3.0)\n",
            "Requirement already satisfied: numpy>=1.10.4 in /usr/local/lib/python3.7/dist-packages (from gym) (1.19.5)\n",
            "Requirement already satisfied: future in /usr/local/lib/python3.7/dist-packages (from pyglet<=1.5.0,>=1.4.0->gym) (0.16.0)\n"
          ]
        }
      ]
    },
    {
      "cell_type": "code",
      "metadata": {
        "id": "xcOgo4xwj4PJ",
        "outputId": "ecc380d0-bc2b-4901-c79e-e044fd2f17fe",
        "colab": {
          "base_uri": "https://localhost:8080/"
        }
      },
      "source": [
        "!apt-get install python-opengl -y"
      ],
      "execution_count": null,
      "outputs": [
        {
          "output_type": "stream",
          "name": "stdout",
          "text": [
            "Reading package lists... Done\n",
            "Building dependency tree       \n",
            "Reading state information... Done\n",
            "python-opengl is already the newest version (3.1.0+dfsg-1).\n",
            "The following packages were automatically installed and are no longer required:\n",
            "  cuda-command-line-tools-10-0 cuda-command-line-tools-10-1\n",
            "  cuda-command-line-tools-11-0 cuda-compiler-10-0 cuda-compiler-10-1\n",
            "  cuda-compiler-11-0 cuda-cuobjdump-10-0 cuda-cuobjdump-10-1\n",
            "  cuda-cuobjdump-11-0 cuda-cupti-10-0 cuda-cupti-10-1 cuda-cupti-11-0\n",
            "  cuda-cupti-dev-11-0 cuda-documentation-10-0 cuda-documentation-10-1\n",
            "  cuda-documentation-11-0 cuda-documentation-11-1 cuda-gdb-10-0 cuda-gdb-10-1\n",
            "  cuda-gdb-11-0 cuda-gpu-library-advisor-10-0 cuda-gpu-library-advisor-10-1\n",
            "  cuda-libraries-10-0 cuda-libraries-10-1 cuda-libraries-11-0\n",
            "  cuda-memcheck-10-0 cuda-memcheck-10-1 cuda-memcheck-11-0 cuda-nsight-10-0\n",
            "  cuda-nsight-10-1 cuda-nsight-11-0 cuda-nsight-11-1 cuda-nsight-compute-10-0\n",
            "  cuda-nsight-compute-10-1 cuda-nsight-compute-11-0 cuda-nsight-compute-11-1\n",
            "  cuda-nsight-systems-10-1 cuda-nsight-systems-11-0 cuda-nsight-systems-11-1\n",
            "  cuda-nvcc-10-0 cuda-nvcc-10-1 cuda-nvcc-11-0 cuda-nvdisasm-10-0\n",
            "  cuda-nvdisasm-10-1 cuda-nvdisasm-11-0 cuda-nvml-dev-10-0 cuda-nvml-dev-10-1\n",
            "  cuda-nvml-dev-11-0 cuda-nvprof-10-0 cuda-nvprof-10-1 cuda-nvprof-11-0\n",
            "  cuda-nvprune-10-0 cuda-nvprune-10-1 cuda-nvprune-11-0 cuda-nvtx-10-0\n",
            "  cuda-nvtx-10-1 cuda-nvtx-11-0 cuda-nvvp-10-0 cuda-nvvp-10-1 cuda-nvvp-11-0\n",
            "  cuda-nvvp-11-1 cuda-samples-10-0 cuda-samples-10-1 cuda-samples-11-0\n",
            "  cuda-samples-11-1 cuda-sanitizer-11-0 cuda-sanitizer-api-10-1\n",
            "  cuda-toolkit-10-0 cuda-toolkit-10-1 cuda-toolkit-11-0 cuda-toolkit-11-1\n",
            "  cuda-tools-10-0 cuda-tools-10-1 cuda-tools-11-0 cuda-tools-11-1\n",
            "  cuda-visual-tools-10-0 cuda-visual-tools-10-1 cuda-visual-tools-11-0\n",
            "  cuda-visual-tools-11-1 default-jre dkms freeglut3-dev keyboard-configuration\n",
            "  libargon2-0 libcap2 libcryptsetup12 libdevmapper1.02.1 libidn11 libip4tc0\n",
            "  libjansson4 libnvidia-cfg1-510 libnvidia-common-460 libnvidia-common-510\n",
            "  libnvidia-extra-510 libnvidia-fbc1-510 libnvidia-gl-510 libpam-systemd\n",
            "  libpolkit-agent-1-0 libpolkit-backend-1-0 libpolkit-gobject-1-0 libxi-dev\n",
            "  libxmu-dev libxmu-headers libxnvctrl0 libxtst6 nsight-compute-2020.2.1\n",
            "  nsight-compute-2022.1.0 nsight-systems-2020.3.2 nsight-systems-2020.3.4\n",
            "  nsight-systems-2021.5.2 nvidia-dkms-510 nvidia-kernel-common-510\n",
            "  nvidia-kernel-source-510 nvidia-modprobe nvidia-settings openjdk-11-jre\n",
            "  policykit-1 policykit-1-gnome python3-xkit screen-resolution-extra systemd\n",
            "  systemd-sysv udev xserver-xorg-core-hwe-18.04 xserver-xorg-video-nvidia-510\n",
            "Use 'apt autoremove' to remove them.\n",
            "0 upgraded, 0 newly installed, 0 to remove and 39 not upgraded.\n"
          ]
        }
      ]
    },
    {
      "cell_type": "code",
      "metadata": {
        "id": "2aS0God8kBDE",
        "outputId": "8ada259f-2ee8-426f-f57f-ccdd39eda5ac",
        "colab": {
          "base_uri": "https://localhost:8080/"
        }
      },
      "source": [
        "!apt install xvfb -y"
      ],
      "execution_count": null,
      "outputs": [
        {
          "output_type": "stream",
          "name": "stdout",
          "text": [
            "Reading package lists... Done\n",
            "Building dependency tree       \n",
            "Reading state information... Done\n",
            "xvfb is already the newest version (2:1.19.6-1ubuntu4.10).\n",
            "The following packages were automatically installed and are no longer required:\n",
            "  cuda-command-line-tools-10-0 cuda-command-line-tools-10-1\n",
            "  cuda-command-line-tools-11-0 cuda-compiler-10-0 cuda-compiler-10-1\n",
            "  cuda-compiler-11-0 cuda-cuobjdump-10-0 cuda-cuobjdump-10-1\n",
            "  cuda-cuobjdump-11-0 cuda-cupti-10-0 cuda-cupti-10-1 cuda-cupti-11-0\n",
            "  cuda-cupti-dev-11-0 cuda-documentation-10-0 cuda-documentation-10-1\n",
            "  cuda-documentation-11-0 cuda-documentation-11-1 cuda-gdb-10-0 cuda-gdb-10-1\n",
            "  cuda-gdb-11-0 cuda-gpu-library-advisor-10-0 cuda-gpu-library-advisor-10-1\n",
            "  cuda-libraries-10-0 cuda-libraries-10-1 cuda-libraries-11-0\n",
            "  cuda-memcheck-10-0 cuda-memcheck-10-1 cuda-memcheck-11-0 cuda-nsight-10-0\n",
            "  cuda-nsight-10-1 cuda-nsight-11-0 cuda-nsight-11-1 cuda-nsight-compute-10-0\n",
            "  cuda-nsight-compute-10-1 cuda-nsight-compute-11-0 cuda-nsight-compute-11-1\n",
            "  cuda-nsight-systems-10-1 cuda-nsight-systems-11-0 cuda-nsight-systems-11-1\n",
            "  cuda-nvcc-10-0 cuda-nvcc-10-1 cuda-nvcc-11-0 cuda-nvdisasm-10-0\n",
            "  cuda-nvdisasm-10-1 cuda-nvdisasm-11-0 cuda-nvml-dev-10-0 cuda-nvml-dev-10-1\n",
            "  cuda-nvml-dev-11-0 cuda-nvprof-10-0 cuda-nvprof-10-1 cuda-nvprof-11-0\n",
            "  cuda-nvprune-10-0 cuda-nvprune-10-1 cuda-nvprune-11-0 cuda-nvtx-10-0\n",
            "  cuda-nvtx-10-1 cuda-nvtx-11-0 cuda-nvvp-10-0 cuda-nvvp-10-1 cuda-nvvp-11-0\n",
            "  cuda-nvvp-11-1 cuda-samples-10-0 cuda-samples-10-1 cuda-samples-11-0\n",
            "  cuda-samples-11-1 cuda-sanitizer-11-0 cuda-sanitizer-api-10-1\n",
            "  cuda-toolkit-10-0 cuda-toolkit-10-1 cuda-toolkit-11-0 cuda-toolkit-11-1\n",
            "  cuda-tools-10-0 cuda-tools-10-1 cuda-tools-11-0 cuda-tools-11-1\n",
            "  cuda-visual-tools-10-0 cuda-visual-tools-10-1 cuda-visual-tools-11-0\n",
            "  cuda-visual-tools-11-1 default-jre dkms freeglut3-dev keyboard-configuration\n",
            "  libargon2-0 libcap2 libcryptsetup12 libdevmapper1.02.1 libidn11 libip4tc0\n",
            "  libjansson4 libnvidia-cfg1-510 libnvidia-common-460 libnvidia-common-510\n",
            "  libnvidia-extra-510 libnvidia-fbc1-510 libnvidia-gl-510 libpam-systemd\n",
            "  libpolkit-agent-1-0 libpolkit-backend-1-0 libpolkit-gobject-1-0 libxi-dev\n",
            "  libxmu-dev libxmu-headers libxnvctrl0 libxtst6 nsight-compute-2020.2.1\n",
            "  nsight-compute-2022.1.0 nsight-systems-2020.3.2 nsight-systems-2020.3.4\n",
            "  nsight-systems-2021.5.2 nvidia-dkms-510 nvidia-kernel-common-510\n",
            "  nvidia-kernel-source-510 nvidia-modprobe nvidia-settings openjdk-11-jre\n",
            "  policykit-1 policykit-1-gnome python3-xkit screen-resolution-extra systemd\n",
            "  systemd-sysv udev xserver-xorg-core-hwe-18.04 xserver-xorg-video-nvidia-510\n",
            "Use 'apt autoremove' to remove them.\n",
            "0 upgraded, 0 newly installed, 0 to remove and 39 not upgraded.\n"
          ]
        }
      ]
    },
    {
      "cell_type": "code",
      "metadata": {
        "id": "WZuEBujtkKoj",
        "outputId": "eb253aa1-3274-47c7-befd-da90b3c656ee",
        "colab": {
          "base_uri": "https://localhost:8080/"
        }
      },
      "source": [
        "!pip install pyvirtualdisplay\n",
        "!pip install piglet"
      ],
      "execution_count": null,
      "outputs": [
        {
          "output_type": "stream",
          "name": "stdout",
          "text": [
            "Requirement already satisfied: pyvirtualdisplay in /usr/local/lib/python3.7/dist-packages (2.2)\n",
            "Requirement already satisfied: EasyProcess in /usr/local/lib/python3.7/dist-packages (from pyvirtualdisplay) (1.1)\n",
            "Requirement already satisfied: piglet in /usr/local/lib/python3.7/dist-packages (1.0.0)\n",
            "Requirement already satisfied: piglet-templates in /usr/local/lib/python3.7/dist-packages (from piglet) (1.2.0)\n",
            "Requirement already satisfied: astunparse in /usr/local/lib/python3.7/dist-packages (from piglet-templates->piglet) (1.6.3)\n",
            "Requirement already satisfied: attrs in /usr/local/lib/python3.7/dist-packages (from piglet-templates->piglet) (21.4.0)\n",
            "Requirement already satisfied: markupsafe in /usr/local/lib/python3.7/dist-packages (from piglet-templates->piglet) (2.0.1)\n",
            "Requirement already satisfied: pyparsing in /usr/local/lib/python3.7/dist-packages (from piglet-templates->piglet) (3.0.7)\n",
            "Requirement already satisfied: six<2.0,>=1.6.1 in /usr/local/lib/python3.7/dist-packages (from astunparse->piglet-templates->piglet) (1.15.0)\n",
            "Requirement already satisfied: wheel<1.0,>=0.23.0 in /usr/local/lib/python3.7/dist-packages (from astunparse->piglet-templates->piglet) (0.37.1)\n"
          ]
        }
      ]
    },
    {
      "cell_type": "code",
      "metadata": {
        "id": "Sfq6FvJ9kW1G",
        "outputId": "0fc9e506-bb39-45c7-ce01-b7e09ff53dfe",
        "colab": {
          "base_uri": "https://localhost:8080/"
        }
      },
      "source": [
        "from pyvirtualdisplay import Display\n",
        "display = Display(visible=0, size=(1400, 900))\n",
        "display.start()"
      ],
      "execution_count": null,
      "outputs": [
        {
          "output_type": "execute_result",
          "data": {
            "text/plain": [
              "<pyvirtualdisplay.display.Display at 0x7f463e37fb50>"
            ]
          },
          "metadata": {},
          "execution_count": 49
        }
      ]
    },
    {
      "cell_type": "code",
      "metadata": {
        "id": "RW0KjeOVkc88"
      },
      "source": [
        "from __future__ import print_function, division\n",
        "from IPython.core import display\n",
        "import matplotlib.pyplot as plt\n",
        "%matplotlib inline\n",
        "import numpy as np\n",
        "\n",
        "#If you are running on a server, launch xvfb to record game videos\n",
        "#Please make sure you have xvfb installed\n",
        "import os\n",
        "if os.environ.get(\"DISPLAY\") is str and len(os.environ.get(\"DISPLAY\"))!=0:\n",
        "    !bash ../xvfb start\n",
        "    %env DISPLAY=:1"
      ],
      "execution_count": null,
      "outputs": []
    },
    {
      "cell_type": "markdown",
      "metadata": {
        "id": "iTsbpF4In-3c"
      },
      "source": [
        "# Atari Environment\n",
        "\n",
        "---\n",
        "\n"
      ]
    },
    {
      "cell_type": "code",
      "metadata": {
        "id": "_w1HpxbzX81j",
        "outputId": "f0fd801c-891c-477d-9399-fcc16ea06579",
        "colab": {
          "base_uri": "https://localhost:8080/",
          "height": 383
        }
      },
      "source": [
        "pip install scipy==1.1.0"
      ],
      "execution_count": null,
      "outputs": [
        {
          "output_type": "stream",
          "name": "stdout",
          "text": [
            "Collecting scipy==1.1.0\n",
            "  Using cached scipy-1.1.0-cp37-cp37m-manylinux1_x86_64.whl (31.2 MB)\n",
            "Requirement already satisfied: numpy>=1.8.2 in /usr/local/lib/python3.7/dist-packages (from scipy==1.1.0) (1.19.5)\n",
            "Installing collected packages: scipy\n",
            "  Attempting uninstall: scipy\n",
            "    Found existing installation: scipy 1.7.3\n",
            "    Uninstalling scipy-1.7.3:\n",
            "      Successfully uninstalled scipy-1.7.3\n",
            "\u001b[31mERROR: pip's dependency resolver does not currently take into account all the packages that are installed. This behaviour is the source of the following dependency conflicts.\n",
            "scikit-image 0.19.1 requires scipy>=1.4.1, but you have scipy 1.1.0 which is incompatible.\n",
            "pymc3 3.11.4 requires scipy>=1.2.0, but you have scipy 1.1.0 which is incompatible.\n",
            "plotnine 0.6.0 requires scipy>=1.2.0, but you have scipy 1.1.0 which is incompatible.\n",
            "jax 0.2.25 requires scipy>=1.2.1, but you have scipy 1.1.0 which is incompatible.\n",
            "albumentations 0.1.12 requires imgaug<0.2.7,>=0.2.5, but you have imgaug 0.2.9 which is incompatible.\u001b[0m\n",
            "Successfully installed scipy-1.1.0\n"
          ]
        },
        {
          "output_type": "display_data",
          "data": {
            "application/vnd.colab-display-data+json": {
              "pip_warning": {
                "packages": [
                  "scipy"
                ]
              }
            }
          },
          "metadata": {}
        }
      ]
    },
    {
      "cell_type": "code",
      "metadata": {
        "id": "oR12anpKlcId",
        "outputId": "3170c7af-3ba1-4442-81c7-c6d790d18a02",
        "colab": {
          "base_uri": "https://localhost:8080/"
        }
      },
      "source": [
        "!apt-get install -y python-numpy python-dev cmake zlib1g-dev libjpeg-dev xvfb libav-tools xorg-dev python-opengl libboost-all-dev libsdl2-dev swig"
      ],
      "execution_count": null,
      "outputs": [
        {
          "output_type": "stream",
          "name": "stdout",
          "text": [
            "Reading package lists... Done\n",
            "Building dependency tree       \n",
            "Reading state information... Done\n",
            "Package libav-tools is not available, but is referred to by another package.\n",
            "This may mean that the package is missing, has been obsoleted, or\n",
            "is only available from another source\n",
            "However the following packages replace it:\n",
            "  ffmpeg\n",
            "\n",
            "E: Package 'libav-tools' has no installation candidate\n"
          ]
        }
      ]
    },
    {
      "cell_type": "code",
      "metadata": {
        "id": "hl5urImpnSBQ",
        "outputId": "f9067cd6-f7de-44e9-d183-31dcfb556bbe",
        "colab": {
          "base_uri": "https://localhost:8080/"
        }
      },
      "source": [
        "!python -m pip install \"gym[atari,accept-rom-license]\"\n"
      ],
      "execution_count": null,
      "outputs": [
        {
          "output_type": "stream",
          "name": "stdout",
          "text": [
            "Requirement already satisfied: gym[accept-rom-license,atari] in /usr/local/lib/python3.7/dist-packages (0.17.3)\n",
            "\u001b[33mWARNING: gym 0.17.3 does not provide the extra 'accept-rom-license'\u001b[0m\n",
            "Requirement already satisfied: numpy>=1.10.4 in /usr/local/lib/python3.7/dist-packages (from gym[accept-rom-license,atari]) (1.19.5)\n",
            "Requirement already satisfied: scipy in /usr/local/lib/python3.7/dist-packages (from gym[accept-rom-license,atari]) (1.1.0)\n",
            "Requirement already satisfied: cloudpickle<1.7.0,>=1.2.0 in /usr/local/lib/python3.7/dist-packages (from gym[accept-rom-license,atari]) (1.3.0)\n",
            "Requirement already satisfied: pyglet<=1.5.0,>=1.4.0 in /usr/local/lib/python3.7/dist-packages (from gym[accept-rom-license,atari]) (1.5.0)\n",
            "Requirement already satisfied: atari-py~=0.2.0 in /usr/local/lib/python3.7/dist-packages (from gym[accept-rom-license,atari]) (0.2.9)\n",
            "Requirement already satisfied: Pillow in /usr/local/lib/python3.7/dist-packages (from gym[accept-rom-license,atari]) (7.1.2)\n",
            "Requirement already satisfied: opencv-python in /usr/local/lib/python3.7/dist-packages (from gym[accept-rom-license,atari]) (4.1.2.30)\n",
            "Requirement already satisfied: six in /usr/local/lib/python3.7/dist-packages (from atari-py~=0.2.0->gym[accept-rom-license,atari]) (1.15.0)\n",
            "Requirement already satisfied: future in /usr/local/lib/python3.7/dist-packages (from pyglet<=1.5.0,>=1.4.0->gym[accept-rom-license,atari]) (0.16.0)\n"
          ]
        }
      ]
    },
    {
      "cell_type": "code",
      "source": [
        "# mount gdrive\n",
        "\n",
        "from google.colab import drive\n",
        "drive.mount('/content/gdrive')\n",
        "\n"
      ],
      "metadata": {
        "colab": {
          "base_uri": "https://localhost:8080/"
        },
        "id": "vSxKeJXPYXjC",
        "outputId": "23bb9c17-b58a-4b31-f880-ff962b6b6acf"
      },
      "execution_count": null,
      "outputs": [
        {
          "output_type": "stream",
          "name": "stdout",
          "text": [
            "Drive already mounted at /content/gdrive; to attempt to forcibly remount, call drive.mount(\"/content/gdrive\", force_remount=True).\n"
          ]
        }
      ]
    },
    {
      "cell_type": "code",
      "source": [
        "try:\n",
        "  # Atari depreacated installing ale-py instead\n",
        "  !python -m pip install ale-py\n",
        "  !pip install gym[atari] \n",
        "  from ale_py import ALEInterface \n",
        "  ale = ALEInterface()\n",
        "\n",
        "  !ale-import-roms '/content/gdrive/My Drive/roms'\n",
        "\n",
        "except:\n",
        "  print('Couldn\\'t find rom')"
      ],
      "metadata": {
        "id": "8okmCM_9D8y6",
        "outputId": "de7b6985-5bd8-43d7-ff3b-1d2b857aa934",
        "colab": {
          "base_uri": "https://localhost:8080/"
        }
      },
      "execution_count": null,
      "outputs": [
        {
          "output_type": "stream",
          "name": "stdout",
          "text": [
            "Requirement already satisfied: ale-py in /usr/local/lib/python3.7/dist-packages (0.7.3)\n",
            "Requirement already satisfied: numpy in /usr/local/lib/python3.7/dist-packages (from ale-py) (1.19.5)\n",
            "Requirement already satisfied: importlib-resources in /usr/local/lib/python3.7/dist-packages (from ale-py) (5.4.0)\n",
            "Requirement already satisfied: importlib-metadata in /usr/local/lib/python3.7/dist-packages (from ale-py) (4.10.1)\n",
            "Requirement already satisfied: typing-extensions>=3.6.4 in /usr/local/lib/python3.7/dist-packages (from importlib-metadata->ale-py) (3.10.0.2)\n",
            "Requirement already satisfied: zipp>=0.5 in /usr/local/lib/python3.7/dist-packages (from importlib-metadata->ale-py) (3.7.0)\n",
            "Requirement already satisfied: gym[atari] in /usr/local/lib/python3.7/dist-packages (0.17.3)\n",
            "Requirement already satisfied: cloudpickle<1.7.0,>=1.2.0 in /usr/local/lib/python3.7/dist-packages (from gym[atari]) (1.3.0)\n",
            "Requirement already satisfied: numpy>=1.10.4 in /usr/local/lib/python3.7/dist-packages (from gym[atari]) (1.19.5)\n",
            "Requirement already satisfied: pyglet<=1.5.0,>=1.4.0 in /usr/local/lib/python3.7/dist-packages (from gym[atari]) (1.5.0)\n",
            "Requirement already satisfied: scipy in /usr/local/lib/python3.7/dist-packages (from gym[atari]) (1.1.0)\n",
            "Requirement already satisfied: Pillow in /usr/local/lib/python3.7/dist-packages (from gym[atari]) (7.1.2)\n",
            "Requirement already satisfied: opencv-python in /usr/local/lib/python3.7/dist-packages (from gym[atari]) (4.1.2.30)\n",
            "Requirement already satisfied: atari-py~=0.2.0 in /usr/local/lib/python3.7/dist-packages (from gym[atari]) (0.2.9)\n",
            "Requirement already satisfied: six in /usr/local/lib/python3.7/dist-packages (from atari-py~=0.2.0->gym[atari]) (1.15.0)\n",
            "Requirement already satisfied: future in /usr/local/lib/python3.7/dist-packages (from pyglet<=1.5.0,>=1.4.0->gym[atari]) (0.16.0)\n",
            "\u001b[92m[SUPPORTED]    \u001b[0m             breakout /content/gdrive/My Drive/roms/Breakout.bin\n",
            "\u001b[92m[SUPPORTED]    \u001b[0m       kung_fu_master /content/gdrive/My Drive/roms/KungFuMaster.bin\n",
            "\n",
            "\n",
            "\n",
            "Imported 2 / 2 ROMs\n"
          ]
        }
      ]
    },
    {
      "cell_type": "code",
      "source": [
        "# im resize depracated using scikit-image library instead\n",
        "!python -m pip install -U scikit-image"
      ],
      "metadata": {
        "id": "nRNtTm9jIGVr",
        "outputId": "54fcaa25-0fb1-4a2b-bbe4-ae47c744ea76",
        "colab": {
          "base_uri": "https://localhost:8080/"
        }
      },
      "execution_count": null,
      "outputs": [
        {
          "output_type": "stream",
          "name": "stdout",
          "text": [
            "Requirement already satisfied: scikit-image in /usr/local/lib/python3.7/dist-packages (0.19.1)\n",
            "Requirement already satisfied: pillow!=7.1.0,!=7.1.1,!=8.3.0,>=6.1.0 in /usr/local/lib/python3.7/dist-packages (from scikit-image) (7.1.2)\n",
            "Requirement already satisfied: packaging>=20.0 in /usr/local/lib/python3.7/dist-packages (from scikit-image) (21.3)\n",
            "Requirement already satisfied: imageio>=2.4.1 in /usr/local/lib/python3.7/dist-packages (from scikit-image) (2.4.1)\n",
            "Collecting scipy>=1.4.1\n",
            "  Using cached scipy-1.7.3-cp37-cp37m-manylinux_2_12_x86_64.manylinux2010_x86_64.whl (38.1 MB)\n",
            "Requirement already satisfied: tifffile>=2019.7.26 in /usr/local/lib/python3.7/dist-packages (from scikit-image) (2021.11.2)\n",
            "Requirement already satisfied: PyWavelets>=1.1.1 in /usr/local/lib/python3.7/dist-packages (from scikit-image) (1.2.0)\n",
            "Requirement already satisfied: networkx>=2.2 in /usr/local/lib/python3.7/dist-packages (from scikit-image) (2.6.3)\n",
            "Requirement already satisfied: numpy>=1.17.0 in /usr/local/lib/python3.7/dist-packages (from scikit-image) (1.19.5)\n",
            "Requirement already satisfied: pyparsing!=3.0.5,>=2.0.2 in /usr/local/lib/python3.7/dist-packages (from packaging>=20.0->scikit-image) (3.0.7)\n",
            "Installing collected packages: scipy\n",
            "  Attempting uninstall: scipy\n",
            "    Found existing installation: scipy 1.1.0\n",
            "    Uninstalling scipy-1.1.0:\n",
            "      Successfully uninstalled scipy-1.1.0\n",
            "\u001b[31mERROR: pip's dependency resolver does not currently take into account all the packages that are installed. This behaviour is the source of the following dependency conflicts.\n",
            "albumentations 0.1.12 requires imgaug<0.2.7,>=0.2.5, but you have imgaug 0.2.9 which is incompatible.\u001b[0m\n",
            "Successfully installed scipy-1.7.3\n"
          ]
        }
      ]
    },
    {
      "cell_type": "code",
      "source": [
        "# Had issue with preprocess atari so needed code from Github\n",
        "# Reference: https://github.com/sshkhr/Practical_RL/blob/master/week6_policy_based/atari_util.py\n",
        "# Code by https://github.com/sshkhr \n",
        "\n",
        "\n",
        "\n",
        "\"\"\"Auxilary files for those who wanted to solve breakout with CEM or policy gradient\"\"\"\n",
        "import numpy as np\n",
        "import gym\n",
        "import skimage\n",
        "from skimage.transform import resize\n",
        "from gym.core import Wrapper\n",
        "from gym.spaces.box import Box\n",
        "\n",
        "class PreprocessAtari(Wrapper):\n",
        "    def __init__(self, env, height=42, width=42, color=False, crop=lambda img: img, \n",
        "                 n_frames=4, dim_order='theano', reward_scale=1,):\n",
        "        \"\"\"A gym wrapper that reshapes, crops and scales image into the desired shapes\"\"\"\n",
        "        super(PreprocessAtari, self).__init__(env)\n",
        "        assert dim_order in ('theano', 'tensorflow')\n",
        "        self.img_size = (height, width)\n",
        "        self.crop=crop\n",
        "        self.color=color\n",
        "        self.dim_order = dim_order\n",
        "        self.reward_scale = reward_scale\n",
        "        \n",
        "        n_channels = (3 * n_frames) if color else n_frames\n",
        "        obs_shape = [n_channels,height,width] if dim_order == 'theano' else [height,width,n_channels]\n",
        "        self.observation_space = Box(0.0, 1.0, obs_shape)\n",
        "        self.framebuffer = np.zeros(obs_shape, 'float32')\n",
        "        \n",
        "    def reset(self):\n",
        "        \"\"\"resets breakout, returns initial frames\"\"\"\n",
        "        self.framebuffer = np.zeros_like(self.framebuffer)\n",
        "        self.update_buffer(self.env.reset())\n",
        "        return self.framebuffer\n",
        "    \n",
        "    def step(self,action):\n",
        "        \"\"\"plays breakout for 1 step, returns frame buffer\"\"\"\n",
        "        new_img, reward, done, info = self.env.step(action)\n",
        "        self.update_buffer(new_img)\n",
        "        return self.framebuffer, reward * self.reward_scale, done, info\n",
        "    \n",
        "    ### image processing ###\n",
        "    \n",
        "    def update_buffer(self,img):\n",
        "        img = self.preproc_image(img)\n",
        "        offset = 3 if self.color else 1\n",
        "        if self.dim_order == 'theano':\n",
        "            axis = 0\n",
        "            cropped_framebuffer = self.framebuffer[:-offset]\n",
        "        else:\n",
        "            axis = -1\n",
        "            cropped_framebuffer = self.framebuffer[:,:,:-offset]\n",
        "        self.framebuffer = np.concatenate([img, cropped_framebuffer], axis = axis)\n",
        "\n",
        "    def preproc_image(self, img):\n",
        "        \"\"\"what happens to the observation\"\"\"\n",
        "        img = self.crop(img)\n",
        "        img = skimage.transform.resize(img, self.img_size)\n",
        "        if not self.color:\n",
        "            img = img.mean(-1, keepdims=True)\n",
        "        if self.dim_order == 'theano':\n",
        "            img = img.transpose([2,0,1]) # [h, w, c] to [c, h, w]\n",
        "        img = img.astype('float32') / 255.\n",
        "        return img"
      ],
      "metadata": {
        "id": "fCZdVhCN5lKK"
      },
      "execution_count": null,
      "outputs": []
    },
    {
      "cell_type": "markdown",
      "metadata": {
        "id": "xMEwvBMNoRdt"
      },
      "source": [
        "# Deep Kung-Fu with advantage actor-critic\n",
        "\n",
        "---\n",
        "\n",
        "For starters, let's take a look at the game itself:\n",
        "\n",
        " * Image resized to 42x42 and grayscale to run faster\n",
        " * Rewards divided by 100 'cuz they are all divisible by 100\n",
        " * Agent sees last 4 frames of game to account for object velocity"
      ]
    },
    {
      "cell_type": "code",
      "metadata": {
        "id": "mRSoMY-Tkkmb",
        "outputId": "c634d54d-10f1-453e-c11f-82b65b39ba8b",
        "colab": {
          "base_uri": "https://localhost:8080/"
        }
      },
      "source": [
        "import gym\n",
        "\n",
        "def make_env():\n",
        "    env = gym.make(\"KungFuMaster-v0\")\n",
        "    env = PreprocessAtari(env, height=42, width=42,\n",
        "                          crop = lambda img: img[60:-30, 5:],\n",
        "                          dim_order = 'tensorflow',\n",
        "                          color=False, n_frames=4,\n",
        "                          reward_scale = 0.01)\n",
        "    return env\n",
        "\n",
        "env = make_env()\n",
        "\n",
        "obs_shape = env.observation_space.shape\n",
        "n_actions = env.action_space.n\n",
        "\n",
        "print(\"Observation shape:\", obs_shape)\n",
        "print(\"Num actions:\", n_actions)\n",
        "print(\"Action names:\", env.env.env.get_action_meanings())"
      ],
      "execution_count": null,
      "outputs": [
        {
          "output_type": "stream",
          "name": "stderr",
          "text": [
            "/usr/local/lib/python3.7/dist-packages/gym/logger.py:30: UserWarning: \u001b[33mWARN: obs_type \"image\" should be replaced with the image type, one of: rgb, grayscale\u001b[0m\n",
            "  warnings.warn(colorize('%s: %s'%('WARN', msg % args), 'yellow'))\n"
          ]
        },
        {
          "output_type": "stream",
          "name": "stdout",
          "text": [
            "Observation shape: (42, 42, 4)\n",
            "Num actions: 18\n",
            "Action names: ['NOOP', 'FIRE', 'UP', 'RIGHT', 'LEFT', 'DOWN', 'UPRIGHT', 'UPLEFT', 'DOWNRIGHT', 'DOWNLEFT', 'UPFIRE', 'RIGHTFIRE', 'LEFTFIRE', 'DOWNFIRE', 'UPRIGHTFIRE', 'UPLEFTFIRE', 'DOWNRIGHTFIRE', 'DOWNLEFTFIRE']\n"
          ]
        }
      ]
    },
    {
      "cell_type": "code",
      "metadata": {
        "id": "ems5qHMeZU0q"
      },
      "source": [
        "import matplotlib.pyplot as plt"
      ],
      "execution_count": null,
      "outputs": []
    },
    {
      "cell_type": "code",
      "metadata": {
        "id": "m7pd1KapnM0A",
        "outputId": "0493ed58-2e4d-49f0-fb04-769ab9dc147a",
        "colab": {
          "base_uri": "https://localhost:8080/"
        }
      },
      "source": [
        "s = env.reset()\n",
        "for _ in range(100):\n",
        "    s, _, _, _ = env.step(env.action_space.sample())\n",
        "\n",
        "plt.title('Game image')\n",
        "plt.imshow(env.render('rgb_array'))\n",
        "plt.show()\n",
        "\n",
        "plt.title('Agent observation (4-frame buffer)')\n",
        "plt.imshow(s.transpose([0,2,1]).reshape([42,-1]))\n",
        "plt.show()"
      ],
      "execution_count": null,
      "outputs": [
        {
          "output_type": "display_data",
          "data": {
            "image/png": "[encoded data removed]",
            "text/plain": [
              "<Figure size 432x288 with 1 Axes>"
            ]
          },
          "metadata": {
            "needs_background": "light"
          }
        },
        {
          "output_type": "display_data",
          "data": {
            "image/png": "[encoded data removed]",
            "text/plain": [
              "<Figure size 432x288 with 1 Axes>"
            ]
          },
          "metadata": {
            "needs_background": "light"
          }
        }
      ]
    },
    {
      "cell_type": "markdown",
      "metadata": {
        "id": "ejdlsSzJovVP"
      },
      "source": [
        "# Build an agent\n",
        "\n",
        "---\n",
        "\n",
        "\n",
        "We now have to build an agent for actor-critic training - a convolutional neural network that converts states into action probabilities and state values .\n",
        "\n",
        "Your assignment here is to build and apply a neural network - with any framework you want.\n",
        "\n",
        "For starters, we want you to implement this architecture: \n",
        "\n",
        "After you get above 50 points, we encourage you to experiment with model architecture to score even better."
      ]
    },
    {
      "cell_type": "code",
      "metadata": {
        "id": "P0Qg7FRfkokL",
        "outputId": "d45b98ec-d099-4709-ab1c-59c176ecb304",
        "colab": {
          "base_uri": "https://localhost:8080/"
        }
      },
      "source": [
        "import tensorflow as tf\n",
        "tf.compat.v1.reset_default_graph()\n",
        "sess = tf.compat.v1.InteractiveSession()"
      ],
      "execution_count": null,
      "outputs": [
        {
          "output_type": "stream",
          "name": "stderr",
          "text": [
            "/usr/local/lib/python3.7/dist-packages/tensorflow/python/client/session.py:1771: UserWarning: An interactive session is already active. This can cause out-of-memory errors in some cases. You must explicitly call `InteractiveSession.close()` to release resources held by the other session(s).\n",
            "  warnings.warn('An interactive session is already active. This can '\n"
          ]
        }
      ]
    },
    {
      "cell_type": "code",
      "metadata": {
        "id": "tRb-25lKoAjy"
      },
      "source": [
        "from keras.layers import Conv2D, Dense, Flatten, Input\n",
        "import keras\n",
        "from keras.models import Model, Sequential\n",
        "\n",
        "class Agent:\n",
        "    def __init__(self, name, state_shape, n_actions, reuse=False):\n",
        "        \"\"\"A simple actor-critic agent\"\"\"\n",
        "        \n",
        "        with tf.compat.v1.variable_scope(name, reuse=reuse):\n",
        "            ####\n",
        "            inputs = Input(shape=state_shape)\n",
        "            x = Conv2D(32, (3, 3), strides=2, activation='relu')(inputs)\n",
        "            x = Conv2D(32, (3, 3), strides=2, activation='relu')(x)\n",
        "            x = Conv2D(32, (3, 3), strides=2, activation='relu')(x)\n",
        "            x = Flatten()(x)\n",
        "            x = Dense(128, activation='relu')(x)\n",
        "            \n",
        "            # two different output layers\n",
        "            logits = Dense(n_actions, activation='linear')(x)\n",
        "            state_value = Dense(1, activation='linear')(x)\n",
        "            \n",
        "            self.network = Model(inputs=inputs, outputs=[logits, state_value])\n",
        "            \n",
        "            \n",
        "            # prepare a graph for agent step\n",
        "            self.state_t = tf.compat.v1.placeholder('float32', [None,] + list(state_shape))\n",
        "            self.agent_outputs = self.symbolic_step(self.state_t)\n",
        "        \n",
        "    def symbolic_step(self, state_t):\n",
        "        \"\"\"Takes agent's previous step and observation, returns next state and whatever it needs to learn (tf tensors)\"\"\"\n",
        "        \n",
        "        # Apply neural network\n",
        "        ### Apply agent's neural network to get policy logits and state values.\n",
        "#         network_output = self.network(state_t)\n",
        "\n",
        "#         logits = network_output[:,1:]\n",
        "#         state_value = network_output[:,0]\n",
        "        \n",
        "        \n",
        "        logits, state_value = self.network(state_t)\n",
        "        state_value = state_value[:, 0]\n",
        "        \n",
        "        assert tf.compat.v1.is_numeric_tensor(state_value) and state_value.shape.ndims == 1, \\\n",
        "            \"please return 1D tf tensor of state values [you got %s]\" % repr(state_value)\n",
        "        assert tf.compat.v1.is_numeric_tensor(logits) and logits.shape.ndims == 2, \\\n",
        "            \"please return 2d tf tensor of logits [you got %s]\" % repr(logits)\n",
        "        # if you triggered state_values assert with your shape being [None, 1], \n",
        "        # just select [:, 0]-th element of state values as new state values\n",
        "        \n",
        "        return (logits, state_value)\n",
        "    \n",
        "    def step(self, state_t):\n",
        "        \"\"\"Same as symbolic step except it operates on numpy arrays\"\"\"\n",
        "        sess = tf.compat.v1.get_default_session()\n",
        "        return sess.run(self.agent_outputs, {self.state_t: state_t})\n",
        "    \n",
        "    def sample_actions(self, agent_outputs):\n",
        "        \"\"\"pick actions given numeric agent outputs (np arrays)\"\"\"\n",
        "        logits, state_values = agent_outputs\n",
        "        policy = np.exp(logits) / np.sum(np.exp(logits), axis=-1, keepdims=True)\n",
        "        return np.array([np.random.choice(len(p), p=p) for p in policy])"
      ],
      "execution_count": null,
      "outputs": []
    },
    {
      "cell_type": "markdown",
      "source": [
        "# Updating hyper parameters\n"
      ],
      "metadata": {
        "id": "pwSNyBPU5WYt"
      }
    },
    {
      "cell_type": "code",
      "source": [
        "from keras.layers import Conv2D, Dense, Flatten, Input\n",
        "import keras\n",
        "from keras.models import Model, Sequential\n",
        "\n",
        "class Agent:\n",
        "    def __init__(self, name, state_shape, n_actions, reuse=False):\n",
        "        \"\"\"A simple actor-critic agent\"\"\"\n",
        "        \n",
        "        with tf.compat.v1.variable_scope(name, reuse=reuse):\n",
        "            ####\n",
        "            inputs = Input(shape=state_shape)\n",
        "            x = Conv2D(64, (3, 3), strides=1, activation='relu')(inputs)\n",
        "            x = Conv2D(64, (3, 3), strides=1, activation='relu')(x)\n",
        "            x = Conv2D(64, (3, 3), strides=1, activation='relu')(x)\n",
        "            x = Flatten()(x)\n",
        "            x = Dense(64, activation='softmax')(x)\n",
        "            \n",
        "            # two different output layers\n",
        "            logits = Dense(n_actions, activation='linear')(x)\n",
        "            state_value = Dense(1, activation='linear')(x)\n",
        "            \n",
        "            self.network = Model(inputs=inputs, outputs=[logits, state_value])\n",
        "            \n",
        "            \n",
        "            # prepare a graph for agent step\n",
        "            self.state_t = tf.compat.v1.placeholder('float32', [None,] + list(state_shape))\n",
        "            self.agent_outputs = self.symbolic_step(self.state_t)\n",
        "        \n",
        "    def symbolic_step(self, state_t):\n",
        "        \"\"\"Takes agent's previous step and observation, returns next state and whatever it needs to learn (tf tensors)\"\"\"\n",
        "        \n",
        "        # Apply neural network\n",
        "        ### Apply agent's neural network to get policy logits and state values.\n",
        "#         network_output = self.network(state_t)\n",
        "\n",
        "#         logits = network_output[:,1:]\n",
        "#         state_value = network_output[:,0]\n",
        "        \n",
        "        \n",
        "        logits, state_value = self.network(state_t)\n",
        "        state_value = state_value[:, 0]\n",
        "        \n",
        "        assert tf.compat.v1.is_numeric_tensor(state_value) and state_value.shape.ndims == 1, \\\n",
        "            \"please return 1D tf tensor of state values [you got %s]\" % repr(state_value)\n",
        "        assert tf.compat.v1.is_numeric_tensor(logits) and logits.shape.ndims == 2, \\\n",
        "            \"please return 2d tf tensor of logits [you got %s]\" % repr(logits)\n",
        "        # if you triggered state_values assert with your shape being [None, 1], \n",
        "        # just select [:, 0]-th element of state values as new state values\n",
        "        \n",
        "        return (logits, state_value)\n",
        "    \n",
        "    def step(self, state_t):\n",
        "        \"\"\"Same as symbolic step except it operates on numpy arrays\"\"\"\n",
        "        sess = tf.compat.v1.get_default_session()\n",
        "        return sess.run(self.agent_outputs, {self.state_t: state_t})\n",
        "    \n",
        "    def sample_actions(self, agent_outputs):\n",
        "        \"\"\"pick actions given numeric agent outputs (np arrays)\"\"\"\n",
        "        logits, state_values = agent_outputs\n",
        "        policy = np.exp(logits) / np.sum(np.exp(logits), axis=-1, keepdims=True)\n",
        "        return np.array([np.random.choice(len(p), p=p) for p in policy])"
      ],
      "metadata": {
        "id": "v9wsyTNc5Z7f"
      },
      "execution_count": null,
      "outputs": []
    },
    {
      "cell_type": "code",
      "metadata": {
        "id": "bjtQetyEoHMD"
      },
      "source": [
        "tf.compat.v1.disable_eager_execution()\n",
        "agent = Agent(\"agent\", obs_shape, n_actions)\n",
        "sess.run(tf.compat.v1.global_variables_initializer())"
      ],
      "execution_count": null,
      "outputs": []
    },
    {
      "cell_type": "code",
      "metadata": {
        "id": "lRUs5NBuoNWB",
        "outputId": "c1ab4517-5d4b-43c3-89ec-f3f14d79988a",
        "colab": {
          "base_uri": "https://localhost:8080/"
        }
      },
      "source": [
        "state = [env.reset()]\n",
        "logits, value = agent.step(state)\n",
        "print(\"action logits:\\n\", logits)\n",
        "print(\"state values:\\n\", value)"
      ],
      "execution_count": null,
      "outputs": [
        {
          "output_type": "stream",
          "name": "stdout",
          "text": [
            "action logits:\n",
            " [[ 0.00806835  0.00578047  0.00827938 -0.01428659  0.01201718  0.00997187\n",
            "  -0.00812468  0.00706835  0.00478167 -0.00804261 -0.00468968  0.0014397\n",
            "  -0.00900702  0.00583713 -0.00617825 -0.00620292 -0.0072718   0.00254159]]\n",
            "state values:\n",
            " [-0.03233378]\n"
          ]
        }
      ]
    },
    {
      "cell_type": "markdown",
      "metadata": {
        "id": "7OqIoeqmo4n5"
      },
      "source": [
        "# Let's play!\n",
        "\n",
        "---\n",
        "\n",
        "\n",
        "Let's build a function that measures agent's average reward."
      ]
    },
    {
      "cell_type": "code",
      "metadata": {
        "id": "9AFcqPHKoQ_i"
      },
      "source": [
        "def evaluate(agent, env, n_games=1):\n",
        "    \"\"\"Plays an a game from start till done, returns per-game rewards \"\"\"\n",
        "\n",
        "    game_rewards = []\n",
        "    for _ in range(n_games):\n",
        "        state = env.reset()\n",
        "        \n",
        "        total_reward = 0\n",
        "        while True:\n",
        "            action = agent.sample_actions(agent.step([state]))[0]\n",
        "            state, reward, done, info = env.step(action)\n",
        "            total_reward += reward\n",
        "            if done: break\n",
        "                \n",
        "        game_rewards.append(total_reward)\n",
        "    return game_rewards\n"
      ],
      "execution_count": null,
      "outputs": []
    },
    {
      "cell_type": "code",
      "metadata": {
        "id": "PUPl5-sKoVpg",
        "outputId": "17babf85-398c-446b-fce0-782879f30604",
        "colab": {
          "base_uri": "https://localhost:8080/"
        }
      },
      "source": [
        "env_monitor = gym.wrappers.Monitor(env, directory=\"kungfu_videos\", force=True)\n",
        "rw = evaluate(agent, env_monitor, n_games=3,)\n",
        "env_monitor.close()\n",
        "print (rw)"
      ],
      "execution_count": null,
      "outputs": [
        {
          "output_type": "stream",
          "name": "stdout",
          "text": [
            "[0.0, 4.0, 4.0]\n"
          ]
        }
      ]
    },
    {
      "cell_type": "code",
      "metadata": {
        "id": "wcr9OW2IoZU1",
        "outputId": "a4286295-28a0-48a3-dd35-6bae2b5d4147",
        "colab": {
          "base_uri": "https://localhost:8080/",
          "height": 501
        }
      },
      "source": [
        "from IPython.display import HTML\n",
        "import os\n",
        "\n",
        "# needed to import code to fix issue with video also changed the dir to remove \n",
        "# underscore\n",
        "# ref for this code below https://stackoverflow.com/questions/57377185/how-play-mp4-video-in-google-colab\n",
        "video_names = list(filter(lambda s:s.endswith(\".mp4\"),os.listdir(\"./kungfu_videos/\")))\n",
        "from base64 import b64encode\n",
        "mp4 = open(\"./kungfu_videos/\"+video_names[0],'rb').read()\n",
        "agent_video = \"data:video/mp4;base64,\" + b64encode(mp4).decode()\n",
        "\n",
        "HTML(\"\"\"\n",
        "<video width=\"640\" height=\"480\" controls>\n",
        "  <source src=%s type=\"video/mp4\">\n",
        "</video>\n",
        "\"\"\" %agent_video) #this may or may not be _last_ video. Try other indices\n"
      ],
      "execution_count": null,
      "outputs": [
        {
          "output_type": "execute_result",
          "data": {
            "text/html": [
              "\n",
              "<video width=\"640\" height=\"480\" controls>\n",
              "  <source src=data:video/mp4;base64,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 type=\"video/mp4\">\n",
              "</video>\n"
            ],
            "text/plain": [
              "<IPython.core.display.HTML object>"
            ]
          },
          "metadata": {},
          "execution_count": 68
        }
      ]
    },
    {
      "cell_type": "markdown",
      "metadata": {
        "id": "8MmDLcuUpGMj"
      },
      "source": [
        "# Training on parallel games\n",
        "\n",
        "---\n",
        "\n",
        "\n",
        "\n",
        "![alt text](https://camo.githubusercontent.com/f894eba2ee745652f1fc95484cfa45bf26decb8e/68747470733a2f2f6769746875622e636f6d2f79616e646578646174617363686f6f6c2f50726163746963616c5f524c2f7261772f6d61737465722f7965745f616e6f746865725f7765656b2f5f7265736f757263652f2f656e765f706f6f6c2e706e67)\n",
        "\n",
        "To make actor-critic training more stable, we shall play several games in parallel. This means ya'll have to initialize several parallel gym envs, send agent's actions there and .reset() each env if it becomes terminated. To minimize learner brain damage, we've taken care of them for ya - just make sure you read it before you use it."
      ]
    },
    {
      "cell_type": "code",
      "metadata": {
        "id": "QX-uaGwCojPt"
      },
      "source": [
        "class EnvBatch:\n",
        "    def __init__(self, n_envs = 10):\n",
        "        \"\"\" Creates n_envs environments and babysits them for ya' \"\"\"\n",
        "        self.envs = [make_env() for _ in range(n_envs)]\n",
        "        \n",
        "    def reset(self):\n",
        "        \"\"\" Reset all games and return [n_envs, *obs_shape] observations \"\"\"\n",
        "        return np.array([env.reset() for env in self.envs])\n",
        "    \n",
        "    def step(self, actions):\n",
        "        \"\"\"\n",
        "        Send a vector[batch_size] of actions into respective environments\n",
        "        :returns: observations[n_envs, *obs_shape], rewards[n_envs], done[n_envs,], info[n_envs]\n",
        "        \"\"\"\n",
        "        results = [env.step(a) for env, a in zip(self.envs, actions)]\n",
        "        new_obs, rewards, done, infos = map(np.array, zip(*results))\n",
        "        \n",
        "        # reset environments automatically\n",
        "        for i in range(len(self.envs)):\n",
        "            if done[i]:\n",
        "                new_obs[i] = self.envs[i].reset()\n",
        "        \n",
        "        return new_obs, rewards, done, infos"
      ],
      "execution_count": null,
      "outputs": []
    },
    {
      "cell_type": "code",
      "metadata": {
        "id": "3JawlpBFo0Yb",
        "outputId": "20f93bf8-f687-4a02-9213-785b336ddb1c",
        "colab": {
          "base_uri": "https://localhost:8080/"
        }
      },
      "source": [
        "env_batch = EnvBatch(10)\n",
        "\n",
        "batch_states = env_batch.reset()\n",
        "\n",
        "batch_actions = agent.sample_actions(agent.step(batch_states))\n",
        "\n",
        "batch_next_states, batch_rewards, batch_done, _ = env_batch.step(batch_actions)\n",
        "\n",
        "print(\"State shape:\", batch_states.shape)\n",
        "print(\"Actions:\", batch_actions[:3])\n",
        "print(\"Rewards:\", batch_rewards[:3])\n",
        "print(\"Done:\", batch_done[:3])\n"
      ],
      "execution_count": null,
      "outputs": [
        {
          "output_type": "stream",
          "name": "stderr",
          "text": [
            "/usr/local/lib/python3.7/dist-packages/gym/logger.py:30: UserWarning: \u001b[33mWARN: obs_type \"image\" should be replaced with the image type, one of: rgb, grayscale\u001b[0m\n",
            "  warnings.warn(colorize('%s: %s'%('WARN', msg % args), 'yellow'))\n"
          ]
        },
        {
          "output_type": "stream",
          "name": "stdout",
          "text": [
            "State shape: (10, 42, 42, 4)\n",
            "Actions: [15  8  4]\n",
            "Rewards: [0. 0. 0.]\n",
            "Done: [False False False]\n"
          ]
        }
      ]
    },
    {
      "cell_type": "markdown",
      "metadata": {
        "id": "UwEPCL46pfHO"
      },
      "source": [
        "# Actor-critic\n",
        "\n",
        "---\n",
        "\n",
        "\n",
        "Here we define a loss functions and learning algorithms as usual."
      ]
    },
    {
      "cell_type": "code",
      "metadata": {
        "id": "0C6zD_V1o35d"
      },
      "source": [
        "# These placeholders mean exactly the same as in \"Let's try it out\" section above\n",
        "tf.compat.v1.disable_eager_execution()\n",
        "states_ph = tf.compat.v1.placeholder('float32', [None,] + list(obs_shape))    \n",
        "next_states_ph =  tf.compat.v1.placeholder('float32', [None,] + list(obs_shape))\n",
        "actions_ph =  tf.compat.v1.placeholder('int32', (None,))\n",
        "rewards_ph =  tf.compat.v1.placeholder('float32', (None,))\n",
        "is_done_ph =  tf.compat.v1.placeholder('float32', (None,))"
      ],
      "execution_count": null,
      "outputs": []
    },
    {
      "cell_type": "code",
      "metadata": {
        "id": "Ktpq6pJgo-Dl"
      },
      "source": [
        "# logits[n_envs, n_actions] and state_values[n_envs, n_actions]\n",
        "logits, state_values = agent.symbolic_step(states_ph)\n",
        "next_logits, next_state_values = agent.symbolic_step(next_states_ph)\n",
        "next_state_values = next_state_values * (1 - is_done_ph)\n",
        "\n",
        "# probabilities and log-probabilities for all actions\n",
        "probs = tf.nn.softmax(logits)            # [n_envs, n_actions]\n",
        "logprobs = tf.nn.log_softmax(logits)     # [n_envs, n_actions]\n",
        "\n",
        "# log-probabilities only for agent's chosen actions\n",
        "logp_actions = tf.reduce_sum(logprobs * tf.one_hot(actions_ph, n_actions), axis=-1) # [n_envs,]"
      ],
      "execution_count": null,
      "outputs": []
    },
    {
      "cell_type": "code",
      "metadata": {
        "id": "b-aNY8wRpBk9"
      },
      "source": [
        "\n",
        "\n",
        "# compute advantage using rewards_ph, state_values and next_state_values\n",
        "gamma = 0.99\n",
        "advantage = rewards_ph + gamma*next_state_values - state_values\n",
        "\n",
        "assert advantage.shape.ndims == 1, \"please compute advantage for each sample, vector of shape [n_envs,]\"\n",
        "\n",
        "# compute policy entropy given logits_seq. Mind the \"-\" sign!\n",
        "entropy =  -tf.reduce_sum(probs * logprobs, 1, name=\"entropy\")\n",
        "\n",
        "assert entropy.shape.ndims == 1, \"please compute pointwise entropy vector of shape [n_envs,] \"\n",
        "\n",
        "\n",
        "\n",
        "actor_loss =  - tf.reduce_mean(logp_actions * tf.stop_gradient(advantage)) - 0.001 * tf.reduce_mean(entropy)\n",
        "\n",
        "# compute target state values using temporal difference formula. Use rewards_ph and next_step_values\n",
        "target_state_values = rewards_ph+gamma*next_state_values\n",
        "\n",
        "critic_loss = tf.reduce_mean((state_values - tf.stop_gradient(target_state_values))**2 )\n",
        "\n",
        "train_step = tf.compat.v1.train.AdamOptimizer(1e-4).minimize(actor_loss + critic_loss)\n",
        "sess.run(tf.compat.v1.global_variables_initializer())"
      ],
      "execution_count": null,
      "outputs": []
    },
    {
      "cell_type": "code",
      "metadata": {
        "id": "Z9qCcr3cpEtw",
        "outputId": "5d68bdb8-775b-49b3-f849-425732584aef",
        "colab": {
          "base_uri": "https://localhost:8080/"
        }
      },
      "source": [
        "# Sanity checks to catch some errors. Specific to KungFuMaster in assignment's default setup.\n",
        "l_act, l_crit, adv, ent = sess.run([actor_loss, critic_loss, advantage, entropy], feed_dict = {\n",
        "        states_ph: batch_states,\n",
        "        actions_ph: batch_actions,\n",
        "        next_states_ph: batch_states,\n",
        "        rewards_ph: batch_rewards,\n",
        "        is_done_ph: batch_done,\n",
        "    })\n",
        "\n",
        "assert abs(l_act) < 100 and abs(l_crit) < 100, \"losses seem abnormally large\"\n",
        "assert 0 <= ent.mean() <= np.log(n_actions), \"impossible entropy value, double-check the formula pls\"\n",
        "if ent.mean() < np.log(n_actions) / 2: print(\"Entropy is too low for untrained agent\")\n",
        "print(\"You just might be fine!\")"
      ],
      "execution_count": null,
      "outputs": [
        {
          "output_type": "stream",
          "name": "stdout",
          "text": [
            "You just might be fine!\n"
          ]
        }
      ]
    },
    {
      "cell_type": "code",
      "metadata": {
        "id": "KGMW7v42peBa",
        "outputId": "20533783-7221-491f-bb09-df0fc6769cf4",
        "colab": {
          "base_uri": "https://localhost:8080/"
        }
      },
      "source": [
        "!pip install tqdm"
      ],
      "execution_count": null,
      "outputs": [
        {
          "output_type": "stream",
          "name": "stdout",
          "text": [
            "Requirement already satisfied: tqdm in /usr/local/lib/python3.7/dist-packages (4.62.3)\n"
          ]
        }
      ]
    },
    {
      "cell_type": "markdown",
      "metadata": {
        "id": "jAFWsGKlpuIM"
      },
      "source": [
        "# Train\n",
        "\n",
        "---\n",
        "\n",
        "\n",
        "Just the usual - play a bit, compute loss, follow the graidents, repeat a few million times.\n",
        "\n",
        "![alt text](https://camo.githubusercontent.com/69cc1e7cffa2ebd5db67c39f7c7c2724aaf5594b/687474703a2f2f696d61676573362e66616e706f702e636f6d2f696d6167652f70686f746f732f33383930303030302f44616e69656c2d73616e2d747261696e696e672d7468652d6b61726174652d6b69642d33383934373336312d3439392d3238382e676966)\n",
        "\n"
      ]
    },
    {
      "cell_type": "code",
      "metadata": {
        "id": "Y6TQ0p8ul1ZA",
        "outputId": "2295a8d6-f323-4ed0-c1a6-83adf6683af8",
        "colab": {
          "base_uri": "https://localhost:8080/"
        }
      },
      "source": [
        "!pip install pandas"
      ],
      "execution_count": null,
      "outputs": [
        {
          "output_type": "stream",
          "name": "stdout",
          "text": [
            "Requirement already satisfied: pandas in /usr/local/lib/python3.7/dist-packages (1.3.5)\n",
            "Requirement already satisfied: numpy>=1.17.3 in /usr/local/lib/python3.7/dist-packages (from pandas) (1.19.5)\n",
            "Requirement already satisfied: python-dateutil>=2.7.3 in /usr/local/lib/python3.7/dist-packages (from pandas) (2.8.2)\n",
            "Requirement already satisfied: pytz>=2017.3 in /usr/local/lib/python3.7/dist-packages (from pandas) (2018.9)\n",
            "Requirement already satisfied: six>=1.5 in /usr/local/lib/python3.7/dist-packages (from python-dateutil>=2.7.3->pandas) (1.15.0)\n"
          ]
        }
      ]
    },
    {
      "cell_type": "code",
      "metadata": {
        "id": "hpqugPcIpIlq",
        "outputId": "d9392677-d76a-493f-a6d6-c74c8e5e2caa",
        "colab": {
          "base_uri": "https://localhost:8080/"
        }
      },
      "source": [
        "from IPython.display import clear_output\n",
        "from tqdm import trange\n",
        "import pandas as pd\n",
        "#from pandas import ewm\n",
        "\n",
        "env_batch = EnvBatch(10)\n",
        "batch_states = env_batch.reset()\n",
        "\n",
        "rewards_history = []\n",
        "entropy_history = []\n"
      ],
      "execution_count": null,
      "outputs": [
        {
          "output_type": "stream",
          "name": "stderr",
          "text": [
            "/usr/local/lib/python3.7/dist-packages/gym/logger.py:30: UserWarning: \u001b[33mWARN: obs_type \"image\" should be replaced with the image type, one of: rgb, grayscale\u001b[0m\n",
            "  warnings.warn(colorize('%s: %s'%('WARN', msg % args), 'yellow'))\n"
          ]
        }
      ]
    },
    {
      "cell_type": "code",
      "metadata": {
        "id": "C-uNJ4-TpNC_",
        "outputId": "05b43369-c173-4524-b046-5ef59c750611",
        "colab": {
          "base_uri": "https://localhost:8080/",
          "height": 298
        }
      },
      "source": [
        "for i in trange(100000): \n",
        "    \n",
        "    batch_actions = agent.sample_actions(agent.step(batch_states))\n",
        "    batch_next_states, batch_rewards, batch_done, _ = env_batch.step(batch_actions)\n",
        "    \n",
        "    feed_dict = {\n",
        "        states_ph: batch_states,\n",
        "        actions_ph: batch_actions,\n",
        "        next_states_ph: batch_next_states,\n",
        "        rewards_ph: batch_rewards,\n",
        "        is_done_ph: batch_done,\n",
        "    }\n",
        "    batch_states = batch_next_states\n",
        "    \n",
        "    _, ent_t = sess.run([train_step, entropy], feed_dict)\n",
        "    entropy_history.append(np.mean(ent_t))\n",
        "\n",
        "    if i % 500 == 0: \n",
        "        if i % 2500 == 0:\n",
        "            rewards_history.append(np.mean(evaluate(agent, env, n_games=3)))\n",
        "            if rewards_history[-1] >= 50:\n",
        "                print(\"Your agent has earned the yellow belt\")\n",
        "\n",
        "        clear_output(True)\n",
        "        plt.figure(figsize=[8,4])\n",
        "        plt.subplot(1,2,1)\n",
        "        plt.plot(rewards_history, label='rewards')\n",
        "        df = pd.DataFrame(rewards_history)\n",
        "        plt.plot(df.ewm(halflife=1000).mean(), marker='.', label='rewards ewma@10')\n",
        "        plt.title(\"Session rewards\"); plt.grid(); plt.legend()\n",
        "        \n",
        "        plt.subplot(1,2,2)\n",
        "        plt.plot(entropy_history, label='entropy')\n",
        "        df2 = pd.DataFrame(entropy_history)\n",
        "        plt.plot(df2.ewm(halflife=1000).mean(), label='entropy ewma@1000')\n",
        "        plt.title(\"Policy entropy\"); plt.grid(); plt.legend()        \n",
        "        plt.show()\n",
        "        \n",
        "df = pd.DataFrame(data=batch_rewards)\n",
        "\n"
      ],
      "execution_count": null,
      "outputs": [
        {
          "output_type": "display_data",
          "data": {
            "image/png": "[encoded data removed]",
            "text/plain": [
              "<Figure size 576x288 with 2 Axes>"
            ]
          },
          "metadata": {
            "needs_background": "light"
          }
        },
        {
          "output_type": "stream",
          "name": "stderr",
          "text": [
            "100%|██████████| 100000/100000 [10:20:36<00:00,  2.69it/s]\n"
          ]
        }
      ]
    },
    {
      "cell_type": "code",
      "metadata": {
        "id": "XC3JUqqPpo6k",
        "outputId": "16f08397-8ab2-43fe-a9f4-3706bd7baff0",
        "colab": {
          "base_uri": "https://localhost:8080/"
        }
      },
      "source": [
        "env_monitor = gym.wrappers.Monitor(env, directory=\"kungfu_videos\", force=True)\n",
        "final_rewards = evaluate(agent, env_monitor, n_games=1,)\n",
        "env_monitor.close()\n",
        "print(\"Final mean reward:\", np.mean(final_rewards))\n",
        "\n",
        "video_names = list(filter(lambda s:s.endswith(\".mp4\"),os.listdir(\"./kungfu_videos/\")))"
      ],
      "execution_count": null,
      "outputs": [
        {
          "output_type": "stream",
          "name": "stdout",
          "text": [
            "Final mean reward: 9.0\n"
          ]
        }
      ]
    }
  ]
}