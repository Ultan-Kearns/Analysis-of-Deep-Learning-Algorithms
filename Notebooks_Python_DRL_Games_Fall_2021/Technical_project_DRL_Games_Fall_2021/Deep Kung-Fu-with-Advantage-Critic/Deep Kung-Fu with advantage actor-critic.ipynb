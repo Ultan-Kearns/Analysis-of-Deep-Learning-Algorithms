{
  "nbformat": 4,
  "nbformat_minor": 0,
  "metadata": {
    "colab": {
      "name": "A3C.ipynb",
      "provenance": []
    },
    "kernelspec": {
      "name": "python3",
      "display_name": "Python 3"
    },
    "accelerator": "GPU"
  },
  "cells": [
    {
      "cell_type": "markdown",
      "metadata": {
        "id": "PjC4uqSP17ai"
      },
      "source": [
        "# Deep Kung-Fu with advantage actor-critic"
      ]
    },
    {
      "cell_type": "markdown",
      "metadata": {
        "id": "wRXcuuh3qB6q"
      },
      "source": [
        "# Environment Setup"
      ]
    },
    {
      "cell_type": "code",
      "metadata": {
        "id": "jWdlrlePjq-g",
        "outputId": "77f85bd1-29ba-41eb-f127-8a4f6696a859",
        "colab": {
          "base_uri": "https://localhost:8080/"
        }
      },
      "source": [
        "!pip install gym"
      ],
      "execution_count": 26,
      "outputs": [
        {
          "output_type": "stream",
          "name": "stdout",
          "text": [
            "Requirement already satisfied: gym in /usr/local/lib/python3.7/dist-packages (0.17.3)\n",
            "Requirement already satisfied: pyglet<=1.5.0,>=1.4.0 in /usr/local/lib/python3.7/dist-packages (from gym) (1.5.0)\n",
            "Requirement already satisfied: scipy in /usr/local/lib/python3.7/dist-packages (from gym) (1.1.0)\n",
            "Requirement already satisfied: cloudpickle<1.7.0,>=1.2.0 in /usr/local/lib/python3.7/dist-packages (from gym) (1.3.0)\n",
            "Requirement already satisfied: numpy>=1.10.4 in /usr/local/lib/python3.7/dist-packages (from gym) (1.19.5)\n",
            "Requirement already satisfied: future in /usr/local/lib/python3.7/dist-packages (from pyglet<=1.5.0,>=1.4.0->gym) (0.16.0)\n"
          ]
        }
      ]
    },
    {
      "cell_type": "code",
      "metadata": {
        "id": "xcOgo4xwj4PJ",
        "outputId": "5c3df395-5de4-4e89-ec0b-42541e07eb61",
        "colab": {
          "base_uri": "https://localhost:8080/"
        }
      },
      "source": [
        "!apt-get install python-opengl -y"
      ],
      "execution_count": 27,
      "outputs": [
        {
          "output_type": "stream",
          "name": "stdout",
          "text": [
            "Reading package lists... Done\n",
            "Building dependency tree       \n",
            "Reading state information... Done\n",
            "python-opengl is already the newest version (3.1.0+dfsg-1).\n",
            "0 upgraded, 0 newly installed, 0 to remove and 37 not upgraded.\n"
          ]
        }
      ]
    },
    {
      "cell_type": "code",
      "metadata": {
        "id": "2aS0God8kBDE",
        "outputId": "4493013d-ad0d-4de0-d34f-ac2528d1591b",
        "colab": {
          "base_uri": "https://localhost:8080/"
        }
      },
      "source": [
        "!apt install xvfb -y"
      ],
      "execution_count": 28,
      "outputs": [
        {
          "output_type": "stream",
          "name": "stdout",
          "text": [
            "Reading package lists... Done\n",
            "Building dependency tree       \n",
            "Reading state information... Done\n",
            "xvfb is already the newest version (2:1.19.6-1ubuntu4.10).\n",
            "0 upgraded, 0 newly installed, 0 to remove and 37 not upgraded.\n"
          ]
        }
      ]
    },
    {
      "cell_type": "code",
      "metadata": {
        "id": "WZuEBujtkKoj",
        "outputId": "7f19e25d-636e-4cfd-98a7-e600304c550c",
        "colab": {
          "base_uri": "https://localhost:8080/"
        }
      },
      "source": [
        "!pip install pyvirtualdisplay\n",
        "!pip install piglet"
      ],
      "execution_count": 29,
      "outputs": [
        {
          "output_type": "stream",
          "name": "stdout",
          "text": [
            "Requirement already satisfied: pyvirtualdisplay in /usr/local/lib/python3.7/dist-packages (2.2)\n",
            "Requirement already satisfied: EasyProcess in /usr/local/lib/python3.7/dist-packages (from pyvirtualdisplay) (1.1)\n",
            "Requirement already satisfied: piglet in /usr/local/lib/python3.7/dist-packages (1.0.0)\n",
            "Requirement already satisfied: piglet-templates in /usr/local/lib/python3.7/dist-packages (from piglet) (1.2.0)\n",
            "Requirement already satisfied: attrs in /usr/local/lib/python3.7/dist-packages (from piglet-templates->piglet) (21.4.0)\n",
            "Requirement already satisfied: pyparsing in /usr/local/lib/python3.7/dist-packages (from piglet-templates->piglet) (3.0.6)\n",
            "Requirement already satisfied: markupsafe in /usr/local/lib/python3.7/dist-packages (from piglet-templates->piglet) (2.0.1)\n",
            "Requirement already satisfied: astunparse in /usr/local/lib/python3.7/dist-packages (from piglet-templates->piglet) (1.6.3)\n",
            "Requirement already satisfied: six<2.0,>=1.6.1 in /usr/local/lib/python3.7/dist-packages (from astunparse->piglet-templates->piglet) (1.15.0)\n",
            "Requirement already satisfied: wheel<1.0,>=0.23.0 in /usr/local/lib/python3.7/dist-packages (from astunparse->piglet-templates->piglet) (0.37.1)\n"
          ]
        }
      ]
    },
    {
      "cell_type": "code",
      "metadata": {
        "id": "Sfq6FvJ9kW1G",
        "outputId": "0e30cf6c-c056-4c05-ebf9-64a4f768e11a",
        "colab": {
          "base_uri": "https://localhost:8080/"
        }
      },
      "source": [
        "from pyvirtualdisplay import Display\n",
        "display = Display(visible=0, size=(1400, 900))\n",
        "display.start()"
      ],
      "execution_count": 30,
      "outputs": [
        {
          "output_type": "execute_result",
          "data": {
            "text/plain": [
              "<pyvirtualdisplay.display.Display at 0x7fa7dad5ca10>"
            ]
          },
          "metadata": {},
          "execution_count": 30
        }
      ]
    },
    {
      "cell_type": "code",
      "metadata": {
        "id": "RW0KjeOVkc88"
      },
      "source": [
        "from __future__ import print_function, division\n",
        "from IPython.core import display\n",
        "import matplotlib.pyplot as plt\n",
        "%matplotlib inline\n",
        "import numpy as np\n",
        "\n",
        "#If you are running on a server, launch xvfb to record game videos\n",
        "#Please make sure you have xvfb installed\n",
        "import os\n",
        "if os.environ.get(\"DISPLAY\") is str and len(os.environ.get(\"DISPLAY\"))!=0:\n",
        "    !bash ../xvfb start\n",
        "    %env DISPLAY=:1"
      ],
      "execution_count": 31,
      "outputs": []
    },
    {
      "cell_type": "markdown",
      "metadata": {
        "id": "iTsbpF4In-3c"
      },
      "source": [
        "# Atari Environment\n",
        "\n",
        "---\n",
        "\n"
      ]
    },
    {
      "cell_type": "code",
      "metadata": {
        "id": "_w1HpxbzX81j",
        "outputId": "b2e46968-cb7b-4c1b-c6bc-c0187c489f70",
        "colab": {
          "base_uri": "https://localhost:8080/"
        }
      },
      "source": [
        "pip install scipy==1.1.0"
      ],
      "execution_count": 32,
      "outputs": [
        {
          "output_type": "stream",
          "name": "stdout",
          "text": [
            "Requirement already satisfied: scipy==1.1.0 in /usr/local/lib/python3.7/dist-packages (1.1.0)\n",
            "Requirement already satisfied: numpy>=1.8.2 in /usr/local/lib/python3.7/dist-packages (from scipy==1.1.0) (1.19.5)\n"
          ]
        }
      ]
    },
    {
      "cell_type": "code",
      "metadata": {
        "id": "pJu7AeaZk7Dn"
      },
      "source": [
        "\"\"\"Auxilary files for those who wanted to solve breakout with CEM or policy gradient\"\"\"\n",
        "import numpy as np\n",
        "import gym\n",
        "from scipy.misc import imresize\n",
        "from gym.core import Wrapper\n",
        "from gym.spaces.box import Box\n",
        "\n",
        "class PreprocessAtari(Wrapper):\n",
        "    def __init__(self, env, height=42, width=42, color=False, crop=lambda img: img, \n",
        "                 n_frames=4, dim_order='theano', reward_scale=1,):\n",
        "        \"\"\"A gym wrapper that reshapes, crops and scales image into the desired shapes\"\"\"\n",
        "        super(PreprocessAtari, self).__init__(env)\n",
        "        assert dim_order in ('theano', 'tensorflow')\n",
        "        self.img_size = (height, width)\n",
        "        self.crop=crop\n",
        "        self.color=color\n",
        "        self.dim_order = dim_order\n",
        "        self.reward_scale = reward_scale\n",
        "        \n",
        "        n_channels = (3 * n_frames) if color else n_frames\n",
        "        obs_shape = [n_channels,height,width] if dim_order == 'theano' else [height,width,n_channels]\n",
        "        self.observation_space = Box(0.0, 1.0, obs_shape)\n",
        "        self.framebuffer = np.zeros(obs_shape, 'float32')\n",
        "        \n",
        "    def reset(self):\n",
        "        \"\"\"resets breakout, returns initial frames\"\"\"\n",
        "        self.framebuffer = np.zeros_like(self.framebuffer)\n",
        "        self.update_buffer(self.env.reset())\n",
        "        return self.framebuffer\n",
        "    \n",
        "    def step(self,action):\n",
        "        \"\"\"plays breakout for 1 step, returns frame buffer\"\"\"\n",
        "        new_img, reward, done, info = self.env.step(action)\n",
        "        self.update_buffer(new_img)\n",
        "        return self.framebuffer, reward * self.reward_scale, done, info\n",
        "    \n",
        "    ### image processing ###\n",
        "    \n",
        "    def update_buffer(self,img):\n",
        "        img = self.preproc_image(img)\n",
        "        offset = 3 if self.color else 1\n",
        "        if self.dim_order == 'theano':\n",
        "            axis = 0\n",
        "            cropped_framebuffer = self.framebuffer[:-offset]\n",
        "        else:\n",
        "            axis = -1\n",
        "            cropped_framebuffer = self.framebuffer[:,:,:-offset]\n",
        "        self.framebuffer = np.concatenate([img, cropped_framebuffer], axis = axis)\n",
        "\n",
        "    def preproc_image(self, img):\n",
        "        \"\"\"what happens to the observation\"\"\"\n",
        "        img = self.crop(img)\n",
        "        img = imresize(img, self.img_size)\n",
        "        if not self.color:\n",
        "            img = img.mean(-1, keepdims=True)\n",
        "        if self.dim_order == 'theano':\n",
        "            img = img.transpose([2,0,1]) # [h, w, c] to [c, h, w]\n",
        "        img = img.astype('float32') / 255.\n",
        "        return img\n"
      ],
      "execution_count": 33,
      "outputs": []
    },
    {
      "cell_type": "code",
      "metadata": {
        "id": "oR12anpKlcId",
        "outputId": "de5105db-95a0-49fc-c09a-d0e7d590ee42",
        "colab": {
          "base_uri": "https://localhost:8080/"
        }
      },
      "source": [
        "!apt-get install -y python-numpy python-dev cmake zlib1g-dev libjpeg-dev xvfb libav-tools xorg-dev python-opengl libboost-all-dev libsdl2-dev swig"
      ],
      "execution_count": 34,
      "outputs": [
        {
          "output_type": "stream",
          "name": "stdout",
          "text": [
            "Reading package lists... Done\n",
            "Building dependency tree       \n",
            "Reading state information... Done\n",
            "Package libav-tools is not available, but is referred to by another package.\n",
            "This may mean that the package is missing, has been obsoleted, or\n",
            "is only available from another source\n",
            "However the following packages replace it:\n",
            "  ffmpeg\n",
            "\n",
            "E: Package 'libav-tools' has no installation candidate\n"
          ]
        }
      ]
    },
    {
      "cell_type": "code",
      "metadata": {
        "id": "hl5urImpnSBQ",
        "outputId": "d67c3967-77ce-4a24-a5c6-ee6b15628d50",
        "colab": {
          "base_uri": "https://localhost:8080/"
        }
      },
      "source": [
        "!python -m pip install \"gym[atari,accept-rom-license]\"\n"
      ],
      "execution_count": 35,
      "outputs": [
        {
          "output_type": "stream",
          "name": "stdout",
          "text": [
            "Requirement already satisfied: gym[accept-rom-license,atari] in /usr/local/lib/python3.7/dist-packages (0.17.3)\n",
            "\u001b[33mWARNING: gym 0.17.3 does not provide the extra 'accept-rom-license'\u001b[0m\n",
            "Requirement already satisfied: numpy>=1.10.4 in /usr/local/lib/python3.7/dist-packages (from gym[accept-rom-license,atari]) (1.19.5)\n",
            "Requirement already satisfied: cloudpickle<1.7.0,>=1.2.0 in /usr/local/lib/python3.7/dist-packages (from gym[accept-rom-license,atari]) (1.3.0)\n",
            "Requirement already satisfied: scipy in /usr/local/lib/python3.7/dist-packages (from gym[accept-rom-license,atari]) (1.1.0)\n",
            "Requirement already satisfied: pyglet<=1.5.0,>=1.4.0 in /usr/local/lib/python3.7/dist-packages (from gym[accept-rom-license,atari]) (1.5.0)\n",
            "Requirement already satisfied: opencv-python in /usr/local/lib/python3.7/dist-packages (from gym[accept-rom-license,atari]) (4.1.2.30)\n",
            "Requirement already satisfied: atari-py~=0.2.0 in /usr/local/lib/python3.7/dist-packages (from gym[accept-rom-license,atari]) (0.2.9)\n",
            "Requirement already satisfied: Pillow in /usr/local/lib/python3.7/dist-packages (from gym[accept-rom-license,atari]) (7.1.2)\n",
            "Requirement already satisfied: six in /usr/local/lib/python3.7/dist-packages (from atari-py~=0.2.0->gym[accept-rom-license,atari]) (1.15.0)\n",
            "Requirement already satisfied: future in /usr/local/lib/python3.7/dist-packages (from pyglet<=1.5.0,>=1.4.0->gym[accept-rom-license,atari]) (0.16.0)\n"
          ]
        }
      ]
    },
    {
      "cell_type": "code",
      "source": [
        "# mount gdrive\n",
        "\n",
        "from google.colab import drive\n",
        "drive.mount('/content/gdrive')\n",
        "\n",
        "# Atari depreacated installing ale-py instead\n",
        "!python -m pip install ale-py\n",
        "!pip install gym[atari] \n",
        "from ale_py import ALEInterface \n",
        "ale = ALEInterface()\n",
        "\n",
        "!ale-import-roms '/content/gdrive/My Drive/roms'\n",
        "\n",
        "from ale_py.roms import KungFuMaster\n",
        "\n",
        "ale.loadROM('KungFuMaster')\n"
      ],
      "metadata": {
        "colab": {
          "base_uri": "https://localhost:8080/"
        },
        "id": "vSxKeJXPYXjC",
        "outputId": "99fea0ec-7b4a-469f-98cc-3324a29b992e"
      },
      "execution_count": null,
      "outputs": [
        {
          "output_type": "stream",
          "name": "stdout",
          "text": [
            "Drive already mounted at /content/gdrive; to attempt to forcibly remount, call drive.mount(\"/content/gdrive\", force_remount=True).\n",
            "Requirement already satisfied: ale-py in /usr/local/lib/python3.7/dist-packages (0.7.3)\n",
            "Requirement already satisfied: numpy in /usr/local/lib/python3.7/dist-packages (from ale-py) (1.19.5)\n",
            "Requirement already satisfied: importlib-metadata in /usr/local/lib/python3.7/dist-packages (from ale-py) (4.10.0)\n",
            "Requirement already satisfied: importlib-resources in /usr/local/lib/python3.7/dist-packages (from ale-py) (5.4.0)\n",
            "Requirement already satisfied: zipp>=0.5 in /usr/local/lib/python3.7/dist-packages (from importlib-metadata->ale-py) (3.7.0)\n",
            "Requirement already satisfied: typing-extensions>=3.6.4 in /usr/local/lib/python3.7/dist-packages (from importlib-metadata->ale-py) (3.10.0.2)\n",
            "Requirement already satisfied: gym[atari] in /usr/local/lib/python3.7/dist-packages (0.17.3)\n",
            "Requirement already satisfied: cloudpickle<1.7.0,>=1.2.0 in /usr/local/lib/python3.7/dist-packages (from gym[atari]) (1.3.0)\n",
            "Requirement already satisfied: scipy in /usr/local/lib/python3.7/dist-packages (from gym[atari]) (1.1.0)\n",
            "Requirement already satisfied: numpy>=1.10.4 in /usr/local/lib/python3.7/dist-packages (from gym[atari]) (1.19.5)\n",
            "Requirement already satisfied: pyglet<=1.5.0,>=1.4.0 in /usr/local/lib/python3.7/dist-packages (from gym[atari]) (1.5.0)\n",
            "Requirement already satisfied: Pillow in /usr/local/lib/python3.7/dist-packages (from gym[atari]) (7.1.2)\n",
            "Requirement already satisfied: opencv-python in /usr/local/lib/python3.7/dist-packages (from gym[atari]) (4.1.2.30)\n",
            "Requirement already satisfied: atari-py~=0.2.0 in /usr/local/lib/python3.7/dist-packages (from gym[atari]) (0.2.9)\n",
            "Requirement already satisfied: six in /usr/local/lib/python3.7/dist-packages (from atari-py~=0.2.0->gym[atari]) (1.15.0)\n",
            "Requirement already satisfied: future in /usr/local/lib/python3.7/dist-packages (from pyglet<=1.5.0,>=1.4.0->gym[atari]) (0.16.0)\n",
            "\u001b[92m[SUPPORTED]    \u001b[0m       kung_fu_master /content/gdrive/My Drive/roms/KungFuMaster.bin\n",
            "\n",
            "\n",
            "\n",
            "Imported 1 / 1 ROMs\n"
          ]
        }
      ]
    },
    {
      "cell_type": "code",
      "source": [
        "# Had issue with preprocess atari so needed code from Github\n",
        "# Reference: https://github.com/sshkhr/Practical_RL/blob/master/week6_policy_based/atari_util.py\n",
        "# Code by https://github.com/sshkhr \n",
        "\n",
        "\n",
        "\n",
        "\"\"\"Auxilary files for those who wanted to solve breakout with CEM or policy gradient\"\"\"\n",
        "import numpy as np\n",
        "import gym\n",
        "from scipy.misc import imresize\n",
        "from gym.core import Wrapper\n",
        "from gym.spaces.box import Box\n",
        "\n",
        "class PreprocessAtari(Wrapper):\n",
        "    def __init__(self, env, height=42, width=42, color=False, crop=lambda img: img, \n",
        "                 n_frames=4, dim_order='theano', reward_scale=1,):\n",
        "        \"\"\"A gym wrapper that reshapes, crops and scales image into the desired shapes\"\"\"\n",
        "        super(PreprocessAtari, self).__init__(env)\n",
        "        assert dim_order in ('theano', 'tensorflow')\n",
        "        self.img_size = (height, width)\n",
        "        self.crop=crop\n",
        "        self.color=color\n",
        "        self.dim_order = dim_order\n",
        "        self.reward_scale = reward_scale\n",
        "        \n",
        "        n_channels = (3 * n_frames) if color else n_frames\n",
        "        obs_shape = [n_channels,height,width] if dim_order == 'theano' else [height,width,n_channels]\n",
        "        self.observation_space = Box(0.0, 1.0, obs_shape)\n",
        "        self.framebuffer = np.zeros(obs_shape, 'float32')\n",
        "        \n",
        "    def reset(self):\n",
        "        \"\"\"resets breakout, returns initial frames\"\"\"\n",
        "        self.framebuffer = np.zeros_like(self.framebuffer)\n",
        "        self.update_buffer(self.env.reset())\n",
        "        return self.framebuffer\n",
        "    \n",
        "    def step(self,action):\n",
        "        \"\"\"plays breakout for 1 step, returns frame buffer\"\"\"\n",
        "        new_img, reward, done, info = self.env.step(action)\n",
        "        self.update_buffer(new_img)\n",
        "        return self.framebuffer, reward * self.reward_scale, done, info\n",
        "    \n",
        "    ### image processing ###\n",
        "    \n",
        "    def update_buffer(self,img):\n",
        "        img = self.preproc_image(img)\n",
        "        offset = 3 if self.color else 1\n",
        "        if self.dim_order == 'theano':\n",
        "            axis = 0\n",
        "            cropped_framebuffer = self.framebuffer[:-offset]\n",
        "        else:\n",
        "            axis = -1\n",
        "            cropped_framebuffer = self.framebuffer[:,:,:-offset]\n",
        "        self.framebuffer = np.concatenate([img, cropped_framebuffer], axis = axis)\n",
        "\n",
        "    def preproc_image(self, img):\n",
        "        \"\"\"what happens to the observation\"\"\"\n",
        "        img = self.crop(img)\n",
        "        img = imresize(img, self.img_size)\n",
        "        if not self.color:\n",
        "            img = img.mean(-1, keepdims=True)\n",
        "        if self.dim_order == 'theano':\n",
        "            img = img.transpose([2,0,1]) # [h, w, c] to [c, h, w]\n",
        "        img = img.astype('float32') / 255.\n",
        "        return img"
      ],
      "metadata": {
        "id": "fCZdVhCN5lKK"
      },
      "execution_count": 1,
      "outputs": []
    },
    {
      "cell_type": "markdown",
      "metadata": {
        "id": "xMEwvBMNoRdt"
      },
      "source": [
        "# Deep Kung-Fu with advantage actor-critic\n",
        "\n",
        "---\n",
        "\n",
        "For starters, let's take a look at the game itself:\n",
        "\n",
        " * Image resized to 42x42 and grayscale to run faster\n",
        " * Rewards divided by 100 'cuz they are all divisible by 100\n",
        " * Agent sees last 4 frames of game to account for object velocity"
      ]
    },
    {
      "cell_type": "code",
      "metadata": {
        "id": "mRSoMY-Tkkmb",
        "outputId": "a6422edf-af18-4793-ef1e-2780d83e6d62",
        "colab": {
          "base_uri": "https://localhost:8080/"
        }
      },
      "source": [
        "import gym\n",
        "\n",
        "def make_env():\n",
        "    env = gym.make(\"KungFuMaster-v0\")\n",
        "    env = PreprocessAtari(env, height=42, width=42,\n",
        "                          crop = lambda img: img[60:-30, 5:],\n",
        "                          dim_order = 'tensorflow',\n",
        "                          color=False, n_frames=4,\n",
        "                          reward_scale = 0.01)\n",
        "    return env\n",
        "\n",
        "env = make_env()\n",
        "\n",
        "obs_shape = env.observation_space.shape\n",
        "n_actions = env.action_space.n\n",
        "\n",
        "print(\"Observation shape:\", obs_shape)\n",
        "print(\"Num actions:\", n_actions)\n",
        "print(\"Action names:\", env.env.env.get_action_meanings())"
      ],
      "execution_count": 2,
      "outputs": [
        {
          "output_type": "stream",
          "name": "stdout",
          "text": [
            "Observation shape: (42, 42, 4)\n",
            "Num actions: 18\n",
            "Action names: ['NOOP', 'FIRE', 'UP', 'RIGHT', 'LEFT', 'DOWN', 'UPRIGHT', 'UPLEFT', 'DOWNRIGHT', 'DOWNLEFT', 'UPFIRE', 'RIGHTFIRE', 'LEFTFIRE', 'DOWNFIRE', 'UPRIGHTFIRE', 'UPLEFTFIRE', 'DOWNRIGHTFIRE', 'DOWNLEFTFIRE']\n"
          ]
        },
        {
          "output_type": "stream",
          "name": "stderr",
          "text": [
            "/usr/local/lib/python3.7/dist-packages/ale_py/roms/utils.py:90: DeprecationWarning: SelectableGroups dict interface is deprecated. Use select.\n",
            "  for external in metadata.entry_points().get(self.group, []):\n",
            "/usr/local/lib/python3.7/dist-packages/gym/logger.py:30: UserWarning: \u001b[33mWARN: obs_type \"image\" should be replaced with the image type, one of: rgb, grayscale\u001b[0m\n",
            "  warnings.warn(colorize('%s: %s'%('WARN', msg % args), 'yellow'))\n"
          ]
        }
      ]
    },
    {
      "cell_type": "code",
      "metadata": {
        "id": "ems5qHMeZU0q"
      },
      "source": [
        "import matplotlib.pyplot as plt"
      ],
      "execution_count": 3,
      "outputs": []
    },
    {
      "cell_type": "code",
      "metadata": {
        "id": "m7pd1KapnM0A",
        "outputId": "1f12a1fa-3051-4cea-da2f-d202eb5a1c1d",
        "colab": {
          "base_uri": "https://localhost:8080/",
          "height": 463
        }
      },
      "source": [
        "s = env.reset()\n",
        "for _ in range(100):\n",
        "    s, _, _, _ = env.step(env.action_space.sample())\n",
        "\n",
        "plt.title('Game image')\n",
        "plt.imshow(env.render('rgb_array'))\n",
        "plt.show()\n",
        "\n",
        "plt.title('Agent observation (4-frame buffer)')\n",
        "plt.imshow(s.transpose([0,2,1]).reshape([42,-1]))\n",
        "plt.show()"
      ],
      "execution_count": 4,
      "outputs": [
        {
          "output_type": "stream",
          "name": "stderr",
          "text": [
            "/usr/local/lib/python3.7/dist-packages/ipykernel_launcher.py:59: DeprecationWarning:     `imresize` is deprecated!\n",
            "    `imresize` is deprecated in SciPy 1.0.0, and will be removed in 1.2.0.\n",
            "    Use ``skimage.transform.resize`` instead.\n"
          ]
        },
        {
          "output_type": "display_data",
          "data": {
            "image/png": "[encoded data removed]",
            "text/plain": [
              "<Figure size 432x288 with 1 Axes>"
            ]
          },
          "metadata": {
            "needs_background": "light"
          }
        },
        {
          "output_type": "display_data",
          "data": {
            "image/png": "[encoded data removed]",
            "text/plain": [
              "<Figure size 432x288 with 1 Axes>"
            ]
          },
          "metadata": {
            "needs_background": "light"
          }
        }
      ]
    },
    {
      "cell_type": "markdown",
      "metadata": {
        "id": "ejdlsSzJovVP"
      },
      "source": [
        "# Build an agent\n",
        "\n",
        "---\n",
        "\n",
        "\n",
        "We now have to build an agent for actor-critic training - a convolutional neural network that converts states into action probabilities and state values .\n",
        "\n",
        "Your assignment here is to build and apply a neural network - with any framework you want.\n",
        "\n",
        "For starters, we want you to implement this architecture: \n",
        "\n",
        "After you get above 50 points, we encourage you to experiment with model architecture to score even better."
      ]
    },
    {
      "cell_type": "code",
      "metadata": {
        "id": "P0Qg7FRfkokL"
      },
      "source": [
        "import tensorflow as tf\n",
        "tf.compat.v1.reset_default_graph()\n",
        "sess = tf.compat.v1.InteractiveSession()"
      ],
      "execution_count": 5,
      "outputs": []
    },
    {
      "cell_type": "code",
      "metadata": {
        "id": "tRb-25lKoAjy"
      },
      "source": [
        "from keras.layers import Conv2D, Dense, Flatten, Input\n",
        "import keras\n",
        "from keras.models import Model, Sequential\n",
        "\n",
        "class Agent:\n",
        "    def __init__(self, name, state_shape, n_actions, reuse=False):\n",
        "        \"\"\"A simple actor-critic agent\"\"\"\n",
        "        \n",
        "        with tf.compat.v1.variable_scope(name, reuse=reuse):\n",
        "            ####\n",
        "            inputs = Input(shape=state_shape)\n",
        "            x = Conv2D(32, (3, 3), strides=2, activation='relu')(inputs)\n",
        "            x = Conv2D(32, (3, 3), strides=2, activation='relu')(x)\n",
        "            x = Conv2D(32, (3, 3), strides=2, activation='relu')(x)\n",
        "            x = Flatten()(x)\n",
        "            x = Dense(128, activation='relu')(x)\n",
        "            \n",
        "            # two different output layers\n",
        "            logits = Dense(n_actions, activation='linear')(x)\n",
        "            state_value = Dense(1, activation='linear')(x)\n",
        "            \n",
        "            self.network = Model(inputs=inputs, outputs=[logits, state_value])\n",
        "            \n",
        "            \n",
        "            # prepare a graph for agent step\n",
        "            self.state_t = tf.compat.v1.placeholder('float32', [None,] + list(state_shape))\n",
        "            self.agent_outputs = self.symbolic_step(self.state_t)\n",
        "        \n",
        "    def symbolic_step(self, state_t):\n",
        "        \"\"\"Takes agent's previous step and observation, returns next state and whatever it needs to learn (tf tensors)\"\"\"\n",
        "        \n",
        "        # Apply neural network\n",
        "        ### Apply agent's neural network to get policy logits and state values.\n",
        "#         network_output = self.network(state_t)\n",
        "\n",
        "#         logits = network_output[:,1:]\n",
        "#         state_value = network_output[:,0]\n",
        "        \n",
        "        \n",
        "        logits, state_value = self.network(state_t)\n",
        "        state_value = state_value[:, 0]\n",
        "        \n",
        "        assert tf.compat.v1.is_numeric_tensor(state_value) and state_value.shape.ndims == 1, \\\n",
        "            \"please return 1D tf tensor of state values [you got %s]\" % repr(state_value)\n",
        "        assert tf.compat.v1.is_numeric_tensor(logits) and logits.shape.ndims == 2, \\\n",
        "            \"please return 2d tf tensor of logits [you got %s]\" % repr(logits)\n",
        "        # if you triggered state_values assert with your shape being [None, 1], \n",
        "        # just select [:, 0]-th element of state values as new state values\n",
        "        \n",
        "        return (logits, state_value)\n",
        "    \n",
        "    def step(self, state_t):\n",
        "        \"\"\"Same as symbolic step except it operates on numpy arrays\"\"\"\n",
        "        sess = tf.compat.v1.get_default_session()\n",
        "        return sess.run(self.agent_outputs, {self.state_t: state_t})\n",
        "    \n",
        "    def sample_actions(self, agent_outputs):\n",
        "        \"\"\"pick actions given numeric agent outputs (np arrays)\"\"\"\n",
        "        logits, state_values = agent_outputs\n",
        "        policy = np.exp(logits) / np.sum(np.exp(logits), axis=-1, keepdims=True)\n",
        "        return np.array([np.random.choice(len(p), p=p) for p in policy])"
      ],
      "execution_count": 6,
      "outputs": []
    },
    {
      "cell_type": "code",
      "metadata": {
        "id": "bjtQetyEoHMD"
      },
      "source": [
        "tf.compat.v1.disable_eager_execution()\n",
        "agent = Agent(\"agent\", obs_shape, n_actions)\n",
        "sess.run(tf.compat.v1.global_variables_initializer())"
      ],
      "execution_count": 7,
      "outputs": []
    },
    {
      "cell_type": "code",
      "metadata": {
        "id": "lRUs5NBuoNWB",
        "outputId": "ad4f01a9-5a6c-4b44-e5a4-a2b97b1c30c4",
        "colab": {
          "base_uri": "https://localhost:8080/"
        }
      },
      "source": [
        "state = [env.reset()]\n",
        "logits, value = agent.step(state)\n",
        "print(\"action logits:\\n\", logits)\n",
        "print(\"state values:\\n\", value)"
      ],
      "execution_count": 8,
      "outputs": [
        {
          "output_type": "stream",
          "name": "stderr",
          "text": [
            "/usr/local/lib/python3.7/dist-packages/ipykernel_launcher.py:59: DeprecationWarning:     `imresize` is deprecated!\n",
            "    `imresize` is deprecated in SciPy 1.0.0, and will be removed in 1.2.0.\n",
            "    Use ``skimage.transform.resize`` instead.\n"
          ]
        },
        {
          "output_type": "stream",
          "name": "stdout",
          "text": [
            "action logits:\n",
            " [[ 0.02289198  0.0071013  -0.00345662  0.02433307 -0.0670756  -0.003126\n",
            "   0.04471553  0.0068695   0.009359   -0.04084791  0.02387288  0.00663928\n",
            "   0.00132502 -0.06010292 -0.02033738 -0.05868579 -0.01390794 -0.04775623]]\n",
            "state values:\n",
            " [0.00773106]\n"
          ]
        }
      ]
    },
    {
      "cell_type": "markdown",
      "metadata": {
        "id": "7OqIoeqmo4n5"
      },
      "source": [
        "# Let's play!\n",
        "\n",
        "---\n",
        "\n",
        "\n",
        "Let's build a function that measures agent's average reward."
      ]
    },
    {
      "cell_type": "code",
      "metadata": {
        "id": "9AFcqPHKoQ_i"
      },
      "source": [
        "def evaluate(agent, env, n_games=1):\n",
        "    \"\"\"Plays an a game from start till done, returns per-game rewards \"\"\"\n",
        "\n",
        "    game_rewards = []\n",
        "    for _ in range(n_games):\n",
        "        state = env.reset()\n",
        "        \n",
        "        total_reward = 0\n",
        "        while True:\n",
        "            action = agent.sample_actions(agent.step([state]))[0]\n",
        "            state, reward, done, info = env.step(action)\n",
        "            total_reward += reward\n",
        "            if done: break\n",
        "                \n",
        "        game_rewards.append(total_reward)\n",
        "    return game_rewards\n"
      ],
      "execution_count": 9,
      "outputs": []
    },
    {
      "cell_type": "code",
      "metadata": {
        "id": "PUPl5-sKoVpg",
        "outputId": "330b0d0b-3727-4e70-cbb6-784e0b2a62c8",
        "colab": {
          "base_uri": "https://localhost:8080/"
        }
      },
      "source": [
        "env_monitor = gym.wrappers.Monitor(env, directory=\"kungfu_videos\", force=True)\n",
        "rw = evaluate(agent, env_monitor, n_games=3,)\n",
        "env_monitor.close()\n",
        "print (rw)"
      ],
      "execution_count": 10,
      "outputs": [
        {
          "output_type": "stream",
          "name": "stderr",
          "text": [
            "/usr/local/lib/python3.7/dist-packages/ipykernel_launcher.py:59: DeprecationWarning:     `imresize` is deprecated!\n",
            "    `imresize` is deprecated in SciPy 1.0.0, and will be removed in 1.2.0.\n",
            "    Use ``skimage.transform.resize`` instead.\n",
            "/usr/local/lib/python3.7/dist-packages/ipykernel_launcher.py:59: DeprecationWarning:     `imresize` is deprecated!\n",
            "    `imresize` is deprecated in SciPy 1.0.0, and will be removed in 1.2.0.\n",
            "    Use ``skimage.transform.resize`` instead.\n",
            "/usr/local/lib/python3.7/dist-packages/ipykernel_launcher.py:59: DeprecationWarning:     `imresize` is deprecated!\n",
            "    `imresize` is deprecated in SciPy 1.0.0, and will be removed in 1.2.0.\n",
            "    Use ``skimage.transform.resize`` instead.\n"
          ]
        },
        {
          "output_type": "stream",
          "name": "stdout",
          "text": [
            "[6.0, 7.0, 1.0]\n"
          ]
        }
      ]
    },
    {
      "cell_type": "code",
      "metadata": {
        "id": "wcr9OW2IoZU1",
        "outputId": "33c29a20-1920-4152-8695-9ec848300043",
        "colab": {
          "base_uri": "https://localhost:8080/",
          "height": 501
        }
      },
      "source": [
        "from IPython.display import HTML\n",
        "import os\n",
        "\n",
        "# needed to import code to fix issue with video also changed the dir to remove \n",
        "# underscore\n",
        "# ref for this code below https://stackoverflow.com/questions/57377185/how-play-mp4-video-in-google-colab\n",
        "video_names = list(filter(lambda s:s.endswith(\".mp4\"),os.listdir(\"./kungfuvideos/\")))\n",
        "from base64 import b64encode\n",
        "mp4 = open(\"./kungfuvideos/\"+video_names[0],'rb').read()\n",
        "data_url = \"data:video/mp4;base64,\" + b64encode(mp4).decode()\n",
        "\n",
        "HTML(\"\"\"\n",
        "<html>\n",
        "<head>\n",
        "<title>Title</title>\n",
        "</head>\n",
        "<body>\n",
        "<video width=\"640\" height=\"480\" controls>\n",
        "  <source src=%s type=\"video/mp4\">\n",
        "</video>\n",
        "</body>\n",
        "\"\"\" %data_url) #this may or may not be _last_ video. Try other indices\n"
      ],
      "execution_count": 29,
      "outputs": [
        {
          "output_type": "execute_result",
          "data": {
            "text/html": [
              "\n",
              "<html>\n",
              "<head>\n",
              "<title>Title</title>\n",
              "</head>\n",
              "<body>\n",
              "<video width=\"640\" height=\"480\" controls>\n",
              "  <source src=data:video/mp4;base64,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 type=\"video/mp4\">\n",
              "</video>\n",
              "</body>\n"
            ],
            "text/plain": [
              "<IPython.core.display.HTML object>"
            ]
          },
          "metadata": {},
          "execution_count": 29
        }
      ]
    },
    {
      "cell_type": "markdown",
      "metadata": {
        "id": "8MmDLcuUpGMj"
      },
      "source": [
        "# Training on parallel games\n",
        "\n",
        "---\n",
        "\n",
        "\n",
        "\n",
        "![alt text](https://camo.githubusercontent.com/f894eba2ee745652f1fc95484cfa45bf26decb8e/68747470733a2f2f6769746875622e636f6d2f79616e646578646174617363686f6f6c2f50726163746963616c5f524c2f7261772f6d61737465722f7965745f616e6f746865725f7765656b2f5f7265736f757263652f2f656e765f706f6f6c2e706e67)\n",
        "\n",
        "To make actor-critic training more stable, we shall play several games in parallel. This means ya'll have to initialize several parallel gym envs, send agent's actions there and .reset() each env if it becomes terminated. To minimize learner brain damage, we've taken care of them for ya - just make sure you read it before you use it."
      ]
    },
    {
      "cell_type": "code",
      "metadata": {
        "id": "QX-uaGwCojPt"
      },
      "source": [
        "class EnvBatch:\n",
        "    def __init__(self, n_envs = 10):\n",
        "        \"\"\" Creates n_envs environments and babysits them for ya' \"\"\"\n",
        "        self.envs = [make_env() for _ in range(n_envs)]\n",
        "        \n",
        "    def reset(self):\n",
        "        \"\"\" Reset all games and return [n_envs, *obs_shape] observations \"\"\"\n",
        "        return np.array([env.reset() for env in self.envs])\n",
        "    \n",
        "    def step(self, actions):\n",
        "        \"\"\"\n",
        "        Send a vector[batch_size] of actions into respective environments\n",
        "        :returns: observations[n_envs, *obs_shape], rewards[n_envs], done[n_envs,], info[n_envs]\n",
        "        \"\"\"\n",
        "        results = [env.step(a) for env, a in zip(self.envs, actions)]\n",
        "        new_obs, rewards, done, infos = map(np.array, zip(*results))\n",
        "        \n",
        "        # reset environments automatically\n",
        "        for i in range(len(self.envs)):\n",
        "            if done[i]:\n",
        "                new_obs[i] = self.envs[i].reset()\n",
        "        \n",
        "        return new_obs, rewards, done, infos"
      ],
      "execution_count": null,
      "outputs": []
    },
    {
      "cell_type": "code",
      "metadata": {
        "id": "3JawlpBFo0Yb"
      },
      "source": [
        "env_batch = EnvBatch(10)\n",
        "\n",
        "batch_states = env_batch.reset()\n",
        "\n",
        "batch_actions = agent.sample_actions(agent.step(batch_states))\n",
        "\n",
        "batch_next_states, batch_rewards, batch_done, _ = env_batch.step(batch_actions)\n",
        "\n",
        "print(\"State shape:\", batch_states.shape)\n",
        "print(\"Actions:\", batch_actions[:3])\n",
        "print(\"Rewards:\", batch_rewards[:3])\n",
        "print(\"Done:\", batch_done[:3])\n"
      ],
      "execution_count": null,
      "outputs": []
    },
    {
      "cell_type": "markdown",
      "metadata": {
        "id": "UwEPCL46pfHO"
      },
      "source": [
        "# Actor-critic\n",
        "\n",
        "---\n",
        "\n",
        "\n",
        "Here we define a loss functions and learning algorithms as usual."
      ]
    },
    {
      "cell_type": "code",
      "metadata": {
        "id": "0C6zD_V1o35d"
      },
      "source": [
        "# These placeholders mean exactly the same as in \"Let's try it out\" section above\n",
        "tf.compat.v1.disable_eager_execution()\n",
        "states_ph = tf.compat.v1.placeholder('float32', [None,] + list(obs_shape))    \n",
        "next_states_ph =  tf.compat.v1.placeholder('float32', [None,] + list(obs_shape))\n",
        "actions_ph =  tf.compat.v1.placeholder('int32', (None,))\n",
        "rewards_ph =  tf.compat.v1.placeholder('float32', (None,))\n",
        "is_done_ph =  tf.compat.v1.placeholder('float32', (None,))"
      ],
      "execution_count": null,
      "outputs": []
    },
    {
      "cell_type": "code",
      "metadata": {
        "id": "Ktpq6pJgo-Dl"
      },
      "source": [
        "# logits[n_envs, n_actions] and state_values[n_envs, n_actions]\n",
        "logits, state_values = agent.symbolic_step(states_ph)\n",
        "next_logits, next_state_values = agent.symbolic_step(next_states_ph)\n",
        "next_state_values = next_state_values * (1 - is_done_ph)\n",
        "\n",
        "# probabilities and log-probabilities for all actions\n",
        "probs = tf.nn.softmax(logits)            # [n_envs, n_actions]\n",
        "logprobs = tf.nn.log_softmax(logits)     # [n_envs, n_actions]\n",
        "\n",
        "# log-probabilities only for agent's chosen actions\n",
        "logp_actions = tf.reduce_sum(logprobs * tf.one_hot(actions_ph, n_actions), axis=-1) # [n_envs,]"
      ],
      "execution_count": null,
      "outputs": []
    },
    {
      "cell_type": "code",
      "metadata": {
        "id": "b-aNY8wRpBk9"
      },
      "source": [
        "\n",
        "\n",
        "# compute advantage using rewards_ph, state_values and next_state_values\n",
        "gamma = 0.99\n",
        "advantage = rewards_ph + gamma*next_state_values - state_values\n",
        "\n",
        "assert advantage.shape.ndims == 1, \"please compute advantage for each sample, vector of shape [n_envs,]\"\n",
        "\n",
        "# compute policy entropy given logits_seq. Mind the \"-\" sign!\n",
        "entropy =  -tf.reduce_sum(probs * logprobs, 1, name=\"entropy\")\n",
        "\n",
        "assert entropy.shape.ndims == 1, \"please compute pointwise entropy vector of shape [n_envs,] \"\n",
        "\n",
        "\n",
        "\n",
        "actor_loss =  - tf.reduce_mean(logp_actions * tf.stop_gradient(advantage)) - 0.001 * tf.reduce_mean(entropy)\n",
        "\n",
        "# compute target state values using temporal difference formula. Use rewards_ph and next_step_values\n",
        "target_state_values = rewards_ph+gamma*next_state_values\n",
        "\n",
        "critic_loss = tf.reduce_mean((state_values - tf.stop_gradient(target_state_values))**2 )\n",
        "\n",
        "train_step = tf.compat.v1.train.AdamOptimizer(1e-4).minimize(actor_loss + critic_loss)\n",
        "sess.run(tf.compat.v1.global_variables_initializer())"
      ],
      "execution_count": null,
      "outputs": []
    },
    {
      "cell_type": "code",
      "metadata": {
        "id": "Z9qCcr3cpEtw"
      },
      "source": [
        "# Sanity checks to catch some errors. Specific to KungFuMaster in assignment's default setup.\n",
        "l_act, l_crit, adv, ent = sess.run([actor_loss, critic_loss, advantage, entropy], feed_dict = {\n",
        "        states_ph: batch_states,\n",
        "        actions_ph: batch_actions,\n",
        "        next_states_ph: batch_states,\n",
        "        rewards_ph: batch_rewards,\n",
        "        is_done_ph: batch_done,\n",
        "    })\n",
        "\n",
        "assert abs(l_act) < 100 and abs(l_crit) < 100, \"losses seem abnormally large\"\n",
        "assert 0 <= ent.mean() <= np.log(n_actions), \"impossible entropy value, double-check the formula pls\"\n",
        "if ent.mean() < np.log(n_actions) / 2: print(\"Entropy is too low for untrained agent\")\n",
        "print(\"You just might be fine!\")"
      ],
      "execution_count": null,
      "outputs": []
    },
    {
      "cell_type": "code",
      "metadata": {
        "id": "KGMW7v42peBa"
      },
      "source": [
        "!pip install tqdm"
      ],
      "execution_count": null,
      "outputs": []
    },
    {
      "cell_type": "markdown",
      "metadata": {
        "id": "jAFWsGKlpuIM"
      },
      "source": [
        "# Train\n",
        "\n",
        "---\n",
        "\n",
        "\n",
        "Just the usual - play a bit, compute loss, follow the graidents, repeat a few million times.\n",
        "\n",
        "![alt text](https://camo.githubusercontent.com/69cc1e7cffa2ebd5db67c39f7c7c2724aaf5594b/687474703a2f2f696d61676573362e66616e706f702e636f6d2f696d6167652f70686f746f732f33383930303030302f44616e69656c2d73616e2d747261696e696e672d7468652d6b61726174652d6b69642d33383934373336312d3439392d3238382e676966)\n",
        "\n"
      ]
    },
    {
      "cell_type": "code",
      "metadata": {
        "id": "Y6TQ0p8ul1ZA"
      },
      "source": [
        "!pip install pandas"
      ],
      "execution_count": null,
      "outputs": []
    },
    {
      "cell_type": "code",
      "metadata": {
        "id": "hpqugPcIpIlq"
      },
      "source": [
        "from IPython.display import clear_output\n",
        "from tqdm import trange\n",
        "import pandas as pd\n",
        "#from pandas import ewm\n",
        "env_batch = EnvBatch(10)\n",
        "batch_states = env_batch.reset()\n",
        "\n",
        "rewards_history = []\n",
        "entropy_history = []"
      ],
      "execution_count": null,
      "outputs": []
    },
    {
      "cell_type": "code",
      "metadata": {
        "id": "ISPHZ1Ed7y-M"
      },
      "source": [
        "x.ewma(halflife=12).mean()"
      ],
      "execution_count": null,
      "outputs": []
    },
    {
      "cell_type": "code",
      "metadata": {
        "id": "C-uNJ4-TpNC_"
      },
      "source": [
        "for i in trange(100000): \n",
        "    \n",
        "    batch_actions = agent.sample_actions(agent.step(batch_states))\n",
        "    batch_next_states, batch_rewards, batch_done, _ = env_batch.step(batch_actions)\n",
        "    \n",
        "    feed_dict = {\n",
        "        states_ph: batch_states,\n",
        "        actions_ph: batch_actions,\n",
        "        next_states_ph: batch_next_states,\n",
        "        rewards_ph: batch_rewards,\n",
        "        is_done_ph: batch_done,\n",
        "    }\n",
        "    batch_states = batch_next_states\n",
        "    \n",
        "    _, ent_t = sess.run([train_step, entropy], feed_dict)\n",
        "    entropy_history.append(np.mean(ent_t))\n",
        "\n",
        "    if i % 500 == 0: \n",
        "        if i % 2500 == 0:\n",
        "            rewards_history.append(np.mean(evaluate(agent, env, n_games=3)))\n",
        "            if rewards_history[-1] >= 50:\n",
        "                print(\"Your agent has earned the yellow belt\")\n",
        "\n",
        "        clear_output(True)\n",
        "        plt.figure(figsize=[8,4])\n",
        "        plt.subplot(1,2,1)\n",
        "        plt.plot(rewards_history, label='rewards')\n",
        "        df = pd.DataFrame(rewards_history)\n",
        "        plt.plot(df.ewm(halflife=1000).mean(), marker='.', label='rewards ewma@10')\n",
        "        plt.title(\"Session rewards\"); plt.grid(); plt.legend()\n",
        "        \n",
        "        plt.subplot(1,2,2)\n",
        "        plt.plot(entropy_history, label='entropy')\n",
        "        df2 = pd.DataFrame(entropy_history)\n",
        "        plt.plot(df2.ewm(halflife=1000).mean(), label='entropy ewma@1000')\n",
        "        plt.title(\"Policy entropy\"); plt.grid(); plt.legend()        \n",
        "        plt.show()\n",
        "        \n",
        "        \n",
        "\n"
      ],
      "execution_count": null,
      "outputs": []
    },
    {
      "cell_type": "code",
      "metadata": {
        "id": "XC3JUqqPpo6k"
      },
      "source": [
        "env_monitor = gym.wrappers.Monitor(env, directory=\"kungfu_videos\", force=True)\n",
        "final_rewards = evaluate(agent, env_monitor, n_games=1,)\n",
        "env_monitor.close()\n",
        "print(\"Final mean reward:\", np.mean(final_rewards))\n",
        "\n",
        "video_names = list(filter(lambda s:s.endswith(\".mp4\"),os.listdir(\"./kungfu_videos/\")))"
      ],
      "execution_count": null,
      "outputs": []
    },
    {
      "cell_type": "code",
      "metadata": {
        "id": "BVwb5QCk3YUb"
      },
      "source": [
        ""
      ],
      "execution_count": null,
      "outputs": []
    }
  ]
}