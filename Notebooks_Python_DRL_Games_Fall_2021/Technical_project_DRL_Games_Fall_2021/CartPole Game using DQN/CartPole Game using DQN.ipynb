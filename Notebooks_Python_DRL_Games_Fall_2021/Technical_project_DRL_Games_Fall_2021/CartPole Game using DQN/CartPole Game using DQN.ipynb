{
  "nbformat": 4,
  "nbformat_minor": 0,
  "metadata": {
    "anaconda-cloud": {},
    "kernelspec": {
      "display_name": "Python 3.6 (tensorflow)",
      "language": "python",
      "name": "tensorflow"
    },
    "language_info": {
      "codemirror_mode": {
        "name": "ipython",
        "version": 3
      },
      "file_extension": ".py",
      "mimetype": "text/x-python",
      "name": "python",
      "nbconvert_exporter": "python",
      "pygments_lexer": "ipython3",
      "version": "3.7.7"
    },
    "colab": {
      "name": "t81_558_class_12_03_keras_reinforce.ipynb",
      "provenance": []
    }
  },
  "cells": [
    {
      "cell_type": "markdown",
      "metadata": {
        "id": "MdZqDrmkH_fL"
      },
      "source": [
        "# CartPole Game using DQN"
      ]
    },
    {
      "cell_type": "markdown",
      "metadata": {
        "id": "cKOCZlhUgXVK"
      },
      "source": [
        "# Google CoLab Instructions\n",
        "\n",
        "The following code ensures that Google CoLab is running the correct version of TensorFlow."
      ]
    },
    {
      "cell_type": "code",
      "metadata": {
        "id": "Y0WC-M08zNNq",
        "outputId": "412909f3-ecd5-4710-d70d-f9ee4dbafe4d",
        "colab": {
          "base_uri": "https://localhost:8080/"
        }
      },
      "source": [
        "try:\n",
        "    from google.colab import drive\n",
        "    %tensorflow_version 2.x\n",
        "    COLAB = True\n",
        "    print(\"Note: using Google CoLab\")\n",
        "except:\n",
        "    print(\"Note: not using Google CoLab\")\n",
        "    COLAB = False"
      ],
      "execution_count": 1,
      "outputs": [
        {
          "output_type": "stream",
          "name": "stdout",
          "text": [
            "Note: using Google CoLab\n"
          ]
        }
      ]
    },
    {
      "cell_type": "code",
      "metadata": {
        "id": "FreS1XOPzO9X",
        "outputId": "847791a2-1939-432b-bb6b-6f25cad05280",
        "colab": {
          "base_uri": "https://localhost:8080/"
        }
      },
      "source": [
        "if COLAB:\n",
        "  !sudo apt-get install -y xvfb ffmpeg x11-utils\n",
        "  #!pip install -q 'gym==0.10.11'\n",
        "  !pip install -q 'imageio==2.4.0'\n",
        "  !pip install -q PILLOW\n",
        "  #!pip install -q 'pyglet==1.3.2'\n",
        "  !pip install -q pyvirtualdisplay\n",
        "  !pip install -q tf-agents\n",
        "  #Added for gym for dependency fix and pyglet bug fix\n",
        "  #!pip install -q 'gym==0.21.0'\n",
        "  !pip install -q 'pyglet==1.5.21'\n",
        "\n"
      ],
      "execution_count": 2,
      "outputs": [
        {
          "output_type": "stream",
          "name": "stdout",
          "text": [
            "Reading package lists... Done\n",
            "Building dependency tree       \n",
            "Reading state information... Done\n",
            "x11-utils is already the newest version (7.7+3build1).\n",
            "ffmpeg is already the newest version (7:3.4.8-0ubuntu0.2).\n",
            "xvfb is already the newest version (2:1.19.6-1ubuntu4.10).\n",
            "0 upgraded, 0 newly installed, 0 to remove and 37 not upgraded.\n"
          ]
        }
      ]
    },
    {
      "cell_type": "markdown",
      "metadata": {
        "id": "1u9QVVsShC9X"
      },
      "source": [
        "# Part 12.3: Keras Q-Learning in the OpenAI Gym\n",
        "\n",
        "Q-Learning, as we covered in the previous part, is a robust machine learning algorithm.  Unfortunately, Q-Learning requires that the Q-table contain an entry for every possible state that the environment can take.  If the environment only includes a handful of discrete state elements, then traditional Q-learning might be a good learning algorithm.  However, if the state space is large, the Q-table can become prohibitively large.\n",
        "\n",
        "Creating policies for large state spaces is a task that Deep Q-Learning Networks (DQN) can usually handle.  Unlike a table, a neural network does not require the program to represent every combination of state and action.  Neural networks can generalize these states and learn commonalities.  A DQN maps the state to its input neurons and the action Q-values to the output neurons.  The DQN effectively becomes a function that accepts state and suggestions an action by returning the expected reward for each of the possible actions. Figure 12.DQL demonstrates the DQN structure and mapping between state and action.\n",
        "\n",
        "**Figure 12.DQL: Deep Q-Learning (DQL)**\n",
        "![Deep Q-Learning](https://raw.githubusercontent.com/jeffheaton/t81_558_deep_learning/master/images/deepqlearning.png \"Reinforcement Learning\")\n",
        "\n",
        "\n"
      ]
    },
    {
      "cell_type": "markdown",
      "metadata": {
        "id": "kNrNXKI7bINP"
      },
      "source": [
        "As this diagram illustrates, the environment state contains several elements.  For the basic DQN the state can be a mix of continuous and categorical/discrete values.  For the DQN, the discrete state elements the program typically encoded as dummy variables. The actions should be discrete when your program implements a DQN.  Other algorithms support continuous outputs, which we will discuss later in this chapter.\n",
        "\n",
        "In this chapter, we will make use of [TF-Agents](https://www.tensorflow.org/agents) to implement a DQN to solve the cart-pole environment.  TF-Agents makes designing, implementing, and testing new RL algorithms easier by providing well tested modular components that can be modified and extended. It enables fast code iteration, with functional test integration and benchmarking.\n",
        "\n",
        "## DQN and the Cart-Pole Problem\n",
        "\n",
        "Barto (1983) first described the cart-pole problem. [[Cite:barto1983neuronlike]](http://www.derongliu.org/adp/adp-cdrom/Barto1983.pdf) A cart is connected to a hinged rigid pole.  The cart is free to move only in the vertical plane of the cart/track.  The agent can apply an implusive \"left\" or \"right\" force F of a fixed magnitude to the cart at discrete time intervals.  The cart-pole environment simulates the physics behind keeping the pole in a reasonably upright position on the cart.  The environment has four state variables:\n",
        "* $x$ The position of the cart on the track.\n",
        "* $\\theta$ The angle of the pole with the vertical\n",
        "* $\\dot{x}$ The cart velocity.\n",
        "* $\\dot{\\theta}$ The rate of change of the angle.\n",
        "\n",
        "The action space consists of discrete actions:\n",
        "* Apply force left\n",
        "* Apply force right\n",
        "\n",
        "To apply DQN to this problem, you need to create the following components for TF-Agents.\n",
        "\n",
        "* Environment\n",
        "* Agent\n",
        "* Policies\n",
        "* Metrics and Evaluation\n",
        "* Replay Buffer\n",
        "* Data Collection\n",
        "* Training\n",
        "\n",
        "These components are standard in most DQN implementations.  Later, we will apply these same components to an Atari game, and after that, a problem of our design. This example is based on the [cart-pole tutorial](https://github.com/tensorflow/agents/blob/master/docs/tutorials/1_dqn_tutorial.ipynb) provided for TF-Agents.  We begin by importing needed Python libraries.\n"
      ]
    },
    {
      "cell_type": "code",
      "metadata": {
        "id": "sMitx5qSgJk1"
      },
      "source": [
        "import base64\n",
        "import imageio\n",
        "import IPython\n",
        "import matplotlib\n",
        "import matplotlib.pyplot as plt\n",
        "import numpy as np\n",
        "import PIL.Image\n",
        "import pyvirtualdisplay\n",
        "\n",
        "import tensorflow as tf\n",
        "\n",
        "from tf_agents.agents.dqn import dqn_agent\n",
        "from tf_agents.drivers import dynamic_step_driver\n",
        "from tf_agents.environments import suite_gym\n",
        "from tf_agents.environments import tf_py_environment\n",
        "from tf_agents.eval import metric_utils\n",
        "from tf_agents.metrics import tf_metrics\n",
        "from tf_agents.networks import q_network\n",
        "from tf_agents.policies import random_tf_policy\n",
        "from tf_agents.replay_buffers import tf_uniform_replay_buffer\n",
        "from tf_agents.trajectories import trajectory\n",
        "from tf_agents.utils import common"
      ],
      "execution_count": 3,
      "outputs": []
    },
    {
      "cell_type": "code",
      "metadata": {
        "id": "J6HsdS5GbSjd"
      },
      "source": [
        "# Set up a virtual display for rendering OpenAI gym environments.\n",
        "display = pyvirtualdisplay.Display(visible=0, size=(1400, 900)).start()"
      ],
      "execution_count": 4,
      "outputs": []
    },
    {
      "cell_type": "markdown",
      "metadata": {
        "id": "LmC0NDhdLIKY"
      },
      "source": [
        "## Hyperparameters\n",
        "\n",
        "Several hyperparameters must be defined.  The TF-Agent example provided reasonably well-tuned hyperparameters for cart-pole.  Later we will adapt these to an Atari game."
      ]
    },
    {
      "cell_type": "code",
      "metadata": {
        "id": "HC1kNrOsLSIZ"
      },
      "source": [
        "# How long should training run?\n",
        "#num_iterations = 20000 \n",
        "# How many initial random steps, before training start, to\n",
        "# collect initial data.\n",
        "#initial_collect_steps = 1000   \n",
        "# How many steps should we run each iteration to collect \n",
        "# data from.\n",
        "#collect_steps_per_iteration = 1 \n",
        "# How much data should we store for training examples.\n",
        "#replay_buffer_max_length = 100000\n",
        "\n",
        "#batch_size = 64  \n",
        "#learning_rate = 1e-3 \n",
        "# How often should the program provide an update.\n",
        "##log_interval = 200  \n",
        "\n",
        "# How many episodes should the program use for each evaluation.\n",
        "#num_eval_episodes = 10\n",
        "# How often should an evaluation occur.\n",
        "#eval_interval = 1000  "
      ],
      "execution_count": 5,
      "outputs": []
    },
    {
      "cell_type": "markdown",
      "source": [
        "# Adjusting Parameters"
      ],
      "metadata": {
        "id": "6EgQFO2mpUZo"
      }
    },
    {
      "cell_type": "code",
      "source": [
        "# How long should training run?\n",
        "num_iterations = 10000\n",
        "# How many initial random steps, before training start, to\n",
        "# collect initial data.\n",
        "initial_collect_steps = 10000  \n",
        "# How many steps should we run each iteration to collect \n",
        "# data from.\n",
        "collect_steps_per_iteration = 1\n",
        "# How much data should we store for training examples.\n",
        "replay_buffer_max_length = 1000000\n",
        "\n",
        "batch_size = 64  \n",
        "learning_rate = 2\n",
        "# How often should the program provide an update.\n",
        "log_interval = 200  \n",
        "\n",
        "# How many episodes should the program use for each evaluation.\n",
        "num_eval_episodes = 1\n",
        "# How often should an evaluation occur.\n",
        "eval_interval = 1000  "
      ],
      "metadata": {
        "id": "t6D3rFSWpXJn"
      },
      "execution_count": 6,
      "outputs": []
    },
    {
      "cell_type": "markdown",
      "metadata": {
        "id": "VMsJC3DEgI0x"
      },
      "source": [
        "## Environment\n",
        "\n",
        "TF-Agents uses OpenAI gym environments to represent the task or problem to be solved. Standard environments can be created in TF-Agents using **tf_agents.environments** suites. TF-Agents has suites for loading environments from sources such as the OpenAI Gym, Atari, and DM Control. We begin by loading the CartPole environment from the OpenAI Gym suite. "
      ]
    },
    {
      "cell_type": "code",
      "metadata": {
        "id": "pYEz-S9gEv2-"
      },
      "source": [
        "env_name = 'CartPole-v0'\n",
        "env = suite_gym.load(env_name)"
      ],
      "execution_count": 7,
      "outputs": []
    },
    {
      "cell_type": "markdown",
      "metadata": {
        "id": "IIHYVBkuvPNw"
      },
      "source": [
        "We will quickly render this environment to see the visual representation."
      ]
    },
    {
      "cell_type": "code",
      "metadata": {
        "id": "RlO7WIQHu_7D",
        "outputId": "1ea9e77b-5c13-4f13-f7c2-604dc8b487eb",
        "colab": {
          "base_uri": "https://localhost:8080/"
        }
      },
      "source": [
        "env.reset()\n",
        "env.render()\n",
        "#PIL.Image.fromarray(env.render())"
      ],
      "execution_count": 8,
      "outputs": [
        {
          "output_type": "execute_result",
          "data": {
            "text/plain": [
              "array([[[255, 255, 255],\n",
              "        [255, 255, 255],\n",
              "        [255, 255, 255],\n",
              "        ...,\n",
              "        [255, 255, 255],\n",
              "        [255, 255, 255],\n",
              "        [255, 255, 255]],\n",
              "\n",
              "       [[255, 255, 255],\n",
              "        [255, 255, 255],\n",
              "        [255, 255, 255],\n",
              "        ...,\n",
              "        [255, 255, 255],\n",
              "        [255, 255, 255],\n",
              "        [255, 255, 255]],\n",
              "\n",
              "       [[255, 255, 255],\n",
              "        [255, 255, 255],\n",
              "        [255, 255, 255],\n",
              "        ...,\n",
              "        [255, 255, 255],\n",
              "        [255, 255, 255],\n",
              "        [255, 255, 255]],\n",
              "\n",
              "       ...,\n",
              "\n",
              "       [[255, 255, 255],\n",
              "        [255, 255, 255],\n",
              "        [255, 255, 255],\n",
              "        ...,\n",
              "        [255, 255, 255],\n",
              "        [255, 255, 255],\n",
              "        [255, 255, 255]],\n",
              "\n",
              "       [[255, 255, 255],\n",
              "        [255, 255, 255],\n",
              "        [255, 255, 255],\n",
              "        ...,\n",
              "        [255, 255, 255],\n",
              "        [255, 255, 255],\n",
              "        [255, 255, 255]],\n",
              "\n",
              "       [[255, 255, 255],\n",
              "        [255, 255, 255],\n",
              "        [255, 255, 255],\n",
              "        ...,\n",
              "        [255, 255, 255],\n",
              "        [255, 255, 255],\n",
              "        [255, 255, 255]]], dtype=uint8)"
            ]
          },
          "metadata": {},
          "execution_count": 8
        }
      ]
    },
    {
      "cell_type": "markdown",
      "metadata": {
        "id": "B9_lskPOey18"
      },
      "source": [
        "The `environment.step` method takes an `action` in the environment and returns a `TimeStep` tuple containing the next observation of the environment and the reward for the action.\n",
        "\n",
        "The `time_step_spec()` method returns the specification for the `TimeStep` tuple. Its `observation` attribute shows the shape of observations, the data types, and the ranges of allowed values. The `reward` attribute shows the same details for the reward.\n"
      ]
    },
    {
      "cell_type": "code",
      "metadata": {
        "id": "exDv57iHfwQV",
        "outputId": "04518a1d-f226-49ab-db1d-b03e40b6321c",
        "colab": {
          "base_uri": "https://localhost:8080/"
        }
      },
      "source": [
        "print('Observation Spec:')\n",
        "print(env.time_step_spec().observation)"
      ],
      "execution_count": 9,
      "outputs": [
        {
          "output_type": "stream",
          "name": "stdout",
          "text": [
            "Observation Spec:\n",
            "BoundedArraySpec(shape=(4,), dtype=dtype('float32'), name='observation', minimum=[-4.8000002e+00 -3.4028235e+38 -4.1887903e-01 -3.4028235e+38], maximum=[4.8000002e+00 3.4028235e+38 4.1887903e-01 3.4028235e+38])\n"
          ]
        }
      ]
    },
    {
      "cell_type": "code",
      "metadata": {
        "id": "UxiSyCbBUQPi",
        "outputId": "51473f9c-5792-4db9-b202-554f7e7eaef2",
        "colab": {
          "base_uri": "https://localhost:8080/"
        }
      },
      "source": [
        "print('Reward Spec:')\n",
        "print(env.time_step_spec().reward)"
      ],
      "execution_count": 10,
      "outputs": [
        {
          "output_type": "stream",
          "name": "stdout",
          "text": [
            "Reward Spec:\n",
            "ArraySpec(shape=(), dtype=dtype('float32'), name='reward')\n"
          ]
        }
      ]
    },
    {
      "cell_type": "markdown",
      "metadata": {
        "id": "b_lHcIcqUaqB"
      },
      "source": [
        "The `action_spec()` method returns the shape, data types, and allowed values of valid actions."
      ]
    },
    {
      "cell_type": "code",
      "metadata": {
        "id": "bttJ4uxZUQBr",
        "outputId": "99ae5517-e2c1-4302-fd03-3c37c0a42c37",
        "colab": {
          "base_uri": "https://localhost:8080/"
        }
      },
      "source": [
        "print('Action Spec:')\n",
        "print(env.action_spec())"
      ],
      "execution_count": 11,
      "outputs": [
        {
          "output_type": "stream",
          "name": "stdout",
          "text": [
            "Action Spec:\n",
            "BoundedArraySpec(shape=(), dtype=dtype('int64'), name='action', minimum=0, maximum=1)\n"
          ]
        }
      ]
    },
    {
      "cell_type": "markdown",
      "metadata": {
        "id": "eJCgJnx3g0yY"
      },
      "source": [
        "In the Cartpole environment:\n",
        "\n",
        "-   `observation` is an array of 4 floats: \n",
        "    -   the position and velocity of the cart\n",
        "    -   the angular position and velocity of the pole \n",
        "-   `reward` is a scalar float value\n",
        "-   `action` is a scalar integer with only two possible values:\n",
        "    -   `0` — \"move left\"\n",
        "    -   `1` — \"move right\"\n"
      ]
    },
    {
      "cell_type": "code",
      "metadata": {
        "id": "V2UGR5t_iZX-",
        "outputId": "bf4ec191-acae-4ec3-ec3b-37447665c181",
        "colab": {
          "base_uri": "https://localhost:8080/"
        }
      },
      "source": [
        "time_step = env.reset()\n",
        "print('Time step:')\n",
        "print(time_step)\n",
        "\n",
        "action = np.array(1, dtype=np.int32)\n",
        "\n",
        "next_time_step = env.step(action)\n",
        "print('Next time step:')\n",
        "print(next_time_step)"
      ],
      "execution_count": 12,
      "outputs": [
        {
          "output_type": "stream",
          "name": "stdout",
          "text": [
            "Time step:\n",
            "TimeStep(\n",
            "{'discount': array(1., dtype=float32),\n",
            " 'observation': array([-0.04331829, -0.0101024 , -0.02690446,  0.03054734], dtype=float32),\n",
            " 'reward': array(0., dtype=float32),\n",
            " 'step_type': array(0, dtype=int32)})\n",
            "Next time step:\n",
            "TimeStep(\n",
            "{'discount': array(1., dtype=float32),\n",
            " 'observation': array([-0.04352034,  0.18539484, -0.02629351, -0.27050135], dtype=float32),\n",
            " 'reward': array(1., dtype=float32),\n",
            " 'step_type': array(1, dtype=int32)})\n"
          ]
        }
      ]
    },
    {
      "cell_type": "markdown",
      "metadata": {
        "id": "4JSc9GviWUBK"
      },
      "source": [
        "Usually, the program instantiates two environments: one for training and one for evaluation. "
      ]
    },
    {
      "cell_type": "code",
      "metadata": {
        "id": "N7brXNIGWXjC"
      },
      "source": [
        "train_py_env = suite_gym.load(env_name)\n",
        "eval_py_env = suite_gym.load(env_name)"
      ],
      "execution_count": 13,
      "outputs": []
    },
    {
      "cell_type": "markdown",
      "metadata": {
        "id": "zuUqXAVmecTU"
      },
      "source": [
        "The Cartpole environment, like most environments, is written in pure Python and is converted to TF-Agents and TensorFlow using the **TFPyEnvironment** wrapper. The original environment's API uses Numpy arrays. The **TFPyEnvironment** turns these to **Tensors** to make it compatible with Tensorflow agents and policies.\n"
      ]
    },
    {
      "cell_type": "code",
      "metadata": {
        "id": "Xp-Y4mD6eDhF"
      },
      "source": [
        "train_env = tf_py_environment.TFPyEnvironment(train_py_env)\n",
        "eval_env = tf_py_environment.TFPyEnvironment(eval_py_env)"
      ],
      "execution_count": 14,
      "outputs": []
    },
    {
      "cell_type": "markdown",
      "metadata": {
        "id": "E9lW_OZYFR8A"
      },
      "source": [
        "## Agent\n",
        "\n",
        "An Agent represents the algorithm used to solve an RL problem. TF-Agents provides standard implementations of a variety of Agents:\n",
        "\n",
        "-   [DQN](https://storage.googleapis.com/deepmind-media/dqn/DQNNaturePaper.pdf) (used in this example)\n",
        "-   [REINFORCE](http://www-anw.cs.umass.edu/~barto/courses/cs687/williams92simple.pdf)\n",
        "-   [DDPG](https://arxiv.org/pdf/1509.02971.pdf)\n",
        "-   [TD3](https://arxiv.org/pdf/1802.09477.pdf)\n",
        "-   [PPO](https://arxiv.org/abs/1707.06347)\n",
        "-   [SAC](https://arxiv.org/abs/1801.01290).\n",
        "\n",
        "You can only use the DQN agent in environments which have a discrete action space.  The DQN makes use of a QNetwork, a neural network model that learns to predict Q-Values (expected returns) for all actions, given a state from the environment.\n",
        "\n",
        "The following code uses **tf_agents.networks.q_network** to create a QNetwork, passing in the **observation_spec**, **action_spec**, and a tuple describing the number and size of the model's hidden layers.\n"
      ]
    },
    {
      "cell_type": "code",
      "metadata": {
        "id": "TgkdEPg_muzV"
      },
      "source": [
        "fc_layer_params = (100,)\n",
        "\n",
        "q_net = q_network.QNetwork(\n",
        "    train_env.observation_spec(),\n",
        "    train_env.action_spec(),\n",
        "    fc_layer_params=fc_layer_params)"
      ],
      "execution_count": 15,
      "outputs": []
    },
    {
      "cell_type": "markdown",
      "metadata": {
        "id": "z62u55hSmviJ"
      },
      "source": [
        "Now we use **tf_agents.agents.dqn.dqn_agent** to instantiate a **DqnAgent**. In addition to the **time_step_spec**, **action_spec** and the QNetwork, the agent constructor also requires an optimizer (in this case, **AdamOptimizer**), a loss function, and an integer step counter."
      ]
    },
    {
      "cell_type": "code",
      "metadata": {
        "id": "jbY4yrjTEyc9"
      },
      "source": [
        "optimizer = tf.compat.v1.train.AdamOptimizer(learning_rate=learning_rate)\n",
        "\n",
        "train_step_counter = tf.Variable(0)\n",
        "\n",
        "agent = dqn_agent.DqnAgent(\n",
        "    train_env.time_step_spec(),\n",
        "    train_env.action_spec(),\n",
        "    q_network=q_net,\n",
        "    optimizer=optimizer,\n",
        "    td_errors_loss_fn=common.element_wise_squared_loss,\n",
        "    train_step_counter=train_step_counter)\n",
        "\n",
        "agent.initialize()"
      ],
      "execution_count": 16,
      "outputs": []
    },
    {
      "cell_type": "markdown",
      "metadata": {
        "id": "I0KLrEPwkn5x"
      },
      "source": [
        "## Policies\n",
        "\n",
        "A policy defines the way an agent acts in an environment. Typically, the goal of reinforcement learning is to train the underlying model until the policy produces the desired outcome.\n",
        "\n",
        "In this example:\n",
        "\n",
        "* The desired outcome is keeping the pole balanced upright over the cart.\n",
        "* The policy returns an action (left or right) for each `time_step` observation.\n",
        "\n",
        "Agents contain two policies: \n",
        "\n",
        "*  **agent.policy** -  The algorithm uses this main policy for evaluation and deployment.\n",
        "* **agent.collect_policy** - The algorithm this secondary policy for data collection.\n"
      ]
    },
    {
      "cell_type": "code",
      "metadata": {
        "id": "BwY7StuMkuV4"
      },
      "source": [
        "eval_policy = agent.policy\n",
        "collect_policy = agent.collect_policy"
      ],
      "execution_count": 17,
      "outputs": []
    },
    {
      "cell_type": "markdown",
      "metadata": {
        "id": "2Qs1Fl3dV0ae"
      },
      "source": [
        "Policies can be created independently of agents. For example, use **tf_agents.policies.random_tf_policy** to create a policy which will randomly select an action for each **time_step**. We will use this random policy to create initial collection data to begin training."
      ]
    },
    {
      "cell_type": "code",
      "metadata": {
        "id": "HE37-UCIrE69"
      },
      "source": [
        "random_policy = random_tf_policy.RandomTFPolicy(train_env.time_step_spec(),\n",
        "                                                train_env.action_spec())"
      ],
      "execution_count": 18,
      "outputs": []
    },
    {
      "cell_type": "markdown",
      "metadata": {
        "id": "dOlnlRRsUbxP"
      },
      "source": [
        "To get an action from a policy, call the **policy.action(time_step)** method. The **time_step** contains the observation from the environment. This method returns a **PolicyStep**, which is a named tuple with three components:\n",
        "\n",
        "* **action** - The action to be taken (in this case, 0 or 1).\n",
        "* **state** - Used for stateful (that is, RNN-based) policies.\n",
        "* **info** - Auxiliary data, such as log probabilities of actions.\n",
        "\n",
        "Next we create an environment and setup the random policy."
      ]
    },
    {
      "cell_type": "code",
      "metadata": {
        "id": "5gCcpXswVAxk",
        "outputId": "1fc7d13a-28dd-4117-8014-8595df62e057",
        "colab": {
          "base_uri": "https://localhost:8080/"
        }
      },
      "source": [
        "example_environment = tf_py_environment.TFPyEnvironment(\n",
        "    suite_gym.load('CartPole-v0'))\n",
        "time_step = example_environment.reset()\n",
        "random_policy.action(time_step)"
      ],
      "execution_count": 19,
      "outputs": [
        {
          "output_type": "execute_result",
          "data": {
            "text/plain": [
              "PolicyStep(action=<tf.Tensor: shape=(1,), dtype=int64, numpy=array([0])>, state=(), info=())"
            ]
          },
          "metadata": {},
          "execution_count": 19
        }
      ]
    },
    {
      "cell_type": "markdown",
      "metadata": {
        "id": "94rCXQtbUbXv"
      },
      "source": [
        "## Metrics and Evaluation\n",
        "\n",
        "The most common metric used to evaluate a policy is the average return. The return is the sum of rewards obtained while running a policy in an environment for an episode. Several episodes are run, creating an average return. The following function computes the average return of a policy, given the policy, environment, and a number of episodes.  We will use this same evaluation for Atari.\n"
      ]
    },
    {
      "cell_type": "code",
      "metadata": {
        "id": "bitzHo5_UbXy"
      },
      "source": [
        "def compute_avg_return(environment, policy, num_episodes=10):\n",
        "\n",
        "  total_return = 0.0\n",
        "  for _ in range(num_episodes):\n",
        "\n",
        "    time_step = environment.reset()\n",
        "    episode_return = 0.0\n",
        "\n",
        "    while not time_step.is_last():\n",
        "      action_step = policy.action(time_step)\n",
        "      time_step = environment.step(action_step.action)\n",
        "      episode_return += time_step.reward\n",
        "    total_return += episode_return\n",
        "\n",
        "  avg_return = total_return / num_episodes\n",
        "  return avg_return.numpy()[0]\n",
        "\n",
        "\n",
        "# See also the metrics module for standard implementations \n",
        "# of different metrics.\n",
        "# https://github.com/tensorflow/agents/tree/master/tf_agents/metrics"
      ],
      "execution_count": 20,
      "outputs": []
    },
    {
      "cell_type": "markdown",
      "metadata": {
        "id": "_snCVvq5Z8lJ"
      },
      "source": [
        "Running this computation on the `random_policy` shows a baseline performance in the environment."
      ]
    },
    {
      "cell_type": "code",
      "metadata": {
        "id": "9bgU6Q6BZ8Bp",
        "outputId": "aad0616b-92ba-4455-c384-bd2311496ffe",
        "colab": {
          "base_uri": "https://localhost:8080/"
        }
      },
      "source": [
        "compute_avg_return(eval_env, random_policy, num_eval_episodes)"
      ],
      "execution_count": 21,
      "outputs": [
        {
          "output_type": "execute_result",
          "data": {
            "text/plain": [
              "24.0"
            ]
          },
          "metadata": {},
          "execution_count": 21
        }
      ]
    },
    {
      "cell_type": "markdown",
      "metadata": {
        "id": "NLva6g2jdWgr"
      },
      "source": [
        "## Replay Buffer\n",
        "\n",
        "The replay buffer keeps track of data collected from the environment. This tutorial uses **TFUniformReplayBuffer**. The constructor requires the specs for the data it will be collecting. This value is available from the agent using the **collect_data_spec** method. The batch size and maximum buffer length are also required.\n"
      ]
    },
    {
      "cell_type": "code",
      "metadata": {
        "id": "vX2zGUWJGWAl"
      },
      "source": [
        "replay_buffer = tf_uniform_replay_buffer.TFUniformReplayBuffer(\n",
        "    data_spec=agent.collect_data_spec,\n",
        "    batch_size=train_env.batch_size,\n",
        "    max_length=replay_buffer_max_length)"
      ],
      "execution_count": 22,
      "outputs": []
    },
    {
      "cell_type": "markdown",
      "metadata": {
        "id": "ZGNTDJpZs4NN"
      },
      "source": [
        "For most agents, **collect_data_spec** is a named tuple called **Trajectory**, containing the specs for observations, actions, rewards, and other items."
      ]
    },
    {
      "cell_type": "code",
      "metadata": {
        "id": "_IZ-3HcqgE1z",
        "outputId": "61df4e8f-bfc6-43ae-a6c5-b8f3b7abaf68",
        "colab": {
          "base_uri": "https://localhost:8080/"
        }
      },
      "source": [
        "agent.collect_data_spec"
      ],
      "execution_count": 23,
      "outputs": [
        {
          "output_type": "execute_result",
          "data": {
            "text/plain": [
              "Trajectory(\n",
              "{'action': BoundedTensorSpec(shape=(), dtype=tf.int64, name='action', minimum=array(0), maximum=array(1)),\n",
              " 'discount': BoundedTensorSpec(shape=(), dtype=tf.float32, name='discount', minimum=array(0., dtype=float32), maximum=array(1., dtype=float32)),\n",
              " 'next_step_type': TensorSpec(shape=(), dtype=tf.int32, name='step_type'),\n",
              " 'observation': BoundedTensorSpec(shape=(4,), dtype=tf.float32, name='observation', minimum=array([-4.8000002e+00, -3.4028235e+38, -4.1887903e-01, -3.4028235e+38],\n",
              "      dtype=float32), maximum=array([4.8000002e+00, 3.4028235e+38, 4.1887903e-01, 3.4028235e+38],\n",
              "      dtype=float32)),\n",
              " 'policy_info': (),\n",
              " 'reward': TensorSpec(shape=(), dtype=tf.float32, name='reward'),\n",
              " 'step_type': TensorSpec(shape=(), dtype=tf.int32, name='step_type')})"
            ]
          },
          "metadata": {},
          "execution_count": 23
        }
      ]
    },
    {
      "cell_type": "markdown",
      "metadata": {
        "id": "rVD5nQ9ZGo8_"
      },
      "source": [
        "## Data Collection\n",
        "\n",
        "Now execute the random policy in the environment for a few steps, recording the data in the replay buffer."
      ]
    },
    {
      "cell_type": "code",
      "metadata": {
        "id": "wr1KSAEGG4h9"
      },
      "source": [
        "def collect_step(environment, policy, buffer):\n",
        "  time_step = environment.current_time_step()\n",
        "  action_step = policy.action(time_step)\n",
        "  next_time_step = environment.step(action_step.action)\n",
        "  traj = trajectory.from_transition(time_step, action_step, next_time_step)\n",
        "\n",
        "  # Add trajectory to the replay buffer\n",
        "  buffer.add_batch(traj)\n",
        "\n",
        "def collect_data(env, policy, buffer, steps):\n",
        "  for _ in range(steps):\n",
        "    collect_step(env, policy, buffer)\n",
        "\n",
        "collect_data(train_env, random_policy, replay_buffer, steps=100)\n",
        "\n",
        "# This loop is so common in RL, that we provide standard implementations. \n",
        "# For more details see the drivers module.\n",
        "# https://www.tensorflow.org/agents/api_docs/python/tf_agents/drivers"
      ],
      "execution_count": 24,
      "outputs": []
    },
    {
      "cell_type": "markdown",
      "metadata": {
        "id": "84z5pQJdoKxo"
      },
      "source": [
        "The replay buffer is now a collection of Trajectories. The agent needs access to the replay buffer. TF-Agents provides this access by creating an iterable **tf.data.Dataset** pipeline, which will feed data to the agent.\n",
        "\n",
        "Each row of the replay buffer only stores a single observation step. But since the DQN Agent needs both the current and next observation to compute the loss, the dataset pipeline will sample two adjacent rows for each item in the batch (**num_steps=2**).\n",
        "\n",
        "The program also optimizes this dataset by running parallel calls and prefetching data."
      ]
    },
    {
      "cell_type": "code",
      "metadata": {
        "id": "ba7bilizt_qW",
        "outputId": "9b093718-5501-4d76-9614-b47404eac760",
        "colab": {
          "base_uri": "https://localhost:8080/"
        }
      },
      "source": [
        "# Dataset generates trajectories with shape [Bx2x...]\n",
        "dataset = replay_buffer.as_dataset(\n",
        "    num_parallel_calls=3, \n",
        "    sample_batch_size=batch_size, \n",
        "    num_steps=2).prefetch(3)\n",
        "\n",
        "\n",
        "dataset"
      ],
      "execution_count": 25,
      "outputs": [
        {
          "output_type": "stream",
          "name": "stdout",
          "text": [
            "WARNING:tensorflow:From /usr/local/lib/python3.7/dist-packages/tensorflow/python/autograph/impl/api.py:383: ReplayBuffer.get_next (from tf_agents.replay_buffers.replay_buffer) is deprecated and will be removed in a future version.\n",
            "Instructions for updating:\n",
            "Use `as_dataset(..., single_deterministic_pass=False) instead.\n"
          ]
        },
        {
          "output_type": "execute_result",
          "data": {
            "text/plain": [
              "<PrefetchDataset shapes: (Trajectory(\n",
              "{action: (64, 2),\n",
              " discount: (64, 2),\n",
              " next_step_type: (64, 2),\n",
              " observation: (64, 2, 4),\n",
              " policy_info: (),\n",
              " reward: (64, 2),\n",
              " step_type: (64, 2)}), BufferInfo(ids=(64, 2), probabilities=(64,))), types: (Trajectory(\n",
              "{action: tf.int64,\n",
              " discount: tf.float32,\n",
              " next_step_type: tf.int32,\n",
              " observation: tf.float32,\n",
              " policy_info: (),\n",
              " reward: tf.float32,\n",
              " step_type: tf.int32}), BufferInfo(ids=tf.int64, probabilities=tf.float32))>"
            ]
          },
          "metadata": {},
          "execution_count": 25
        }
      ]
    },
    {
      "cell_type": "code",
      "metadata": {
        "id": "K13AST-2ppOq",
        "outputId": "caa46323-32f5-491c-fe0c-c3e79079455e",
        "colab": {
          "base_uri": "https://localhost:8080/"
        }
      },
      "source": [
        "iterator = iter(dataset)\n",
        "\n",
        "print(iterator)\n"
      ],
      "execution_count": 26,
      "outputs": [
        {
          "output_type": "stream",
          "name": "stdout",
          "text": [
            "<tensorflow.python.data.ops.iterator_ops.OwnedIterator object at 0x7fb152f65890>\n"
          ]
        }
      ]
    },
    {
      "cell_type": "markdown",
      "metadata": {
        "id": "hBc9lj9VWWtZ"
      },
      "source": [
        "## Training the agent\n",
        "\n",
        "Two things must happen during the training loop:\n",
        "\n",
        "* Collect data from the environment\n",
        "* Use that data to train the agent's neural network(s)\n",
        "\n",
        "This example also periodically evaluates the policy and prints the current score.\n",
        "\n",
        "The following will take ~5 minutes to run."
      ]
    },
    {
      "cell_type": "code",
      "metadata": {
        "id": "0pTbJ3PeyF-u",
        "colab": {
          "base_uri": "https://localhost:8080/"
        },
        "outputId": "55052f43-98b1-40a0-a25a-c7dac5cc187a"
      },
      "source": [
        "# (Optional) Optimize by wrapping some of the code in a graph \n",
        "\n",
        "# start time\n",
        "import time\n",
        "start = time.time()\n",
        "# using TF function.\n",
        "agent.train = common.function(agent.train)\n",
        "\n",
        "# Reset the train step\n",
        "agent.train_step_counter.assign(0)\n",
        "\n",
        "# Evaluate the agent's policy once before training.\n",
        "avg_return = compute_avg_return(eval_env, agent.policy, \\\n",
        "                                num_eval_episodes)\n",
        "returns = [avg_return]\n",
        "\n",
        "for _ in range(num_iterations):\n",
        "\n",
        "  # Collect a few steps using collect_policy and save to the replay buffer.\n",
        "  for _ in range(collect_steps_per_iteration):\n",
        "    collect_step(train_env, agent.collect_policy, replay_buffer)\n",
        "\n",
        "  # Sample a batch of data from the buffer and update the agent's network.\n",
        "  experience, unused_info = next(iterator)\n",
        "  train_loss = agent.train(experience).loss\n",
        "\n",
        "  step = agent.train_step_counter.numpy()\n",
        "\n",
        "  if step % log_interval == 0:\n",
        "    print('step = {0}: loss = {1}'.format(step, train_loss))\n",
        "\n",
        "  if step % eval_interval == 0:\n",
        "    avg_return = compute_avg_return(eval_env, agent.policy, \\\n",
        "                                    num_eval_episodes)\n",
        "    print('step = {0}: Average Return = {1}'.format(step, avg_return))\n",
        "    returns.append(avg_return)\n",
        "\n",
        "print('Time taken to train model: ', time.time() - start)"
      ],
      "execution_count": 27,
      "outputs": [
        {
          "output_type": "stream",
          "name": "stdout",
          "text": [
            "WARNING:tensorflow:From /usr/local/lib/python3.7/dist-packages/tensorflow/python/util/dispatch.py:1096: calling foldr_v2 (from tensorflow.python.ops.functional_ops) with back_prop=False is deprecated and will be removed in a future version.\n",
            "Instructions for updating:\n",
            "back_prop=False is deprecated. Consider using tf.stop_gradient instead.\n",
            "Instead of:\n",
            "results = tf.foldr(fn, elems, back_prop=False)\n",
            "Use:\n",
            "results = tf.nest.map_structure(tf.stop_gradient, tf.foldr(fn, elems))\n",
            "step = 200: loss = 73411051520.0\n",
            "step = 400: loss = 19351908352.0\n",
            "step = 600: loss = 654457600.0\n",
            "step = 800: loss = 2136010624.0\n",
            "step = 1000: loss = 547833472.0\n",
            "step = 1000: Average Return = 32.0\n",
            "step = 1200: loss = 2870193920.0\n",
            "step = 1400: loss = 537901952.0\n",
            "step = 1600: loss = 671921600.0\n",
            "step = 1800: loss = 218124928.0\n",
            "step = 2000: loss = 242322224.0\n",
            "step = 2000: Average Return = 16.0\n",
            "step = 2200: loss = 701035584.0\n",
            "step = 2400: loss = 1293998592.0\n",
            "step = 2600: loss = 74319760.0\n",
            "step = 2800: loss = 27774908.0\n",
            "step = 3000: loss = 32253050.0\n",
            "step = 3000: Average Return = 63.0\n",
            "step = 3200: loss = 47029316.0\n",
            "step = 3400: loss = 16868114.0\n",
            "step = 3600: loss = 7239854.0\n",
            "step = 3800: loss = 6726464.5\n",
            "step = 4000: loss = 52362536.0\n",
            "step = 4000: Average Return = 28.0\n",
            "step = 4200: loss = 274359904.0\n",
            "step = 4400: loss = 274899104.0\n",
            "step = 4600: loss = 1234045184.0\n",
            "step = 4800: loss = 8169339392.0\n",
            "step = 5000: loss = 3224943722496.0\n",
            "step = 5000: Average Return = 69.0\n",
            "step = 5200: loss = 263056326656.0\n",
            "step = 5400: loss = 394897686528.0\n",
            "step = 5600: loss = 310461136896.0\n",
            "step = 5800: loss = 14243812343808.0\n",
            "step = 6000: loss = 2110952046592.0\n",
            "step = 6000: Average Return = 200.0\n",
            "step = 6200: loss = 4755567411200.0\n",
            "step = 6400: loss = 9667070656512.0\n",
            "step = 6600: loss = 49317960220672.0\n",
            "step = 6800: loss = 2236191080448.0\n",
            "step = 7000: loss = 2216969109504.0\n",
            "step = 7000: Average Return = 200.0\n",
            "step = 7200: loss = 29053891379200.0\n",
            "step = 7400: loss = 40567127932928.0\n",
            "step = 7600: loss = 5417433825280.0\n",
            "step = 7800: loss = 180754369740800.0\n",
            "step = 8000: loss = 9496406523904.0\n",
            "step = 8000: Average Return = 200.0\n",
            "step = 8200: loss = 37962091855872.0\n",
            "step = 8400: loss = 3881259499520.0\n",
            "step = 8600: loss = 11526542983168.0\n",
            "step = 8800: loss = 8882781945856.0\n",
            "step = 9000: loss = 198954780196864.0\n",
            "step = 9000: Average Return = 200.0\n",
            "step = 9200: loss = 34499205267456.0\n",
            "step = 9400: loss = 8785062526976.0\n",
            "step = 9600: loss = 10537140224000.0\n",
            "step = 9800: loss = 175175744094208.0\n",
            "step = 10000: loss = 10518697869312.0\n",
            "step = 10000: Average Return = 200.0\n",
            "Time taken to train model:  153.288565158844\n"
          ]
        }
      ]
    },
    {
      "cell_type": "markdown",
      "metadata": {
        "id": "68jNcA_TiJDq"
      },
      "source": [
        "## Visualization\n"
      ]
    },
    {
      "cell_type": "markdown",
      "metadata": {
        "id": "aO-LWCdbbOIC"
      },
      "source": [
        "### Plots\n",
        "\n",
        "Use **matplotlib.pyplot** to chart how the policy improved during training.\n",
        "\n",
        "One iteration of **Cartpole-v0** consists of 200 time steps. The environment gives a reward of `+1` for each step the pole stays up, so the maximum return for one episode is 200. The charts show the return increasing towards that maximum each time it is evaluated during training. (It may be a little unstable and not increase each time monotonically.)"
      ]
    },
    {
      "cell_type": "code",
      "metadata": {
        "id": "NxtL1mbOYCVO",
        "colab": {
          "base_uri": "https://localhost:8080/",
          "height": 301
        },
        "outputId": "1a21c6df-793f-4511-9964-7e59051fd9b5"
      },
      "source": [
        "iterations = range(0, num_iterations + 1, eval_interval)\n",
        "plt.plot(iterations, returns)\n",
        "plt.ylabel('Average Return')\n",
        "plt.xlabel('Iterations')\n",
        "plt.ylim(top=250)"
      ],
      "execution_count": 28,
      "outputs": [
        {
          "output_type": "execute_result",
          "data": {
            "text/plain": [
              "(0.5, 250.0)"
            ]
          },
          "metadata": {},
          "execution_count": 28
        },
        {
          "output_type": "display_data",
          "data": {
            "image/png": "[encoded data removed]",
            "text/plain": [
              "<Figure size 432x288 with 1 Axes>"
            ]
          },
          "metadata": {
            "needs_background": "light"
          }
        }
      ]
    },
    {
      "cell_type": "markdown",
      "metadata": {
        "id": "M7-XpPP99Cy7"
      },
      "source": [
        "### Videos"
      ]
    },
    {
      "cell_type": "markdown",
      "metadata": {
        "id": "9pGfGxSH32gn"
      },
      "source": [
        "Charts are nice. But more exciting is seeing an agent actually performing a task in an environment. \n",
        "\n",
        "First, create a function to embed videos in the notebook."
      ]
    },
    {
      "cell_type": "code",
      "metadata": {
        "id": "ULaGr8pvOKbl"
      },
      "source": [
        "def embed_mp4(filename):\n",
        "  \"\"\"Embeds an mp4 file in the notebook.\"\"\"\n",
        "  video = open(filename,'rb').read()\n",
        "  b64 = base64.b64encode(video)\n",
        "  tag = '''\n",
        "  <video width=\"640\" height=\"480\" controls>\n",
        "    <source src=\"data:video/mp4;base64,{0}\" type=\"video/mp4\">\n",
        "  Your browser does not support the video tag.\n",
        "  </video>'''.format(b64.decode())\n",
        "\n",
        "  return IPython.display.HTML(tag)"
      ],
      "execution_count": 29,
      "outputs": []
    },
    {
      "cell_type": "markdown",
      "metadata": {
        "id": "9c_PH-pX4Pr5"
      },
      "source": [
        "Now iterate through a few episodes of the Cartpole game with the agent. The underlying Python environment (the one \"inside\" the TensorFlow environment wrapper) provides a `render()` method, which outputs an image of the environment state. These can be collected into a video."
      ]
    },
    {
      "cell_type": "code",
      "metadata": {
        "id": "owOVWB158NlF",
        "colab": {
          "base_uri": "https://localhost:8080/",
          "height": 520
        },
        "outputId": "92bed506-2a5c-400e-ef88-16872e6809d0"
      },
      "source": [
        "def create_policy_eval_video(policy, filename, num_episodes=5, fps=30):\n",
        "  filename = filename + \".mp4\"\n",
        "  with imageio.get_writer(filename, fps=fps) as video:\n",
        "    for _ in range(num_episodes):\n",
        "      time_step = eval_env.reset()\n",
        "      video.append_data(eval_py_env.render())\n",
        "      while not time_step.is_last():\n",
        "        action_step = policy.action(time_step)\n",
        "        time_step = eval_env.step(action_step.action)\n",
        "        video.append_data(eval_py_env.render())\n",
        "  return embed_mp4(filename)\n",
        "\n",
        "\n",
        "\n",
        "\n",
        "create_policy_eval_video(agent.policy, \"trained-agent\")"
      ],
      "execution_count": 30,
      "outputs": [
        {
          "output_type": "stream",
          "name": "stderr",
          "text": [
            "WARNING:root:IMAGEIO FFMPEG_WRITER WARNING: input image is not divisible by macro_block_size=16, resizing from (400, 600) to (400, 608) to ensure video compatibility with most codecs and players. To prevent resizing, make your input image divisible by the macro_block_size or set the macro_block_size to None (risking incompatibility). You may also see a FFMPEG warning concerning speedloss due to data not being aligned.\n"
          ]
        },
        {
          "output_type": "execute_result",
          "data": {
            "text/html": [
              "\n",
              "  <video width=\"640\" height=\"480\" controls>\n",
              "    <source src=\"data:video/mp4;base64,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\" type=\"video/mp4\">\n",
              "  Your browser does not support the video tag.\n",
              "  </video>"
            ],
            "text/plain": [
              "<IPython.core.display.HTML object>"
            ]
          },
          "metadata": {},
          "execution_count": 30
        }
      ]
    },
    {
      "cell_type": "markdown",
      "metadata": {
        "id": "povaAOcZygLw"
      },
      "source": [
        "For fun, compare the trained agent (above) to an agent moving randomly. (It does not do as well.)"
      ]
    },
    {
      "cell_type": "code",
      "metadata": {
        "id": "pJZIdC37yNH4",
        "colab": {
          "base_uri": "https://localhost:8080/",
          "height": 520
        },
        "outputId": "c96e7b43-f773-427e-bfc3-fcf87d24d6cd"
      },
      "source": [
        "create_policy_eval_video(random_policy, \"random-agent\")"
      ],
      "execution_count": 31,
      "outputs": [
        {
          "output_type": "stream",
          "name": "stderr",
          "text": [
            "WARNING:root:IMAGEIO FFMPEG_WRITER WARNING: input image is not divisible by macro_block_size=16, resizing from (400, 600) to (400, 608) to ensure video compatibility with most codecs and players. To prevent resizing, make your input image divisible by the macro_block_size or set the macro_block_size to None (risking incompatibility). You may also see a FFMPEG warning concerning speedloss due to data not being aligned.\n"
          ]
        },
        {
          "output_type": "execute_result",
          "data": {
            "text/html": [
              "\n",
              "  <video width=\"640\" height=\"480\" controls>\n",
              "    <source src=\"data:video/mp4;base64,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\" type=\"video/mp4\">\n",
              "  Your browser does not support the video tag.\n",
              "  </video>"
            ],
            "text/plain": [
              "<IPython.core.display.HTML object>"
            ]
          },
          "metadata": {},
          "execution_count": 31
        }
      ]
    },
    {
      "cell_type": "code",
      "source": [
        ""
      ],
      "metadata": {
        "id": "w1D-hbSTUywt"
      },
      "execution_count": 31,
      "outputs": []
    }
  ]
}