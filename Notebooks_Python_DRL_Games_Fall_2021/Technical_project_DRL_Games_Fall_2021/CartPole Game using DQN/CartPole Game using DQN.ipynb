{
  "nbformat": 4,
  "nbformat_minor": 0,
  "metadata": {
    "anaconda-cloud": {},
    "kernelspec": {
      "display_name": "Python 3.6 (tensorflow)",
      "language": "python",
      "name": "tensorflow"
    },
    "language_info": {
      "codemirror_mode": {
        "name": "ipython",
        "version": 3
      },
      "file_extension": ".py",
      "mimetype": "text/x-python",
      "name": "python",
      "nbconvert_exporter": "python",
      "pygments_lexer": "ipython3",
      "version": "3.7.7"
    },
    "colab": {
      "name": "t81_558_class_12_03_keras_reinforce.ipynb",
      "provenance": []
    }
  },
  "cells": [
    {
      "cell_type": "markdown",
      "metadata": {
        "id": "MdZqDrmkH_fL"
      },
      "source": [
        "# CartPole Game using DQN"
      ]
    },
    {
      "cell_type": "markdown",
      "metadata": {
        "id": "cKOCZlhUgXVK"
      },
      "source": [
        "# Google CoLab Instructions\n",
        "\n",
        "The following code ensures that Google CoLab is running the correct version of TensorFlow."
      ]
    },
    {
      "cell_type": "code",
      "metadata": {
        "id": "Y0WC-M08zNNq",
        "colab": {
          "base_uri": "https://localhost:8080/"
        },
        "outputId": "5d1bc61f-e22e-4994-dede-cb74b24cf716"
      },
      "source": [
        "try:\n",
        "    from google.colab import drive\n",
        "    %tensorflow_version 2.x\n",
        "    COLAB = True\n",
        "    print(\"Note: using Google CoLab\")\n",
        "except:\n",
        "    print(\"Note: not using Google CoLab\")\n",
        "    COLAB = False"
      ],
      "execution_count": 2,
      "outputs": [
        {
          "output_type": "stream",
          "name": "stdout",
          "text": [
            "Note: using Google CoLab\n"
          ]
        }
      ]
    },
    {
      "cell_type": "code",
      "metadata": {
        "id": "FreS1XOPzO9X",
        "colab": {
          "base_uri": "https://localhost:8080/"
        },
        "outputId": "d5397f7c-ec4d-43b2-d24b-f226ce9f974e"
      },
      "source": [
        "if COLAB:\n",
        "  !sudo apt-get install -y xvfb ffmpeg x11-utils\n",
        "  #!pip install -q 'gym==0.10.11'\n",
        "  !pip install -q 'imageio==2.4.0'\n",
        "  !pip install -q PILLOW\n",
        "  #!pip install -q 'pyglet==1.3.2'\n",
        "  !pip install -q pyvirtualdisplay\n",
        "  !pip install -q tf-agents\n",
        "  #Added for gym for dependency fix and pyglet bug fix\n",
        "  !pip install -q 'gym==0.21.0'\n",
        "  !pip install -q 'pyglet==1.5.21'\n",
        "\n"
      ],
      "execution_count": 3,
      "outputs": [
        {
          "output_type": "stream",
          "name": "stdout",
          "text": [
            "Reading package lists... Done\n",
            "Building dependency tree       \n",
            "Reading state information... Done\n",
            "ffmpeg is already the newest version (7:3.4.8-0ubuntu0.2).\n",
            "Suggested packages:\n",
            "  mesa-utils\n",
            "The following NEW packages will be installed:\n",
            "  libxxf86dga1 x11-utils xvfb\n",
            "0 upgraded, 3 newly installed, 0 to remove and 37 not upgraded.\n",
            "Need to get 993 kB of archives.\n",
            "After this operation, 2,982 kB of additional disk space will be used.\n",
            "Get:1 http://archive.ubuntu.com/ubuntu bionic/main amd64 libxxf86dga1 amd64 2:1.1.4-1 [13.7 kB]\n",
            "Get:2 http://archive.ubuntu.com/ubuntu bionic/main amd64 x11-utils amd64 7.7+3build1 [196 kB]\n",
            "Get:3 http://archive.ubuntu.com/ubuntu bionic-updates/universe amd64 xvfb amd64 2:1.19.6-1ubuntu4.10 [784 kB]\n",
            "Fetched 993 kB in 2s (437 kB/s)\n",
            "debconf: unable to initialize frontend: Dialog\n",
            "debconf: (No usable dialog-like program is installed, so the dialog based frontend cannot be used. at /usr/share/perl5/Debconf/FrontEnd/Dialog.pm line 76, <> line 3.)\n",
            "debconf: falling back to frontend: Readline\n",
            "debconf: unable to initialize frontend: Readline\n",
            "debconf: (This frontend requires a controlling tty.)\n",
            "debconf: falling back to frontend: Teletype\n",
            "dpkg-preconfigure: unable to re-open stdin: \n",
            "Selecting previously unselected package libxxf86dga1:amd64.\n",
            "(Reading database ... 155229 files and directories currently installed.)\n",
            "Preparing to unpack .../libxxf86dga1_2%3a1.1.4-1_amd64.deb ...\n",
            "Unpacking libxxf86dga1:amd64 (2:1.1.4-1) ...\n",
            "Selecting previously unselected package x11-utils.\n",
            "Preparing to unpack .../x11-utils_7.7+3build1_amd64.deb ...\n",
            "Unpacking x11-utils (7.7+3build1) ...\n",
            "Selecting previously unselected package xvfb.\n",
            "Preparing to unpack .../xvfb_2%3a1.19.6-1ubuntu4.10_amd64.deb ...\n",
            "Unpacking xvfb (2:1.19.6-1ubuntu4.10) ...\n",
            "Setting up xvfb (2:1.19.6-1ubuntu4.10) ...\n",
            "Setting up libxxf86dga1:amd64 (2:1.1.4-1) ...\n",
            "Setting up x11-utils (7.7+3build1) ...\n",
            "Processing triggers for man-db (2.8.3-2ubuntu0.1) ...\n",
            "Processing triggers for libc-bin (2.27-3ubuntu1.3) ...\n",
            "/sbin/ldconfig.real: /usr/local/lib/python3.7/dist-packages/ideep4py/lib/libmkldnn.so.0 is not a symbolic link\n",
            "\n",
            "\u001b[K     |████████████████████████████████| 3.3 MB 4.2 MB/s \n",
            "\u001b[?25h  Building wheel for imageio (setup.py) ... \u001b[?25l\u001b[?25hdone\n",
            "\u001b[31mERROR: pip's dependency resolver does not currently take into account all the packages that are installed. This behaviour is the source of the following dependency conflicts.\n",
            "albumentations 0.1.12 requires imgaug<0.2.7,>=0.2.5, but you have imgaug 0.2.9 which is incompatible.\u001b[0m\n",
            "\u001b[K     |████████████████████████████████| 1.3 MB 4.3 MB/s \n",
            "\u001b[K     |████████████████████████████████| 1.5 MB 4.1 MB/s \n",
            "\u001b[?25h  Building wheel for gym (setup.py) ... \u001b[?25l\u001b[?25hdone\n",
            "\u001b[K     |████████████████████████████████| 1.1 MB 4.3 MB/s \n",
            "\u001b[?25h"
          ]
        }
      ]
    },
    {
      "cell_type": "markdown",
      "metadata": {
        "id": "1u9QVVsShC9X"
      },
      "source": [
        "# Part 12.3: Keras Q-Learning in the OpenAI Gym\n",
        "\n",
        "Q-Learning, as we covered in the previous part, is a robust machine learning algorithm.  Unfortunately, Q-Learning requires that the Q-table contain an entry for every possible state that the environment can take.  If the environment only includes a handful of discrete state elements, then traditional Q-learning might be a good learning algorithm.  However, if the state space is large, the Q-table can become prohibitively large.\n",
        "\n",
        "Creating policies for large state spaces is a task that Deep Q-Learning Networks (DQN) can usually handle.  Unlike a table, a neural network does not require the program to represent every combination of state and action.  Neural networks can generalize these states and learn commonalities.  A DQN maps the state to its input neurons and the action Q-values to the output neurons.  The DQN effectively becomes a function that accepts state and suggestions an action by returning the expected reward for each of the possible actions. Figure 12.DQL demonstrates the DQN structure and mapping between state and action.\n",
        "\n",
        "**Figure 12.DQL: Deep Q-Learning (DQL)**\n",
        "![Deep Q-Learning](https://raw.githubusercontent.com/jeffheaton/t81_558_deep_learning/master/images/deepqlearning.png \"Reinforcement Learning\")\n",
        "\n",
        "\n"
      ]
    },
    {
      "cell_type": "markdown",
      "metadata": {
        "id": "kNrNXKI7bINP"
      },
      "source": [
        "As this diagram illustrates, the environment state contains several elements.  For the basic DQN the state can be a mix of continuous and categorical/discrete values.  For the DQN, the discrete state elements the program typically encoded as dummy variables. The actions should be discrete when your program implements a DQN.  Other algorithms support continuous outputs, which we will discuss later in this chapter.\n",
        "\n",
        "In this chapter, we will make use of [TF-Agents](https://www.tensorflow.org/agents) to implement a DQN to solve the cart-pole environment.  TF-Agents makes designing, implementing, and testing new RL algorithms easier by providing well tested modular components that can be modified and extended. It enables fast code iteration, with functional test integration and benchmarking.\n",
        "\n",
        "## DQN and the Cart-Pole Problem\n",
        "\n",
        "Barto (1983) first described the cart-pole problem. [[Cite:barto1983neuronlike]](http://www.derongliu.org/adp/adp-cdrom/Barto1983.pdf) A cart is connected to a hinged rigid pole.  The cart is free to move only in the vertical plane of the cart/track.  The agent can apply an implusive \"left\" or \"right\" force F of a fixed magnitude to the cart at discrete time intervals.  The cart-pole environment simulates the physics behind keeping the pole in a reasonably upright position on the cart.  The environment has four state variables:\n",
        "* $x$ The position of the cart on the track.\n",
        "* $\\theta$ The angle of the pole with the vertical\n",
        "* $\\dot{x}$ The cart velocity.\n",
        "* $\\dot{\\theta}$ The rate of change of the angle.\n",
        "\n",
        "The action space consists of discrete actions:\n",
        "* Apply force left\n",
        "* Apply force right\n",
        "\n",
        "To apply DQN to this problem, you need to create the following components for TF-Agents.\n",
        "\n",
        "* Environment\n",
        "* Agent\n",
        "* Policies\n",
        "* Metrics and Evaluation\n",
        "* Replay Buffer\n",
        "* Data Collection\n",
        "* Training\n",
        "\n",
        "These components are standard in most DQN implementations.  Later, we will apply these same components to an Atari game, and after that, a problem of our design. This example is based on the [cart-pole tutorial](https://github.com/tensorflow/agents/blob/master/docs/tutorials/1_dqn_tutorial.ipynb) provided for TF-Agents.  We begin by importing needed Python libraries.\n"
      ]
    },
    {
      "cell_type": "code",
      "metadata": {
        "id": "sMitx5qSgJk1"
      },
      "source": [
        "import base64\n",
        "import imageio\n",
        "import IPython\n",
        "import matplotlib\n",
        "import matplotlib.pyplot as plt\n",
        "import numpy as np\n",
        "import PIL.Image\n",
        "import pyvirtualdisplay\n",
        "\n",
        "import tensorflow as tf\n",
        "\n",
        "from tf_agents.agents.dqn import dqn_agent\n",
        "from tf_agents.drivers import dynamic_step_driver\n",
        "from tf_agents.environments import suite_gym\n",
        "from tf_agents.environments import tf_py_environment\n",
        "from tf_agents.eval import metric_utils\n",
        "from tf_agents.metrics import tf_metrics\n",
        "from tf_agents.networks import q_network\n",
        "from tf_agents.policies import random_tf_policy\n",
        "from tf_agents.replay_buffers import tf_uniform_replay_buffer\n",
        "from tf_agents.trajectories import trajectory\n",
        "from tf_agents.utils import common"
      ],
      "execution_count": 4,
      "outputs": []
    },
    {
      "cell_type": "code",
      "metadata": {
        "id": "J6HsdS5GbSjd"
      },
      "source": [
        "# Set up a virtual display for rendering OpenAI gym environments.\n",
        "display = pyvirtualdisplay.Display(visible=0, size=(1400, 900)).start()"
      ],
      "execution_count": 5,
      "outputs": []
    },
    {
      "cell_type": "markdown",
      "metadata": {
        "id": "LmC0NDhdLIKY"
      },
      "source": [
        "## Hyperparameters\n",
        "\n",
        "Several hyperparameters must be defined.  The TF-Agent example provided reasonably well-tuned hyperparameters for cart-pole.  Later we will adapt these to an Atari game."
      ]
    },
    {
      "cell_type": "code",
      "metadata": {
        "id": "HC1kNrOsLSIZ"
      },
      "source": [
        "# How long should training run?\n",
        "num_iterations = 20000 \n",
        "# How many initial random steps, before training start, to\n",
        "# collect initial data.\n",
        "initial_collect_steps = 1000   \n",
        "# How many steps should we run each iteration to collect \n",
        "# data from.\n",
        "collect_steps_per_iteration = 1 \n",
        "# How much data should we store for training examples.\n",
        "replay_buffer_max_length = 100000\n",
        "\n",
        "batch_size = 64  \n",
        "learning_rate = 1e-3 \n",
        "# How often should the program provide an update.\n",
        "log_interval = 200  \n",
        "\n",
        "# How many episodes should the program use for each evaluation.\n",
        "num_eval_episodes = 10\n",
        "# How often should an evaluation occur.\n",
        "eval_interval = 1000  "
      ],
      "execution_count": 6,
      "outputs": []
    },
    {
      "cell_type": "markdown",
      "metadata": {
        "id": "VMsJC3DEgI0x"
      },
      "source": [
        "## Environment\n",
        "\n",
        "TF-Agents uses OpenAI gym environments to represent the task or problem to be solved. Standard environments can be created in TF-Agents using **tf_agents.environments** suites. TF-Agents has suites for loading environments from sources such as the OpenAI Gym, Atari, and DM Control. We begin by loading the CartPole environment from the OpenAI Gym suite. "
      ]
    },
    {
      "cell_type": "code",
      "metadata": {
        "id": "pYEz-S9gEv2-"
      },
      "source": [
        "env_name = 'CartPole-v0'\n",
        "env = suite_gym.load(env_name)"
      ],
      "execution_count": 7,
      "outputs": []
    },
    {
      "cell_type": "markdown",
      "metadata": {
        "id": "IIHYVBkuvPNw"
      },
      "source": [
        "We will quickly render this environment to see the visual representation."
      ]
    },
    {
      "cell_type": "code",
      "metadata": {
        "id": "RlO7WIQHu_7D",
        "colab": {
          "base_uri": "https://localhost:8080/"
        },
        "outputId": "16d48882-dbf6-4a0a-bd9c-009f9d42926b"
      },
      "source": [
        "env.reset()\n",
        "env.render()\n",
        "#PIL.Image.fromarray(env.render())"
      ],
      "execution_count": 8,
      "outputs": [
        {
          "output_type": "execute_result",
          "data": {
            "text/plain": [
              "array([[[255, 255, 255],\n",
              "        [255, 255, 255],\n",
              "        [255, 255, 255],\n",
              "        ...,\n",
              "        [255, 255, 255],\n",
              "        [255, 255, 255],\n",
              "        [255, 255, 255]],\n",
              "\n",
              "       [[255, 255, 255],\n",
              "        [255, 255, 255],\n",
              "        [255, 255, 255],\n",
              "        ...,\n",
              "        [255, 255, 255],\n",
              "        [255, 255, 255],\n",
              "        [255, 255, 255]],\n",
              "\n",
              "       [[255, 255, 255],\n",
              "        [255, 255, 255],\n",
              "        [255, 255, 255],\n",
              "        ...,\n",
              "        [255, 255, 255],\n",
              "        [255, 255, 255],\n",
              "        [255, 255, 255]],\n",
              "\n",
              "       ...,\n",
              "\n",
              "       [[255, 255, 255],\n",
              "        [255, 255, 255],\n",
              "        [255, 255, 255],\n",
              "        ...,\n",
              "        [255, 255, 255],\n",
              "        [255, 255, 255],\n",
              "        [255, 255, 255]],\n",
              "\n",
              "       [[255, 255, 255],\n",
              "        [255, 255, 255],\n",
              "        [255, 255, 255],\n",
              "        ...,\n",
              "        [255, 255, 255],\n",
              "        [255, 255, 255],\n",
              "        [255, 255, 255]],\n",
              "\n",
              "       [[255, 255, 255],\n",
              "        [255, 255, 255],\n",
              "        [255, 255, 255],\n",
              "        ...,\n",
              "        [255, 255, 255],\n",
              "        [255, 255, 255],\n",
              "        [255, 255, 255]]], dtype=uint8)"
            ]
          },
          "metadata": {},
          "execution_count": 8
        }
      ]
    },
    {
      "cell_type": "markdown",
      "metadata": {
        "id": "B9_lskPOey18"
      },
      "source": [
        "The `environment.step` method takes an `action` in the environment and returns a `TimeStep` tuple containing the next observation of the environment and the reward for the action.\n",
        "\n",
        "The `time_step_spec()` method returns the specification for the `TimeStep` tuple. Its `observation` attribute shows the shape of observations, the data types, and the ranges of allowed values. The `reward` attribute shows the same details for the reward.\n"
      ]
    },
    {
      "cell_type": "code",
      "metadata": {
        "id": "exDv57iHfwQV",
        "outputId": "e90e1bef-b539-41c9-d195-afa91c5f5266",
        "colab": {
          "base_uri": "https://localhost:8080/"
        }
      },
      "source": [
        "print('Observation Spec:')\n",
        "print(env.time_step_spec().observation)"
      ],
      "execution_count": 9,
      "outputs": [
        {
          "output_type": "stream",
          "name": "stdout",
          "text": [
            "Observation Spec:\n",
            "BoundedArraySpec(shape=(4,), dtype=dtype('float32'), name='observation', minimum=[-4.8000002e+00 -3.4028235e+38 -4.1887903e-01 -3.4028235e+38], maximum=[4.8000002e+00 3.4028235e+38 4.1887903e-01 3.4028235e+38])\n"
          ]
        }
      ]
    },
    {
      "cell_type": "code",
      "metadata": {
        "id": "UxiSyCbBUQPi",
        "outputId": "66885b0a-fdb7-431b-8316-55097a4bf3f3",
        "colab": {
          "base_uri": "https://localhost:8080/"
        }
      },
      "source": [
        "print('Reward Spec:')\n",
        "print(env.time_step_spec().reward)"
      ],
      "execution_count": 10,
      "outputs": [
        {
          "output_type": "stream",
          "name": "stdout",
          "text": [
            "Reward Spec:\n",
            "ArraySpec(shape=(), dtype=dtype('float32'), name='reward')\n"
          ]
        }
      ]
    },
    {
      "cell_type": "markdown",
      "metadata": {
        "id": "b_lHcIcqUaqB"
      },
      "source": [
        "The `action_spec()` method returns the shape, data types, and allowed values of valid actions."
      ]
    },
    {
      "cell_type": "code",
      "metadata": {
        "id": "bttJ4uxZUQBr",
        "outputId": "f773dce2-d198-4b01-9272-a0c3851f83a5",
        "colab": {
          "base_uri": "https://localhost:8080/"
        }
      },
      "source": [
        "print('Action Spec:')\n",
        "print(env.action_spec())"
      ],
      "execution_count": 11,
      "outputs": [
        {
          "output_type": "stream",
          "name": "stdout",
          "text": [
            "Action Spec:\n",
            "BoundedArraySpec(shape=(), dtype=dtype('int64'), name='action', minimum=0, maximum=1)\n"
          ]
        }
      ]
    },
    {
      "cell_type": "markdown",
      "metadata": {
        "id": "eJCgJnx3g0yY"
      },
      "source": [
        "In the Cartpole environment:\n",
        "\n",
        "-   `observation` is an array of 4 floats: \n",
        "    -   the position and velocity of the cart\n",
        "    -   the angular position and velocity of the pole \n",
        "-   `reward` is a scalar float value\n",
        "-   `action` is a scalar integer with only two possible values:\n",
        "    -   `0` — \"move left\"\n",
        "    -   `1` — \"move right\"\n"
      ]
    },
    {
      "cell_type": "code",
      "metadata": {
        "id": "V2UGR5t_iZX-",
        "outputId": "eaf7f671-740f-4357-f814-5a4dc96b5a7c",
        "colab": {
          "base_uri": "https://localhost:8080/"
        }
      },
      "source": [
        "time_step = env.reset()\n",
        "print('Time step:')\n",
        "print(time_step)\n",
        "\n",
        "action = np.array(1, dtype=np.int32)\n",
        "\n",
        "next_time_step = env.step(action)\n",
        "print('Next time step:')\n",
        "print(next_time_step)"
      ],
      "execution_count": 12,
      "outputs": [
        {
          "output_type": "stream",
          "name": "stdout",
          "text": [
            "Time step:\n",
            "TimeStep(\n",
            "{'discount': array(1., dtype=float32),\n",
            " 'observation': array([-0.02797242,  0.02317247, -0.02327053,  0.02368885], dtype=float32),\n",
            " 'reward': array(0., dtype=float32),\n",
            " 'step_type': array(0, dtype=int32)})\n",
            "Next time step:\n",
            "TimeStep(\n",
            "{'discount': array(1., dtype=float32),\n",
            " 'observation': array([-0.02750896,  0.21862029, -0.02279675, -0.2762444 ], dtype=float32),\n",
            " 'reward': array(1., dtype=float32),\n",
            " 'step_type': array(1, dtype=int32)})\n"
          ]
        }
      ]
    },
    {
      "cell_type": "markdown",
      "metadata": {
        "id": "4JSc9GviWUBK"
      },
      "source": [
        "Usually, the program instantiates two environments: one for training and one for evaluation. "
      ]
    },
    {
      "cell_type": "code",
      "metadata": {
        "id": "N7brXNIGWXjC"
      },
      "source": [
        "train_py_env = suite_gym.load(env_name)\n",
        "eval_py_env = suite_gym.load(env_name)"
      ],
      "execution_count": 13,
      "outputs": []
    },
    {
      "cell_type": "markdown",
      "metadata": {
        "id": "zuUqXAVmecTU"
      },
      "source": [
        "The Cartpole environment, like most environments, is written in pure Python and is converted to TF-Agents and TensorFlow using the **TFPyEnvironment** wrapper. The original environment's API uses Numpy arrays. The **TFPyEnvironment** turns these to **Tensors** to make it compatible with Tensorflow agents and policies.\n"
      ]
    },
    {
      "cell_type": "code",
      "metadata": {
        "id": "Xp-Y4mD6eDhF"
      },
      "source": [
        "train_env = tf_py_environment.TFPyEnvironment(train_py_env)\n",
        "eval_env = tf_py_environment.TFPyEnvironment(eval_py_env)"
      ],
      "execution_count": 14,
      "outputs": []
    },
    {
      "cell_type": "markdown",
      "metadata": {
        "id": "E9lW_OZYFR8A"
      },
      "source": [
        "## Agent\n",
        "\n",
        "An Agent represents the algorithm used to solve an RL problem. TF-Agents provides standard implementations of a variety of Agents:\n",
        "\n",
        "-   [DQN](https://storage.googleapis.com/deepmind-media/dqn/DQNNaturePaper.pdf) (used in this example)\n",
        "-   [REINFORCE](http://www-anw.cs.umass.edu/~barto/courses/cs687/williams92simple.pdf)\n",
        "-   [DDPG](https://arxiv.org/pdf/1509.02971.pdf)\n",
        "-   [TD3](https://arxiv.org/pdf/1802.09477.pdf)\n",
        "-   [PPO](https://arxiv.org/abs/1707.06347)\n",
        "-   [SAC](https://arxiv.org/abs/1801.01290).\n",
        "\n",
        "You can only use the DQN agent in environments which have a discrete action space.  The DQN makes use of a QNetwork, a neural network model that learns to predict Q-Values (expected returns) for all actions, given a state from the environment.\n",
        "\n",
        "The following code uses **tf_agents.networks.q_network** to create a QNetwork, passing in the **observation_spec**, **action_spec**, and a tuple describing the number and size of the model's hidden layers.\n"
      ]
    },
    {
      "cell_type": "code",
      "metadata": {
        "id": "TgkdEPg_muzV"
      },
      "source": [
        "fc_layer_params = (100,)\n",
        "\n",
        "q_net = q_network.QNetwork(\n",
        "    train_env.observation_spec(),\n",
        "    train_env.action_spec(),\n",
        "    fc_layer_params=fc_layer_params)"
      ],
      "execution_count": 15,
      "outputs": []
    },
    {
      "cell_type": "markdown",
      "metadata": {
        "id": "z62u55hSmviJ"
      },
      "source": [
        "Now we use **tf_agents.agents.dqn.dqn_agent** to instantiate a **DqnAgent**. In addition to the **time_step_spec**, **action_spec** and the QNetwork, the agent constructor also requires an optimizer (in this case, **AdamOptimizer**), a loss function, and an integer step counter."
      ]
    },
    {
      "cell_type": "code",
      "metadata": {
        "id": "jbY4yrjTEyc9"
      },
      "source": [
        "optimizer = tf.compat.v1.train.AdamOptimizer(learning_rate=learning_rate)\n",
        "\n",
        "train_step_counter = tf.Variable(0)\n",
        "\n",
        "agent = dqn_agent.DqnAgent(\n",
        "    train_env.time_step_spec(),\n",
        "    train_env.action_spec(),\n",
        "    q_network=q_net,\n",
        "    optimizer=optimizer,\n",
        "    td_errors_loss_fn=common.element_wise_squared_loss,\n",
        "    train_step_counter=train_step_counter)\n",
        "\n",
        "agent.initialize()"
      ],
      "execution_count": 16,
      "outputs": []
    },
    {
      "cell_type": "markdown",
      "metadata": {
        "id": "I0KLrEPwkn5x"
      },
      "source": [
        "## Policies\n",
        "\n",
        "A policy defines the way an agent acts in an environment. Typically, the goal of reinforcement learning is to train the underlying model until the policy produces the desired outcome.\n",
        "\n",
        "In this example:\n",
        "\n",
        "* The desired outcome is keeping the pole balanced upright over the cart.\n",
        "* The policy returns an action (left or right) for each `time_step` observation.\n",
        "\n",
        "Agents contain two policies: \n",
        "\n",
        "*  **agent.policy** -  The algorithm uses this main policy for evaluation and deployment.\n",
        "* **agent.collect_policy** - The algorithm this secondary policy for data collection.\n"
      ]
    },
    {
      "cell_type": "code",
      "metadata": {
        "id": "BwY7StuMkuV4"
      },
      "source": [
        "eval_policy = agent.policy\n",
        "collect_policy = agent.collect_policy"
      ],
      "execution_count": 17,
      "outputs": []
    },
    {
      "cell_type": "markdown",
      "metadata": {
        "id": "2Qs1Fl3dV0ae"
      },
      "source": [
        "Policies can be created independently of agents. For example, use **tf_agents.policies.random_tf_policy** to create a policy which will randomly select an action for each **time_step**. We will use this random policy to create initial collection data to begin training."
      ]
    },
    {
      "cell_type": "code",
      "metadata": {
        "id": "HE37-UCIrE69"
      },
      "source": [
        "random_policy = random_tf_policy.RandomTFPolicy(train_env.time_step_spec(),\n",
        "                                                train_env.action_spec())"
      ],
      "execution_count": 18,
      "outputs": []
    },
    {
      "cell_type": "markdown",
      "metadata": {
        "id": "dOlnlRRsUbxP"
      },
      "source": [
        "To get an action from a policy, call the **policy.action(time_step)** method. The **time_step** contains the observation from the environment. This method returns a **PolicyStep**, which is a named tuple with three components:\n",
        "\n",
        "* **action** - The action to be taken (in this case, 0 or 1).\n",
        "* **state** - Used for stateful (that is, RNN-based) policies.\n",
        "* **info** - Auxiliary data, such as log probabilities of actions.\n",
        "\n",
        "Next we create an environment and setup the random policy."
      ]
    },
    {
      "cell_type": "code",
      "metadata": {
        "id": "5gCcpXswVAxk",
        "outputId": "3e2f063d-69ee-4007-99e2-4a709a1223e6",
        "colab": {
          "base_uri": "https://localhost:8080/"
        }
      },
      "source": [
        "example_environment = tf_py_environment.TFPyEnvironment(\n",
        "    suite_gym.load('CartPole-v0'))\n",
        "time_step = example_environment.reset()\n",
        "random_policy.action(time_step)"
      ],
      "execution_count": 19,
      "outputs": [
        {
          "output_type": "execute_result",
          "data": {
            "text/plain": [
              "PolicyStep(action=<tf.Tensor: shape=(1,), dtype=int64, numpy=array([1])>, state=(), info=())"
            ]
          },
          "metadata": {},
          "execution_count": 19
        }
      ]
    },
    {
      "cell_type": "markdown",
      "metadata": {
        "id": "94rCXQtbUbXv"
      },
      "source": [
        "## Metrics and Evaluation\n",
        "\n",
        "The most common metric used to evaluate a policy is the average return. The return is the sum of rewards obtained while running a policy in an environment for an episode. Several episodes are run, creating an average return. The following function computes the average return of a policy, given the policy, environment, and a number of episodes.  We will use this same evaluation for Atari.\n"
      ]
    },
    {
      "cell_type": "code",
      "metadata": {
        "id": "bitzHo5_UbXy"
      },
      "source": [
        "def compute_avg_return(environment, policy, num_episodes=10):\n",
        "\n",
        "  total_return = 0.0\n",
        "  for _ in range(num_episodes):\n",
        "\n",
        "    time_step = environment.reset()\n",
        "    episode_return = 0.0\n",
        "\n",
        "    while not time_step.is_last():\n",
        "      action_step = policy.action(time_step)\n",
        "      time_step = environment.step(action_step.action)\n",
        "      episode_return += time_step.reward\n",
        "    total_return += episode_return\n",
        "\n",
        "  avg_return = total_return / num_episodes\n",
        "  return avg_return.numpy()[0]\n",
        "\n",
        "\n",
        "# See also the metrics module for standard implementations \n",
        "# of different metrics.\n",
        "# https://github.com/tensorflow/agents/tree/master/tf_agents/metrics"
      ],
      "execution_count": 20,
      "outputs": []
    },
    {
      "cell_type": "markdown",
      "metadata": {
        "id": "_snCVvq5Z8lJ"
      },
      "source": [
        "Running this computation on the `random_policy` shows a baseline performance in the environment."
      ]
    },
    {
      "cell_type": "code",
      "metadata": {
        "id": "9bgU6Q6BZ8Bp",
        "outputId": "ad8ffa1f-e537-4e5d-da62-967ff8830440",
        "colab": {
          "base_uri": "https://localhost:8080/"
        }
      },
      "source": [
        "compute_avg_return(eval_env, random_policy, num_eval_episodes)"
      ],
      "execution_count": 21,
      "outputs": [
        {
          "output_type": "execute_result",
          "data": {
            "text/plain": [
              "20.8"
            ]
          },
          "metadata": {},
          "execution_count": 21
        }
      ]
    },
    {
      "cell_type": "markdown",
      "metadata": {
        "id": "NLva6g2jdWgr"
      },
      "source": [
        "## Replay Buffer\n",
        "\n",
        "The replay buffer keeps track of data collected from the environment. This tutorial uses **TFUniformReplayBuffer**. The constructor requires the specs for the data it will be collecting. This value is available from the agent using the **collect_data_spec** method. The batch size and maximum buffer length are also required.\n"
      ]
    },
    {
      "cell_type": "code",
      "metadata": {
        "id": "vX2zGUWJGWAl"
      },
      "source": [
        "replay_buffer = tf_uniform_replay_buffer.TFUniformReplayBuffer(\n",
        "    data_spec=agent.collect_data_spec,\n",
        "    batch_size=train_env.batch_size,\n",
        "    max_length=replay_buffer_max_length)"
      ],
      "execution_count": 22,
      "outputs": []
    },
    {
      "cell_type": "markdown",
      "metadata": {
        "id": "ZGNTDJpZs4NN"
      },
      "source": [
        "For most agents, **collect_data_spec** is a named tuple called **Trajectory**, containing the specs for observations, actions, rewards, and other items."
      ]
    },
    {
      "cell_type": "code",
      "metadata": {
        "id": "_IZ-3HcqgE1z",
        "outputId": "1fc98302-0130-4e66-9825-987e2a723dd2",
        "colab": {
          "base_uri": "https://localhost:8080/"
        }
      },
      "source": [
        "agent.collect_data_spec"
      ],
      "execution_count": 23,
      "outputs": [
        {
          "output_type": "execute_result",
          "data": {
            "text/plain": [
              "Trajectory(\n",
              "{'action': BoundedTensorSpec(shape=(), dtype=tf.int64, name='action', minimum=array(0), maximum=array(1)),\n",
              " 'discount': BoundedTensorSpec(shape=(), dtype=tf.float32, name='discount', minimum=array(0., dtype=float32), maximum=array(1., dtype=float32)),\n",
              " 'next_step_type': TensorSpec(shape=(), dtype=tf.int32, name='step_type'),\n",
              " 'observation': BoundedTensorSpec(shape=(4,), dtype=tf.float32, name='observation', minimum=array([-4.8000002e+00, -3.4028235e+38, -4.1887903e-01, -3.4028235e+38],\n",
              "      dtype=float32), maximum=array([4.8000002e+00, 3.4028235e+38, 4.1887903e-01, 3.4028235e+38],\n",
              "      dtype=float32)),\n",
              " 'policy_info': (),\n",
              " 'reward': TensorSpec(shape=(), dtype=tf.float32, name='reward'),\n",
              " 'step_type': TensorSpec(shape=(), dtype=tf.int32, name='step_type')})"
            ]
          },
          "metadata": {},
          "execution_count": 23
        }
      ]
    },
    {
      "cell_type": "markdown",
      "metadata": {
        "id": "rVD5nQ9ZGo8_"
      },
      "source": [
        "## Data Collection\n",
        "\n",
        "Now execute the random policy in the environment for a few steps, recording the data in the replay buffer."
      ]
    },
    {
      "cell_type": "code",
      "metadata": {
        "id": "wr1KSAEGG4h9"
      },
      "source": [
        "def collect_step(environment, policy, buffer):\n",
        "  time_step = environment.current_time_step()\n",
        "  action_step = policy.action(time_step)\n",
        "  next_time_step = environment.step(action_step.action)\n",
        "  traj = trajectory.from_transition(time_step, action_step, next_time_step)\n",
        "\n",
        "  # Add trajectory to the replay buffer\n",
        "  buffer.add_batch(traj)\n",
        "\n",
        "def collect_data(env, policy, buffer, steps):\n",
        "  for _ in range(steps):\n",
        "    collect_step(env, policy, buffer)\n",
        "\n",
        "collect_data(train_env, random_policy, replay_buffer, steps=100)\n",
        "\n",
        "# This loop is so common in RL, that we provide standard implementations. \n",
        "# For more details see the drivers module.\n",
        "# https://www.tensorflow.org/agents/api_docs/python/tf_agents/drivers"
      ],
      "execution_count": 24,
      "outputs": []
    },
    {
      "cell_type": "markdown",
      "metadata": {
        "id": "84z5pQJdoKxo"
      },
      "source": [
        "The replay buffer is now a collection of Trajectories. The agent needs access to the replay buffer. TF-Agents provides this access by creating an iterable **tf.data.Dataset** pipeline, which will feed data to the agent.\n",
        "\n",
        "Each row of the replay buffer only stores a single observation step. But since the DQN Agent needs both the current and next observation to compute the loss, the dataset pipeline will sample two adjacent rows for each item in the batch (**num_steps=2**).\n",
        "\n",
        "The program also optimizes this dataset by running parallel calls and prefetching data."
      ]
    },
    {
      "cell_type": "code",
      "metadata": {
        "id": "ba7bilizt_qW",
        "outputId": "2672f6aa-ede9-4db5-bd13-3a7a353bbd96",
        "colab": {
          "base_uri": "https://localhost:8080/"
        }
      },
      "source": [
        "# Dataset generates trajectories with shape [Bx2x...]\n",
        "dataset = replay_buffer.as_dataset(\n",
        "    num_parallel_calls=3, \n",
        "    sample_batch_size=batch_size, \n",
        "    num_steps=2).prefetch(3)\n",
        "\n",
        "\n",
        "dataset"
      ],
      "execution_count": 25,
      "outputs": [
        {
          "output_type": "stream",
          "name": "stdout",
          "text": [
            "WARNING:tensorflow:From /usr/local/lib/python3.7/dist-packages/tensorflow/python/autograph/impl/api.py:383: ReplayBuffer.get_next (from tf_agents.replay_buffers.replay_buffer) is deprecated and will be removed in a future version.\n",
            "Instructions for updating:\n",
            "Use `as_dataset(..., single_deterministic_pass=False) instead.\n"
          ]
        },
        {
          "output_type": "execute_result",
          "data": {
            "text/plain": [
              "<PrefetchDataset shapes: (Trajectory(\n",
              "{action: (64, 2),\n",
              " discount: (64, 2),\n",
              " next_step_type: (64, 2),\n",
              " observation: (64, 2, 4),\n",
              " policy_info: (),\n",
              " reward: (64, 2),\n",
              " step_type: (64, 2)}), BufferInfo(ids=(64, 2), probabilities=(64,))), types: (Trajectory(\n",
              "{action: tf.int64,\n",
              " discount: tf.float32,\n",
              " next_step_type: tf.int32,\n",
              " observation: tf.float32,\n",
              " policy_info: (),\n",
              " reward: tf.float32,\n",
              " step_type: tf.int32}), BufferInfo(ids=tf.int64, probabilities=tf.float32))>"
            ]
          },
          "metadata": {},
          "execution_count": 25
        }
      ]
    },
    {
      "cell_type": "code",
      "metadata": {
        "id": "K13AST-2ppOq",
        "outputId": "28465da6-5cb9-4ec2-e7cf-50aedd2da435",
        "colab": {
          "base_uri": "https://localhost:8080/"
        }
      },
      "source": [
        "iterator = iter(dataset)\n",
        "\n",
        "print(iterator)\n"
      ],
      "execution_count": 26,
      "outputs": [
        {
          "output_type": "stream",
          "name": "stdout",
          "text": [
            "<tensorflow.python.data.ops.iterator_ops.OwnedIterator object at 0x7f7111dd4dd0>\n"
          ]
        }
      ]
    },
    {
      "cell_type": "markdown",
      "metadata": {
        "id": "hBc9lj9VWWtZ"
      },
      "source": [
        "## Training the agent\n",
        "\n",
        "Two things must happen during the training loop:\n",
        "\n",
        "* Collect data from the environment\n",
        "* Use that data to train the agent's neural network(s)\n",
        "\n",
        "This example also periodically evaluates the policy and prints the current score.\n",
        "\n",
        "The following will take ~5 minutes to run."
      ]
    },
    {
      "cell_type": "code",
      "metadata": {
        "id": "0pTbJ3PeyF-u",
        "outputId": "09b563fd-3ffb-4906-a3a2-bac6c11007b6",
        "colab": {
          "base_uri": "https://localhost:8080/"
        }
      },
      "source": [
        "# (Optional) Optimize by wrapping some of the code in a graph \n",
        "# using TF function.\n",
        "agent.train = common.function(agent.train)\n",
        "\n",
        "# Reset the train step\n",
        "agent.train_step_counter.assign(0)\n",
        "\n",
        "# Evaluate the agent's policy once before training.\n",
        "avg_return = compute_avg_return(eval_env, agent.policy, \\\n",
        "                                num_eval_episodes)\n",
        "returns = [avg_return]\n",
        "\n",
        "for _ in range(num_iterations):\n",
        "\n",
        "  # Collect a few steps using collect_policy and save to the replay buffer.\n",
        "  for _ in range(collect_steps_per_iteration):\n",
        "    collect_step(train_env, agent.collect_policy, replay_buffer)\n",
        "\n",
        "  # Sample a batch of data from the buffer and update the agent's network.\n",
        "  experience, unused_info = next(iterator)\n",
        "  train_loss = agent.train(experience).loss\n",
        "\n",
        "  step = agent.train_step_counter.numpy()\n",
        "\n",
        "  if step % log_interval == 0:\n",
        "    print('step = {0}: loss = {1}'.format(step, train_loss))\n",
        "\n",
        "  if step % eval_interval == 0:\n",
        "    avg_return = compute_avg_return(eval_env, agent.policy, \\\n",
        "                                    num_eval_episodes)\n",
        "    print('step = {0}: Average Return = {1}'.format(step, avg_return))\n",
        "    returns.append(avg_return)"
      ],
      "execution_count": 27,
      "outputs": [
        {
          "output_type": "stream",
          "name": "stdout",
          "text": [
            "WARNING:tensorflow:From /usr/local/lib/python3.7/dist-packages/tensorflow/python/util/dispatch.py:1096: calling foldr_v2 (from tensorflow.python.ops.functional_ops) with back_prop=False is deprecated and will be removed in a future version.\n",
            "Instructions for updating:\n",
            "back_prop=False is deprecated. Consider using tf.stop_gradient instead.\n",
            "Instead of:\n",
            "results = tf.foldr(fn, elems, back_prop=False)\n",
            "Use:\n",
            "results = tf.nest.map_structure(tf.stop_gradient, tf.foldr(fn, elems))\n",
            "step = 200: loss = 14.965187072753906\n",
            "step = 400: loss = 13.927766799926758\n",
            "step = 600: loss = 7.991713523864746\n",
            "step = 800: loss = 5.779247760772705\n",
            "step = 1000: loss = 37.53227233886719\n",
            "step = 1000: Average Return = 40.20000076293945\n",
            "step = 1200: loss = 3.7578811645507812\n",
            "step = 1400: loss = 35.84241485595703\n",
            "step = 1600: loss = 50.209259033203125\n",
            "step = 1800: loss = 19.43368911743164\n",
            "step = 2000: loss = 44.27392578125\n",
            "step = 2000: Average Return = 27.100000381469727\n",
            "step = 2200: loss = 34.572731018066406\n",
            "step = 2400: loss = 35.61164093017578\n",
            "step = 2600: loss = 24.554443359375\n",
            "step = 2800: loss = 21.029008865356445\n",
            "step = 3000: loss = 56.09564971923828\n",
            "step = 3000: Average Return = 73.5999984741211\n",
            "step = 3200: loss = 8.955799102783203\n",
            "step = 3400: loss = 62.21805953979492\n",
            "step = 3600: loss = 2.7020485401153564\n",
            "step = 3800: loss = 5.733173370361328\n",
            "step = 4000: loss = 58.048431396484375\n",
            "step = 4000: Average Return = 189.0\n",
            "step = 4200: loss = 17.595056533813477\n",
            "step = 4400: loss = 180.80819702148438\n",
            "step = 4600: loss = 17.439929962158203\n",
            "step = 4800: loss = 82.13836669921875\n",
            "step = 5000: loss = 9.170853614807129\n",
            "step = 5000: Average Return = 197.39999389648438\n",
            "step = 5200: loss = 223.09295654296875\n",
            "step = 5400: loss = 81.15666198730469\n",
            "step = 5600: loss = 12.899513244628906\n",
            "step = 5800: loss = 256.177001953125\n",
            "step = 6000: loss = 171.39341735839844\n",
            "step = 6000: Average Return = 199.8000030517578\n",
            "step = 6200: loss = 248.28140258789062\n",
            "step = 6400: loss = 8.78177261352539\n",
            "step = 6600: loss = 206.6734619140625\n",
            "step = 6800: loss = 15.732135772705078\n",
            "step = 7000: loss = 14.07385540008545\n",
            "step = 7000: Average Return = 200.0\n",
            "step = 7200: loss = 714.8026123046875\n",
            "step = 7400: loss = 1218.669677734375\n",
            "step = 7600: loss = 263.3074951171875\n",
            "step = 7800: loss = 13.697689056396484\n",
            "step = 8000: loss = 689.556640625\n",
            "step = 8000: Average Return = 194.5\n",
            "step = 8200: loss = 17.079973220825195\n",
            "step = 8400: loss = 443.59832763671875\n",
            "step = 8600: loss = 312.668701171875\n",
            "step = 8800: loss = 16.733373641967773\n",
            "step = 9000: loss = 47.74528503417969\n",
            "step = 9000: Average Return = 200.0\n",
            "step = 9200: loss = 628.3482055664062\n",
            "step = 9400: loss = 398.81793212890625\n",
            "step = 9600: loss = 207.442138671875\n",
            "step = 9800: loss = 19.2802734375\n",
            "step = 10000: loss = 288.8336181640625\n",
            "step = 10000: Average Return = 198.89999389648438\n",
            "step = 10200: loss = 14.021510124206543\n",
            "step = 10400: loss = 296.27203369140625\n",
            "step = 10600: loss = 272.5740661621094\n",
            "step = 10800: loss = 336.482666015625\n",
            "step = 11000: loss = 723.8187255859375\n",
            "step = 11000: Average Return = 200.0\n",
            "step = 11200: loss = 470.9806213378906\n",
            "step = 11400: loss = 277.9539489746094\n",
            "step = 11600: loss = 31.943450927734375\n",
            "step = 11800: loss = 206.89764404296875\n",
            "step = 12000: loss = 865.520751953125\n",
            "step = 12000: Average Return = 197.0\n",
            "step = 12200: loss = 18.986087799072266\n",
            "step = 12400: loss = 20.115171432495117\n",
            "step = 12600: loss = 34.11833953857422\n",
            "step = 12800: loss = 16.989595413208008\n",
            "step = 13000: loss = 28.192947387695312\n",
            "step = 13000: Average Return = 200.0\n",
            "step = 13200: loss = 830.3909912109375\n",
            "step = 13400: loss = 33.607669830322266\n",
            "step = 13600: loss = 20.74604034423828\n",
            "step = 13800: loss = 778.4505004882812\n",
            "step = 14000: loss = 19.91482925415039\n",
            "step = 14000: Average Return = 198.60000610351562\n",
            "step = 14200: loss = 536.4127807617188\n",
            "step = 14400: loss = 13.107135772705078\n",
            "step = 14600: loss = 422.6173095703125\n",
            "step = 14800: loss = 15.119478225708008\n",
            "step = 15000: loss = 24.47110939025879\n",
            "step = 15000: Average Return = 198.10000610351562\n",
            "step = 15200: loss = 918.752197265625\n",
            "step = 15400: loss = 20.153106689453125\n",
            "step = 15600: loss = 20.760379791259766\n",
            "step = 15800: loss = 21.083438873291016\n",
            "step = 16000: loss = 902.945068359375\n",
            "step = 16000: Average Return = 189.5\n",
            "step = 16200: loss = 29.667686462402344\n",
            "step = 16400: loss = 58.247371673583984\n",
            "step = 16600: loss = 35.16773986816406\n",
            "step = 16800: loss = 22.394813537597656\n",
            "step = 17000: loss = 29.982149124145508\n",
            "step = 17000: Average Return = 194.8000030517578\n",
            "step = 17200: loss = 18.48798942565918\n",
            "step = 17400: loss = 805.2672119140625\n",
            "step = 17600: loss = 21.055740356445312\n",
            "step = 17800: loss = 16.111377716064453\n",
            "step = 18000: loss = 23.084815979003906\n",
            "step = 18000: Average Return = 174.8000030517578\n",
            "step = 18200: loss = 519.2962646484375\n",
            "step = 18400: loss = 425.63494873046875\n",
            "step = 18600: loss = 239.6868896484375\n",
            "step = 18800: loss = 16.225875854492188\n",
            "step = 19000: loss = 620.2138671875\n",
            "step = 19000: Average Return = 191.60000610351562\n",
            "step = 19200: loss = 29.869279861450195\n",
            "step = 19400: loss = 21.650388717651367\n",
            "step = 19600: loss = 16.536209106445312\n",
            "step = 19800: loss = 24.080154418945312\n",
            "step = 20000: loss = 14.872872352600098\n",
            "step = 20000: Average Return = 199.60000610351562\n"
          ]
        }
      ]
    },
    {
      "cell_type": "markdown",
      "metadata": {
        "id": "68jNcA_TiJDq"
      },
      "source": [
        "## Visualization\n"
      ]
    },
    {
      "cell_type": "markdown",
      "metadata": {
        "id": "aO-LWCdbbOIC"
      },
      "source": [
        "### Plots\n",
        "\n",
        "Use **matplotlib.pyplot** to chart how the policy improved during training.\n",
        "\n",
        "One iteration of **Cartpole-v0** consists of 200 time steps. The environment gives a reward of `+1` for each step the pole stays up, so the maximum return for one episode is 200. The charts show the return increasing towards that maximum each time it is evaluated during training. (It may be a little unstable and not increase each time monotonically.)"
      ]
    },
    {
      "cell_type": "code",
      "metadata": {
        "id": "NxtL1mbOYCVO",
        "outputId": "6ad9c736-1781-4d89-9c86-5821bdef1e67",
        "colab": {
          "base_uri": "https://localhost:8080/",
          "height": 300
        }
      },
      "source": [
        "iterations = range(0, num_iterations + 1, eval_interval)\n",
        "plt.plot(iterations, returns)\n",
        "plt.ylabel('Average Return')\n",
        "plt.xlabel('Iterations')\n",
        "plt.ylim(top=250)"
      ],
      "execution_count": 28,
      "outputs": [
        {
          "output_type": "execute_result",
          "data": {
            "text/plain": [
              "(0.29000020027160645, 250.0)"
            ]
          },
          "metadata": {},
          "execution_count": 28
        },
        {
          "output_type": "display_data",
          "data": {
            "image/png": "[encoded data removed]",
            "text/plain": [
              "<Figure size 432x288 with 1 Axes>"
            ]
          },
          "metadata": {
            "needs_background": "light"
          }
        }
      ]
    },
    {
      "cell_type": "markdown",
      "metadata": {
        "id": "M7-XpPP99Cy7"
      },
      "source": [
        "### Videos"
      ]
    },
    {
      "cell_type": "markdown",
      "metadata": {
        "id": "9pGfGxSH32gn"
      },
      "source": [
        "Charts are nice. But more exciting is seeing an agent actually performing a task in an environment. \n",
        "\n",
        "First, create a function to embed videos in the notebook."
      ]
    },
    {
      "cell_type": "code",
      "metadata": {
        "id": "ULaGr8pvOKbl"
      },
      "source": [
        "def embed_mp4(filename):\n",
        "  \"\"\"Embeds an mp4 file in the notebook.\"\"\"\n",
        "  video = open(filename,'rb').read()\n",
        "  b64 = base64.b64encode(video)\n",
        "  tag = '''\n",
        "  <video width=\"640\" height=\"480\" controls>\n",
        "    <source src=\"data:video/mp4;base64,{0}\" type=\"video/mp4\">\n",
        "  Your browser does not support the video tag.\n",
        "  </video>'''.format(b64.decode())\n",
        "\n",
        "  return IPython.display.HTML(tag)"
      ],
      "execution_count": 29,
      "outputs": []
    },
    {
      "cell_type": "markdown",
      "metadata": {
        "id": "9c_PH-pX4Pr5"
      },
      "source": [
        "Now iterate through a few episodes of the Cartpole game with the agent. The underlying Python environment (the one \"inside\" the TensorFlow environment wrapper) provides a `render()` method, which outputs an image of the environment state. These can be collected into a video."
      ]
    },
    {
      "cell_type": "code",
      "metadata": {
        "id": "owOVWB158NlF",
        "outputId": "8ef028ee-3fda-4a69-87aa-b505dcbe6a6d",
        "colab": {
          "base_uri": "https://localhost:8080/",
          "height": 518
        }
      },
      "source": [
        "def create_policy_eval_video(policy, filename, num_episodes=5, fps=30):\n",
        "  filename = filename + \".mp4\"\n",
        "  with imageio.get_writer(filename, fps=fps) as video:\n",
        "    for _ in range(num_episodes):\n",
        "      time_step = eval_env.reset()\n",
        "      video.append_data(eval_py_env.render())\n",
        "      while not time_step.is_last():\n",
        "        action_step = policy.action(time_step)\n",
        "        time_step = eval_env.step(action_step.action)\n",
        "        video.append_data(eval_py_env.render())\n",
        "  return embed_mp4(filename)\n",
        "\n",
        "\n",
        "\n",
        "\n",
        "create_policy_eval_video(agent.policy, \"trained-agent\")"
      ],
      "execution_count": 30,
      "outputs": [
        {
          "output_type": "stream",
          "name": "stderr",
          "text": [
            "WARNING:root:IMAGEIO FFMPEG_WRITER WARNING: input image is not divisible by macro_block_size=16, resizing from (400, 600) to (400, 608) to ensure video compatibility with most codecs and players. To prevent resizing, make your input image divisible by the macro_block_size or set the macro_block_size to None (risking incompatibility). You may also see a FFMPEG warning concerning speedloss due to data not being aligned.\n"
          ]
        },
        {
          "output_type": "execute_result",
          "data": {
            "text/html": [
              "\n",
              "  <video width=\"640\" height=\"480\" controls>\n",
              "    <source src=\"data:video/mp4;base64,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\" type=\"video/mp4\">\n",
              "  Your browser does not support the video tag.\n",
              "  </video>"
            ],
            "text/plain": [
              "<IPython.core.display.HTML object>"
            ]
          },
          "metadata": {},
          "execution_count": 30
        }
      ]
    },
    {
      "cell_type": "markdown",
      "metadata": {
        "id": "povaAOcZygLw"
      },
      "source": [
        "For fun, compare the trained agent (above) to an agent moving randomly. (It does not do as well.)"
      ]
    },
    {
      "cell_type": "code",
      "metadata": {
        "id": "pJZIdC37yNH4",
        "outputId": "69eb833b-3fa7-4a6e-b10d-90bbbf6bb761",
        "colab": {
          "base_uri": "https://localhost:8080/",
          "height": 518
        }
      },
      "source": [
        "create_policy_eval_video(random_policy, \"random-agent\")"
      ],
      "execution_count": 31,
      "outputs": [
        {
          "output_type": "stream",
          "name": "stderr",
          "text": [
            "WARNING:root:IMAGEIO FFMPEG_WRITER WARNING: input image is not divisible by macro_block_size=16, resizing from (400, 600) to (400, 608) to ensure video compatibility with most codecs and players. To prevent resizing, make your input image divisible by the macro_block_size or set the macro_block_size to None (risking incompatibility). You may also see a FFMPEG warning concerning speedloss due to data not being aligned.\n"
          ]
        },
        {
          "output_type": "execute_result",
          "data": {
            "text/html": [
              "\n",
              "  <video width=\"640\" height=\"480\" controls>\n",
              "    <source src=\"data:video/mp4;base64,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\" type=\"video/mp4\">\n",
              "  Your browser does not support the video tag.\n",
              "  </video>"
            ],
            "text/plain": [
              "<IPython.core.display.HTML object>"
            ]
          },
          "metadata": {},
          "execution_count": 31
        }
      ]
    }
  ]
}