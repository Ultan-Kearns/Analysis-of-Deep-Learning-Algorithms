{
  "nbformat": 4,
  "nbformat_minor": 0,
  "metadata": {
    "anaconda-cloud": {},
    "kernelspec": {
      "display_name": "Python 3.6 (tensorflow)",
      "language": "python",
      "name": "tensorflow"
    },
    "language_info": {
      "codemirror_mode": {
        "name": "ipython",
        "version": 3
      },
      "file_extension": ".py",
      "mimetype": "text/x-python",
      "name": "python",
      "nbconvert_exporter": "python",
      "pygments_lexer": "ipython3",
      "version": "3.7.7"
    },
    "colab": {
      "name": "t81_558_class_12_03_keras_reinforce.ipynb",
      "provenance": []
    }
  },
  "cells": [
    {
      "cell_type": "markdown",
      "metadata": {
        "id": "MdZqDrmkH_fL"
      },
      "source": [
        "# CartPole Game using DQN"
      ]
    },
    {
      "cell_type": "markdown",
      "metadata": {
        "id": "cKOCZlhUgXVK"
      },
      "source": [
        "# Google CoLab Instructions\n",
        "\n",
        "The following code ensures that Google CoLab is running the correct version of TensorFlow."
      ]
    },
    {
      "cell_type": "code",
      "metadata": {
        "id": "Y0WC-M08zNNq",
        "outputId": "fce5c365-02ab-4d63-83ba-efe3da122368",
        "colab": {
          "base_uri": "https://localhost:8080/"
        }
      },
      "source": [
        "try:\n",
        "    from google.colab import drive\n",
        "    %tensorflow_version 2.x\n",
        "    COLAB = True\n",
        "    print(\"Note: using Google CoLab\")\n",
        "except:\n",
        "    print(\"Note: not using Google CoLab\")\n",
        "    COLAB = False"
      ],
      "execution_count": 1,
      "outputs": [
        {
          "output_type": "stream",
          "name": "stdout",
          "text": [
            "Note: using Google CoLab\n"
          ]
        }
      ]
    },
    {
      "cell_type": "code",
      "metadata": {
        "id": "FreS1XOPzO9X",
        "outputId": "772f0c9d-85ba-4334-fc60-260ef86e0e72",
        "colab": {
          "base_uri": "https://localhost:8080/"
        }
      },
      "source": [
        "if COLAB:\n",
        "  !sudo apt-get install -y xvfb ffmpeg x11-utils\n",
        "  #!pip install -q 'gym==0.10.11'\n",
        "  !pip install -q 'imageio==2.4.0'\n",
        "  !pip install -q PILLOW\n",
        "  #!pip install -q 'pyglet==1.3.2'\n",
        "  !pip install -q pyvirtualdisplay\n",
        "  !pip install -q tf-agents\n",
        "  #Added for gym for dependency fix and pyglet bug fix\n",
        "  #!pip install -q 'gym==0.21.0'\n",
        "  !pip install -q 'pyglet==1.5.21'\n",
        "\n"
      ],
      "execution_count": 2,
      "outputs": [
        {
          "output_type": "stream",
          "name": "stdout",
          "text": [
            "Reading package lists... Done\n",
            "Building dependency tree       \n",
            "Reading state information... Done\n",
            "ffmpeg is already the newest version (7:3.4.8-0ubuntu0.2).\n",
            "The following packages were automatically installed and are no longer required:\n",
            "  cuda-command-line-tools-10-0 cuda-command-line-tools-10-1\n",
            "  cuda-command-line-tools-11-0 cuda-compiler-10-0 cuda-compiler-10-1\n",
            "  cuda-compiler-11-0 cuda-cuobjdump-10-0 cuda-cuobjdump-10-1\n",
            "  cuda-cuobjdump-11-0 cuda-cupti-10-0 cuda-cupti-10-1 cuda-cupti-11-0\n",
            "  cuda-cupti-dev-11-0 cuda-documentation-10-0 cuda-documentation-10-1\n",
            "  cuda-documentation-11-0 cuda-documentation-11-1 cuda-gdb-10-0 cuda-gdb-10-1\n",
            "  cuda-gdb-11-0 cuda-gpu-library-advisor-10-0 cuda-gpu-library-advisor-10-1\n",
            "  cuda-libraries-10-0 cuda-libraries-10-1 cuda-libraries-11-0\n",
            "  cuda-memcheck-10-0 cuda-memcheck-10-1 cuda-memcheck-11-0 cuda-nsight-10-0\n",
            "  cuda-nsight-10-1 cuda-nsight-11-0 cuda-nsight-11-1 cuda-nsight-compute-10-0\n",
            "  cuda-nsight-compute-10-1 cuda-nsight-compute-11-0 cuda-nsight-compute-11-1\n",
            "  cuda-nsight-systems-10-1 cuda-nsight-systems-11-0 cuda-nsight-systems-11-1\n",
            "  cuda-nvcc-10-0 cuda-nvcc-10-1 cuda-nvcc-11-0 cuda-nvdisasm-10-0\n",
            "  cuda-nvdisasm-10-1 cuda-nvdisasm-11-0 cuda-nvml-dev-10-0 cuda-nvml-dev-10-1\n",
            "  cuda-nvml-dev-11-0 cuda-nvprof-10-0 cuda-nvprof-10-1 cuda-nvprof-11-0\n",
            "  cuda-nvprune-10-0 cuda-nvprune-10-1 cuda-nvprune-11-0 cuda-nvtx-10-0\n",
            "  cuda-nvtx-10-1 cuda-nvtx-11-0 cuda-nvvp-10-0 cuda-nvvp-10-1 cuda-nvvp-11-0\n",
            "  cuda-nvvp-11-1 cuda-samples-10-0 cuda-samples-10-1 cuda-samples-11-0\n",
            "  cuda-samples-11-1 cuda-sanitizer-11-0 cuda-sanitizer-api-10-1\n",
            "  cuda-toolkit-10-0 cuda-toolkit-10-1 cuda-toolkit-11-0 cuda-toolkit-11-1\n",
            "  cuda-tools-10-0 cuda-tools-10-1 cuda-tools-11-0 cuda-tools-11-1\n",
            "  cuda-visual-tools-10-0 cuda-visual-tools-10-1 cuda-visual-tools-11-0\n",
            "  cuda-visual-tools-11-1 default-jre dkms freeglut3 freeglut3-dev\n",
            "  keyboard-configuration libargon2-0 libcap2 libcryptsetup12\n",
            "  libdevmapper1.02.1 libidn11 libip4tc0 libjansson4 libnvidia-cfg1-510\n",
            "  libnvidia-common-460 libnvidia-common-510 libnvidia-extra-510\n",
            "  libnvidia-fbc1-510 libnvidia-gl-510 libpam-systemd libpolkit-agent-1-0\n",
            "  libpolkit-backend-1-0 libpolkit-gobject-1-0 libxi-dev libxmu-dev\n",
            "  libxmu-headers libxnvctrl0 nsight-compute-2020.2.1 nsight-compute-2022.1.0\n",
            "  nsight-systems-2020.3.2 nsight-systems-2020.3.4 nsight-systems-2021.5.2\n",
            "  nvidia-dkms-510 nvidia-kernel-common-510 nvidia-kernel-source-510\n",
            "  nvidia-modprobe nvidia-settings openjdk-11-jre policykit-1 policykit-1-gnome\n",
            "  python3-xkit screen-resolution-extra systemd systemd-sysv udev\n",
            "  xserver-xorg-core-hwe-18.04 xserver-xorg-video-nvidia-510\n",
            "Use 'sudo apt autoremove' to remove them.\n",
            "Suggested packages:\n",
            "  mesa-utils\n",
            "The following NEW packages will be installed:\n",
            "  libxxf86dga1 x11-utils xvfb\n",
            "0 upgraded, 3 newly installed, 0 to remove and 39 not upgraded.\n",
            "Need to get 993 kB of archives.\n",
            "After this operation, 2,982 kB of additional disk space will be used.\n",
            "Get:1 http://archive.ubuntu.com/ubuntu bionic/main amd64 libxxf86dga1 amd64 2:1.1.4-1 [13.7 kB]\n",
            "Get:2 http://archive.ubuntu.com/ubuntu bionic/main amd64 x11-utils amd64 7.7+3build1 [196 kB]\n",
            "Get:3 http://archive.ubuntu.com/ubuntu bionic-updates/universe amd64 xvfb amd64 2:1.19.6-1ubuntu4.10 [784 kB]\n",
            "Fetched 993 kB in 1s (1,208 kB/s)\n",
            "debconf: unable to initialize frontend: Dialog\n",
            "debconf: (No usable dialog-like program is installed, so the dialog based frontend cannot be used. at /usr/share/perl5/Debconf/FrontEnd/Dialog.pm line 76, <> line 3.)\n",
            "debconf: falling back to frontend: Readline\n",
            "debconf: unable to initialize frontend: Readline\n",
            "debconf: (This frontend requires a controlling tty.)\n",
            "debconf: falling back to frontend: Teletype\n",
            "dpkg-preconfigure: unable to re-open stdin: \n",
            "Selecting previously unselected package libxxf86dga1:amd64.\n",
            "(Reading database ... 155113 files and directories currently installed.)\n",
            "Preparing to unpack .../libxxf86dga1_2%3a1.1.4-1_amd64.deb ...\n",
            "Unpacking libxxf86dga1:amd64 (2:1.1.4-1) ...\n",
            "Selecting previously unselected package x11-utils.\n",
            "Preparing to unpack .../x11-utils_7.7+3build1_amd64.deb ...\n",
            "Unpacking x11-utils (7.7+3build1) ...\n",
            "Selecting previously unselected package xvfb.\n",
            "Preparing to unpack .../xvfb_2%3a1.19.6-1ubuntu4.10_amd64.deb ...\n",
            "Unpacking xvfb (2:1.19.6-1ubuntu4.10) ...\n",
            "Setting up xvfb (2:1.19.6-1ubuntu4.10) ...\n",
            "Setting up libxxf86dga1:amd64 (2:1.1.4-1) ...\n",
            "Setting up x11-utils (7.7+3build1) ...\n",
            "Processing triggers for man-db (2.8.3-2ubuntu0.1) ...\n",
            "Processing triggers for libc-bin (2.27-3ubuntu1.3) ...\n",
            "/sbin/ldconfig.real: /usr/local/lib/python3.7/dist-packages/ideep4py/lib/libmkldnn.so.0 is not a symbolic link\n",
            "\n",
            "\u001b[K     |████████████████████████████████| 3.3 MB 28.5 MB/s \n",
            "\u001b[?25h  Building wheel for imageio (setup.py) ... \u001b[?25l\u001b[?25hdone\n",
            "\u001b[31mERROR: pip's dependency resolver does not currently take into account all the packages that are installed. This behaviour is the source of the following dependency conflicts.\n",
            "albumentations 0.1.12 requires imgaug<0.2.7,>=0.2.5, but you have imgaug 0.2.9 which is incompatible.\u001b[0m\n",
            "\u001b[K     |████████████████████████████████| 1.3 MB 28.5 MB/s \n",
            "\u001b[K     |████████████████████████████████| 1.1 MB 20.5 MB/s \n",
            "\u001b[31mERROR: pip's dependency resolver does not currently take into account all the packages that are installed. This behaviour is the source of the following dependency conflicts.\n",
            "gym 0.17.3 requires pyglet<=1.5.0,>=1.4.0, but you have pyglet 1.5.21 which is incompatible.\u001b[0m\n",
            "\u001b[?25h"
          ]
        }
      ]
    },
    {
      "cell_type": "markdown",
      "metadata": {
        "id": "1u9QVVsShC9X"
      },
      "source": [
        "# Part 12.3: Keras Q-Learning in the OpenAI Gym\n",
        "\n",
        "Q-Learning, as we covered in the previous part, is a robust machine learning algorithm.  Unfortunately, Q-Learning requires that the Q-table contain an entry for every possible state that the environment can take.  If the environment only includes a handful of discrete state elements, then traditional Q-learning might be a good learning algorithm.  However, if the state space is large, the Q-table can become prohibitively large.\n",
        "\n",
        "Creating policies for large state spaces is a task that Deep Q-Learning Networks (DQN) can usually handle.  Unlike a table, a neural network does not require the program to represent every combination of state and action.  Neural networks can generalize these states and learn commonalities.  A DQN maps the state to its input neurons and the action Q-values to the output neurons.  The DQN effectively becomes a function that accepts state and suggestions an action by returning the expected reward for each of the possible actions. Figure 12.DQL demonstrates the DQN structure and mapping between state and action.\n",
        "\n",
        "**Figure 12.DQL: Deep Q-Learning (DQL)**\n",
        "![Deep Q-Learning](https://raw.githubusercontent.com/jeffheaton/t81_558_deep_learning/master/images/deepqlearning.png \"Reinforcement Learning\")\n",
        "\n",
        "\n"
      ]
    },
    {
      "cell_type": "markdown",
      "metadata": {
        "id": "kNrNXKI7bINP"
      },
      "source": [
        "As this diagram illustrates, the environment state contains several elements.  For the basic DQN the state can be a mix of continuous and categorical/discrete values.  For the DQN, the discrete state elements the program typically encoded as dummy variables. The actions should be discrete when your program implements a DQN.  Other algorithms support continuous outputs, which we will discuss later in this chapter.\n",
        "\n",
        "In this chapter, we will make use of [TF-Agents](https://www.tensorflow.org/agents) to implement a DQN to solve the cart-pole environment.  TF-Agents makes designing, implementing, and testing new RL algorithms easier by providing well tested modular components that can be modified and extended. It enables fast code iteration, with functional test integration and benchmarking.\n",
        "\n",
        "## DQN and the Cart-Pole Problem\n",
        "\n",
        "Barto (1983) first described the cart-pole problem. [[Cite:barto1983neuronlike]](http://www.derongliu.org/adp/adp-cdrom/Barto1983.pdf) A cart is connected to a hinged rigid pole.  The cart is free to move only in the vertical plane of the cart/track.  The agent can apply an implusive \"left\" or \"right\" force F of a fixed magnitude to the cart at discrete time intervals.  The cart-pole environment simulates the physics behind keeping the pole in a reasonably upright position on the cart.  The environment has four state variables:\n",
        "* $x$ The position of the cart on the track.\n",
        "* $\\theta$ The angle of the pole with the vertical\n",
        "* $\\dot{x}$ The cart velocity.\n",
        "* $\\dot{\\theta}$ The rate of change of the angle.\n",
        "\n",
        "The action space consists of discrete actions:\n",
        "* Apply force left\n",
        "* Apply force right\n",
        "\n",
        "To apply DQN to this problem, you need to create the following components for TF-Agents.\n",
        "\n",
        "* Environment\n",
        "* Agent\n",
        "* Policies\n",
        "* Metrics and Evaluation\n",
        "* Replay Buffer\n",
        "* Data Collection\n",
        "* Training\n",
        "\n",
        "These components are standard in most DQN implementations.  Later, we will apply these same components to an Atari game, and after that, a problem of our design. This example is based on the [cart-pole tutorial](https://github.com/tensorflow/agents/blob/master/docs/tutorials/1_dqn_tutorial.ipynb) provided for TF-Agents.  We begin by importing needed Python libraries.\n"
      ]
    },
    {
      "cell_type": "code",
      "metadata": {
        "id": "sMitx5qSgJk1"
      },
      "source": [
        "import base64\n",
        "import imageio\n",
        "import IPython\n",
        "import matplotlib\n",
        "import matplotlib.pyplot as plt\n",
        "import numpy as np\n",
        "import PIL.Image\n",
        "import pyvirtualdisplay\n",
        "\n",
        "import tensorflow as tf\n",
        "\n",
        "from tf_agents.agents.dqn import dqn_agent\n",
        "from tf_agents.drivers import dynamic_step_driver\n",
        "from tf_agents.environments import suite_gym\n",
        "from tf_agents.environments import tf_py_environment\n",
        "from tf_agents.eval import metric_utils\n",
        "from tf_agents.metrics import tf_metrics\n",
        "from tf_agents.networks import q_network\n",
        "from tf_agents.policies import random_tf_policy\n",
        "from tf_agents.replay_buffers import tf_uniform_replay_buffer\n",
        "from tf_agents.trajectories import trajectory\n",
        "from tf_agents.utils import common"
      ],
      "execution_count": 3,
      "outputs": []
    },
    {
      "cell_type": "code",
      "metadata": {
        "id": "J6HsdS5GbSjd"
      },
      "source": [
        "# Set up a virtual display for rendering OpenAI gym environments.\n",
        "display = pyvirtualdisplay.Display(visible=0, size=(1400, 900)).start()"
      ],
      "execution_count": 4,
      "outputs": []
    },
    {
      "cell_type": "markdown",
      "metadata": {
        "id": "LmC0NDhdLIKY"
      },
      "source": [
        "## Original Hyperparameters\n",
        "\n",
        "Several hyperparameters must be defined.  The TF-Agent example provided reasonably well-tuned hyperparameters for cart-pole.  Later we will adapt these to an Atari game."
      ]
    },
    {
      "cell_type": "code",
      "metadata": {
        "id": "HC1kNrOsLSIZ"
      },
      "source": [
        "# How long should training run?\n",
        "#num_iterations = 20000 \n",
        "# How many initial random steps, before training start, to\n",
        "# collect initial data.\n",
        "#initial_collect_steps = 1000   \n",
        "# How many steps should we run each iteration to collect \n",
        "# data from.\n",
        "#collect_steps_per_iteration = 1 \n",
        "# How much data should we store for training examples.\n",
        "#replay_buffer_max_length = 100000\n",
        "\n",
        "#batch_size = 64  \n",
        "#learning_rate = 1e-3 \n",
        "# How often should the program provide an update.\n",
        "##log_interval = 200  \n",
        "\n",
        "# How many episodes should the program use for each evaluation.\n",
        "#num_eval_episodes = 10\n",
        "# How often should an evaluation occur.\n",
        "#eval_interval = 1000  "
      ],
      "execution_count": 5,
      "outputs": []
    },
    {
      "cell_type": "markdown",
      "source": [
        "# Adjusting Parameters"
      ],
      "metadata": {
        "id": "6EgQFO2mpUZo"
      }
    },
    {
      "cell_type": "code",
      "source": [
        "# How long should training run?\n",
        "num_iterations = 10000\n",
        "# How many initial random steps, before training start, to\n",
        "# collect initial data.\n",
        "initial_collect_steps = 10000  \n",
        "# How many steps should we run each iteration to collect \n",
        "# data from.\n",
        "collect_steps_per_iteration = 1\n",
        "# How much data should we store for training examples.\n",
        "replay_buffer_max_length = 1000000\n",
        "\n",
        "batch_size = 64  \n",
        "learning_rate = 2\n",
        "# How often should the program provide an update.\n",
        "log_interval = 200  \n",
        "\n",
        "# How many episodes should the program use for each evaluation.\n",
        "num_eval_episodes = 1\n",
        "# How often should an evaluation occur.\n",
        "eval_interval = 1000  "
      ],
      "metadata": {
        "id": "t6D3rFSWpXJn"
      },
      "execution_count": 6,
      "outputs": []
    },
    {
      "cell_type": "markdown",
      "metadata": {
        "id": "VMsJC3DEgI0x"
      },
      "source": [
        "## Environment\n",
        "\n",
        "TF-Agents uses OpenAI gym environments to represent the task or problem to be solved. Standard environments can be created in TF-Agents using **tf_agents.environments** suites. TF-Agents has suites for loading environments from sources such as the OpenAI Gym, Atari, and DM Control. We begin by loading the CartPole environment from the OpenAI Gym suite. "
      ]
    },
    {
      "cell_type": "code",
      "metadata": {
        "id": "pYEz-S9gEv2-"
      },
      "source": [
        "env_name = 'CartPole-v0'\n",
        "env = suite_gym.load(env_name)"
      ],
      "execution_count": 7,
      "outputs": []
    },
    {
      "cell_type": "markdown",
      "metadata": {
        "id": "IIHYVBkuvPNw"
      },
      "source": [
        "We will quickly render this environment to see the visual representation."
      ]
    },
    {
      "cell_type": "code",
      "metadata": {
        "id": "RlO7WIQHu_7D",
        "outputId": "85806ad0-ee9a-42b0-e1c9-b06da88821f6",
        "colab": {
          "base_uri": "https://localhost:8080/"
        }
      },
      "source": [
        "env.reset()\n",
        "env.render()\n",
        "#PIL.Image.fromarray(env.render())"
      ],
      "execution_count": 8,
      "outputs": [
        {
          "output_type": "execute_result",
          "data": {
            "text/plain": [
              "array([[[255, 255, 255],\n",
              "        [255, 255, 255],\n",
              "        [255, 255, 255],\n",
              "        ...,\n",
              "        [255, 255, 255],\n",
              "        [255, 255, 255],\n",
              "        [255, 255, 255]],\n",
              "\n",
              "       [[255, 255, 255],\n",
              "        [255, 255, 255],\n",
              "        [255, 255, 255],\n",
              "        ...,\n",
              "        [255, 255, 255],\n",
              "        [255, 255, 255],\n",
              "        [255, 255, 255]],\n",
              "\n",
              "       [[255, 255, 255],\n",
              "        [255, 255, 255],\n",
              "        [255, 255, 255],\n",
              "        ...,\n",
              "        [255, 255, 255],\n",
              "        [255, 255, 255],\n",
              "        [255, 255, 255]],\n",
              "\n",
              "       ...,\n",
              "\n",
              "       [[255, 255, 255],\n",
              "        [255, 255, 255],\n",
              "        [255, 255, 255],\n",
              "        ...,\n",
              "        [255, 255, 255],\n",
              "        [255, 255, 255],\n",
              "        [255, 255, 255]],\n",
              "\n",
              "       [[255, 255, 255],\n",
              "        [255, 255, 255],\n",
              "        [255, 255, 255],\n",
              "        ...,\n",
              "        [255, 255, 255],\n",
              "        [255, 255, 255],\n",
              "        [255, 255, 255]],\n",
              "\n",
              "       [[255, 255, 255],\n",
              "        [255, 255, 255],\n",
              "        [255, 255, 255],\n",
              "        ...,\n",
              "        [255, 255, 255],\n",
              "        [255, 255, 255],\n",
              "        [255, 255, 255]]], dtype=uint8)"
            ]
          },
          "metadata": {},
          "execution_count": 8
        }
      ]
    },
    {
      "cell_type": "markdown",
      "metadata": {
        "id": "B9_lskPOey18"
      },
      "source": [
        "The `environment.step` method takes an `action` in the environment and returns a `TimeStep` tuple containing the next observation of the environment and the reward for the action.\n",
        "\n",
        "The `time_step_spec()` method returns the specification for the `TimeStep` tuple. Its `observation` attribute shows the shape of observations, the data types, and the ranges of allowed values. The `reward` attribute shows the same details for the reward.\n"
      ]
    },
    {
      "cell_type": "code",
      "metadata": {
        "id": "exDv57iHfwQV",
        "outputId": "22518806-06af-4ca0-cac8-694144ebe4eb",
        "colab": {
          "base_uri": "https://localhost:8080/"
        }
      },
      "source": [
        "print('Observation Spec:')\n",
        "print(env.time_step_spec().observation)"
      ],
      "execution_count": 9,
      "outputs": [
        {
          "output_type": "stream",
          "name": "stdout",
          "text": [
            "Observation Spec:\n",
            "BoundedArraySpec(shape=(4,), dtype=dtype('float32'), name='observation', minimum=[-4.8000002e+00 -3.4028235e+38 -4.1887903e-01 -3.4028235e+38], maximum=[4.8000002e+00 3.4028235e+38 4.1887903e-01 3.4028235e+38])\n"
          ]
        }
      ]
    },
    {
      "cell_type": "code",
      "metadata": {
        "id": "UxiSyCbBUQPi",
        "outputId": "282335e9-d67b-429e-938b-af90a898a6bc",
        "colab": {
          "base_uri": "https://localhost:8080/"
        }
      },
      "source": [
        "print('Reward Spec:')\n",
        "print(env.time_step_spec().reward)"
      ],
      "execution_count": 10,
      "outputs": [
        {
          "output_type": "stream",
          "name": "stdout",
          "text": [
            "Reward Spec:\n",
            "ArraySpec(shape=(), dtype=dtype('float32'), name='reward')\n"
          ]
        }
      ]
    },
    {
      "cell_type": "markdown",
      "metadata": {
        "id": "b_lHcIcqUaqB"
      },
      "source": [
        "The `action_spec()` method returns the shape, data types, and allowed values of valid actions."
      ]
    },
    {
      "cell_type": "code",
      "metadata": {
        "id": "bttJ4uxZUQBr",
        "outputId": "fc26f0f2-2f09-47b0-f9be-44561141d346",
        "colab": {
          "base_uri": "https://localhost:8080/"
        }
      },
      "source": [
        "print('Action Spec:')\n",
        "print(env.action_spec())"
      ],
      "execution_count": 11,
      "outputs": [
        {
          "output_type": "stream",
          "name": "stdout",
          "text": [
            "Action Spec:\n",
            "BoundedArraySpec(shape=(), dtype=dtype('int64'), name='action', minimum=0, maximum=1)\n"
          ]
        }
      ]
    },
    {
      "cell_type": "markdown",
      "metadata": {
        "id": "eJCgJnx3g0yY"
      },
      "source": [
        "In the Cartpole environment:\n",
        "\n",
        "-   `observation` is an array of 4 floats: \n",
        "    -   the position and velocity of the cart\n",
        "    -   the angular position and velocity of the pole \n",
        "-   `reward` is a scalar float value\n",
        "-   `action` is a scalar integer with only two possible values:\n",
        "    -   `0` — \"move left\"\n",
        "    -   `1` — \"move right\"\n"
      ]
    },
    {
      "cell_type": "code",
      "metadata": {
        "id": "V2UGR5t_iZX-",
        "outputId": "0ebe324e-4d97-4266-e674-b27f1842f03f",
        "colab": {
          "base_uri": "https://localhost:8080/"
        }
      },
      "source": [
        "time_step = env.reset()\n",
        "print('Time step:')\n",
        "print(time_step)\n",
        "\n",
        "action = np.array(1, dtype=np.int32)\n",
        "\n",
        "next_time_step = env.step(action)\n",
        "print('Next time step:')\n",
        "print(next_time_step)"
      ],
      "execution_count": 12,
      "outputs": [
        {
          "output_type": "stream",
          "name": "stdout",
          "text": [
            "Time step:\n",
            "TimeStep(\n",
            "{'discount': array(1., dtype=float32),\n",
            " 'observation': array([-0.01844525, -0.00262186,  0.00890679, -0.01947631], dtype=float32),\n",
            " 'reward': array(0., dtype=float32),\n",
            " 'step_type': array(0, dtype=int32)})\n",
            "Next time step:\n",
            "TimeStep(\n",
            "{'discount': array(1., dtype=float32),\n",
            " 'observation': array([-0.01849769,  0.19237123,  0.00851727, -0.3093358 ], dtype=float32),\n",
            " 'reward': array(1., dtype=float32),\n",
            " 'step_type': array(1, dtype=int32)})\n"
          ]
        }
      ]
    },
    {
      "cell_type": "markdown",
      "metadata": {
        "id": "4JSc9GviWUBK"
      },
      "source": [
        "Usually, the program instantiates two environments: one for training and one for evaluation. "
      ]
    },
    {
      "cell_type": "code",
      "metadata": {
        "id": "N7brXNIGWXjC"
      },
      "source": [
        "train_py_env = suite_gym.load(env_name)\n",
        "eval_py_env = suite_gym.load(env_name)"
      ],
      "execution_count": 13,
      "outputs": []
    },
    {
      "cell_type": "markdown",
      "metadata": {
        "id": "zuUqXAVmecTU"
      },
      "source": [
        "The Cartpole environment, like most environments, is written in pure Python and is converted to TF-Agents and TensorFlow using the **TFPyEnvironment** wrapper. The original environment's API uses Numpy arrays. The **TFPyEnvironment** turns these to **Tensors** to make it compatible with Tensorflow agents and policies.\n"
      ]
    },
    {
      "cell_type": "code",
      "metadata": {
        "id": "Xp-Y4mD6eDhF"
      },
      "source": [
        "train_env = tf_py_environment.TFPyEnvironment(train_py_env)\n",
        "eval_env = tf_py_environment.TFPyEnvironment(eval_py_env)"
      ],
      "execution_count": 14,
      "outputs": []
    },
    {
      "cell_type": "markdown",
      "metadata": {
        "id": "E9lW_OZYFR8A"
      },
      "source": [
        "## Agent\n",
        "\n",
        "An Agent represents the algorithm used to solve an RL problem. TF-Agents provides standard implementations of a variety of Agents:\n",
        "\n",
        "-   [DQN](https://storage.googleapis.com/deepmind-media/dqn/DQNNaturePaper.pdf) (used in this example)\n",
        "-   [REINFORCE](http://www-anw.cs.umass.edu/~barto/courses/cs687/williams92simple.pdf)\n",
        "-   [DDPG](https://arxiv.org/pdf/1509.02971.pdf)\n",
        "-   [TD3](https://arxiv.org/pdf/1802.09477.pdf)\n",
        "-   [PPO](https://arxiv.org/abs/1707.06347)\n",
        "-   [SAC](https://arxiv.org/abs/1801.01290).\n",
        "\n",
        "You can only use the DQN agent in environments which have a discrete action space.  The DQN makes use of a QNetwork, a neural network model that learns to predict Q-Values (expected returns) for all actions, given a state from the environment.\n",
        "\n",
        "The following code uses **tf_agents.networks.q_network** to create a QNetwork, passing in the **observation_spec**, **action_spec**, and a tuple describing the number and size of the model's hidden layers.\n"
      ]
    },
    {
      "cell_type": "code",
      "metadata": {
        "id": "TgkdEPg_muzV"
      },
      "source": [
        "fc_layer_params = (100,)\n",
        "\n",
        "q_net = q_network.QNetwork(\n",
        "    train_env.observation_spec(),\n",
        "    train_env.action_spec(),\n",
        "    fc_layer_params=fc_layer_params)"
      ],
      "execution_count": 15,
      "outputs": []
    },
    {
      "cell_type": "markdown",
      "metadata": {
        "id": "z62u55hSmviJ"
      },
      "source": [
        "Now we use **tf_agents.agents.dqn.dqn_agent** to instantiate a **DqnAgent**. In addition to the **time_step_spec**, **action_spec** and the QNetwork, the agent constructor also requires an optimizer (in this case, **AdamOptimizer**), a loss function, and an integer step counter."
      ]
    },
    {
      "cell_type": "code",
      "metadata": {
        "id": "jbY4yrjTEyc9"
      },
      "source": [
        "optimizer = tf.compat.v1.train.AdamOptimizer(learning_rate=learning_rate)\n",
        "\n",
        "train_step_counter = tf.Variable(0)\n",
        "\n",
        "agent = dqn_agent.DqnAgent(\n",
        "    train_env.time_step_spec(),\n",
        "    train_env.action_spec(),\n",
        "    q_network=q_net,\n",
        "    optimizer=optimizer,\n",
        "    td_errors_loss_fn=common.element_wise_squared_loss,\n",
        "    train_step_counter=train_step_counter)\n",
        "\n",
        "agent.initialize()"
      ],
      "execution_count": 16,
      "outputs": []
    },
    {
      "cell_type": "markdown",
      "metadata": {
        "id": "I0KLrEPwkn5x"
      },
      "source": [
        "## Policies\n",
        "\n",
        "A policy defines the way an agent acts in an environment. Typically, the goal of reinforcement learning is to train the underlying model until the policy produces the desired outcome.\n",
        "\n",
        "In this example:\n",
        "\n",
        "* The desired outcome is keeping the pole balanced upright over the cart.\n",
        "* The policy returns an action (left or right) for each `time_step` observation.\n",
        "\n",
        "Agents contain two policies: \n",
        "\n",
        "*  **agent.policy** -  The algorithm uses this main policy for evaluation and deployment.\n",
        "* **agent.collect_policy** - The algorithm this secondary policy for data collection.\n"
      ]
    },
    {
      "cell_type": "code",
      "metadata": {
        "id": "BwY7StuMkuV4"
      },
      "source": [
        "eval_policy = agent.policy\n",
        "collect_policy = agent.collect_policy"
      ],
      "execution_count": 17,
      "outputs": []
    },
    {
      "cell_type": "markdown",
      "metadata": {
        "id": "2Qs1Fl3dV0ae"
      },
      "source": [
        "Policies can be created independently of agents. For example, use **tf_agents.policies.random_tf_policy** to create a policy which will randomly select an action for each **time_step**. We will use this random policy to create initial collection data to begin training."
      ]
    },
    {
      "cell_type": "code",
      "metadata": {
        "id": "HE37-UCIrE69"
      },
      "source": [
        "random_policy = random_tf_policy.RandomTFPolicy(train_env.time_step_spec(),\n",
        "                                                train_env.action_spec())"
      ],
      "execution_count": 18,
      "outputs": []
    },
    {
      "cell_type": "markdown",
      "metadata": {
        "id": "dOlnlRRsUbxP"
      },
      "source": [
        "To get an action from a policy, call the **policy.action(time_step)** method. The **time_step** contains the observation from the environment. This method returns a **PolicyStep**, which is a named tuple with three components:\n",
        "\n",
        "* **action** - The action to be taken (in this case, 0 or 1).\n",
        "* **state** - Used for stateful (that is, RNN-based) policies.\n",
        "* **info** - Auxiliary data, such as log probabilities of actions.\n",
        "\n",
        "Next we create an environment and setup the random policy."
      ]
    },
    {
      "cell_type": "code",
      "metadata": {
        "id": "5gCcpXswVAxk",
        "outputId": "a49f80d7-e493-468f-aabf-d47d606178a2",
        "colab": {
          "base_uri": "https://localhost:8080/"
        }
      },
      "source": [
        "example_environment = tf_py_environment.TFPyEnvironment(\n",
        "    suite_gym.load('CartPole-v0'))\n",
        "time_step = example_environment.reset()\n",
        "random_policy.action(time_step)"
      ],
      "execution_count": 19,
      "outputs": [
        {
          "output_type": "execute_result",
          "data": {
            "text/plain": [
              "PolicyStep(action=<tf.Tensor: shape=(1,), dtype=int64, numpy=array([0])>, state=(), info=())"
            ]
          },
          "metadata": {},
          "execution_count": 19
        }
      ]
    },
    {
      "cell_type": "markdown",
      "metadata": {
        "id": "94rCXQtbUbXv"
      },
      "source": [
        "## Metrics and Evaluation\n",
        "\n",
        "The most common metric used to evaluate a policy is the average return. The return is the sum of rewards obtained while running a policy in an environment for an episode. Several episodes are run, creating an average return. The following function computes the average return of a policy, given the policy, environment, and a number of episodes.  We will use this same evaluation for Atari.\n"
      ]
    },
    {
      "cell_type": "code",
      "metadata": {
        "id": "bitzHo5_UbXy"
      },
      "source": [
        "def compute_avg_return(environment, policy, num_episodes=10):\n",
        "\n",
        "  total_return = 0.0\n",
        "  for _ in range(num_episodes):\n",
        "\n",
        "    time_step = environment.reset()\n",
        "    episode_return = 0.0\n",
        "\n",
        "    while not time_step.is_last():\n",
        "      action_step = policy.action(time_step)\n",
        "      time_step = environment.step(action_step.action)\n",
        "      episode_return += time_step.reward\n",
        "    total_return += episode_return\n",
        "\n",
        "  avg_return = total_return / num_episodes\n",
        "  return avg_return.numpy()[0]\n",
        "\n",
        "\n",
        "# See also the metrics module for standard implementations \n",
        "# of different metrics.\n",
        "# https://github.com/tensorflow/agents/tree/master/tf_agents/metrics"
      ],
      "execution_count": 20,
      "outputs": []
    },
    {
      "cell_type": "markdown",
      "metadata": {
        "id": "_snCVvq5Z8lJ"
      },
      "source": [
        "Running this computation on the `random_policy` shows a baseline performance in the environment."
      ]
    },
    {
      "cell_type": "code",
      "metadata": {
        "id": "9bgU6Q6BZ8Bp",
        "outputId": "15c7aea8-2880-4101-9016-b76775ccefd2",
        "colab": {
          "base_uri": "https://localhost:8080/"
        }
      },
      "source": [
        "compute_avg_return(eval_env, random_policy, num_eval_episodes)"
      ],
      "execution_count": 21,
      "outputs": [
        {
          "output_type": "execute_result",
          "data": {
            "text/plain": [
              "20.0"
            ]
          },
          "metadata": {},
          "execution_count": 21
        }
      ]
    },
    {
      "cell_type": "markdown",
      "metadata": {
        "id": "NLva6g2jdWgr"
      },
      "source": [
        "## Replay Buffer\n",
        "\n",
        "The replay buffer keeps track of data collected from the environment. This tutorial uses **TFUniformReplayBuffer**. The constructor requires the specs for the data it will be collecting. This value is available from the agent using the **collect_data_spec** method. The batch size and maximum buffer length are also required.\n"
      ]
    },
    {
      "cell_type": "code",
      "metadata": {
        "id": "vX2zGUWJGWAl"
      },
      "source": [
        "replay_buffer = tf_uniform_replay_buffer.TFUniformReplayBuffer(\n",
        "    data_spec=agent.collect_data_spec,\n",
        "    batch_size=train_env.batch_size,\n",
        "    max_length=replay_buffer_max_length)"
      ],
      "execution_count": 22,
      "outputs": []
    },
    {
      "cell_type": "markdown",
      "metadata": {
        "id": "ZGNTDJpZs4NN"
      },
      "source": [
        "For most agents, **collect_data_spec** is a named tuple called **Trajectory**, containing the specs for observations, actions, rewards, and other items."
      ]
    },
    {
      "cell_type": "code",
      "metadata": {
        "id": "_IZ-3HcqgE1z",
        "outputId": "579b3bb6-f8e9-478e-f012-b2d3de45f529",
        "colab": {
          "base_uri": "https://localhost:8080/"
        }
      },
      "source": [
        "agent.collect_data_spec"
      ],
      "execution_count": 23,
      "outputs": [
        {
          "output_type": "execute_result",
          "data": {
            "text/plain": [
              "Trajectory(\n",
              "{'action': BoundedTensorSpec(shape=(), dtype=tf.int64, name='action', minimum=array(0), maximum=array(1)),\n",
              " 'discount': BoundedTensorSpec(shape=(), dtype=tf.float32, name='discount', minimum=array(0., dtype=float32), maximum=array(1., dtype=float32)),\n",
              " 'next_step_type': TensorSpec(shape=(), dtype=tf.int32, name='step_type'),\n",
              " 'observation': BoundedTensorSpec(shape=(4,), dtype=tf.float32, name='observation', minimum=array([-4.8000002e+00, -3.4028235e+38, -4.1887903e-01, -3.4028235e+38],\n",
              "      dtype=float32), maximum=array([4.8000002e+00, 3.4028235e+38, 4.1887903e-01, 3.4028235e+38],\n",
              "      dtype=float32)),\n",
              " 'policy_info': (),\n",
              " 'reward': TensorSpec(shape=(), dtype=tf.float32, name='reward'),\n",
              " 'step_type': TensorSpec(shape=(), dtype=tf.int32, name='step_type')})"
            ]
          },
          "metadata": {},
          "execution_count": 23
        }
      ]
    },
    {
      "cell_type": "markdown",
      "metadata": {
        "id": "rVD5nQ9ZGo8_"
      },
      "source": [
        "## Data Collection\n",
        "\n",
        "Now execute the random policy in the environment for a few steps, recording the data in the replay buffer."
      ]
    },
    {
      "cell_type": "code",
      "metadata": {
        "id": "wr1KSAEGG4h9"
      },
      "source": [
        "def collect_step(environment, policy, buffer):\n",
        "  time_step = environment.current_time_step()\n",
        "  action_step = policy.action(time_step)\n",
        "  next_time_step = environment.step(action_step.action)\n",
        "  traj = trajectory.from_transition(time_step, action_step, next_time_step)\n",
        "\n",
        "  # Add trajectory to the replay buffer\n",
        "  buffer.add_batch(traj)\n",
        "\n",
        "def collect_data(env, policy, buffer, steps):\n",
        "  for _ in range(steps):\n",
        "    collect_step(env, policy, buffer)\n",
        "\n",
        "collect_data(train_env, random_policy, replay_buffer, steps=100)\n",
        "\n",
        "# This loop is so common in RL, that we provide standard implementations. \n",
        "# For more details see the drivers module.\n",
        "# https://www.tensorflow.org/agents/api_docs/python/tf_agents/drivers"
      ],
      "execution_count": 24,
      "outputs": []
    },
    {
      "cell_type": "markdown",
      "metadata": {
        "id": "84z5pQJdoKxo"
      },
      "source": [
        "The replay buffer is now a collection of Trajectories. The agent needs access to the replay buffer. TF-Agents provides this access by creating an iterable **tf.data.Dataset** pipeline, which will feed data to the agent.\n",
        "\n",
        "Each row of the replay buffer only stores a single observation step. But since the DQN Agent needs both the current and next observation to compute the loss, the dataset pipeline will sample two adjacent rows for each item in the batch (**num_steps=2**).\n",
        "\n",
        "The program also optimizes this dataset by running parallel calls and prefetching data."
      ]
    },
    {
      "cell_type": "code",
      "metadata": {
        "id": "ba7bilizt_qW",
        "outputId": "f22347e5-e131-40ea-b0f8-9e40f9228223",
        "colab": {
          "base_uri": "https://localhost:8080/"
        }
      },
      "source": [
        "# Dataset generates trajectories with shape [Bx2x...]\n",
        "dataset = replay_buffer.as_dataset(\n",
        "    num_parallel_calls=3, \n",
        "    sample_batch_size=batch_size, \n",
        "    num_steps=2).prefetch(3)\n",
        "\n",
        "\n",
        "dataset"
      ],
      "execution_count": 25,
      "outputs": [
        {
          "output_type": "stream",
          "name": "stdout",
          "text": [
            "WARNING:tensorflow:From /usr/local/lib/python3.7/dist-packages/tensorflow/python/autograph/impl/api.py:383: ReplayBuffer.get_next (from tf_agents.replay_buffers.replay_buffer) is deprecated and will be removed in a future version.\n",
            "Instructions for updating:\n",
            "Use `as_dataset(..., single_deterministic_pass=False) instead.\n"
          ]
        },
        {
          "output_type": "execute_result",
          "data": {
            "text/plain": [
              "<PrefetchDataset shapes: (Trajectory(\n",
              "{action: (64, 2),\n",
              " discount: (64, 2),\n",
              " next_step_type: (64, 2),\n",
              " observation: (64, 2, 4),\n",
              " policy_info: (),\n",
              " reward: (64, 2),\n",
              " step_type: (64, 2)}), BufferInfo(ids=(64, 2), probabilities=(64,))), types: (Trajectory(\n",
              "{action: tf.int64,\n",
              " discount: tf.float32,\n",
              " next_step_type: tf.int32,\n",
              " observation: tf.float32,\n",
              " policy_info: (),\n",
              " reward: tf.float32,\n",
              " step_type: tf.int32}), BufferInfo(ids=tf.int64, probabilities=tf.float32))>"
            ]
          },
          "metadata": {},
          "execution_count": 25
        }
      ]
    },
    {
      "cell_type": "code",
      "metadata": {
        "id": "K13AST-2ppOq",
        "outputId": "5c66d1fc-e4f2-43d1-cd99-c89098bcf9d4",
        "colab": {
          "base_uri": "https://localhost:8080/"
        }
      },
      "source": [
        "iterator = iter(dataset)\n",
        "\n",
        "print(iterator)\n"
      ],
      "execution_count": 26,
      "outputs": [
        {
          "output_type": "stream",
          "name": "stdout",
          "text": [
            "<tensorflow.python.data.ops.iterator_ops.OwnedIterator object at 0x7f06b86e5310>\n"
          ]
        }
      ]
    },
    {
      "cell_type": "markdown",
      "metadata": {
        "id": "hBc9lj9VWWtZ"
      },
      "source": [
        "## Training the agent\n",
        "\n",
        "Two things must happen during the training loop:\n",
        "\n",
        "* Collect data from the environment\n",
        "* Use that data to train the agent's neural network(s)\n",
        "\n",
        "This example also periodically evaluates the policy and prints the current score.\n",
        "\n",
        "The following will take ~5 minutes to run."
      ]
    },
    {
      "cell_type": "code",
      "metadata": {
        "id": "0pTbJ3PeyF-u",
        "colab": {
          "base_uri": "https://localhost:8080/"
        },
        "outputId": "19c07f6f-b7b7-48bb-f204-14f0a3312f0d"
      },
      "source": [
        "# (Optional) Optimize by wrapping some of the code in a graph \n",
        "\n",
        "# start time\n",
        "import time\n",
        "start = time.time()\n",
        "# using TF function.\n",
        "agent.train = common.function(agent.train)\n",
        "\n",
        "# Reset the train step\n",
        "agent.train_step_counter.assign(0)\n",
        "\n",
        "# Evaluate the agent's policy once before training.\n",
        "avg_return = compute_avg_return(eval_env, agent.policy, \\\n",
        "                                num_eval_episodes)\n",
        "returns = [avg_return]\n",
        "\n",
        "for _ in range(num_iterations):\n",
        "\n",
        "  # Collect a few steps using collect_policy and save to the replay buffer.\n",
        "  for _ in range(collect_steps_per_iteration):\n",
        "    collect_step(train_env, agent.collect_policy, replay_buffer)\n",
        "\n",
        "  # Sample a batch of data from the buffer and update the agent's network.\n",
        "  experience, unused_info = next(iterator)\n",
        "  train_loss = agent.train(experience).loss\n",
        "\n",
        "  step = agent.train_step_counter.numpy()\n",
        "\n",
        "  if step % log_interval == 0:\n",
        "    print('step = {0}: loss = {1}'.format(step, train_loss))\n",
        "\n",
        "  if step % eval_interval == 0:\n",
        "    avg_return = compute_avg_return(eval_env, agent.policy, \\\n",
        "                                    num_eval_episodes)\n",
        "    print('step = {0}: Average Return = {1}'.format(step, avg_return))\n",
        "    returns.append(avg_return)\n",
        "\n",
        "print('Time taken to train model: ', time.time() - start)"
      ],
      "execution_count": 27,
      "outputs": [
        {
          "output_type": "stream",
          "name": "stdout",
          "text": [
            "WARNING:tensorflow:From /usr/local/lib/python3.7/dist-packages/tensorflow/python/util/dispatch.py:1096: calling foldr_v2 (from tensorflow.python.ops.functional_ops) with back_prop=False is deprecated and will be removed in a future version.\n",
            "Instructions for updating:\n",
            "back_prop=False is deprecated. Consider using tf.stop_gradient instead.\n",
            "Instead of:\n",
            "results = tf.foldr(fn, elems, back_prop=False)\n",
            "Use:\n",
            "results = tf.nest.map_structure(tf.stop_gradient, tf.foldr(fn, elems))\n",
            "step = 200: loss = 511721184.0\n",
            "step = 400: loss = 3903392512.0\n",
            "step = 600: loss = 30316097536.0\n",
            "step = 800: loss = 187760656384.0\n",
            "step = 1000: loss = 2623441207296.0\n",
            "step = 1000: Average Return = 109.0\n",
            "step = 1200: loss = 11541919301632.0\n",
            "step = 1400: loss = 81419602755584.0\n",
            "step = 1600: loss = 2158661468160.0\n",
            "step = 1800: loss = 7788824625152.0\n",
            "step = 2000: loss = 4277528952832.0\n",
            "step = 2000: Average Return = 95.0\n",
            "step = 2200: loss = 6457786368000.0\n",
            "step = 2400: loss = 108279464198144.0\n",
            "step = 2600: loss = 3332232445952.0\n",
            "step = 2800: loss = 6983579074560.0\n",
            "step = 3000: loss = 2982876807168.0\n",
            "step = 3000: Average Return = 200.0\n",
            "step = 3200: loss = 3484172943360.0\n",
            "step = 3400: loss = 56192516751360.0\n",
            "step = 3600: loss = 78987392974848.0\n",
            "step = 3800: loss = 2347582095360.0\n",
            "step = 4000: loss = 79767869063168.0\n",
            "step = 4000: Average Return = 200.0\n",
            "step = 4200: loss = 1509048057856.0\n",
            "step = 4400: loss = 2247571013632.0\n",
            "step = 4600: loss = 1398891872256.0\n",
            "step = 4800: loss = 2324885929984.0\n",
            "step = 5000: loss = 2439002456064.0\n",
            "step = 5000: Average Return = 200.0\n",
            "step = 5200: loss = 1196563890176.0\n",
            "step = 5400: loss = 1317675204608.0\n",
            "step = 5600: loss = 1330181308416.0\n",
            "step = 5800: loss = 1408407306240.0\n",
            "step = 6000: loss = 996670701568.0\n",
            "step = 6000: Average Return = 200.0\n",
            "step = 6200: loss = 14757453103104.0\n",
            "step = 6400: loss = 2257651236864.0\n",
            "step = 6600: loss = 1456968302592.0\n",
            "step = 6800: loss = 2973583015936.0\n",
            "step = 7000: loss = 2541816381440.0\n",
            "step = 7000: Average Return = 200.0\n",
            "step = 7200: loss = 27688483946496.0\n",
            "step = 7400: loss = 4434729893888.0\n",
            "step = 7600: loss = 6385005756416.0\n",
            "step = 7800: loss = 828932110680064.0\n",
            "step = 8000: loss = 4914179211264.0\n",
            "step = 8000: Average Return = 200.0\n",
            "step = 8200: loss = 4480302579712.0\n",
            "step = 8400: loss = 6485176221696.0\n",
            "step = 8600: loss = 335945161244672.0\n",
            "step = 8800: loss = 4410608451584.0\n",
            "step = 9000: loss = 3045007032320.0\n",
            "step = 9000: Average Return = 200.0\n",
            "step = 9200: loss = 6799889006592.0\n",
            "step = 9400: loss = 6266024886272.0\n",
            "step = 9600: loss = 19265801420800.0\n",
            "step = 9800: loss = 12863414468608.0\n",
            "step = 10000: loss = 7306084876288.0\n",
            "step = 10000: Average Return = 200.0\n",
            "Time taken to train model:  141.17077803611755\n"
          ]
        }
      ]
    },
    {
      "cell_type": "markdown",
      "metadata": {
        "id": "68jNcA_TiJDq"
      },
      "source": [
        "## Visualization\n"
      ]
    },
    {
      "cell_type": "markdown",
      "metadata": {
        "id": "aO-LWCdbbOIC"
      },
      "source": [
        "### Plots\n",
        "\n",
        "Use **matplotlib.pyplot** to chart how the policy improved during training.\n",
        "\n",
        "One iteration of **Cartpole-v0** consists of 200 time steps. The environment gives a reward of `+1` for each step the pole stays up, so the maximum return for one episode is 200. The charts show the return increasing towards that maximum each time it is evaluated during training. (It may be a little unstable and not increase each time monotonically.)"
      ]
    },
    {
      "cell_type": "code",
      "metadata": {
        "id": "NxtL1mbOYCVO",
        "colab": {
          "base_uri": "https://localhost:8080/",
          "height": 300
        },
        "outputId": "deea5400-22ec-49bd-9002-4790f4becf4d"
      },
      "source": [
        "iterations = range(0, num_iterations + 1, eval_interval)\n",
        "plt.plot(iterations, returns)\n",
        "plt.ylabel('Average Return')\n",
        "plt.xlabel('Iterations')\n",
        "plt.ylim(top=250)"
      ],
      "execution_count": 28,
      "outputs": [
        {
          "output_type": "execute_result",
          "data": {
            "text/plain": [
              "(21.5, 250.0)"
            ]
          },
          "metadata": {},
          "execution_count": 28
        },
        {
          "output_type": "display_data",
          "data": {
            "image/png": "[encoded data removed]",
            "text/plain": [
              "<Figure size 432x288 with 1 Axes>"
            ]
          },
          "metadata": {
            "needs_background": "light"
          }
        }
      ]
    },
    {
      "cell_type": "markdown",
      "metadata": {
        "id": "M7-XpPP99Cy7"
      },
      "source": [
        "### Videos"
      ]
    },
    {
      "cell_type": "markdown",
      "metadata": {
        "id": "9pGfGxSH32gn"
      },
      "source": [
        "Charts are nice. But more exciting is seeing an agent actually performing a task in an environment. \n",
        "\n",
        "First, create a function to embed videos in the notebook."
      ]
    },
    {
      "cell_type": "code",
      "metadata": {
        "id": "ULaGr8pvOKbl"
      },
      "source": [
        "def embed_mp4(filename):\n",
        "  \"\"\"Embeds an mp4 file in the notebook.\"\"\"\n",
        "  video = open(filename,'rb').read()\n",
        "  b64 = base64.b64encode(video)\n",
        "  tag = '''\n",
        "  <video width=\"640\" height=\"480\" controls>\n",
        "    <source src=\"data:video/mp4;base64,{0}\" type=\"video/mp4\">\n",
        "  Your browser does not support the video tag.\n",
        "  </video>'''.format(b64.decode())\n",
        "\n",
        "  return IPython.display.HTML(tag)"
      ],
      "execution_count": 29,
      "outputs": []
    },
    {
      "cell_type": "markdown",
      "metadata": {
        "id": "9c_PH-pX4Pr5"
      },
      "source": [
        "Now iterate through a few episodes of the Cartpole game with the agent. The underlying Python environment (the one \"inside\" the TensorFlow environment wrapper) provides a `render()` method, which outputs an image of the environment state. These can be collected into a video."
      ]
    },
    {
      "cell_type": "code",
      "metadata": {
        "id": "owOVWB158NlF",
        "colab": {
          "base_uri": "https://localhost:8080/",
          "height": 518
        },
        "outputId": "1175f306-bc3f-4193-eb63-c70fece134db"
      },
      "source": [
        "def create_policy_eval_video(policy, filename, num_episodes=5, fps=30):\n",
        "  filename = filename + \".mp4\"\n",
        "  with imageio.get_writer(filename, fps=fps) as video:\n",
        "    for _ in range(num_episodes):\n",
        "      time_step = eval_env.reset()\n",
        "      video.append_data(eval_py_env.render())\n",
        "      while not time_step.is_last():\n",
        "        action_step = policy.action(time_step)\n",
        "        time_step = eval_env.step(action_step.action)\n",
        "        video.append_data(eval_py_env.render())\n",
        "  return embed_mp4(filename)\n",
        "\n",
        "\n",
        "\n",
        "\n",
        "create_policy_eval_video(agent.policy, \"trained-agent\")"
      ],
      "execution_count": 30,
      "outputs": [
        {
          "output_type": "stream",
          "name": "stderr",
          "text": [
            "WARNING:root:IMAGEIO FFMPEG_WRITER WARNING: input image is not divisible by macro_block_size=16, resizing from (400, 600) to (400, 608) to ensure video compatibility with most codecs and players. To prevent resizing, make your input image divisible by the macro_block_size or set the macro_block_size to None (risking incompatibility). You may also see a FFMPEG warning concerning speedloss due to data not being aligned.\n"
          ]
        },
        {
          "output_type": "execute_result",
          "data": {
            "text/html": [
              "\n",
              "  <video width=\"640\" height=\"480\" controls>\n",
              "    <source src=\"data:video/mp4;base64,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\" type=\"video/mp4\">\n",
              "  Your browser does not support the video tag.\n",
              "  </video>"
            ],
            "text/plain": [
              "<IPython.core.display.HTML object>"
            ]
          },
          "metadata": {},
          "execution_count": 30
        }
      ]
    },
    {
      "cell_type": "markdown",
      "metadata": {
        "id": "povaAOcZygLw"
      },
      "source": [
        "For fun, compare the trained agent (above) to an agent moving randomly. (It does not do as well.)"
      ]
    },
    {
      "cell_type": "code",
      "metadata": {
        "id": "pJZIdC37yNH4",
        "colab": {
          "base_uri": "https://localhost:8080/",
          "height": 518
        },
        "outputId": "899e9757-55e2-4bdb-8e0a-c8477f42ade2"
      },
      "source": [
        "create_policy_eval_video(random_policy, \"random-agent\")"
      ],
      "execution_count": 31,
      "outputs": [
        {
          "output_type": "stream",
          "name": "stderr",
          "text": [
            "WARNING:root:IMAGEIO FFMPEG_WRITER WARNING: input image is not divisible by macro_block_size=16, resizing from (400, 600) to (400, 608) to ensure video compatibility with most codecs and players. To prevent resizing, make your input image divisible by the macro_block_size or set the macro_block_size to None (risking incompatibility). You may also see a FFMPEG warning concerning speedloss due to data not being aligned.\n"
          ]
        },
        {
          "output_type": "execute_result",
          "data": {
            "text/html": [
              "\n",
              "  <video width=\"640\" height=\"480\" controls>\n",
              "    <source src=\"data:video/mp4;base64,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\" type=\"video/mp4\">\n",
              "  Your browser does not support the video tag.\n",
              "  </video>"
            ],
            "text/plain": [
              "<IPython.core.display.HTML object>"
            ]
          },
          "metadata": {},
          "execution_count": 31
        }
      ]
    }
  ]
}