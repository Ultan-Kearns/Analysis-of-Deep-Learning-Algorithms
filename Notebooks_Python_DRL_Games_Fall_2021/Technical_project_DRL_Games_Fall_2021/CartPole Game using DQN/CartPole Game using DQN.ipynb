{
  "nbformat": 4,
  "nbformat_minor": 0,
  "metadata": {
    "anaconda-cloud": {},
    "kernelspec": {
      "display_name": "Python 3.6 (tensorflow)",
      "language": "python",
      "name": "tensorflow"
    },
    "language_info": {
      "codemirror_mode": {
        "name": "ipython",
        "version": 3
      },
      "file_extension": ".py",
      "mimetype": "text/x-python",
      "name": "python",
      "nbconvert_exporter": "python",
      "pygments_lexer": "ipython3",
      "version": "3.7.7"
    },
    "colab": {
      "name": "t81_558_class_12_03_keras_reinforce.ipynb",
      "provenance": []
    }
  },
  "cells": [
    {
      "cell_type": "markdown",
      "metadata": {
        "id": "MdZqDrmkH_fL"
      },
      "source": [
        "# CartPole Game using DQN"
      ]
    },
    {
      "cell_type": "markdown",
      "metadata": {
        "id": "cKOCZlhUgXVK"
      },
      "source": [
        "# Google CoLab Instructions\n",
        "\n",
        "The following code ensures that Google CoLab is running the correct version of TensorFlow."
      ]
    },
    {
      "cell_type": "code",
      "metadata": {
        "id": "Y0WC-M08zNNq",
        "colab": {
          "base_uri": "https://localhost:8080/"
        },
        "outputId": "e8799b1c-ec25-435a-9665-5e0736d16135"
      },
      "source": [
        "try:\n",
        "    from google.colab import drive\n",
        "    %tensorflow_version 2.x\n",
        "    COLAB = True\n",
        "    print(\"Note: using Google CoLab\")\n",
        "except:\n",
        "    print(\"Note: not using Google CoLab\")\n",
        "    COLAB = False"
      ],
      "execution_count": 52,
      "outputs": [
        {
          "output_type": "stream",
          "name": "stdout",
          "text": [
            "Note: using Google CoLab\n"
          ]
        }
      ]
    },
    {
      "cell_type": "code",
      "metadata": {
        "id": "FreS1XOPzO9X",
        "colab": {
          "base_uri": "https://localhost:8080/"
        },
        "outputId": "c4aaf532-2d34-4354-8127-ae1ee8de2c68"
      },
      "source": [
        "if COLAB:\n",
        "  !sudo apt-get install -y xvfb ffmpeg x11-utils\n",
        "  #!pip install -q 'gym==0.10.11'\n",
        "  !pip install -q 'imageio==2.4.0'\n",
        "  !pip install -q PILLOW\n",
        "  #!pip install -q 'pyglet==1.3.2'\n",
        "  !pip install -q pyvirtualdisplay\n",
        "  !pip install -q tf-agents\n",
        "  #Added for gym for dependency fix and pyglet bug fix\n",
        "  !pip install -q 'gym==0.21.0'\n",
        "  !pip install -q 'pyglet==1.5.21'\n",
        "\n"
      ],
      "execution_count": 53,
      "outputs": [
        {
          "output_type": "stream",
          "name": "stdout",
          "text": [
            "Reading package lists... Done\n",
            "Building dependency tree       \n",
            "Reading state information... Done\n",
            "x11-utils is already the newest version (7.7+3build1).\n",
            "ffmpeg is already the newest version (7:3.4.8-0ubuntu0.2).\n",
            "xvfb is already the newest version (2:1.19.6-1ubuntu4.10).\n",
            "0 upgraded, 0 newly installed, 0 to remove and 37 not upgraded.\n"
          ]
        }
      ]
    },
    {
      "cell_type": "markdown",
      "metadata": {
        "id": "1u9QVVsShC9X"
      },
      "source": [
        "# Part 12.3: Keras Q-Learning in the OpenAI Gym\n",
        "\n",
        "Q-Learning, as we covered in the previous part, is a robust machine learning algorithm.  Unfortunately, Q-Learning requires that the Q-table contain an entry for every possible state that the environment can take.  If the environment only includes a handful of discrete state elements, then traditional Q-learning might be a good learning algorithm.  However, if the state space is large, the Q-table can become prohibitively large.\n",
        "\n",
        "Creating policies for large state spaces is a task that Deep Q-Learning Networks (DQN) can usually handle.  Unlike a table, a neural network does not require the program to represent every combination of state and action.  Neural networks can generalize these states and learn commonalities.  A DQN maps the state to its input neurons and the action Q-values to the output neurons.  The DQN effectively becomes a function that accepts state and suggestions an action by returning the expected reward for each of the possible actions. Figure 12.DQL demonstrates the DQN structure and mapping between state and action.\n",
        "\n",
        "**Figure 12.DQL: Deep Q-Learning (DQL)**\n",
        "![Deep Q-Learning](https://raw.githubusercontent.com/jeffheaton/t81_558_deep_learning/master/images/deepqlearning.png \"Reinforcement Learning\")\n",
        "\n",
        "\n"
      ]
    },
    {
      "cell_type": "markdown",
      "metadata": {
        "id": "kNrNXKI7bINP"
      },
      "source": [
        "As this diagram illustrates, the environment state contains several elements.  For the basic DQN the state can be a mix of continuous and categorical/discrete values.  For the DQN, the discrete state elements the program typically encoded as dummy variables. The actions should be discrete when your program implements a DQN.  Other algorithms support continuous outputs, which we will discuss later in this chapter.\n",
        "\n",
        "In this chapter, we will make use of [TF-Agents](https://www.tensorflow.org/agents) to implement a DQN to solve the cart-pole environment.  TF-Agents makes designing, implementing, and testing new RL algorithms easier by providing well tested modular components that can be modified and extended. It enables fast code iteration, with functional test integration and benchmarking.\n",
        "\n",
        "## DQN and the Cart-Pole Problem\n",
        "\n",
        "Barto (1983) first described the cart-pole problem. [[Cite:barto1983neuronlike]](http://www.derongliu.org/adp/adp-cdrom/Barto1983.pdf) A cart is connected to a hinged rigid pole.  The cart is free to move only in the vertical plane of the cart/track.  The agent can apply an implusive \"left\" or \"right\" force F of a fixed magnitude to the cart at discrete time intervals.  The cart-pole environment simulates the physics behind keeping the pole in a reasonably upright position on the cart.  The environment has four state variables:\n",
        "* $x$ The position of the cart on the track.\n",
        "* $\\theta$ The angle of the pole with the vertical\n",
        "* $\\dot{x}$ The cart velocity.\n",
        "* $\\dot{\\theta}$ The rate of change of the angle.\n",
        "\n",
        "The action space consists of discrete actions:\n",
        "* Apply force left\n",
        "* Apply force right\n",
        "\n",
        "To apply DQN to this problem, you need to create the following components for TF-Agents.\n",
        "\n",
        "* Environment\n",
        "* Agent\n",
        "* Policies\n",
        "* Metrics and Evaluation\n",
        "* Replay Buffer\n",
        "* Data Collection\n",
        "* Training\n",
        "\n",
        "These components are standard in most DQN implementations.  Later, we will apply these same components to an Atari game, and after that, a problem of our design. This example is based on the [cart-pole tutorial](https://github.com/tensorflow/agents/blob/master/docs/tutorials/1_dqn_tutorial.ipynb) provided for TF-Agents.  We begin by importing needed Python libraries.\n"
      ]
    },
    {
      "cell_type": "code",
      "metadata": {
        "id": "sMitx5qSgJk1"
      },
      "source": [
        "import base64\n",
        "import imageio\n",
        "import IPython\n",
        "import matplotlib\n",
        "import matplotlib.pyplot as plt\n",
        "import numpy as np\n",
        "import PIL.Image\n",
        "import pyvirtualdisplay\n",
        "\n",
        "import tensorflow as tf\n",
        "\n",
        "from tf_agents.agents.dqn import dqn_agent\n",
        "from tf_agents.drivers import dynamic_step_driver\n",
        "from tf_agents.environments import suite_gym\n",
        "from tf_agents.environments import tf_py_environment\n",
        "from tf_agents.eval import metric_utils\n",
        "from tf_agents.metrics import tf_metrics\n",
        "from tf_agents.networks import q_network\n",
        "from tf_agents.policies import random_tf_policy\n",
        "from tf_agents.replay_buffers import tf_uniform_replay_buffer\n",
        "from tf_agents.trajectories import trajectory\n",
        "from tf_agents.utils import common"
      ],
      "execution_count": 54,
      "outputs": []
    },
    {
      "cell_type": "code",
      "metadata": {
        "id": "J6HsdS5GbSjd"
      },
      "source": [
        "# Set up a virtual display for rendering OpenAI gym environments.\n",
        "display = pyvirtualdisplay.Display(visible=0, size=(1400, 900)).start()"
      ],
      "execution_count": 55,
      "outputs": []
    },
    {
      "cell_type": "markdown",
      "metadata": {
        "id": "LmC0NDhdLIKY"
      },
      "source": [
        "## Hyperparameters\n",
        "\n",
        "Several hyperparameters must be defined.  The TF-Agent example provided reasonably well-tuned hyperparameters for cart-pole.  Later we will adapt these to an Atari game."
      ]
    },
    {
      "cell_type": "code",
      "metadata": {
        "id": "HC1kNrOsLSIZ"
      },
      "source": [
        "# How long should training run?\n",
        "num_iterations = 20000 \n",
        "# How many initial random steps, before training start, to\n",
        "# collect initial data.\n",
        "initial_collect_steps = 1000   \n",
        "# How many steps should we run each iteration to collect \n",
        "# data from.\n",
        "collect_steps_per_iteration = 1 \n",
        "# How much data should we store for training examples.\n",
        "replay_buffer_max_length = 100000\n",
        "\n",
        "batch_size = 64  \n",
        "learning_rate = 1e-3 \n",
        "# How often should the program provide an update.\n",
        "log_interval = 200  \n",
        "\n",
        "# How many episodes should the program use for each evaluation.\n",
        "num_eval_episodes = 10\n",
        "# How often should an evaluation occur.\n",
        "eval_interval = 1000  "
      ],
      "execution_count": 56,
      "outputs": []
    },
    {
      "cell_type": "markdown",
      "metadata": {
        "id": "VMsJC3DEgI0x"
      },
      "source": [
        "## Environment\n",
        "\n",
        "TF-Agents uses OpenAI gym environments to represent the task or problem to be solved. Standard environments can be created in TF-Agents using **tf_agents.environments** suites. TF-Agents has suites for loading environments from sources such as the OpenAI Gym, Atari, and DM Control. We begin by loading the CartPole environment from the OpenAI Gym suite. "
      ]
    },
    {
      "cell_type": "code",
      "metadata": {
        "id": "pYEz-S9gEv2-"
      },
      "source": [
        "env_name = 'CartPole-v0'\n",
        "env = suite_gym.load(env_name)"
      ],
      "execution_count": 57,
      "outputs": []
    },
    {
      "cell_type": "markdown",
      "metadata": {
        "id": "IIHYVBkuvPNw"
      },
      "source": [
        "We will quickly render this environment to see the visual representation."
      ]
    },
    {
      "cell_type": "code",
      "metadata": {
        "id": "RlO7WIQHu_7D",
        "colab": {
          "base_uri": "https://localhost:8080/"
        },
        "outputId": "acb3d18d-fe1d-42dd-f084-2cf40cd012c5"
      },
      "source": [
        "env.reset()\n",
        "env.render()\n",
        "#PIL.Image.fromarray(env.render())"
      ],
      "execution_count": 58,
      "outputs": [
        {
          "output_type": "execute_result",
          "data": {
            "text/plain": [
              "array([[[255, 255, 255],\n",
              "        [255, 255, 255],\n",
              "        [255, 255, 255],\n",
              "        ...,\n",
              "        [255, 255, 255],\n",
              "        [255, 255, 255],\n",
              "        [255, 255, 255]],\n",
              "\n",
              "       [[255, 255, 255],\n",
              "        [255, 255, 255],\n",
              "        [255, 255, 255],\n",
              "        ...,\n",
              "        [255, 255, 255],\n",
              "        [255, 255, 255],\n",
              "        [255, 255, 255]],\n",
              "\n",
              "       [[255, 255, 255],\n",
              "        [255, 255, 255],\n",
              "        [255, 255, 255],\n",
              "        ...,\n",
              "        [255, 255, 255],\n",
              "        [255, 255, 255],\n",
              "        [255, 255, 255]],\n",
              "\n",
              "       ...,\n",
              "\n",
              "       [[255, 255, 255],\n",
              "        [255, 255, 255],\n",
              "        [255, 255, 255],\n",
              "        ...,\n",
              "        [255, 255, 255],\n",
              "        [255, 255, 255],\n",
              "        [255, 255, 255]],\n",
              "\n",
              "       [[255, 255, 255],\n",
              "        [255, 255, 255],\n",
              "        [255, 255, 255],\n",
              "        ...,\n",
              "        [255, 255, 255],\n",
              "        [255, 255, 255],\n",
              "        [255, 255, 255]],\n",
              "\n",
              "       [[255, 255, 255],\n",
              "        [255, 255, 255],\n",
              "        [255, 255, 255],\n",
              "        ...,\n",
              "        [255, 255, 255],\n",
              "        [255, 255, 255],\n",
              "        [255, 255, 255]]], dtype=uint8)"
            ]
          },
          "metadata": {},
          "execution_count": 58
        }
      ]
    },
    {
      "cell_type": "markdown",
      "metadata": {
        "id": "B9_lskPOey18"
      },
      "source": [
        "The `environment.step` method takes an `action` in the environment and returns a `TimeStep` tuple containing the next observation of the environment and the reward for the action.\n",
        "\n",
        "The `time_step_spec()` method returns the specification for the `TimeStep` tuple. Its `observation` attribute shows the shape of observations, the data types, and the ranges of allowed values. The `reward` attribute shows the same details for the reward.\n"
      ]
    },
    {
      "cell_type": "code",
      "metadata": {
        "id": "exDv57iHfwQV",
        "outputId": "8b940917-5b9a-46e6-c21a-1b5861f68ecf",
        "colab": {
          "base_uri": "https://localhost:8080/"
        }
      },
      "source": [
        "print('Observation Spec:')\n",
        "print(env.time_step_spec().observation)"
      ],
      "execution_count": 59,
      "outputs": [
        {
          "output_type": "stream",
          "name": "stdout",
          "text": [
            "Observation Spec:\n",
            "BoundedArraySpec(shape=(4,), dtype=dtype('float32'), name='observation', minimum=[-4.8000002e+00 -3.4028235e+38 -4.1887903e-01 -3.4028235e+38], maximum=[4.8000002e+00 3.4028235e+38 4.1887903e-01 3.4028235e+38])\n"
          ]
        }
      ]
    },
    {
      "cell_type": "code",
      "metadata": {
        "id": "UxiSyCbBUQPi",
        "outputId": "ea06dad2-80a7-46e9-d2cc-39c9476d64e2",
        "colab": {
          "base_uri": "https://localhost:8080/"
        }
      },
      "source": [
        "print('Reward Spec:')\n",
        "print(env.time_step_spec().reward)"
      ],
      "execution_count": 60,
      "outputs": [
        {
          "output_type": "stream",
          "name": "stdout",
          "text": [
            "Reward Spec:\n",
            "ArraySpec(shape=(), dtype=dtype('float32'), name='reward')\n"
          ]
        }
      ]
    },
    {
      "cell_type": "markdown",
      "metadata": {
        "id": "b_lHcIcqUaqB"
      },
      "source": [
        "The `action_spec()` method returns the shape, data types, and allowed values of valid actions."
      ]
    },
    {
      "cell_type": "code",
      "metadata": {
        "id": "bttJ4uxZUQBr",
        "outputId": "2645f98a-24fc-4e79-80de-97ca3a777363",
        "colab": {
          "base_uri": "https://localhost:8080/"
        }
      },
      "source": [
        "print('Action Spec:')\n",
        "print(env.action_spec())"
      ],
      "execution_count": 61,
      "outputs": [
        {
          "output_type": "stream",
          "name": "stdout",
          "text": [
            "Action Spec:\n",
            "BoundedArraySpec(shape=(), dtype=dtype('int64'), name='action', minimum=0, maximum=1)\n"
          ]
        }
      ]
    },
    {
      "cell_type": "markdown",
      "metadata": {
        "id": "eJCgJnx3g0yY"
      },
      "source": [
        "In the Cartpole environment:\n",
        "\n",
        "-   `observation` is an array of 4 floats: \n",
        "    -   the position and velocity of the cart\n",
        "    -   the angular position and velocity of the pole \n",
        "-   `reward` is a scalar float value\n",
        "-   `action` is a scalar integer with only two possible values:\n",
        "    -   `0` — \"move left\"\n",
        "    -   `1` — \"move right\"\n"
      ]
    },
    {
      "cell_type": "code",
      "metadata": {
        "id": "V2UGR5t_iZX-",
        "outputId": "bcdc410f-8d0d-46ed-842d-e76e38dbb72f",
        "colab": {
          "base_uri": "https://localhost:8080/"
        }
      },
      "source": [
        "time_step = env.reset()\n",
        "print('Time step:')\n",
        "print(time_step)\n",
        "\n",
        "action = np.array(1, dtype=np.int32)\n",
        "\n",
        "next_time_step = env.step(action)\n",
        "print('Next time step:')\n",
        "print(next_time_step)"
      ],
      "execution_count": 62,
      "outputs": [
        {
          "output_type": "stream",
          "name": "stdout",
          "text": [
            "Time step:\n",
            "TimeStep(\n",
            "{'discount': array(1., dtype=float32),\n",
            " 'observation': array([ 0.01054767, -0.02992696, -0.03919698,  0.03435244], dtype=float32),\n",
            " 'reward': array(0., dtype=float32),\n",
            " 'step_type': array(0, dtype=int32)})\n",
            "Next time step:\n",
            "TimeStep(\n",
            "{'discount': array(1., dtype=float32),\n",
            " 'observation': array([ 0.00994913,  0.16573453, -0.03850993, -0.27043533], dtype=float32),\n",
            " 'reward': array(1., dtype=float32),\n",
            " 'step_type': array(1, dtype=int32)})\n"
          ]
        }
      ]
    },
    {
      "cell_type": "markdown",
      "metadata": {
        "id": "4JSc9GviWUBK"
      },
      "source": [
        "Usually, the program instantiates two environments: one for training and one for evaluation. "
      ]
    },
    {
      "cell_type": "code",
      "metadata": {
        "id": "N7brXNIGWXjC"
      },
      "source": [
        "train_py_env = suite_gym.load(env_name)\n",
        "eval_py_env = suite_gym.load(env_name)"
      ],
      "execution_count": 63,
      "outputs": []
    },
    {
      "cell_type": "markdown",
      "metadata": {
        "id": "zuUqXAVmecTU"
      },
      "source": [
        "The Cartpole environment, like most environments, is written in pure Python and is converted to TF-Agents and TensorFlow using the **TFPyEnvironment** wrapper. The original environment's API uses Numpy arrays. The **TFPyEnvironment** turns these to **Tensors** to make it compatible with Tensorflow agents and policies.\n"
      ]
    },
    {
      "cell_type": "code",
      "metadata": {
        "id": "Xp-Y4mD6eDhF"
      },
      "source": [
        "train_env = tf_py_environment.TFPyEnvironment(train_py_env)\n",
        "eval_env = tf_py_environment.TFPyEnvironment(eval_py_env)"
      ],
      "execution_count": 64,
      "outputs": []
    },
    {
      "cell_type": "markdown",
      "metadata": {
        "id": "E9lW_OZYFR8A"
      },
      "source": [
        "## Agent\n",
        "\n",
        "An Agent represents the algorithm used to solve an RL problem. TF-Agents provides standard implementations of a variety of Agents:\n",
        "\n",
        "-   [DQN](https://storage.googleapis.com/deepmind-media/dqn/DQNNaturePaper.pdf) (used in this example)\n",
        "-   [REINFORCE](http://www-anw.cs.umass.edu/~barto/courses/cs687/williams92simple.pdf)\n",
        "-   [DDPG](https://arxiv.org/pdf/1509.02971.pdf)\n",
        "-   [TD3](https://arxiv.org/pdf/1802.09477.pdf)\n",
        "-   [PPO](https://arxiv.org/abs/1707.06347)\n",
        "-   [SAC](https://arxiv.org/abs/1801.01290).\n",
        "\n",
        "You can only use the DQN agent in environments which have a discrete action space.  The DQN makes use of a QNetwork, a neural network model that learns to predict Q-Values (expected returns) for all actions, given a state from the environment.\n",
        "\n",
        "The following code uses **tf_agents.networks.q_network** to create a QNetwork, passing in the **observation_spec**, **action_spec**, and a tuple describing the number and size of the model's hidden layers.\n"
      ]
    },
    {
      "cell_type": "code",
      "metadata": {
        "id": "TgkdEPg_muzV"
      },
      "source": [
        "fc_layer_params = (100,)\n",
        "\n",
        "q_net = q_network.QNetwork(\n",
        "    train_env.observation_spec(),\n",
        "    train_env.action_spec(),\n",
        "    fc_layer_params=fc_layer_params)"
      ],
      "execution_count": 65,
      "outputs": []
    },
    {
      "cell_type": "markdown",
      "metadata": {
        "id": "z62u55hSmviJ"
      },
      "source": [
        "Now we use **tf_agents.agents.dqn.dqn_agent** to instantiate a **DqnAgent**. In addition to the **time_step_spec**, **action_spec** and the QNetwork, the agent constructor also requires an optimizer (in this case, **AdamOptimizer**), a loss function, and an integer step counter."
      ]
    },
    {
      "cell_type": "code",
      "metadata": {
        "id": "jbY4yrjTEyc9"
      },
      "source": [
        "optimizer = tf.compat.v1.train.AdamOptimizer(learning_rate=learning_rate)\n",
        "\n",
        "train_step_counter = tf.Variable(0)\n",
        "\n",
        "agent = dqn_agent.DqnAgent(\n",
        "    train_env.time_step_spec(),\n",
        "    train_env.action_spec(),\n",
        "    q_network=q_net,\n",
        "    optimizer=optimizer,\n",
        "    td_errors_loss_fn=common.element_wise_squared_loss,\n",
        "    train_step_counter=train_step_counter)\n",
        "\n",
        "agent.initialize()"
      ],
      "execution_count": 66,
      "outputs": []
    },
    {
      "cell_type": "markdown",
      "metadata": {
        "id": "I0KLrEPwkn5x"
      },
      "source": [
        "## Policies\n",
        "\n",
        "A policy defines the way an agent acts in an environment. Typically, the goal of reinforcement learning is to train the underlying model until the policy produces the desired outcome.\n",
        "\n",
        "In this example:\n",
        "\n",
        "* The desired outcome is keeping the pole balanced upright over the cart.\n",
        "* The policy returns an action (left or right) for each `time_step` observation.\n",
        "\n",
        "Agents contain two policies: \n",
        "\n",
        "*  **agent.policy** -  The algorithm uses this main policy for evaluation and deployment.\n",
        "* **agent.collect_policy** - The algorithm this secondary policy for data collection.\n"
      ]
    },
    {
      "cell_type": "code",
      "metadata": {
        "id": "BwY7StuMkuV4"
      },
      "source": [
        "eval_policy = agent.policy\n",
        "collect_policy = agent.collect_policy"
      ],
      "execution_count": 67,
      "outputs": []
    },
    {
      "cell_type": "markdown",
      "metadata": {
        "id": "2Qs1Fl3dV0ae"
      },
      "source": [
        "Policies can be created independently of agents. For example, use **tf_agents.policies.random_tf_policy** to create a policy which will randomly select an action for each **time_step**. We will use this random policy to create initial collection data to begin training."
      ]
    },
    {
      "cell_type": "code",
      "metadata": {
        "id": "HE37-UCIrE69"
      },
      "source": [
        "random_policy = random_tf_policy.RandomTFPolicy(train_env.time_step_spec(),\n",
        "                                                train_env.action_spec())"
      ],
      "execution_count": 68,
      "outputs": []
    },
    {
      "cell_type": "markdown",
      "metadata": {
        "id": "dOlnlRRsUbxP"
      },
      "source": [
        "To get an action from a policy, call the **policy.action(time_step)** method. The **time_step** contains the observation from the environment. This method returns a **PolicyStep**, which is a named tuple with three components:\n",
        "\n",
        "* **action** - The action to be taken (in this case, 0 or 1).\n",
        "* **state** - Used for stateful (that is, RNN-based) policies.\n",
        "* **info** - Auxiliary data, such as log probabilities of actions.\n",
        "\n",
        "Next we create an environment and setup the random policy."
      ]
    },
    {
      "cell_type": "code",
      "metadata": {
        "id": "5gCcpXswVAxk",
        "outputId": "a3e86502-e468-4234-efe4-7c522cbe4798",
        "colab": {
          "base_uri": "https://localhost:8080/"
        }
      },
      "source": [
        "example_environment = tf_py_environment.TFPyEnvironment(\n",
        "    suite_gym.load('CartPole-v0'))\n",
        "time_step = example_environment.reset()\n",
        "random_policy.action(time_step)"
      ],
      "execution_count": 69,
      "outputs": [
        {
          "output_type": "execute_result",
          "data": {
            "text/plain": [
              "PolicyStep(action=<tf.Tensor: shape=(1,), dtype=int64, numpy=array([1])>, state=(), info=())"
            ]
          },
          "metadata": {},
          "execution_count": 69
        }
      ]
    },
    {
      "cell_type": "markdown",
      "metadata": {
        "id": "94rCXQtbUbXv"
      },
      "source": [
        "## Metrics and Evaluation\n",
        "\n",
        "The most common metric used to evaluate a policy is the average return. The return is the sum of rewards obtained while running a policy in an environment for an episode. Several episodes are run, creating an average return. The following function computes the average return of a policy, given the policy, environment, and a number of episodes.  We will use this same evaluation for Atari.\n"
      ]
    },
    {
      "cell_type": "code",
      "metadata": {
        "id": "bitzHo5_UbXy"
      },
      "source": [
        "def compute_avg_return(environment, policy, num_episodes=10):\n",
        "\n",
        "  total_return = 0.0\n",
        "  for _ in range(num_episodes):\n",
        "\n",
        "    time_step = environment.reset()\n",
        "    episode_return = 0.0\n",
        "\n",
        "    while not time_step.is_last():\n",
        "      action_step = policy.action(time_step)\n",
        "      time_step = environment.step(action_step.action)\n",
        "      episode_return += time_step.reward\n",
        "    total_return += episode_return\n",
        "\n",
        "  avg_return = total_return / num_episodes\n",
        "  return avg_return.numpy()[0]\n",
        "\n",
        "\n",
        "# See also the metrics module for standard implementations \n",
        "# of different metrics.\n",
        "# https://github.com/tensorflow/agents/tree/master/tf_agents/metrics"
      ],
      "execution_count": 70,
      "outputs": []
    },
    {
      "cell_type": "markdown",
      "metadata": {
        "id": "_snCVvq5Z8lJ"
      },
      "source": [
        "Running this computation on the `random_policy` shows a baseline performance in the environment."
      ]
    },
    {
      "cell_type": "code",
      "metadata": {
        "id": "9bgU6Q6BZ8Bp",
        "outputId": "b9105d67-3de4-4b04-f62b-89b71b6a4f04",
        "colab": {
          "base_uri": "https://localhost:8080/"
        }
      },
      "source": [
        "compute_avg_return(eval_env, random_policy, num_eval_episodes)"
      ],
      "execution_count": 71,
      "outputs": [
        {
          "output_type": "execute_result",
          "data": {
            "text/plain": [
              "17.5"
            ]
          },
          "metadata": {},
          "execution_count": 71
        }
      ]
    },
    {
      "cell_type": "markdown",
      "metadata": {
        "id": "NLva6g2jdWgr"
      },
      "source": [
        "## Replay Buffer\n",
        "\n",
        "The replay buffer keeps track of data collected from the environment. This tutorial uses **TFUniformReplayBuffer**. The constructor requires the specs for the data it will be collecting. This value is available from the agent using the **collect_data_spec** method. The batch size and maximum buffer length are also required.\n"
      ]
    },
    {
      "cell_type": "code",
      "metadata": {
        "id": "vX2zGUWJGWAl"
      },
      "source": [
        "replay_buffer = tf_uniform_replay_buffer.TFUniformReplayBuffer(\n",
        "    data_spec=agent.collect_data_spec,\n",
        "    batch_size=train_env.batch_size,\n",
        "    max_length=replay_buffer_max_length)"
      ],
      "execution_count": 72,
      "outputs": []
    },
    {
      "cell_type": "markdown",
      "metadata": {
        "id": "ZGNTDJpZs4NN"
      },
      "source": [
        "For most agents, **collect_data_spec** is a named tuple called **Trajectory**, containing the specs for observations, actions, rewards, and other items."
      ]
    },
    {
      "cell_type": "code",
      "metadata": {
        "id": "_IZ-3HcqgE1z",
        "outputId": "8843e17b-d433-4e9e-87b4-50d510990839",
        "colab": {
          "base_uri": "https://localhost:8080/"
        }
      },
      "source": [
        "agent.collect_data_spec"
      ],
      "execution_count": 73,
      "outputs": [
        {
          "output_type": "execute_result",
          "data": {
            "text/plain": [
              "Trajectory(\n",
              "{'action': BoundedTensorSpec(shape=(), dtype=tf.int64, name='action', minimum=array(0), maximum=array(1)),\n",
              " 'discount': BoundedTensorSpec(shape=(), dtype=tf.float32, name='discount', minimum=array(0., dtype=float32), maximum=array(1., dtype=float32)),\n",
              " 'next_step_type': TensorSpec(shape=(), dtype=tf.int32, name='step_type'),\n",
              " 'observation': BoundedTensorSpec(shape=(4,), dtype=tf.float32, name='observation', minimum=array([-4.8000002e+00, -3.4028235e+38, -4.1887903e-01, -3.4028235e+38],\n",
              "      dtype=float32), maximum=array([4.8000002e+00, 3.4028235e+38, 4.1887903e-01, 3.4028235e+38],\n",
              "      dtype=float32)),\n",
              " 'policy_info': (),\n",
              " 'reward': TensorSpec(shape=(), dtype=tf.float32, name='reward'),\n",
              " 'step_type': TensorSpec(shape=(), dtype=tf.int32, name='step_type')})"
            ]
          },
          "metadata": {},
          "execution_count": 73
        }
      ]
    },
    {
      "cell_type": "markdown",
      "metadata": {
        "id": "rVD5nQ9ZGo8_"
      },
      "source": [
        "## Data Collection\n",
        "\n",
        "Now execute the random policy in the environment for a few steps, recording the data in the replay buffer."
      ]
    },
    {
      "cell_type": "code",
      "metadata": {
        "id": "wr1KSAEGG4h9"
      },
      "source": [
        "def collect_step(environment, policy, buffer):\n",
        "  time_step = environment.current_time_step()\n",
        "  action_step = policy.action(time_step)\n",
        "  next_time_step = environment.step(action_step.action)\n",
        "  traj = trajectory.from_transition(time_step, action_step, next_time_step)\n",
        "\n",
        "  # Add trajectory to the replay buffer\n",
        "  buffer.add_batch(traj)\n",
        "\n",
        "def collect_data(env, policy, buffer, steps):\n",
        "  for _ in range(steps):\n",
        "    collect_step(env, policy, buffer)\n",
        "\n",
        "collect_data(train_env, random_policy, replay_buffer, steps=100)\n",
        "\n",
        "# This loop is so common in RL, that we provide standard implementations. \n",
        "# For more details see the drivers module.\n",
        "# https://www.tensorflow.org/agents/api_docs/python/tf_agents/drivers"
      ],
      "execution_count": 74,
      "outputs": []
    },
    {
      "cell_type": "markdown",
      "metadata": {
        "id": "84z5pQJdoKxo"
      },
      "source": [
        "The replay buffer is now a collection of Trajectories. The agent needs access to the replay buffer. TF-Agents provides this access by creating an iterable **tf.data.Dataset** pipeline, which will feed data to the agent.\n",
        "\n",
        "Each row of the replay buffer only stores a single observation step. But since the DQN Agent needs both the current and next observation to compute the loss, the dataset pipeline will sample two adjacent rows for each item in the batch (**num_steps=2**).\n",
        "\n",
        "The program also optimizes this dataset by running parallel calls and prefetching data."
      ]
    },
    {
      "cell_type": "code",
      "metadata": {
        "id": "ba7bilizt_qW",
        "outputId": "0cff0200-b52e-4d8d-8476-0ca998be355f",
        "colab": {
          "base_uri": "https://localhost:8080/"
        }
      },
      "source": [
        "# Dataset generates trajectories with shape [Bx2x...]\n",
        "dataset = replay_buffer.as_dataset(\n",
        "    num_parallel_calls=3, \n",
        "    sample_batch_size=batch_size, \n",
        "    num_steps=2).prefetch(3)\n",
        "\n",
        "\n",
        "dataset"
      ],
      "execution_count": 75,
      "outputs": [
        {
          "output_type": "execute_result",
          "data": {
            "text/plain": [
              "<PrefetchDataset shapes: (Trajectory(\n",
              "{action: (64, 2),\n",
              " discount: (64, 2),\n",
              " next_step_type: (64, 2),\n",
              " observation: (64, 2, 4),\n",
              " policy_info: (),\n",
              " reward: (64, 2),\n",
              " step_type: (64, 2)}), BufferInfo(ids=(64, 2), probabilities=(64,))), types: (Trajectory(\n",
              "{action: tf.int64,\n",
              " discount: tf.float32,\n",
              " next_step_type: tf.int32,\n",
              " observation: tf.float32,\n",
              " policy_info: (),\n",
              " reward: tf.float32,\n",
              " step_type: tf.int32}), BufferInfo(ids=tf.int64, probabilities=tf.float32))>"
            ]
          },
          "metadata": {},
          "execution_count": 75
        }
      ]
    },
    {
      "cell_type": "code",
      "metadata": {
        "id": "K13AST-2ppOq",
        "outputId": "e14f5479-665e-469e-8d7e-81fe42034206",
        "colab": {
          "base_uri": "https://localhost:8080/"
        }
      },
      "source": [
        "iterator = iter(dataset)\n",
        "\n",
        "print(iterator)\n"
      ],
      "execution_count": 76,
      "outputs": [
        {
          "output_type": "stream",
          "name": "stdout",
          "text": [
            "<tensorflow.python.data.ops.iterator_ops.OwnedIterator object at 0x7fc61885be10>\n"
          ]
        }
      ]
    },
    {
      "cell_type": "markdown",
      "metadata": {
        "id": "hBc9lj9VWWtZ"
      },
      "source": [
        "## Training the agent\n",
        "\n",
        "Two things must happen during the training loop:\n",
        "\n",
        "* Collect data from the environment\n",
        "* Use that data to train the agent's neural network(s)\n",
        "\n",
        "This example also periodically evaluates the policy and prints the current score.\n",
        "\n",
        "The following will take ~5 minutes to run."
      ]
    },
    {
      "cell_type": "code",
      "metadata": {
        "id": "0pTbJ3PeyF-u",
        "outputId": "3e89293a-45d6-4524-a26c-8156a1fba020",
        "colab": {
          "base_uri": "https://localhost:8080/"
        }
      },
      "source": [
        "# (Optional) Optimize by wrapping some of the code in a graph \n",
        "\n",
        "# start time\n",
        "import time\n",
        "start = time.time()\n",
        "# using TF function.\n",
        "agent.train = common.function(agent.train)\n",
        "\n",
        "# Reset the train step\n",
        "agent.train_step_counter.assign(0)\n",
        "\n",
        "# Evaluate the agent's policy once before training.\n",
        "avg_return = compute_avg_return(eval_env, agent.policy, \\\n",
        "                                num_eval_episodes)\n",
        "returns = [avg_return]\n",
        "\n",
        "for _ in range(num_iterations):\n",
        "\n",
        "  # Collect a few steps using collect_policy and save to the replay buffer.\n",
        "  for _ in range(collect_steps_per_iteration):\n",
        "    collect_step(train_env, agent.collect_policy, replay_buffer)\n",
        "\n",
        "  # Sample a batch of data from the buffer and update the agent's network.\n",
        "  experience, unused_info = next(iterator)\n",
        "  train_loss = agent.train(experience).loss\n",
        "\n",
        "  step = agent.train_step_counter.numpy()\n",
        "\n",
        "  if step % log_interval == 0:\n",
        "    print('step = {0}: loss = {1}'.format(step, train_loss))\n",
        "\n",
        "  if step % eval_interval == 0:\n",
        "    avg_return = compute_avg_return(eval_env, agent.policy, \\\n",
        "                                    num_eval_episodes)\n",
        "    print('step = {0}: Average Return = {1}'.format(step, avg_return))\n",
        "    returns.append(avg_return)\n",
        "\n",
        "print('Time taken to train model: ', time.time() - start)"
      ],
      "execution_count": 77,
      "outputs": [
        {
          "output_type": "stream",
          "name": "stdout",
          "text": [
            "step = 200: loss = 7.531972408294678\n",
            "step = 400: loss = 6.957322120666504\n",
            "step = 600: loss = 4.05338191986084\n",
            "step = 800: loss = 25.439056396484375\n",
            "step = 1000: loss = 16.61623764038086\n",
            "step = 1000: Average Return = 200.0\n",
            "step = 1200: loss = 74.83741760253906\n",
            "step = 1400: loss = 43.89020538330078\n",
            "step = 1600: loss = 613.2547607421875\n",
            "step = 1800: loss = 698.2784423828125\n",
            "step = 2000: loss = 1464.014892578125\n",
            "step = 2000: Average Return = 10.0\n",
            "step = 2200: loss = 65.83080291748047\n",
            "step = 2400: loss = 167.90707397460938\n",
            "step = 2600: loss = 167.24636840820312\n",
            "step = 2800: loss = 133.15042114257812\n",
            "step = 3000: loss = 20.860044479370117\n",
            "step = 3000: Average Return = 60.5\n",
            "step = 3200: loss = 12.2444486618042\n",
            "step = 3400: loss = 320.5050964355469\n",
            "step = 3600: loss = 56.29322814941406\n",
            "step = 3800: loss = 7.880967140197754\n",
            "step = 4000: loss = 48.97038269042969\n",
            "step = 4000: Average Return = 70.0\n",
            "step = 4200: loss = 43.441688537597656\n",
            "step = 4400: loss = 106.83055114746094\n",
            "step = 4600: loss = 721.2456665039062\n",
            "step = 4800: loss = 87.81211853027344\n",
            "step = 5000: loss = 67.27841186523438\n",
            "step = 5000: Average Return = 38.400001525878906\n",
            "step = 5200: loss = 102.92018127441406\n",
            "step = 5400: loss = 41.86766815185547\n",
            "step = 5600: loss = 196.333251953125\n",
            "step = 5800: loss = 101.98634338378906\n",
            "step = 6000: loss = 26.995315551757812\n",
            "step = 6000: Average Return = 109.0\n",
            "step = 6200: loss = 95.17637634277344\n",
            "step = 6400: loss = 106.50167846679688\n",
            "step = 6600: loss = 33.41815185546875\n",
            "step = 6800: loss = 81.02464294433594\n",
            "step = 7000: loss = 5.0115766525268555\n",
            "step = 7000: Average Return = 122.5999984741211\n",
            "step = 7200: loss = 34.16596221923828\n",
            "step = 7400: loss = 94.458984375\n",
            "step = 7600: loss = 389.1828918457031\n",
            "step = 7800: loss = 8.807781219482422\n",
            "step = 8000: loss = 39.012210845947266\n",
            "step = 8000: Average Return = 199.60000610351562\n",
            "step = 8200: loss = 82.49073791503906\n",
            "step = 8400: loss = 142.0992889404297\n",
            "step = 8600: loss = 102.30823516845703\n",
            "step = 8800: loss = 8.47021770477295\n",
            "step = 9000: loss = 142.2239227294922\n",
            "step = 9000: Average Return = 200.0\n",
            "step = 9200: loss = 36.258323669433594\n",
            "step = 9400: loss = 222.29833984375\n",
            "step = 9600: loss = 135.0015411376953\n",
            "step = 9800: loss = 51.7136344909668\n",
            "step = 10000: loss = 331.692138671875\n",
            "step = 10000: Average Return = 200.0\n",
            "step = 10200: loss = 159.61073303222656\n",
            "step = 10400: loss = 159.55548095703125\n",
            "step = 10600: loss = 201.80413818359375\n",
            "step = 10800: loss = 102.09585571289062\n",
            "step = 11000: loss = 211.62362670898438\n",
            "step = 11000: Average Return = 200.0\n",
            "step = 11200: loss = 227.5060272216797\n",
            "step = 11400: loss = 121.93484497070312\n",
            "step = 11600: loss = 100.99772644042969\n",
            "step = 11800: loss = 145.79405212402344\n",
            "step = 12000: loss = 273.75311279296875\n",
            "step = 12000: Average Return = 198.5\n",
            "step = 12200: loss = 116.08052062988281\n",
            "step = 12400: loss = 216.5670623779297\n",
            "step = 12600: loss = 324.15655517578125\n",
            "step = 12800: loss = 383.2741394042969\n",
            "step = 13000: loss = 195.60357666015625\n",
            "step = 13000: Average Return = 199.8000030517578\n",
            "step = 13200: loss = 150.5844268798828\n",
            "step = 13400: loss = 401.12847900390625\n",
            "step = 13600: loss = 276.13568115234375\n",
            "step = 13800: loss = 290.9018249511719\n",
            "step = 14000: loss = 15.073442459106445\n",
            "step = 14000: Average Return = 200.0\n",
            "step = 14200: loss = 12.417966842651367\n",
            "step = 14400: loss = 770.9480590820312\n",
            "step = 14600: loss = 239.49046325683594\n",
            "step = 14800: loss = 266.0572509765625\n",
            "step = 15000: loss = 452.739990234375\n",
            "step = 15000: Average Return = 200.0\n",
            "step = 15200: loss = 232.3808135986328\n",
            "step = 15400: loss = 258.1986083984375\n",
            "step = 15600: loss = 208.80345153808594\n",
            "step = 15800: loss = 355.4544677734375\n",
            "step = 16000: loss = 117.88963317871094\n",
            "step = 16000: Average Return = 197.0\n",
            "step = 16200: loss = 11.549121856689453\n",
            "step = 16400: loss = 442.491455078125\n",
            "step = 16600: loss = 606.5975341796875\n",
            "step = 16800: loss = 19.621110916137695\n",
            "step = 17000: loss = 21.27924346923828\n",
            "step = 17000: Average Return = 199.10000610351562\n",
            "step = 17200: loss = 13.735374450683594\n",
            "step = 17400: loss = 19.617971420288086\n",
            "step = 17600: loss = 170.12728881835938\n",
            "step = 17800: loss = 16.23908233642578\n",
            "step = 18000: loss = 26.74095916748047\n",
            "step = 18000: Average Return = 200.0\n",
            "step = 18200: loss = 32.587074279785156\n",
            "step = 18400: loss = 27.763641357421875\n",
            "step = 18600: loss = 620.8091430664062\n",
            "step = 18800: loss = 398.96136474609375\n",
            "step = 19000: loss = 314.6106872558594\n",
            "step = 19000: Average Return = 200.0\n",
            "step = 19200: loss = 78.34906005859375\n",
            "step = 19400: loss = 454.0045166015625\n",
            "step = 19600: loss = 18.978221893310547\n",
            "step = 19800: loss = 21.767410278320312\n",
            "step = 20000: loss = 246.7884521484375\n",
            "step = 20000: Average Return = 200.0\n",
            "Time taken to train model:  431.26046872138977\n"
          ]
        }
      ]
    },
    {
      "cell_type": "markdown",
      "source": [
        "# Updating hyper parameters"
      ],
      "metadata": {
        "id": "_oU8lXmpBJKG"
      }
    },
    {
      "cell_type": "code",
      "source": [
        "# How long should training run?\n",
        "num_iterations = 3000\n",
        "# How many initial random steps, before training start, to\n",
        "# collect initial data.\n",
        "initial_collect_steps = 100000   \n",
        "# How many steps should we run each iteration to collect \n",
        "# data from.\n",
        "collect_steps_per_iteration = 100\n",
        "# How much data should we store for training examples.\n",
        "replay_buffer_max_length = 100000\n",
        "\n",
        "batch_size = 32  \n",
        "learning_rate = 1e-4\n",
        "# How often should the program provide an update.\n",
        "log_interval = 200  \n",
        "\n",
        "# How many episodes should the program use for each evaluation.\n",
        "num_eval_episodes = 1\n",
        "# How often should an evaluation occur.\n",
        "eval_interval = 1000  "
      ],
      "metadata": {
        "id": "ma6hclibBLmS"
      },
      "execution_count": 51,
      "outputs": []
    },
    {
      "cell_type": "code",
      "source": [
        "# (Optional) Optimize by wrapping some of the code in a graph \n",
        "\n",
        "# start time\n",
        "start = time.time()\n",
        "# using TF function.\n",
        "agent.train = common.function(agent.train)\n",
        "\n",
        "# Reset the train step\n",
        "agent.train_step_counter.assign(0)\n",
        "\n",
        "# Evaluate the agent's policy once before training.\n",
        "avg_return = compute_avg_return(eval_env, agent.policy, \\\n",
        "                                num_eval_episodes)\n",
        "returns = [avg_return]\n",
        "\n",
        "for _ in range(num_iterations):\n",
        "\n",
        "  # Collect a few steps using collect_policy and save to the replay buffer.\n",
        "  for _ in range(collect_steps_per_iteration):\n",
        "    collect_step(train_env, agent.collect_policy, replay_buffer)\n",
        "\n",
        "  # Sample a batch of data from the buffer and update the agent's network.\n",
        "  experience, unused_info = next(iterator)\n",
        "  train_loss = agent.train(experience).loss\n",
        "\n",
        "  step = agent.train_step_counter.numpy()\n",
        "\n",
        "  if step % log_interval == 0:\n",
        "    print('step = {0}: loss = {1}'.format(step, train_loss))\n",
        "\n",
        "  if step % eval_interval == 0:\n",
        "    avg_return = compute_avg_return(eval_env, agent.policy, \\\n",
        "                                    num_eval_episodes)\n",
        "    print('step = {0}: Average Return = {1}'.format(step, avg_return))\n",
        "    returns.append(avg_return)\n",
        "\n",
        "print('Time taken to train model: ',time.time() - start)"
      ],
      "metadata": {
        "id": "QkoP00hYBMsd",
        "outputId": "44ae27c7-7f20-49cd-eb6a-52c5904f03a4",
        "colab": {
          "base_uri": "https://localhost:8080/"
        }
      },
      "execution_count": 78,
      "outputs": [
        {
          "output_type": "stream",
          "name": "stdout",
          "text": [
            "step = 200: loss = 195.99758911132812\n",
            "step = 400: loss = 352.3454284667969\n",
            "step = 600: loss = 627.6934814453125\n",
            "step = 800: loss = 81.96371459960938\n",
            "step = 1000: loss = 264.6352233886719\n",
            "step = 1000: Average Return = 200.0\n",
            "step = 1200: loss = 18.335704803466797\n",
            "step = 1400: loss = 441.98992919921875\n",
            "step = 1600: loss = 361.77294921875\n",
            "step = 1800: loss = 18.78883171081543\n",
            "step = 2000: loss = 541.82177734375\n",
            "step = 2000: Average Return = 200.0\n",
            "step = 2200: loss = 16.684118270874023\n",
            "step = 2400: loss = 843.9906005859375\n",
            "step = 2600: loss = 373.31536865234375\n",
            "step = 2800: loss = 533.0849609375\n",
            "step = 3000: loss = 29.03343963623047\n",
            "step = 3000: Average Return = 200.0\n",
            "step = 3200: loss = 240.69175720214844\n",
            "step = 3400: loss = 402.14007568359375\n",
            "step = 3600: loss = 1108.1654052734375\n",
            "step = 3800: loss = 201.362060546875\n",
            "step = 4000: loss = 1298.416259765625\n",
            "step = 4000: Average Return = 200.0\n",
            "step = 4200: loss = 35.80442428588867\n",
            "step = 4400: loss = 30.64797592163086\n",
            "step = 4600: loss = 28.638647079467773\n",
            "step = 4800: loss = 32.82062530517578\n",
            "step = 5000: loss = 1097.857421875\n",
            "step = 5000: Average Return = 200.0\n",
            "step = 5200: loss = 358.7546081542969\n",
            "step = 5400: loss = 244.7376708984375\n",
            "step = 5600: loss = 27.300975799560547\n",
            "step = 5800: loss = 779.4791870117188\n",
            "step = 6000: loss = 1884.4598388671875\n",
            "step = 6000: Average Return = 200.0\n",
            "step = 6200: loss = 36.58699417114258\n",
            "step = 6400: loss = 432.99969482421875\n",
            "step = 6600: loss = 32.98759841918945\n",
            "step = 6800: loss = 23.287487030029297\n",
            "step = 7000: loss = 43.58905029296875\n",
            "step = 7000: Average Return = 200.0\n",
            "step = 7200: loss = 30.12472915649414\n",
            "step = 7400: loss = 28.52735137939453\n",
            "step = 7600: loss = 718.710693359375\n",
            "step = 7800: loss = 21.487194061279297\n",
            "step = 8000: loss = 27.27899169921875\n",
            "step = 8000: Average Return = 200.0\n",
            "step = 8200: loss = 33.2616081237793\n",
            "step = 8400: loss = 720.8036499023438\n",
            "step = 8600: loss = 27.27541732788086\n",
            "step = 8800: loss = 36.18165588378906\n",
            "step = 9000: loss = 7.563794136047363\n",
            "step = 9000: Average Return = 200.0\n",
            "step = 9200: loss = 31.755889892578125\n",
            "step = 9400: loss = 132.60772705078125\n",
            "step = 9600: loss = 40.08127212524414\n",
            "step = 9800: loss = 599.4282836914062\n",
            "step = 10000: loss = 28.392841339111328\n",
            "step = 10000: Average Return = 200.0\n",
            "step = 10200: loss = 26.15686798095703\n",
            "step = 10400: loss = 661.9561157226562\n",
            "step = 10600: loss = 645.4991455078125\n",
            "step = 10800: loss = 995.179443359375\n",
            "step = 11000: loss = 52.802589416503906\n",
            "step = 11000: Average Return = 200.0\n",
            "step = 11200: loss = 32.758155822753906\n",
            "step = 11400: loss = 481.4116516113281\n",
            "step = 11600: loss = 1125.2291259765625\n",
            "step = 11800: loss = 37.021629333496094\n",
            "step = 12000: loss = 17.841163635253906\n",
            "step = 12000: Average Return = 200.0\n",
            "step = 12200: loss = 778.8018798828125\n",
            "step = 12400: loss = 665.8450317382812\n",
            "step = 12600: loss = 101.15420532226562\n",
            "step = 12800: loss = 29.323345184326172\n",
            "step = 13000: loss = 23.37332534790039\n",
            "step = 13000: Average Return = 200.0\n",
            "step = 13200: loss = 85.15989685058594\n",
            "step = 13400: loss = 1339.1390380859375\n",
            "step = 13600: loss = 54.553043365478516\n",
            "step = 13800: loss = 26.88378143310547\n",
            "step = 14000: loss = 339.2610778808594\n",
            "step = 14000: Average Return = 200.0\n",
            "step = 14200: loss = 44.01668167114258\n",
            "step = 14400: loss = 2022.1951904296875\n",
            "step = 14600: loss = 156.12762451171875\n",
            "step = 14800: loss = 663.0292358398438\n",
            "step = 15000: loss = 23.991058349609375\n",
            "step = 15000: Average Return = 200.0\n",
            "step = 15200: loss = 448.4529724121094\n",
            "step = 15400: loss = 1122.591064453125\n",
            "step = 15600: loss = 46.43753433227539\n",
            "step = 15800: loss = 64.51435852050781\n",
            "step = 16000: loss = 73.34725952148438\n",
            "step = 16000: Average Return = 200.0\n",
            "step = 16200: loss = 20.344728469848633\n",
            "step = 16400: loss = 626.2500610351562\n",
            "step = 16600: loss = 64.1134033203125\n",
            "step = 16800: loss = 733.934814453125\n",
            "step = 17000: loss = 443.55706787109375\n",
            "step = 17000: Average Return = 200.0\n",
            "step = 17200: loss = 50.868492126464844\n",
            "step = 17400: loss = 67.09200286865234\n",
            "step = 17600: loss = 124.09366607666016\n",
            "step = 17800: loss = 59.08888244628906\n",
            "step = 18000: loss = 179.56820678710938\n",
            "step = 18000: Average Return = 200.0\n",
            "step = 18200: loss = 16.740243911743164\n",
            "step = 18400: loss = 100.32151794433594\n",
            "step = 18600: loss = 156.88351440429688\n",
            "step = 18800: loss = 58.741188049316406\n",
            "step = 19000: loss = 67.44927978515625\n",
            "step = 19000: Average Return = 200.0\n",
            "step = 19200: loss = 450.3075866699219\n",
            "step = 19400: loss = 25.851823806762695\n",
            "step = 19600: loss = 18.069992065429688\n",
            "step = 19800: loss = 15.297002792358398\n",
            "step = 20000: loss = 32.821598052978516\n",
            "step = 20000: Average Return = 200.0\n",
            "Time taken to train model:  485.50986528396606\n"
          ]
        }
      ]
    },
    {
      "cell_type": "markdown",
      "metadata": {
        "id": "68jNcA_TiJDq"
      },
      "source": [
        "## Visualization\n"
      ]
    },
    {
      "cell_type": "markdown",
      "metadata": {
        "id": "aO-LWCdbbOIC"
      },
      "source": [
        "### Plots\n",
        "\n",
        "Use **matplotlib.pyplot** to chart how the policy improved during training.\n",
        "\n",
        "One iteration of **Cartpole-v0** consists of 200 time steps. The environment gives a reward of `+1` for each step the pole stays up, so the maximum return for one episode is 200. The charts show the return increasing towards that maximum each time it is evaluated during training. (It may be a little unstable and not increase each time monotonically.)"
      ]
    },
    {
      "cell_type": "code",
      "metadata": {
        "id": "NxtL1mbOYCVO",
        "outputId": "d9e42ed0-5bcf-4421-ada1-c9f7d48cae4a",
        "colab": {
          "base_uri": "https://localhost:8080/",
          "height": 300
        }
      },
      "source": [
        "iterations = range(0, num_iterations + 1, eval_interval)\n",
        "plt.plot(iterations, returns)\n",
        "plt.ylabel('Average Return')\n",
        "plt.xlabel('Iterations')\n",
        "plt.ylim(top=250)"
      ],
      "execution_count": 79,
      "outputs": [
        {
          "output_type": "execute_result",
          "data": {
            "text/plain": [
              "(189.0, 250.0)"
            ]
          },
          "metadata": {},
          "execution_count": 79
        },
        {
          "output_type": "display_data",
          "data": {
            "image/png": "[encoded data removed]",
            "text/plain": [
              "<Figure size 432x288 with 1 Axes>"
            ]
          },
          "metadata": {
            "needs_background": "light"
          }
        }
      ]
    },
    {
      "cell_type": "markdown",
      "metadata": {
        "id": "M7-XpPP99Cy7"
      },
      "source": [
        "### Videos"
      ]
    },
    {
      "cell_type": "markdown",
      "metadata": {
        "id": "9pGfGxSH32gn"
      },
      "source": [
        "Charts are nice. But more exciting is seeing an agent actually performing a task in an environment. \n",
        "\n",
        "First, create a function to embed videos in the notebook."
      ]
    },
    {
      "cell_type": "code",
      "metadata": {
        "id": "ULaGr8pvOKbl"
      },
      "source": [
        "def embed_mp4(filename):\n",
        "  \"\"\"Embeds an mp4 file in the notebook.\"\"\"\n",
        "  video = open(filename,'rb').read()\n",
        "  b64 = base64.b64encode(video)\n",
        "  tag = '''\n",
        "  <video width=\"640\" height=\"480\" controls>\n",
        "    <source src=\"data:video/mp4;base64,{0}\" type=\"video/mp4\">\n",
        "  Your browser does not support the video tag.\n",
        "  </video>'''.format(b64.decode())\n",
        "\n",
        "  return IPython.display.HTML(tag)"
      ],
      "execution_count": 80,
      "outputs": []
    },
    {
      "cell_type": "markdown",
      "metadata": {
        "id": "9c_PH-pX4Pr5"
      },
      "source": [
        "Now iterate through a few episodes of the Cartpole game with the agent. The underlying Python environment (the one \"inside\" the TensorFlow environment wrapper) provides a `render()` method, which outputs an image of the environment state. These can be collected into a video."
      ]
    },
    {
      "cell_type": "code",
      "metadata": {
        "id": "owOVWB158NlF",
        "outputId": "73beb398-3986-4469-daf8-d3846ae01abe",
        "colab": {
          "base_uri": "https://localhost:8080/",
          "height": 518
        }
      },
      "source": [
        "def create_policy_eval_video(policy, filename, num_episodes=5, fps=30):\n",
        "  filename = filename + \".mp4\"\n",
        "  with imageio.get_writer(filename, fps=fps) as video:\n",
        "    for _ in range(num_episodes):\n",
        "      time_step = eval_env.reset()\n",
        "      video.append_data(eval_py_env.render())\n",
        "      while not time_step.is_last():\n",
        "        action_step = policy.action(time_step)\n",
        "        time_step = eval_env.step(action_step.action)\n",
        "        video.append_data(eval_py_env.render())\n",
        "  return embed_mp4(filename)\n",
        "\n",
        "\n",
        "\n",
        "\n",
        "create_policy_eval_video(agent.policy, \"trained-agent\")"
      ],
      "execution_count": 81,
      "outputs": [
        {
          "output_type": "stream",
          "name": "stderr",
          "text": [
            "WARNING:root:IMAGEIO FFMPEG_WRITER WARNING: input image is not divisible by macro_block_size=16, resizing from (400, 600) to (400, 608) to ensure video compatibility with most codecs and players. To prevent resizing, make your input image divisible by the macro_block_size or set the macro_block_size to None (risking incompatibility). You may also see a FFMPEG warning concerning speedloss due to data not being aligned.\n"
          ]
        },
        {
          "output_type": "execute_result",
          "data": {
            "text/html": [
              "\n",
              "  <video width=\"640\" height=\"480\" controls>\n",
              "    <source src=\"data:video/mp4;base64,AAAAIGZ0eXBpc29tAAACAGlzb21pc28yYXZjMW1wNDEAAAAIZnJlZQABIp1tZGF0AAACrgYF//+q3EXpvebZSLeWLNgg2SPu73gyNjQgLSBjb3JlIDE1MiByMjg1NCBlOWE1OTAzIC0gSC4yNjQvTVBFRy00IEFWQyBjb2RlYyAtIENvcHlsZWZ0IDIwMDMtMjAxNyAtIGh0dHA6Ly93d3cudmlkZW9sYW4ub3JnL3gyNjQuaHRtbCAtIG9wdGlvbnM6IGNhYmFjPTEgcmVmPTMgZGVibG9jaz0xOjA6MCBhbmFseXNlPTB4MzoweDExMyBtZT1oZXggc3VibWU9NyBwc3k9MSBwc3lfcmQ9MS4wMDowLjAwIG1peGVkX3JlZj0xIG1lX3JhbmdlPTE2IGNocm9tYV9tZT0xIHRyZWxsaXM9MSA4eDhkY3Q9MSBjcW09MCBkZWFkem9uZT0yMSwxMSBmYXN0X3Bza2lwPTEgY2hyb21hX3FwX29mZnNldD0tMiB0aHJlYWRzPTMgbG9va2FoZWFkX3RocmVhZHM9MSBzbGljZWRfdGhyZWFkcz0wIG5yPTAgZGVjaW1hdGU9MSBpbnRlcmxhY2VkPTAgYmx1cmF5X2NvbXBhdD0wIGNvbnN0cmFpbmVkX2ludHJhPTAgYmZyYW1lcz0zIGJfcHlyYW1pZD0yIGJfYWRhcHQ9MSBiX2JpYXM9MCBkaXJlY3Q9MSB3ZWlnaHRiPTEgb3Blbl9nb3A9MCB3ZWlnaHRwPTIga2V5aW50PTI1MCBrZXlpbnRfbWluPTI1IHNjZW5lY3V0PTQwIGludHJhX3JlZnJlc2g9MCByY19sb29rYWhlYWQ9NDAgcmM9Y3JmIG1idHJlZT0xIGNyZj0yNS4wIHFjb21wPTAuNjAgcXBtaW49MCBxcG1heD02OSBxcHN0ZXA9NCBpcF9yYXRpbz0xLjQwIGFxPTE6MS4wMACAAAABvGWIhAA3//72rvzLK0cLlS4dWXuzUfLoSXL9iDB9aAAAAwAAAwAAJuKiZ0WFMeJsgAAALmAIWElDyDzETFWKgSvGXwOeIAE/Abjo+x4TNielSR6BkZv7wKdtsywTsWW3ZUG9uf+XcxjU+y9j0lYVxHrPB4hf7m3TKWqcEfO2ZV78DdA+RZzF+XXxF7jDTyWRvAuzRbJLlU/eXnHAFtEbaIRAgPxxddpDcVv/WdsoYXXkIABTYwlnCFDyUyFBEsxGbccY05DOkJur6haYW/m4foHvijCY6ihOy/y2aFwsnHRrCPSZqjs9gjNwFP2z+pfdRAa7q6BgExT60PI2KOS8QfXEfnJGQdbnXHh61BnaSpV9Y2nRgtntNm2Np+SxgQmV7SnszoK0i9/WiRYhy73kjnOqUYrbyNiWRpiHUcaUqMMz+5O4Q+Nlw7PC+wh7de6uBNlAMdL7mVbdZsHKtfxPoruybRXTD61kYJvMXGCXyAp0p+dENrPPKcgAKu/MMZACxq1qVER3HPzaA1owtyLNoDXWLvepLxxtf3E+PxF/VV2SnxtMTQ4zCX2/YNQci9z6Ln/KYAAAAwAAAwAO2QAAAOlBmiRsQ3/+jLAAAEZ/vgyYJb/aFeNeZ+oMSbnnAV0gQVa+D+2IfsFy5FPEsvckKAFsKod4RXnhCg9tvVAmLSmcV0zA6x3XcSuRR/bn0eQeenhZqfM4ymWZTUO/rKtfiOYhHLgUO9l6wAGG4h/x3oEgRQAASH/mMlq4wJEsAyV+jxPwvSzAnJ/yghtTx3vBDZXl+F46ti5Np1Xq4XQHtcbLFSc5H0TUsF2oIrDoOL+8QUxCWhdi1WX/SR/z4yxAUdHgg5OXLWNKFvnLe5x416AAAAMAAEO8qM99ReLn6w4GqWHiHAG9jEcIOAAAACtBnkJ4hX8AABazKbrHdIZne7PszINR3iNATFuR9ousAAADAA5gKVv/CA35AAAAMAGeYXRCfwAAI7CrsYpMQwCaM8K+wpN0Cwp+dOBWU+2b7gAAAwAAAwB5vRF/1QCzgAAAABgBnmNqQn8AACO/BCcSpyHeV/DBJdItvQMAAACVQZpoSahBaJlMCG///oywAABGfiYLhVZwBt+loq1iKANYvlO6ZeoHfVkOswAABqaRozIM1QZ+z+IpRWcN39bua2kP7MG7tsTuiaqQ7DYOPf9DKb83C55562OzTB1AipsS+qnI4Rs+mKDkSgZNtJ/huQdnsen/9jMSWfUNZkawC2Cx2aXg9zUdJ+V+U8UfACsiJ9Hwl1MAAABAQZ6GRREsK/8AABYsTmwJ2jhMZhqhfyxH9+QF+sFCRnt6oEAFxdJYLgbulFwYU8Yc+ZP5OhQw8J1PLO6Sto6TgQAAACEBnqV0Qn8AAAzeFJ71WC+AA9pWb9DBlidnayUSc0w+LuEAAAA0AZ6nakJ/AAAivxrMIQzqW88enqmg4Ct/DYd/BcAFs7UFDDCCRh3iDhwhZbp7c/qu21HF3AAAAGFBmqtJqEFsmUwIb//+jLAAAERAul6evc0GT/AvHzAGiyM4G+rHL4FJPsLxiAvwkMYJif+HtVY5NKaMRzmVjxvUyxOv9k233pDjHfXKRSzGTr1sHD+PxSJceunv4YFIe+LgAAAALEGeyUUVLCv/AAAWG3ivncTcF4oZkYsKLOjJIqaGoCyHEmKYf4LMcILnALuBAAAAJgGe6mpCfwAABPumFVzt3UgYs/GlmyU3IqhcAAWgMYyPQonE6NuAAAAAX0Ga70moQWyZTAhv//6MsAAARBD9/rOuoAClTvz9LxnUFwdUeE8U5WiqzwjvbrIcm+w9UmsoX+dIbAvL52vJvgDLTrTW4jC42lCRIDsySOwjZUFFwNqsq4W2gJUNWKiAAAAAR0GfDUUVLCv/AAAWMJ9xzprqygA/J/jQwUUNyZfQkZP3nfkAa0UiE4r0CqxHFHnvMfkzv3eJvSgsAp+0QPi+d8Y+xsINVpuBAAAAJgGfLHRCfwAABPhbLdt7ABLFPwJ3uU0cxef0kJpLE3wjLGxUrPEvAAAAKwGfLmpCfwAAIr8aztq0xpaM2AAshGVQhvgycUvxWeUhPZoTdIxj9IrYl4EAAAB8QZszSahBbJlMCG///oywAABECNZwBQbag2c+bT0bqD9Tpc1SVEtsXG2rc/XyIen9SB1+IWdRfD34O8vw1YKDO1tenY8gH6TAbcnXV6T30geNFDcZAQYDj4AuXAsrM0EP5av7Yb+vbOtehmGBKVjutk5wAeKHGWNMGBA5OAAAAClBn1FFFSwr/wAAFixOGsCM0GPvcm0O8+l1lsYcOVAPciINmZadIJgC7gAAACwBn3B0Qn8AAA0kuBtGXR4jHnEp5oyAXqgBAVQ6BxXIXu5031g4Io+pY5gQMQAAACMBn3JqQn8AACK/HSwebLlD5ABY/3ADAmvbqC0y6btpUTymfAAAAExBm3dJqEFsmUwIb//+jLAAAEQC9/mg5qJaXyeTxUrursFFv/m6TJLu8Rcy94D1mYlZUPVf8mRmRBzB9XROUEZatg0B/pbHcdpIHFPPAAAAL0GflUUVLCv/AAAWMFoQaU40AD9l2QOEhSi6sNYtgr2mQEJCPD0iQzgitlRgfuE5AAAAHwGftHRCfwAAIsNHHAIXLX1OqQumMJVrwp6ZtazCccAAAAAWAZ+2akJ/AAAisjyvT/XIXjzzpQcHpQAAAI5Bm7tJqEFsmUwIb//+jLAAAEQQ/f5j5RICleUw/wXmOrEAJWNRM/P/sGFyRVdtrQD1JUxYe9G4BZekS97leHbLzvcO3hAVkG9FCdUMj5hypvN2vx88OvpDGUerWJ/m81E15wCLsUtVuYAts7vOJc1aY/Re4x72bx17N9+9uec4nGBHmnJLYThgz3sdqrnxAAAAIEGf2UUVLCv/AAAWLE5swunPjNkoOTfsfYDwKC0E/hlQAAAAGQGf+HRCfwAAAwAZvCvVAGkdLeH7XhZXzn0AAAA1AZ/6akJ/AAAisisFJ0KgBZCXh59ZTTB5Oa+RDsAiPw990MMdXrKrrDKBDkCYegwOfwdBMCAAAACCQZv/SahBbJlMCG///oywAABEEMFXldJFYGD87a9cHQ1rG5dV8Ugillnj0W2OcFCApqgOjZ+3XXBWuvLkg+H6ZEUs4KhaIdykNs0tYlbYqdTC8ut3GAuyMkwrq5cExGYxsFSOqexxx2SWYI/BySAdP1+uCrk9NRAYTuvOhIGlZMJeUQAAAElBnh1FFSwr/wAAFiuUkkVWwAmWKP3EI/+Y9d08yeoI5Aa3db0OPoFadk0px5LJG20SXYTLsPr7nG6ol4bqDINiI67J2imL/vyhAAAAHAGePHRCfwAAIrf1zo5nWy019Hv3h1M+ty3jkvAAAAApAZ4+akJ/AAANL9b4jcAFxPoaqgUp8hmrd5f+tIPWHksv2bVClsMKWVAAAAB3QZojSahBbJlMCG///oywAABEFF1D/CJnaiaQMfQHyDcmjh2gYaSYCfpR/93KUAGgC5GgpSlOIj42CBhU0rrnR7z7JUh5yG66L/zbpswwO9nMIbAWmDBsnDQu8P6uCaSGrwBHjnsJu5gHr7cpmJdLGCoK0ZlBu5EAAAA1QZ5BRRUsK/8AAAgvIeXo7+P5kSSE3oC358IFea9/tJ4ZLqKUQ8+LCL0vqlo72ioEepxi/MAAAAAXAZ5gdEJ/AAAhw0C5MTQ2PcN/ZtqAaSEAAAAvAZ5iakJ/AAAiscwJb9442AC4YQ9+By62es85ZeisEos44ZWYcMtoCJqv4IE8t/MAAABeQZpnSahBbJlMCG///oywAABEQntsdJYbQa71UUIjWzNs0jjyoR2qzJcxPgTfgN3ksJ3VRGqV9RE69R9GAP8ztFWbu4aPVb9MCaD4tbuJ3fYEf0eq3w5Fwg8VVs54gQAAAE5BnoVFFSwr/wAAFiuUPlLEfgABO3PzVMCmf/sZ+mioTWPEVkuNmFsDzr1TsF74o9ALGxG1XlcwrBDE27fRJsS5HL53+xd5ZkYs4xuImJ8AAAAkAZ6kdEJ/AAAit/XOjmdXyXHq1j60UvnIAPwhcAMCQp8wShHzAAAALAGepmpCfwAADS+2jDc4yjAALifpdLAqYXygl90P7cQxDiAIACnrZwprEENhAAAAQkGaq0moQWyZTAhv//6MsAAARCWhbmAAnL0ujPwvZsFq8on6ybgz8cIQB9c2v7E5G6tHv2TVt8Hse9lTSlMItrbA3AAAADNBnslFFSwr/wAAFd+XKhTnF2iSAE1bTMcqyierfpGCDoIwCvkxvO4xxbtEIrQXmAAmkEAAAAAkAZ7odEJ/AAAiwxdoqaVVPOXxUd/ikMwQI2ptVvsC8J8RTUghAAAAJAGe6mpCfwAAIr8dLBkOAMhRXAAFq2WBkeUYMTNY64Vu4PwyoAAAAHtBmu9JqEFsmUwIb//+jLAAAEQQwUgLgA5Z3Qny1WXs2MqkRH10k+5SuCA59Ei58Fh2HYG1D6lU12byrq62y0BERFY4p6vBZfsBiwsL61R0Qb+b+BkS3KRa9wsvCgaaZp7fjDR0rx20qdFfxZ32+yiTryjnjfi7gim35cAAAABBQZ8NRRUsK/8AABYjK/vzOl79MeLC6UJujGpwAlqKg8KEWBa+RHjekHsQymBBjb2mhntL1Wz6C7as1TsyD9prs2EAAAAqAZ8sdEJ/AAAiq/hZpWyoALITMKdIwQuqee7SoLmo1ZGagLKFYqmnvFVZAAAAKAGfLmpCfwAAIscynvp2Tn0/I9jjcKhaJAAugBSCLiiD6IqQWvd/WUEAAABxQZszSahBbJlMCG///oywAABEAvaKCQwDRLJEpw5jH4WlMcn6KCnIe2qFqxpNq2KAjd9/pOGEQYhoOZ2jJgXWPYQXEmr3NY5hWUUd3S5exGyxpSrYiWJwI3eshdLvH92GJttVPMs6Zu1eKLDdb29GHiAAAAAyQZ9RRRUsK/8AABYuat17tTdkBGfK8Db+Uq9Lyu0/WlXsIgCMa3BDx2RGptbL3cMs9MAAAAAgAZ9wdEJ/AAANLgDTYQmdzLSe10JOqY1l1+qJiYsojwUAAAAuAZ9yakJ/AAAiscwQ5KgAsWfNzFutLHimlPFc20xEllIfKY6aGB/dDaqA/5QxYAAAAHpBm3dJqEFsmUwIb//+jLAAAEQQfbH2UvwRmBpYIAi6kuHRowqap25uv0oDn4sJSGF9n8YfJQ9hH0pXdK1MbVh0BJQZ7ugIT8Cb5Uxxhm7Zhprzcd5E6uksjWFbNYLdhSNv8APywpxN8UR+ApI+Lfsa5/ta8EMysT//UAAAADlBn5VFFSwr/wAAFh02QgEE3B3G2JvGhHmvw5fFqpobSACZmsN9eIcZCb7Mfv8ERNYLTmtF0yAjlb0AAAAuAZ+0dEJ/AAAhw0ccA4N9VjXEkSVzABc/v5AhcI9Te4Zr+uDVSq6+AADn7OCnwAAAADIBn7ZqQn8AACK/BCxcmUs5XMENOSo79DacBf5IG3QFsAD2kyxPW5ld34lF5I6WDbJ0wQAAAG5Bm7tJqEFsmUwIb//+jLAAAEQQwWYEmkG8saAagAzUz5xbbcfDyFabGOCwKE0PZ5rbBAQ6XzM3EKd/+msuyF5Ot/KpOMRlDmLeW2hafiDj4QA+Q6qncLNLnzDhkg4tCgtqEyvjmRQF74riHwbQYwAAADpBn9lFFSwr/wAAFiMsA549BoR1hix6Uw1Qz5gBNXQaSnSHDFiE94728E7KYgmklLtL/RUYoGg38bz4AAAAKAGf+HRCfwAADS4A0hTcoAF1ErPdKnSmlO8kdlH+SDHZ6dKvgLvsQssAAAA4AZ/6akJ/AAAiscv8iM4ALN74AcSqgQbogv4YsA7g27s4vJ3yxlQq315/bbaehk6QCcVNSZR/VSAAAAB2QZv/SahBbJlMCG///oywAABEeN/gKDTouvvisE5qVw2ll5ImlHDtAA4kV4G4eWbEHsOvuGIyoZe+IpGJbyN7ROuFAAwQ9aacMtkx1M9R4UWfKauoorRuArWG3eGl7GncTUE/yFZZ1OjCdszCWSZ9ZXSdiW8TsQAAAEtBnh1FFSwr/wAAFiMrtQXDih1KFJmUy6PRWVMl/xVgg8F5PtWncv39vrijjfMc2INEIoD50bSyZbhNdQUQl4xxT1/paA/Fy/3mlOEAAAAyAZ48dEJ/AAAiq9g7W6VABtkFHx+4rYT0mkpvq1222ZtwrpbjwSgIzCGHDQylpedsTHAAAAAoAZ4+akJ/AAAisi10yNUS1soZacoKTfBXWUONz9cNaHcErHbS489OFQAAAI5BmiNJqEFsmUwIb//+jLAAAER6bZ5ehfwAWHRixMP229PBZHar1kb+0NdwlDe/qbzvp6/YUqiChma6CYGD4KOczJtPXXuR72wtubeY4qHCIr4OfDfhlnhJ+Hpy2JKXcIfdUBZ9fLZsrsMfRy1MS0neCU8frS4hLffG9fjyHjvmIHpcj21/GIY40yuHNy5RAAAAWEGeQUUVLCv/AAAWJROH8nNFCpAeZxsJA95LYTZbakbbCrelzC0rBhSeSefBg/ZYVoY0pUFSU+23b20aX0HHq64Z9lk4Pw5FMqPM98/vxxaNteueZ+nzSIwAAAAqAZ5gdEJ/AAAiq/hfT5ab57JbLFKU4XE5rTXgs+NXmwWvoetWiuJ9q/srAAAAPgGeYmpCfwAAIbItvwcAFnFjv40lpnRUih0MuvwvC/fHQ1vahrpv/Wez4oHWaZjoGiHP9VBHFA/gC4bLS+IEAAAAb0GaZ0moQWyZTAhv//6MsAAAQgDk8kALDiC9lUJkGlJECVPyYKeYBwJYH0E5l0rcisocHIMBHQey5uodS//B1x2rVOKhp+OuhFoDaIMqutnreOLRRSE6zRzBAjcGuAaTPyhDLiHLkxsqrQfz9e/9YQAAAE9BnoVFFSwr/wAAFaAxsoQARj5jpTmesgLAE21Ag6tHVLij8sM9+yMNWfLKzodXEW7P9X3Ri9VBPJSittX+Q7GwDCem+XwMGD0mjmgWCQoxAAAAKAGepHRCfwAAIcC4+oTyfMOba9K89HwFLsAjA8O95SufrGWLx/GhptEAAABCAZ6makJ/AAAhxwtQ1PQASxdhHvKA0ajz339UmEcqA1+O2coqhs2GIgW+FSAoAUD61y/l+3HdoELroxyr+PO+ixwrAAAAk0GaqkmoQWyZTAhv//6MsAAAQhRJnhQQyoiJJlV0rIGDn4IlwLK7T1kaw/1RoEMUPfab2Wt2J8YQB0rEntxVWtvJWVaVSyEzfZ8F5pdVBlnD/a49CiKCo/+zWwZ2Q9p7kVWjuWKJdmZ8XJycURtzlYJ4TRNJEf2RIqgDpgGcdNWxlO7vXzDtO0WlFTsnCefw5wKGgAAAAEJBnshFFSwr/wAAFZMrrzQMXwAW8XAPQNobYY9WKS6c5kxdPwtD9oXuaGfHIhx4c1XZ/uTG1K5XQSb6viCGdJpphUAAAAAvAZ7pakJ/AAAhscwHXVxPKoQ+bCZSf/Y2pJ0JUSsDUuK6jK4F39ifIbeDjRuksZUAAACxQZruSahBbJlMCG///oywAABCAPbA5wbEyGB7b2o9IBrOdnLb4ftDxw91lXdMHyTLnm8UT7ZNm8UTV00nYc/aNO4LNu8MgXxg/juhIASlcpKo/7ga1oBubtWv08y/XfaiAM/eGid56tX7+sPUvBjuNuT0hTb9h0U26haj4OTH5oe8gBKPjsOb4GL9eTseWZ25pwA6LSOLP9DRDGuQe/1yXcKkNDmSp9vlnizEXDdhV7SQAAAAUUGfDEUVLCv/AAAVhL0C1uRFljxuE7cM4Va19OwKgJEd7pa/kkywi2bgj4dYxU+9MjjAS+pHQLjBU3XCsDZ4kZM9Fmzp23ofqa5Y60h8q5oUYAAAACoBnyt0Qn8AACHAuDIxbwJQPnbynO+TH79dANdwwUzQXpEfbGeXHG+B7QUAAABBAZ8takJ/AAAhxwtAqjjNkG4e+O+SfHKZMgZjiID/XhlCVUj4LnZOQCZV5HdTYI2i/AUvfFejTx4l7UfYH+h7A9sAAACDQZsySahBbJlMCG///oywAABCFE77AdjNZ5DLhRsyMR8WpASs2MJmT8UwAbejcu5Mvgg1E03I0zISImBmKkdyhBAF0bz/FVwi41LoYmLIdNUIGM2Vckv/1DBmsOvDTFHn5Yj2hBd6/qfpahhq69LEM+J1nY6mq6YamiucvwGhtjdetoEAAABIQZ9QRRUsK/8AABWR2KLwp4gn3Ot+BGTIEUkL9GPUTTUANZIM03i4QSYOtlkiWPuYifiZkkRQRNWm3IpkvJhZ2C028HSRXpqQAAAAMAGfb3RCfwAAIbz4G/39Me3mxUHOwlF5HGQ27qm2xokETDESqRj0eZ2GDROA7hYioAAAADkBn3FqQn8AACGt6fEllFuZ1/frr1+6uRX+gqxL7AcOnvHaJlLh3Q3Ogv9QnCmqHG6O/VAGiyblNSEAAACLQZt2SahBbJlMCG///oywAABCAPbA82HNJWM8vmawc0Aj4rRH1et3xuC37aQqkgJFsSsxV4SqkQhj8HHiA/DEXrnC9A5CaUKFpZiIsJNGjgb1mK3gBnEOFhucn7eJrioZ/9GL9LFB9wmlGaR6JDABjoPQ5wnKGMl3+hVRWyejKkS6bHFa5+wnB97QaAAAAE9Bn5RFFSwr/wAAFZKe3jZ0oSIvgCP9XCiNfe9xDr7FJHlFHaJY7b0fFjFr+kW+J7RqD/Rm7hGS/gio6FUKNJSgJ/hhzxU9O6dQ0qhWeUPgAAAAMwGfs3RCfwAAIcMXUoP6Y9swfHJAFJ6Pzrsd0Q9KfT41ty631SJTjy2Ao+k55xmtMjBRvQAAADoBn7VqQn8AACGuMS/RzWkXodyRNJlxkVqr7xFrD+8TIls56u9cLjWD3lyYMm4MAEyvu/ctnCpyvW6YAAAAmkGbuEmoQWyZTBRMN//+jLAAAEIBCqYBh+tvSsGSVvlmTcsQBlXlgQhJrg4/oGOf4EkcjE0pO/KmzM1HGkFJqlKs3fikCXl2YiiUeAf99FHTsfMRXm6BRdmuGrVevR0UMlzV3RRrbsam0z5zxXTa9I6WCbraeeOkz6mhasBax7hz4x/pkdAAEoBGPh97M5ScKDhg2GttTaDYWcEAAAA3AZ/XakJ/AAAhpWIuf3oEiGyF5LT8botWDGh9hQq7oF+kdBqWg0lFxUmzr6ALJaYQR6u4cLFumQAAAIxBm9xJ4QpSZTAhv/6MsAAAQAD3G1/rahGDDrAUVdCjNBmoZuiw2QstbpUEjlIg8Ydmu53TkWMb0L4BP4u5FHeqyZOQsAWC9ca1bnoIHQpf5scn1hvedwuQrl22zwQmKr+qlsQw7Iwjw4FwecQUopCq6Dv9D2eBlHCatCJbA+wRo+rcmgMmK/bmnWxogAAAAEZBn/pFNEwr/wAAFQKfXw5RKD5qUWAV+truoDbCrdrLicDRH1ckBtr24eSAwUtPgUFdntfSXOpy7UEGOqkdf/Q8g/wPM/7hAAAAOAGeGXRCfwAAIMNHCGb1g1WyLrHoTh5XgMR56UyTosonc9peBx3yd1hnUkoUbHjqLbrj6PTVCOmAAAAAMAGeG2pCfwAAIK4y+v0RHQ39hf8tL14APNJ7LZNeRYoGF+DbkASAOYAQ89+ZHqMFWQAAALBBmh5JqEFomUwU8N/+jLAAAD/yjh0y2RZxlQ+F2f7AdLADIohR3ccVmsrXL5OmSR0RAY+UVEpWtYP1xwJ0XoKy6WouKvl4GLZ62j4E7j9rkgZ4+89FPSkdiMowYR0QL+qy+vg6Conh5SMK47Do2bhhzZp0EFBsC9gAGlC6ZNXyvcndP+qrVTuaJSKpfonEOpbf3ghYzRQWZFsnL6rjPwZW/hjRqn+zL6B5ObBgteoQaQAAAC8Bnj1qQn8AACC9la264lHH1hCXP6tLRhd5BHXMvsTsrTjwbij4rvA1GAMlIpdWYAAAAKRBmiJJ4QpSZTAhv/6MsAAAQBCeqp7MFZjOxEDEED7Gz7k+fwBm2srs2Cj3X5KDdlT+CCPD2ACTgHdykM3tQi+33cy4eRldyJlZFFF0SB3bDFp2X1LBCFOGqLhqi+x0K1+I9VyRq94Q0mFbtXieQdjNokrC5mjBDYfynjZz8n7QcvOzns5DGvE5RXwGbPAykgxkJH/0DGf99dO6IKI/BT3SSJnkwAAAAF1BnkBFNEwr/wAAFQKeqLRJFB4yFoRXcKlDqdfvV9e22FqVvYLr3+Q3ZbcoWN5ID0twF9eV9t6mwn2A2KRiD999idiEln0lTRrEXR4lO2zJa3M/YZEGkmbYRw++HD8AAAAyAZ5/dEJ/AAAgwLjfwV6R2j7d+MZmb03WqkFu135f248GDxEzsApoC5JwJeT7mxVs29AAAAA5AZ5hakJ/AAAgrjEvzumSDnQvl6Bh43/7AXM96A9CiNF7lAu29AAnbaHccSBpnkyuSPFjp2sr8VDBAAAAc0GaZEmoQWiZTBTw3/6MsAAAQAIFvOZdidWNrpK0Q7NFui7QchMB4A4WxEiJwxbPC0r/DqWJvgY+uusKYlH8dkWCsbrmi4oPoOwm96Ugjy+7lDw48DA5ik+4I4RAZKYzXawGr9ZW84ElW2cIxGPDljY7RMQAAABCAZ6DakJ/AAAgrjEvz6/WMPf2IR9+mQ7VHnfJUvHXCIMRamlM0wZTGFQKmgMRHPrK8K59HQgATt2Lv40dqqgRjI9NAAAAoUGahknhClJlMFLDf/6MsAAAQAIFKTni4kwugNKAwRysjcirUP4UddSh0xqTgqfEnrGlzaAOZH/wcgYmPc9Urk9+BRkyJTlVa/nSr+MtfSjnlOfMiw7xsy67zSrt6wrsAAEUlhugUV7VqISQLKN8b1t4dRfMl8Y39z2J/y+f09ofUIYp/u2VGY2wfXGjz9obJj7aRl9oou5n3HlNJaBgJE1BAAAAMwGepWpCfwAAIK4x0aA8jLNasryQmYnHWS+gOzqiIe6Fh0FcpMl+rKYcCaMiRVQoEQ5vewAAAIpBmqpJ4Q6JlMCG//6MsAAAQHpvP2vO4StfW9D2uVpW/RUhda1wJ58GAYMBal10Ek1kdEs+Knc7IKDtuu8OCusidLsbg85oxyWnWCVtX6A99Km5Y45rgjbSsoS2vbFj69CTnjr+MJldy726RTL1SSlO/moc4MB/FaqsUhwN8SqZsqKmW1ScKxwfkMEAAABLQZ7IRRU8K/8AABULIPyIBJ4p/VsVypNT6c74Qt1rT+oJJGtcqg6P4FDIazejFQPr1feRfzI/ymOAa8Tb7ChynrIkCB1G9eX15RBAAAAAPQGe53RCfwAAIKnOxZOFdEqBMZWFu4Hy8YIkcjkzpdOXfWJovnubJojUiGaPAB3zZPVumx7hHRKXhusZnvQAAAAtAZ7pakJ/AAAgscA+fJ4zVUxBTJ16/Kpo+mU2I/DlgV4qoV9xZnaexyE3tnehAAAA30Ga7kmoQWiZTAhv//6MsAAAPmfWNL6AK0aIaJR+LPSdRaKZm3E0rFtXh6LHZIJtC7n/ciqJoOtZmi9iTk4Zb1Sfke1SWfWBoGohSyN5o7397VYs1pZb4fyi3Dzf+kp0zBVL9MnSzlP89iJFwW33cLn8OND0LWOblEZHbczjuON4xhzOa/dXMRGg0kteNhVZdHMoP6tR+rmfdsuouxSdZSxPOg9oQT4HSu5lfn9lBNiUqCopGnIy1zFDfIGXKt4MxUaGli8R8iHEiUzWkrLR2VWNgnIz7rGReybMe+OyxBgAAABYQZ8MRREsK/8AABQtv168TqprggAnbpT7A/oAcegVK566EbpXE7f55AOtXj7FnetyKvLqgiHyFg190pfK8DMbw/kK3+dv6xNq7jR+9sxJKN3TZMuzcNZ1MAAAADQBnyt0Qn8AAB+26Qdq09P5EgSxsEGPJ3cL+47pR1NxJ5LiYEQmrBVbaSgdiaTemzWPAmopAAAAOwGfLWpCfwAAH7mnBeA8T48zf7HdWz+oLCXw+BH7aGflaHuoQgEqHA/IgSWVzhS3cZH2CF1JAw3X2mfBAAAAkkGbMkmoQWyZTAhv//6MsAAAPlyP6bgCtopf8tMm+AiOfN12tkbBHUhMQk0nNdg3sP4PkmuwnaPXzj6Ef40MZLo72kMo0e/CvGtADMDzZtJ9ylBw9ZjBF/XhHbiinC8nrsEf3qZhAwfKc6i63Aa4drAPSGazaa4aYOWFgN6ud79j3Vc3x3u+NfMP/kCJURgdv/grAAAAW0GfUEUVLCv/AAAUgDm3eI/x7dEeJtNcxR/6M+qQAlSBsCXAWeFXmkTXQCdpK9bzXDvTLjRerfDFkhu35HYaXsuzGmtWjpXcRweNzaDeQT38iIT2xe8UymQPt6AAAAA+AZ9vdEJ/AAAftuh6+oPstSXffDoAW4AatH+PvQlO/PoMDOAMea6NYyBKFiA4s9By9MxBluCcexpAKoFD+VAAAAA5AZ9xakJ/AAAfxsBhB28F7xRIiV9Ie8sTHVCvXoRFpUhzat6wSHphEPO82B2SwH7RvRUyUPUNwIMNAAAAsUGbdkmoQWyZTAhv//6MsAAAPrwnP2xu4StcPe5JxQ9QEJOK/4m8buVWRiUzHWpt5tK6ihL8lPS90PynzFA9A6R/CcQu2nzI//c6CfXOqUZUQMZCW4s4BH5Wmu2ddjHYp16yKMlxf04eMfvino7VmE/uVw6MksX+gextohuXL831Jsbzkj8EOhJOE6dX9pWWFAgNv/bZZ8lnGWThkb519z5U6e6Y7zy+AhbAT86u4ZmeIAAAAF9Bn5RFFSwr/wAAFIA6GhJof9CkB33rimNle5WCbh+Q3Svf0c++AG/3QXvcTi9ZiyROURLSwSMy/KyfXxYYqCL8kEsp45LmAkYGCSFg+z7qZXKSEuvVpazDd4XlDrCukAAAADMBn7N0Qn8AAB+26Hr7LeZUrp/6OR1UbKoIIV05gCeHNfz2L2GjNRiabecKfX2l2ccC7YEAAABGAZ+1akJ/AAAfvKe3rGWW0UAFoz53Gtq9tMXxeB9IXXUOo9/EeqaYJdafwxRhagA/Cfq7Dxm9uM0pBGFL2cxUghvAiFwL7QAAAJRBm7lJqEFsmUwIb//+jLAAAD0H1RILN09AYUHg9Ryvn4Mu/8sz1Ab1UBDPaeuK7rlwO3Run5JZufesHP9CZQIENnmIw0iM6B4DooNOb8YUrE2NGxU3a5owuW4QA7rJyVSBYMQB6KOdVe1XGJEEbVRErbUUGduE57OZQvub+TkWo4R4iZK5q6B3Bqlo+w/lrphW//QhAAAAXkGf10UVLCv/AAAT4f2/6WHLcn+KKNCi6eAJ8z52+So2wf2tS8A1M4DiLYW0AYLZDDSdDBAi088fF75LggNqCYQzGPW69yk6YeUWCCyPx6s5wbv1vLeD4LOeOHpIY0kAAAA6AZ/4akJ/AAAfCWqOPvdHdXut8JpYSR1sh07dqGTOY0gA9Ux9G+sNkMgSmief5kHh70+ZSTY7DPgQvQAAAH5Bm/1JqEFsmUwIb//+jLAAADz8h63wAWH1KCxL4K/KKY/bEXgWMy6zgU1zG5sfr6ejXyHbSlITzdKLL8OegC5jzSWgLaw//y38qQgYb1QJ9XWhffOaiJRRqcz1eg6SiGKVMY4/kQCsEpw/9Q36uhSm+WmH7/tiLIJocBcp9UEAAABQQZ4bRRUsK/8AABPYBsgLNvYqNGysI5L8Yb3Wgr9C67AE3uCy626GaW3jTl9q/awmmsyPWBKemfvIhyjwpK5eR1mc1PKSthEkCZc5wMctIVYAAABOAZ46dEJ/AAAfBuh6+nzOKV181ZnE4IeViAIEsPds2ABcTCXR88pJ7+sN6PPf+2gVPlYqbYQRDL5qttKcQbiqEn+gnyUlatz2z8XgBtmBAAAARQGePGpCfwAAHwmmf1GTqABbfu33tazMzze7/L6gkawrO4kJrzsy7FUqPUWOJVTvfVcYyBsCL3nYtwzgdg+6INdQxqI9IQAAAJxBmiFJqEFsmUwIb//+jLAAAD1cJz3RECMgAtWkneaz9rskyCC22W6hY6WDgYhQiryL6XpB9Du0NYpuu3q2U9fUw4Ba163NmY79sd+JMEmN1drPCuElHlD9SsW8MFFY4a4IF77spzhFm1oD1Qd+y6ZkiU5Mc2RNJwonRi9gZHispPV12mowf4FWyNu3mHQyRZLs4+fv1/aTsnJLCrAAAAA3QZ5fRRUsK/8AABPh/ZUGMPlpW75M5jWz4RgDd2pK5C6fE1k+hPE1/tR3/WkW4EvvrTBaes2KoAAAADoBnn50Qn8AAB8YpmYnH+UhXXHwoOgcayTzF5aAFvAIRjddvtz1UEy6AxjdMgNv8KsksKtu9IPzOG9JAAAAQwGeYGpCfwAAHwyLsC6iRAdVDUWW/MhKkHd2MALYxByWQK1XLsa9vwLp5zL6VDz/OP0h/n9KJm4TmYoUfI1G6RsMMMAAAACnQZplSahBbJlMCG///oywAAA7nITqT+ACw6SifumczdFxudalNd4TWPqaNuJoeRmKJD/+bFAQ3M62IDblcxs+RMafWXn2k8imTxhD54Xj6cj7KqakwZRt1vsH0Kce5x+D3o1w12K/HLCHT3BtnVFBNckxzvgOLLMCVpRpByuY8sL5p2e9jnFc6TpC57omwhmRu8f1SB9XCci05oB4KlzHon29uh+0x0kAAAA9QZ6DRRUsK/8AABNVvlruNRYcCAOaBwslqM4gBZyN4HjAtF6olaZE0ISjiQJYhn6dELaDmU3rIzrRt0XAIAAAADEBnqJ0Qn8AAB5oyu2PQQmXMjcaU4yJJ6k86zWKaYNFAjw2UoQbHDnB7crt5ROMlWmBAAAAKQGepGpCfwAAHlmmf1F5Q7PNu4gASFsmsQEpv1YrDjtdwiMzKQCNjAqBAAAAwEGaqUmoQWyZTAhv//6MsAAAO6fa3PrK0ARHjzgq4KYXED9sS7K8O6javoiIyGd9yDuYXxktRmPWd31Ndf4/SPXlmRZ9tkRaLecTMAoM8DAXmL9WMO91n40ChcUXx6VUhWA36WOG6rE+m2Xmbo/u3J7HDPvnlrrhvhRAXLuJBRK9YtIiFwnUHA3vWNhC5eGKicp9GqoAP6B9oA0nVSCvETQ6jDXUm8Ty1n04w/T1Zm5WB6QhgWDEzG+BjiPB4Rd60QAAADJBnsdFFSwr/wAAE1W+WGU7YGZHv1vOx9IfZl+VY2b7+rGT/kKs2DZ9CxPzNWLETKTswQAAADEBnuZ0Qn8AAB5oLP8u1YAjeooUIKcJhex4VyCsl91QKbVBKoQYDWOUPTF9W20o3xpgAAAAOgGe6GpCfwAAHljtgioTGo7gAWKtazMfg5X8fK1mNFSWgp0JK1DWMox7R2odY/taFsoJpge3QCaLtoAAAACnQZrtSahBbJlMCG///oywAAA7/CWeUeGfgAsPqUJu5+eh2zzoTP4axJDkrnfHvRjqkXxshMsUkmqkJIhq/NGwKWsHs7AltRPG3HuR1ARkDoppM0CeOX1LBF7X3JPV3o8nZE4uH93boWLKkZd3hEHk2KsYru3pC9TNKXWrbW7y8ocl7CLHv+p4RSaRDYfzC8/W66V8AsPNg/CZO8J5gQEKMbwU93VVyoMAAABOQZ8LRRUsK/8AABNdKaQDQHaOW6TzIweyDggDd5l3750EDC8xvJu/nnLNlM9z7zhv1CHNp9uND4JTs2fS+CeQIo+J8NDhmd+9wl8Z3b0gAAAAQgGfKnRCfwAAHmjHlFpQxmuxGtvEoMzmZgGj0nAAunDJWtRXDmYPvG+ZrkcSosv3gp2r7njCVcQ5Uh/P4CTaZlwnbQAAADYBnyxqQn8AAB5cjYjoxvBWc9XN+OgBXVnHT23zR7aBgl2EqwIvQmbDkUK/XwMkX0T4DhMmPHEAAABrQZsxSahBbJlMCG///oywAAA6PJfd9BJR2G3kAVR5yFUDwgxS3DZJHp+5JtOdt3k/aIo5/sZBFjCwunWlSHZT0gjyoGdD0J6dXpfTK0NbclS8rlxwfp88JMR7+NepDgYdfzgyV6Nms3EE2ncAAABEQZ9PRRUsK/8AABLiO0J4i1TGVFdB0d+n5+zgB5wqHL49neKaix0zsEuYddMlV3P4dMMq7gn5KX93L5aUAqyE9Somq/0AAAAyAZ9udEJ/AAAduC0M4q15ZvtT817O9ngBbxMq6xj638/Eopkq1EW3pLkQ1I7b2d3g5/gAAAAxAZ9wakJ/AAAdqaZ/UXudcMrQLTUCLKMKW+VYAHChlVFGa+v0YMHQeqr3tx4iD5wp2AAAAJBBm3RJqEFsmUwIb//+jLAAADo8bOnX8YBNfewhaOrvBwkokQQ3sDb0chGlrfjwLl+lRSkKEvG+fFznS3FkpMBQkP6dQ41YPsHrk3xzY2TEkw+GZBgb4RT8yjAcXzm4jVcVmZv5LNifHLH5bNz+TQhSHIX0ElKw2JGGXu5ELnBLay2H36zxw5JXwXWUo0K4A9EAAAA/QZ+SRRUsK/8AABLiN6niPpb4qREl5YIHaJ9gBNWmlPqljyEQw9yIaU0hFK4zne2CJz+S9M6i0LTceITZP37/AAAAKwGfs2pCfwAAHammf1F5Qu/fZ06z1GTlUOQRUdcjja0DiqzufTEIoHDeGqAAAACxQZu4SahBbJlMCG///oywAAA6nCWeU1aJkAz/EPbADja+6fP8e1N9F9/kJvckkf9oCeM3BYXzc0cAy5ChH6qsWMlokoEd15JoInskz1UG84BwHM0JvdK2GdoTRjwG9SbexE8cZbzkUW9rFsJHGek7DTbt7cHkBf0VGauqMMAYwILoYfwEWaGU5dp/3HLFTa1HxrKEHIxjSPjcTluWAyDR2ZPDxOf3rnweghHSX/Z4/nbRAAAATUGf1kUVLCv/AAAS1b5LfJto22/K3LOyD6AudFpS67RUqchaN4GsPxSMP+ZQ3D2iMq5oCVRJEGZMwVXPm+o7TKxtZJPIv3GaIyTmcmmmAAAAKwGf9XRCfwAAHbgs/y8OXQZJa9P9U5vSB9DKRgTHLw3J/FNxe6/myschcHkAAAA0AZ/3akJ/AAAdrI2I6CQzHqkiJUJ8FpAY+HSsyNRUKLpxySDCs6YICgE2/1eNMTODsrt5gQAAAIdBm/xJqEFsmUwIb//+jLAAADjcg3IAA4UMfWmjI1GI7Cbd6K6mosUkP0lWoxYYO7x42CZiNTWGB+jpj0GY8JZodWEsprS4Kzf0/AuuH7Y0UoPFJ7LdLlfE0SkMfXHhfcPtKDF5zanZksmi4dz04ySpiDhQVJKrmfP1RVesQoaqjoQ7CFuH9VAAAABHQZ4aRRUsK/8AABJWLuCwnB9ARyK/a6U3jVRboXTD1++FNh2B8f671vDqtBNtKsGRG20oIrR3PqpOew8V46NuyS+FQUKa0PEAAABAAZ45dEJ/AAAdAWXOeADXPgAWjOo/ue/Shoc45bDR+3onf/PpD6Nj1DNBnPqM5BRV9wHQcEAtRXRckd6QpBSBDAAAADsBnjtqQn8AABz5pn9SMvSAxz6OOmywAF1Ew9BOFZUUDRDhnpMo/cDx26RkGcxVgjcyy9mtnQVWhDLnTQAAAJdBmiBJqEFsmUwIb//+jLAAADjck7cXz5jAJpPx8wMPI/UDyz/z4Xl8drkBU2yUmUqTSHnQQMTC6tEPH+o5qYet33Q9wyPMRuLSGMUUcc32n65HG+BYYgqMTBOzB9Mas2GPhwXoYcKhFzOE2Fxtf15pfy3Hkazuv41b8XZMcyfVmKvlaLXKlrz42xR9agL1Icc/KVYF37DBAAAARkGeXkUVLCv/AAASXSVUAzuEdSeXRRAsIFvIb6BwgRq7YQ4cfrwBa0LGAS+kU2AEn86FA1UQ6+uubdjWz6EyX9D+JQl6f8wAAAA2AZ59dEJ/AAAdAWXEud91eZ5S2hS2PuTP2AAs4Xc1/9UzMGf3NfK7bMsIW0bwAua2JD32SVOIAAAAOQGef2pCfwAAHPjtgvkTGVmMY2fgBGypqjDC6bfcIL9piJiwAFwsfmyPaGdetKxJycP3kWLSpPWcHQAAALpBmmRJqEFsmUwIb//+jLAAADk8Jz9shbhK2Bi6vKMfwbp5cGGYMA4WoFmwbWKSEpLSQOBnN2wBQ633TPiHNeKRy7/DJD4uNzPR1oX/gvR4Kd9fbLN6KLZPHK1iMQgHc28qPyy/bKyUjUnVoHPaWeNuMMe2nHNdinKFdvBEHoj1w2yDJZqzh2yAENuzqar0cl4oM1sQyJhGKqnppAqshTgdhe713IRySe9fQRQQrDHkRlGwtvEAFY2oFUAAAABPQZ6CRRUsK/8AABJVvfV9QPjgoCf21TE2BkNTh9TmBKoln3Sc7ltfqKyZ7EFhmROpanQGLBCguab1u+JZAsDMzw9U/MVSr7cFRROPF2YAsQAAADYBnqF0Qn8AAB0IylkUKL3YHHgo4PvT46ACHrIVok53CXUDawGITHUcrf+LLnZx1TGzl10K7/8AAABEAZ6jakJ/AAAc9Xoy3RtjvBFABdADHHQ5M/IIwXhv1psXRo7eRKyvhLssspsSuwKE7AcdfwiLpsUTfp+oXYleRvwWE/8AAAB+QZqoSahBbJlMCG///oywAAA3oD566T7hwsl7NmNO9RQW7Z611pSa+2iHbV8TsrIdX4tcAPtWzUAMw3uKP1YV6CD3WPcoXKKdGcgawbJsRvfP6QTebXvd2Rfur7j3eAyARv7HqUiG9wWfG/11HxkFforC5rettYOREIZ6JDvfAAAAR0GexkUVLCv/AAAR1b5a7+o0DViCJ8sQ8u67wF92kBPXwBdnrpSqZasg2gatI1cAuaO8cBrGU2w7pRCRWP7hGYeQV5Fs5j5hAAAALQGe5XRCfwAAHFjK8s5N+fVLS8uG1PdcJuRLyGPQDp9LxPb3tKFxgO4Q75+ugQAAADABnudqQn8AABw6LVLhKTxM9nnzGs4bXwUW4aq6oZkK+6bfXcl8ANUPznNj1FDOnHoAAAB+QZrsSahBbJlMCGf//jhAAADXnf9hd68A1dpcXTYK1QvX2eqQg/9EDs3xpN1zElZqaBZTf4skPpjmmKn2ZYNcn7dKiDCffnaB3y8eMlcxTdkHl4FZCZzIOdgFDBRQFvl2egJ79x9xBLuJ9/tUDyFZpAryQ4ydsN5JoxCSBPsUAAAARUGfCkUVLCv/AAAR1b33wQwBSMIATRs7UHMyklp/PUGNHYmgL0PAG7OxYcAzsGXCsTJHidQWPf3SrLcz9Ja3h9iy1fYroQAAADUBnyl0Qn8AABxYybLyyMEeH0IFoG3EAFirRQYE0/315uRdQghTOHFNhjyHe0Ot12N8v+M0jAAAADMBnytqQn8AABxJaid2PUMqQnXNkYzaO2e7RHBABcMIS0K1A7Nd195PZNgMj1r56QWL/4AAAABFQZstSahBbJlMCG///oywAAA3jDrWqQAJvAGUv+WM48FAe+A54CyseqMtVmU34GdNgOd9g7pbFAqKiqxcGmXPs8ynFMaHAAAAqEGbUUnhClJlMCG//oywAAA33Cc/ay7hK2D/TXt4gElCZ6JBtU/f5SNZ4L6qDKOJpZXIxGejOLAD/45Z0DYXHu31g7/JyEm6olzr7unbWpbQ71ptPxp2cb5CCfGTcVZavaLQG7h3zjCLIE3uLUIfyobHvaYmX006COmG/8e2zS9wH3tMeHPVAAQIdBYKqquXXDdpjXFGLAV8F3VNBcitX0XbEXFRz1clDQAAAEZBn29FNEwr/wAAEdfxrrzPdkFY9D1DkYk2Fam6Ro1wCDvyvYu/ZpyuOwyZhNdZGC0uGZxZDSO/CKNvNkiKsNHfM1ew7uHBAAAATQGfjnRCfwAAHFjKWRLjoyoAVvoNhYz6WZY2rxLSzEprskIKRdFWp8rew48ZMknE+QJ/+zeih47MfrTzAoxbS13b4RfOTAGoDtFYZyKQAAAANgGfkGpCfwAAG50KoE57s4eLJjjyFAC06abo6Aoodd74iyid+G9SVkx25kncXqgJ57handKAOAAAAFdBm5JJqEFomUwIb//+jLAAADZL+cUYg6qDx02ECUvAnGRx82gMRoAA4qa8jCNOMtVHOqr4qEZTPBvLni0iMPuWRKxwIovetQpUoq1DCJ0zckldvK1wbzkAAACGQZu2SeEKUmUwIb/+jLAAADZXX9rTcEAAyS20TUumcZT/H3muaIs2OD6b1uy0ZIeW5vFgwRQ6gNfIkMNThJgFSVTM0uWV1X/TnA1nzO7zoicqrNstIgVTbYuQZOd6fZRIWDEYYWyarZbPk9yxRTui/3949/uLc9gHzgaq1sIPdAmRWUU+hNYAAAA9QZ/URTRMK/8AABEcy9qCPK063TwZO//ou/SYsfv6lqLm1kxkAE4dK0btwkFYRv++o6d1GAHuN1+BkzVvEAAAACYBn/N0Qn8AABuak50Zqr8txJhdxrmfrE+v0VMQq9PLfnZCSVEgOQAAADkBn/VqQn8AABuQrwNfiKmU+kK7a1Quh2zoK2SM0uwAWojcIo451CqDC8bH2cxq6B8wP5W6sDGFEA4AAABWQZv6SahBaJlMCG///oywAAA2Sw6hS6AAOZt0LcqFYNQJ2U9ari5sQrelGC43394kOfWG07aW1GM34sUjcDuVkVu9qztxvyjlboZvJ/zSZ/8VM/JTndMAAABGQZ4YRREsK/8AABFWLus2VhKXQDnX4NM+I78JDhTk5CAT2FlmwnrXjI1A5PxtZ/rzyIZ00Y7rTn4r/qte3xtucQsB13NXiQAAADUBnjd0Qn8AABujWAZAmG+oGAC0Z8s1ucL7JnUOufksv7UZ/LVS2w5sQp1B9NJPQoX+IY2WOAAAADYBnjlqQn8AABudCcjp+VUqfT13qCBP67vClLt+nwy+QxsD+K5RgAbRSiOl77ldkhMECYHzG6EAAAB7QZo+SahBbJlMCG///oywAAA2nCdC55yZQZADY5/sNtiho62cUwoY7NgmIiOdQw+BvWqypnKUw0xUiLhViEnwFMoRjEJ7jG4b6fVoOX9av1esx9tOhH3BQ9qHdDPJ9yK9ADJEABpZzB3vX8Y/vqen4RFpkKuZ6ZHOrUSAAAAATkGeXEUVLCv/AAARXSEEb0xNCyqIXGdjKESFjuZoxkycBXNPoFBNEleKUfw2M6X+7AtTkvpn6nq/aycT5MGPuCEuepGSCf5WC2jrs3G4fQAAAD0Bnnt0Qn8AABuakyc68kGUOwgGHwQA35yp/OzMOReE9IrNIkC1b5l/zqrQVR6mLP9uDh6CdwNb7szKamR9AAAALgGefWpCfwAAG59lhisfc8X7atAAuh4ElUgqxMZ4amAwzFmXxTG9udZyM6S+dB8AAABSQZp/SahBbJlMCG///oywAAA1C/jqzRtal1IrwADRchvReJnIwxaHOyuRkJjYWP6wBMo07vVTlY60GQdHR+wXGSEIlLmV2ciUzZzuuf7OvmvcjAAAAG1BmoNJ4QpSZTAhv/6MsAAANRdf2sxhNGbdC2hjxiB3dQcEwIzqbQBkcaZySTctkUcNhJiV3MliPc9tupsMo5d0ZXJLMHHqYcG4tFGLPKxC4mHk3BNhjOfb5FUfgGc7uRdDAOxLMvSYCMu6lgM5AAAAQ0GeoUU0TCv/AAAQ1i7Hi5YdVvC6p957nUSk6AE4xSakccsHnizkzprTCht6ZWF2nIffD7iRVu1OBzVg5BmWNbmcr+IAAAA+AZ7AdEJ/AAAa+pOdC/zVACS5Ch4n87Lxd5qtyV8zxBtudPoCPCPucX4bitLRVXBt8lDshXayJOp64Aq0ivkAAABDAZ7CakJ/AAAa/QlZJ/Q93A4nYCYAFxPpuU1DhG6XMCwlkLZ1PzaJKXbvH6tTDIBpjhxeQCXJbgzT4h9XC/h1j4b2BgAAAE9BmsdJqEFomUwIb//+jLAAADULEadLLDmHlaMOg9u9QPuWGWTaAC9HBj8oqYwxPpaqGzxy891fp1hyTG6BCs9kqHEMtVAyy5sdU9NCJKXBAAAAYkGe5UURLCv/AAAQ1i7l0Qjzb6ePVEAGt6vaAHMFZGPVmr4s7kosAkQJZjkgXQm7cp9vSJC6tlO21U9Rbg9ByQaZ+f6Zo6rmwQ6GMJDhTk2QYLLA4QTX7EGqsSYD4mvHLuRpAAAALgGfBHRCfwAAGwnvfZRC+p+h7HthHat8Koyb3MGudSFr1rldST/1M7qVQ5GtZ8EAAAAsAZ8GakJ/AAAa/QnI6flVKoDUnF6hgmKoMS/4rlcqzVM560M0JRiWk6jSTMEAAABIQZsISahBbJlMCG///oywAAA1C/jH1dHTMrIQAZe0mXretO/yJfaKRT3ahj+sBTUAhp0ZCW/syesQ+fUjDcojTprDj1ihhSxAAAACfWWIggAEP/73Tr8Cm0WXagOSVwr2yqQmWblSawHypgAAAwAAAwAAAwLa9HiTO+TU8TYAAAMBBwAoYVMRISAUsbwqBK8j/CPHGWAbPboSHdKGDiau5P89h8+/5V9Iy8KKzw2m1WcbU1nVglMWxAfq0tgpKtbaK/COZTQch9i5snYbXOltzWRoNw9y/xptmkTW96jtFT/XP0a7A4Zuhu1vm2KfBCq+93GdPFR4/6KYQcxKPT85VHqppk+KQZIN0b0pma4rYMXMgH9rKR+s/PJf9eH/yOS6WFxYFIRhBLC48K3upidzKK1DBtVUdzOnhxUzaIDxFHXTzO7YkhJkRISNJoVKndmu6AP6ohzdUVHqvIGCNfaScwiUCD9DUXsX2jkAFO0cpwbh89YTIvrnrkPSW92db9FSgHTcXr4gD75RwQFwSdaC+sqlr1W9r3xhAwgRuSdoxo1Um4hQrmxD5qi8zkJN7wuLKMRAtzFbk16Ee1Rcssn2wzC2GTyqDn3r0ZAZ5HYXL8l5jVyQol9IRWB6JpRf0QPyvJCV20xufmNAR2C6a+/eTazeWdc8qB/NyfA3m6zJPZ8uAHO+xvQDUhM/fSFZV1bhGUIM340HRs5scZ7o5AyB7DXKUCrE7v48snFAb81e37yY5dCcnQ3maCs+XR4+NKLUrLHxjy/Is1jvAKxH8mt8sIBWJ5Nzmzp1+49mqXuEanU90PGkeCEGL9ZpHZ5/cOKY3Nwliw1NMd+Z7gAyuw++8B/cirIiTmohglojS/pan/A21kVAvfEMqwdWX3FZHDhPM7NzzfMw9pMn2Cehl4Pt6Z+ZVPvX7XmLvzIL8bjAS+QAAAMAAAMAJqAAAAC1QZojbEN//oywAABGE6GANuYsE+o33FA0xOBTq1en/58jhwbe6Get+upVwXRgIsGyL15CwxWV8Il+IwLk2HZXAf+TTdRTy3TDDt9cbrcXPIHeg0EZv49cu5osXd08lTSL4RKM21OS8YIo34XpNwKoiEZdb2MieAPZfzymEEdBlLBTrzQJ0SfACfaox3+pfpQRgTrJ85cYDLCFiajqzlPit54uSzBeUgY4mJT5szwCXczMaA0fkwAAAClBnkF4hX8AABYxCGz++Y5E0Hd68BqqxtzAPxdDxig9UiFOl5bpY6QSVgAAACUBnmJqQn8AACKyNPsJfW+0N4zYcgFjsAwrRKmsfiZIK2XLAKI+AAAATEGaZ0moQWiZTAhv//6MsAAARimokjJejehI7LPmBQF89/qSBudhcAsVxGyA6nW+b4apK0a01AbiK7R2jRN7JHgcZdAG2+Zf+VR0LOEAAAA9QZ6FRREsK/8AABa8Re4+bRaA1Wqc4ADRtXDlOEGkyBtKV592LhdtP/xLQAffurYn4ihflKn1YcUYQf5KgQAAACEBnqR0Qn8AACLDQmoY4UbmalMMQPOWTieLdKL9vufE4P8AAAAqAZ6makJ/AAAjscwuKezBG/Cygn0DM7dEzuF9BZvJG33lvwOcBYwxqnFgAAAAXEGaq0moQWyZTAhv//6MsAAARgLW/wBCNDykLdbaURl8B7A9m40Q8EUwYErjXeM4beQyp5xqtXO+6FPa+sKcU3NrdnSBFXw6jYB3wO2NHS//kxjZXPXD4YK/FeWwAAAANkGeyUUVLCv/AAAWs0e3EOW7qmXv1FS3lR2zCVAFRtd3Bm3SHkrb51C8BQSVklE38ltSmQSJeQAAABoBnuh0Qn8AACKsPSLrpv9g0doJjHIixnqBqwAAAB8BnupqQn8AACK/H9weuV32ZLtG96VpjHOHDgs550SoAAAAVUGa7kmoQWyZTAhv//6MsAAAGpdVxwYIpQuhaLF5FDpxumHCTeGl9dEQzMqWNDwBcYAzy6NAiyHCFxdyOv1hJJYPQFjkYaZz6dsDwNohkyFy5xuE5KEAAAA9QZ8MRRUsK/8AAAixTGw06bhaAEyvG1LA4jlOEvKhNQdRasC19z/ldKy+XuafHixR4oqIGk6d9a5FXjQqYAAAACYBny1qQn8AAA3Un3gZDs+6jAAQ5pEiLi1eAebNl5sFm+k4mlo2YQAAANBBmzJJqEFsmUwIb//+jLAAAEYu/gBxNgGpWdO72Imf016+ei5+158C1j3lo8Z4qDoFcOWM/IRmuQHVoizZBWvh4KRZW/iBTmuSaGawObLqLnH/kQD4OJzxBwo2p51CL0XCj2kuGwLs//mDdbMLmMpL3cwEX/F5GrLqZzVYMxksiarkQdJp1qSKfNlShvg6jkxgod4IpQoxIFYS2ThSTu5xKNwz7lw0K2reT8j7b3cdcroVIcvN1bThWV+QQfOYkRHtTXm1lQzoyGaGGbexx06JAAAAS0GfUEUVLCv/AAAWvJ14AiXlAX+6xkz3HcYdyek/fuvOjNxc4Cx3ewDaSi9KPGdfQ2M4XwllDUTmgflh1aODVqFUpVSUUc6M0M/zRgAAACABn290Qn8AACPDRwilDiwYOtOHxfzmjKEJ6ypUXnzFQQAAACABn3FqQn8AACPHvYyQwXXJkQf3dVrpWHfK2EY2SQ5LZgAAAGdBm3ZJqEFsmUwIb//+jLAAAEYC094Bc5ENJy10PCBnVdentMCCaPJCymMHnbxpDQ0YtHpkOdqh7rwAVcmyrj7P294B54yFBKcYcaMtYA8Jl8qNT7MZQhmC0kgkToCSlnTr9Njc7DeBAAAAHkGflEUVLCv/AAAWtSs3lhaCsjFgMyHVrBmOka+bMQAAACcBn7N0Qn8AACOY5qa04AFf/5slWdXHWOXtM2IvBQiP+sxcDIR+80AAAAAuAZ+1akJ/AAAjmlqa04AFf/5slWdXHXGZ+jyrAzRX2pDuMjZ1EbDWPLNoDRZgQAAAAD9Bm7pJqEFsmUwIb//+jLAAAEYC0OCZdKxS2P8wgWNguaUwkSxB6PAGnZ7ZMa+R4EasTKj+cqZk4f5a6n1xOmEAAAAYQZ/YRRUsK/8AABa1WFWKzj/Yn/e8TrwuAAAAKgGf93RCfwAAI5jmqJMQAcORKIkw5crpdo95ObF7gr0/DSDkEoalFUeouQAAABUBn/lqQn8AACOaWs3bHlDsWcqMB64AAABQQZv+SahBbJlMCG///oywAABGFFtYa+SVQr5TjQq6gTLRvNAAKY49sT6wk17HHzB32KY1vpluneFVuqwaDNBoaF3SBHxTg7zDnaE9bD3XIzEAAAAeQZ4cRRUsK/8AABa1WFWKzj/YoRkh6TxrAAnGh2NnAAAAIgGeO3RCfwAAI5/6zcjR/pBphJ8zXRJYXUtAcqb3bsfGq7cAAAAQAZ49akJ/AAADAAn2ahSggQAAAF5BmiJJqEFsmUwIb//+jLAAAEYC0Pmc1jpK/+n0R+l5AIBi7KpKiacm926V1b7ich5+93R1IijuYZrXIxKvj2TOd6SS3Eo4cyLiuPR4fhJiN7X1+261cJzZ278ZWpCAAAAAH0GeQEUVLCv/AAAWvE5swtKRu+P6s1Ybpn8HM7OuXswAAAAdAZ5/dEJ/AAADAeaxsPGNkIk5P94yPb94ImDSflUAAAAUAZ5hakJ/AAAjsisHEzn/iHarFcQAAABtQZpmSahBbJlMCG///oywAABGIBJnADm5Pi1wV5euG2Rq7xW48hnZNPT7y5duE9wEYmb+k0090/AMD2EBXyRFRVtL44z85gXluH3NQTjJ2Hebn6HrIiKKqC2nHJ5ailFA4f6jahPlzooTH9vtBAAAACpBnoRFFSwr/wAACG8nNlmS2iaFhPoAJ1ghxeLidQSul3slytRH89pP+zEAAAAdAZ6jdEJ/AAADAEWGfCHOd1bmX2RYgyjQ14c49mEAAAAgAZ6lakJ/AAAjx8bYvqIjE4ACzr6vjA6I4RPoc+zg7oEAAACmQZqqSahBbJlMCG///oywAABIB/uni3PLZBdLSzVTKrgK7NjHrngCLtSvwQCCSvofbF3+4jTCB+qu67K2/JxbKAlBQ5Fc39aHHmllFgLqyZ9Ec1spg+YZBgu1aGForMfmixQjgpLgoLkhHiYoAzp/e/EUvibCQmYblf2i1Cu1sETLg85Yr+y5gt2odYEzYLSmA+G3BSVgXC69+BHe7dS/zS7YA+rfgAAAACpBnshFFSwr/wAAFr51t47pBB4mmbSCCM5p4tN+5X01Lxp91rt8ZKvb9sAAAAAiAZ7ndEJ/AAAjrDkFrk94SLh/hJU9/H9CYyDWmRpW7lq14QAAABYBnulqQn8AACO/HFjb+/8a89/LRYFlAAAAXUGa7kmoQWyZTAhv//6MsAAASALqT6/ggDg75Fw6Lq31vbM1WQzLW83kZKKwO24jutKRLrTFbZg2AeN9/ylK6jnGLQ52TjH2NHmzRWKp9w21FYHsFIg5jWQsqAkMIAAAADVBnwxFFSwr/wAAF0xFl1g13WSAkdy+7lDDNgcPbJPnkVBE17Isde9MKP6WDaYtZuA+oj5tSQAAACgBnyt0Qn8AAA2ujeK89eHsAEsXYyoEUbe0kUlmoUeacAfuDGUKQzggAAAAFwGfLWpCfwAAI7I8neUlLVIi+4Y9cg1ZAAAAekGbMkmoQWyZTAhv//6MsAAARhD1TEAbzn63xML1UtXhuhfP8ldoX7yMk294HV8pSKoJh6qhASrcZkM0DJKPQ/fA//vtYZGI8YCU7SBOwZbqg3J7xlsayTaCvm98S8neA5rFlZptiKbqWnQF9YoWDx9xWVtDWCvcwACBAAAANkGfUEUVLCv/AAAWtV9HTB21Gs7xgBbO5Q3Jm8wvZv6oL6kI8L1urIuYUbzOnZtY0YY9qHzIuwAAAB4Bn290Qn8AACPDRwilY4i8YNLYM9yjJzfcVdx6BJkAAAAcAZ9xakJ/AAAFQkhiFW349laF2vsCXlUmA7A6YAAAAIlBm3ZJqEFsmUwIb//+jLAAAEYlwXgeJoLtABwdyIgyo8mOlWEOMmmk3SeiBalDCMMjodsgHzav/p8wzDPvZzFQsqpC5dAj+3n5inZZFpCGeBYnNG5RNb2+m3YgzvWwu+CkeBl59W4Vd2OeqJ+IMBVQXnAJqE3yW1SMj4EBQPhWGO41sUGNuUg3kwAAADJBn5RFFSwr/wAAFrxQsI88xEpnrK56sro5YINrRkXj8LXmLUZmqAAuLpIhI8hlsI67iwAAACEBn7N0Qn8AAA3PULKl3LCth45x76vlMUDH9DxApQjDFRYAAAAdAZ+1akJ/AAAjsjzCRmWtOEW5+dCEpcFSAxIHlTcAAACbQZu6SahBbJlMCG///oywAABIEPvmdkyzegC93SMroSFDK0nB3xhVNLH1etEkf0eu28JMLnU4mQjk2Q1+C6KAliV6rvjZatCtqDcEtHV+X/Ad2cuawmWcKxrrBUu19+gcwFalpuL2KBSYT0TdY01Ce1aU3b8YxEorF+lxMTrIJ7Bqv6w1zBbHxjxQ06rJestjVyWW1BOcxHNCm+EAAABAQZ/YRRUsK/8AABdFKzeVoG8XalSrU6nU7ACMgujgMhy5XWF9wrsAKHGJm39YnGj4e279BVLkKZdMgAfKqPXBjwAAACUBn/d0Qn8AACTAlpwUkmzOgCJOV0kqFlBzQDgZFi+DRxQ/9OSLAAAAIwGf+WpCfwAAJLmEsHD9yy5t8W1EuthhUob1JlCjQJ7LcFtAAAAARUGb/kmoQWyZTAhv//6MsAAASA4hIKTGAJ7i+XS8znvG7TSoZIpeDCgHQqVhSLs35TCVxf7x2NKUglgpGWEV1bC//ulpIQAAAD1BnhxFFSwr/wAAF03qCINm0QXpThzTIr86iRv5XJm/KbsTJG/fTqiw52kLWbvhABIuDtR4j0qK4gO198CLAAAAIAGeO3RCfwAAJLiv3uJ/EHic3bjJarxgRI+CQxR2NS0xAAAAIwGePWpCfwAAJMe9jEEwk8TvyyGNh3caQL63fjW+o42AST0hAAAATkGaIkmoQWyZTAhv//6MsAAACk8hzSG8iLxQBjVrT720NLAQ5Eas8A7aTbBpDEQllY0o3qw7pfozaVXT19Ag+BOYfyr2SPoy46Yha7CBgAAAADVBnkBFFSwr/wAAAwNNMHn3yhdTDgA2oBSfLxQLwqRJFGgBMsUmwzVk/dYg+1tOehYLR+mzrwAAABYBnn90Qn8AAAMAv13S9spGqSw7qf3pAAAAHgGeYWpCfwAABUJY2FWfuWPd/sBIgvEyHuyelHHXgAAAAEVBmmZJqEFsmUwIb//+jLAAAApfsPmm4Q0oLo5tZACGsQM8LbUc2QjE+PwbxT7TkrRNN4l1hF3+v8Kokn/speRWBBSgG2AAAAAvQZ6ERRUsK/8AAAMDTE1nQScFs6CRitoH+fIwRewAmTpq5mO+BCmGVjfjBquyTvcAAAAZAZ6jdEJ/AAAFRIgnbP1Im1hZBC9GGPZ5iwAAABsBnqVqQn8AAAMB7yEiOMIZj6yZj68sCCPch18AAAA4QZqqSahBbJlMCG///oywAABGJeH320/o179Q1M2mUJGnHMP2kPSddpB4GuKAFsiMI5AQ6VjqWYAAAAAfQZ7IRRUsK/8AABa1WpIaJa31YQXDbjt0Qh9dw3bCMAAAABcBnud0Qn8AACPDQBNA+tl9Ys0TlVqFlQAAABwBnulqQn8AAAMAGwsATaz/A07LsEdvYqVa8a4GAAAAdEGa7kmoQWyZTAhv//6MsAAASA5mQCPChswAsPjToOqaPCx6u4IgagWbNGe6ZILIvPTKj3jUoYCkmArPGdiWGsytsbqeJcbKt+Hr1jqExH37zKQrf3UJebH/tFBMM+swAqMM0fkTCYtkC064fgMkTp1/yi5AAAAAMUGfDEUVLCv/AAAXRRxTkNUANvtgTEpoOHiIaDAo86ao+79QkneV2BH4JdsKWmppOAUAAAAUAZ8rdEJ/AAAkwxd1UVDRJq6ViswAAAAfAZ8takJ/AAAkx72MKKk0sZFQ/oFWWYD+YKO0ajo2YQAAADhBmzJJqEFsmUwIb//+jLAAAEgUdLtG41RRH5gI9No+iKQqU1H+IIsQiGa6PTfgrPN1B1/0XEHiBQAAAChBn1BFFSwr/wAAF1ifgDlZqCxy9bKK/U17CbLEczub402datO47gRgAAAAGQGfb3RCfwAAJMC1nNSaWv4bqLdSEeO6AEEAAAAWAZ9xakJ/AAAkulI4POFYRZG5/W8AEAAAAF1Bm3ZJqEFsmUwIb//+jLAAAEgUdMiYjwFVVFDhN7e92VABQDP1yMT6f0PjEjs57JkfdbYExDZ0MGoQf1TA7Tq5O/RYaMOnmqiT0LRLb79PJi3bboY6WlBKYNuhO1kAAAA0QZ+URRUsK/8AABdEt/O+SAEXs1cxkx/daEfa9mT6YgQ21IXWi5ixJgmtjaiGntBv4094sQAAABIBn7N0Qn8AACPDP7HrpMaqfgYAAAAdAZ+1akJ/AAAkx72MGsssfEAaZ84A0j2HzVDlwIAAAABJQZu6SahBbJlMCG///oywAABIfiYS6cQRiRj2Co7795xhGeguw2CA+eNZV5VSo2phsCvzZoLjf680sKMdkrcQl5VdqbXgwoqzgQAAAC5Bn9hFFSwr/wAAF0xDzbcVzO18AE6n5FkeBMNvt4NTr4iOvt9TTBgGX0lKDcHgAAAAJwGf93RCfwAABR/R44BpqpgVLUAIwIdUmgh5Hmq4Q3b2Qp7o1G+Z8QAAACMBn/lqQn8AACS/BCqKhHwALnvv/5go7L7Io7pNziiS53oGBAAAACxBm/5JqEFsmUwIb//+jLAAAEYQ/f6vLgal59bRrvwUbsvMB2MtF/4LXqrB4QAAABVBnhxFFSwr/wAAFrVaU4/HGLkdt6EAAAAVAZ47dEJ/AAAjwz+1T4OS0JtiMrm5AAAAEQGePWpCfwAAI8fHFGS/n82pAAAAXEGaIkmoQWyZTAhv//6MsAAARhR1KYAQa95Mn9cy5EogY9w5UdDmYWBhGb8D6PnMIQabT8ucdjSHWaS/nhdiHCikfO4Ma7HNfLbLrx8zl8CHsQPAcauLVLSZIC9JAAAAGUGeQEUVLCv/AAAWp/GSSnooTF4AkRR0ubgAAAAQAZ5/dEJ/AAAjwz+x66PxBwAAABMBnmFqQn8AAA3PtpThVSk9agf4AAAASEGaZkmoQWyZTAhv//6MsAAARkQ6wePP6TVMf7JcNNE0raVyhxfnEToAEiBiSqluHixOHGogL64CD+jpIW5OA7PY5ohBoSbJ1wAAABxBnoRFFSwr/wAAFrVakholrfYnYyMo9GFzpH2xAAAAHQGeo3RCfwAAI8NAEuDooIzw/ra3R8wpeaWLf8qBAAAAHAGepWpCfwAAI5n7dA4p2N8/qSACD6A3QUzpm1EAAAAeQZqqSahBbJlMCG///oywAABGFMpTwnqduioZDw+YAAAAEkGeyEUVLCv/AAAWtVpRUzE1BwAAABABnud0Qn8AACPDP7Hro/EHAAAADgGe6WpCfwAAAwAAAwGpAAAAO0Ga7kmoQWyZTAhv//6MsAAARgMBWcALDqKrNnh33IZYt5+683Zo3/dIYKHayCPWUJ/XFI5E/Q/uu+BAAAAALEGfDEUVLCv/AAAWvngkIS5cZyZBara+2MBGTrNnYlptV23iRIi/ILqaGPqVAAAAHwGfK3RCfwAAI8C5luQssunYNsGKMDMIHrKn8q3O0qAAAAAbAZ8takJ/AAAjvxvqnvQVJYYyyyXuudiPFAm/AAAAOUGbMkmoQWyZTAhv//6MsAAARhR04dfa4ApMgfKmBOpSoHCO2s+yiaOTW0qRG6NaqYrdRS+pGBUcAwAAAB1Bn1BFFSwr/wAAFrVaaV60obsGMiktXWNmDGPG/AAAAB4Bn290Qn8AACOsPG2kxxCfIgS+fUAg1kK8HAtmFsEAAAAOAZ9xakJ/AAADAAADAakAAACDQZt2SahBbJlMCG///oywAABGJfGqOhVgBxBUMcUnoylyRcJ1cRaeHmcb0s5OoCAo/QCNF8ciU56zBRKwyXVIkcWgDMd2hc2f/dJuK36mi4gjQYKXmBuMKnH4E31nsiCLbpTBuN+MczkR4vZle/tNl/mkdw/G7sbE/X92sL8wLBnIZ+EAAAAhQZ+URRUsK/8AABaqmR8Qw1C3+s8+y7AYF2RfjhOYKvWzAAAAHQGfs3RCfwAAI8NAq1HiDgIpGP/BjFyCZizuy0EqAAAAGAGftWpCfwAAI0P9Rn+d2+nrlIXxmhMaggAAACRBm7pJqEFsmUwIb//+jLAAAEYUdOBh+H5iIAkctgBcT7rba2cAAAAUQZ/YRRUsK/8AABa1WlFTLvzgI+AAAAASAZ/3dEJ/AAAjwz+x651Cwc+BAAAAEAGf+WpCfwAAAwADoP/FbMAAAABbQZv+SahBbJlMCG///oywAABGFHVbcATWcuQQ5ANxSts6r4offWzRmi+ORKbm7KSCQM/MpCSj6H759yzy7HKpuIhVLpjrzSJeMFF+29upThYBE8GJXbwl0frCJwAAADFBnhxFFSwr/wAAFqqZKOxlpPRuYjZ+eGxBVM/0wJOzGxByf1AB/MRLKhxuVcfigjSZAAAAEgGeO3RCfwAAI8M/seuelKB64QAAACwBnj1qQn8AACPHMrw4iR9s2o/5QAW8AhFoYlmu6gxdUhPCo8lQ2y2HjlqxUQAAADJBmiJJqEFsmUwIb//+jLAAAEYUdOHykSECcPL90z2+IJRI1+/6zVDcZ39JJp1oXdrZgAAAABVBnkBFFSwr/wAAFrxQtvlrMCuUGBAAAAAOAZ5/dEJ/AAADAAADAakAAAATAZ5hakJ/AAAjvx+MRm5/D2RBwAAAAGVBmmZJqEFsmUwIb//+jLAAAEYQ/wxAFQBF/Cd8dEeC6K4p4SkyOQMjaqM0B3Clc6n3+zIJn1IL7XFuTL36tSy99SZ0uP9m09uguLzes/9OWYf4+kGXsLe8DBnuBiQt7WkxN4YhYAAAACRBnoRFFSwr/wAAFrxD0DtjWgqlSY0n5Qb7K0knHyR0MLGfIRkAAAAdAZ6jdEJ/AAAjwLnMD+I/gAlQVLEcZ+pxynBADwkAAAAqAZ6lakJ/AAAjvZYNBA1ZMtgkgAuoBCaK7Qc/U664qDfnZDbxTBzDB9mBAAAALkGaqkmoQWyZTAhv//6MsAAARjMqOZDWCA7zwey6988szEPxqI/wCxBfNEJSs4AAAAAYQZ7IRRUsK/8AABa8PrcIVy5KgA/tKhgQAAAAEgGe53RCfwAAI7izVqoqDdHcqQAAABIBnulqQn8AACOeR8YmJSAxiDgAAABIQZruSahBbJlMCG///oywAABGAvwxAESCMRRBNEZiaz12vAOVeTtpogBN8CGVrOVuQGxxR+9O0SLil8lcYqR1BpAuyEs2Yxs8AAAAMkGfDEUVLCv/AAAWtSs3azZ9QzJACZoiWIqPwP3DlMsloDODxfF3lrl2keHzBm5DCKSTAAAAJgGfK3RCfwAAIz3LOZU3MACUi5dG0o42prHRrMwv8F8SCnj6FurcAAAALQGfLWpCfwAABUEv4mnhHwXCAC4YQyH60Xh45sNftjb4n2IHA2y4mlpgOlS2gQAAAHBBmzJJqEFsmUwIb//+jLAAAEYOaWfQBW7+nse42XNqgpvmqqkdVhwzLy9COGB6iw6HK/Tv7NBmeSXsaeugWvdVfnVEm+ezEi4Y2hGpsY4prBvZSXhJ/MSgh+LKiLvzLk1PTdHQek3fzUuznHdKSewxAAAAHEGfUEUVLCv/AAAWtStDJtInceA0fS00nVQu5eAAAAASAZ9vdEJ/AAAjwxd1UVDRJMKDAAAAKAGfcWpCfwAAI9UhABxr33CX2ySsdoQQOwltebkZugh5qPV6DOivG2YAAABEQZt2SahBbJlMCG///oywAABGXrfyBAG2bS4TRtwQjYO2rISBIqe+woZ8DPd0j++6+Z5e9YXcP+ajnUtCeJqgUgACXPkAAAAuQZ+URRUsK/8AABZxx8qFOex+8qaDCCM8o1g+AVBgQTnIJb9oaw3+u6PK7xPdswAAACsBn7N0Qn8AACPDF2ippVPVENCwNmsAFrQBMQR2aZTFgA03fMGFsRkfA6wYAAAAHQGftWpCfwAAI7IyO+URTs7uCCmbJX5rrcMztstmAAAANkGbukmoQWyZTAhv//6MsAAARfLtechQAn1U0drkQh/SVszEOEw4dxeKYbYnkP2e0e8w8AS/IQAAABZBn9hFFSwr/wAAFm4Ue1UyD7Q8MIPXAAAAJAGf93RCfwAAI8M/semmCuvAATt0KqxCSkrQBwqa0V24RIBz4QAAABMBn/lqQn8AACPHv4zwHKJpfZ44AAAAOUGb/kmoQWyZTAhv//6MsAAARgL28norr9ICvn32GhJ5QpWM1pNs/Ew3xXua+i8pZ6P7AeOaafQABwAAAB1BnhxFFSwr/wAAFrUrN2taXriig8IwsDncx5qHJQAAAEIBnjt0Qn8AACPVIQAcWAYtupFlTS+kk1chAJTfgGx5hFKPwCRuO6hXSynKjJSooYMbeOnMaoP9Vfk3ngYm2CIltmEAAAAOAZ49akJ/AAADAAADAakAAABfQZoiSahBbJlMCG///oywAABGFD4P07gEw4T4BWPxIfD/ptG78alXK0rBVXe0kNrYIGBPJbrpZ8xVetDUgEUxhse9Ie3TH/eh0yolU5ZXkb7YbvE0vAZ/MVvthUKsm4AAAAAZQZ5ARRUsK/8AABazK7UIImjSBRQQA+MfLwAAABMBnn90Qn8AACPDF3VRUNEM3ZqTAAAAIQGeYWpCfwAAI7HMCsXAAuepTG4TRfOcE/kBhiImCpAIuAAAAFtBmmZJqEFsmUwIb//+jLAAAEYUdLtG2lcwJzGnqovAKHKiWzew2JHx7IkrBvNUcP7TtS0zn/EDXfz8c4bcYlASbwKsLQwp4Rgz3QJo2m6bKrw4qXo7kMoS82D0AAAAIEGehEUVLCv/AAAWvEPPmk8VQ9N51SwygYXXMU1fmrbhAAAAKAGeo3RCfwAAAwHlh9psIZcegASOCmRMDljD3uEqMMphbNqRpqq3wYEAAAATAZ6lakJ/AAAjvwQrwHKL1EdgwQAAADZBmqpJqEFsmUwIb//+jLAAAEYQ/asRRFAEpnossUuSloEcEAXb4RmapfhvDJIFfClK7XdnufAAAAAxQZ7IRRUsK/8AABa8Q823FcysmUk/SeclACVU7UxQD3izJwzgX6w2+dIcewICOL7ZgAAAAB0Bnud0Qn8AACO39aEYuofLRtP5TpZl/Q35us9swQAAACQBnulqQn8AACO5zdEFTOC/vLifi/R0kBaw76VNnLVM3xqkZJgAAAA/QZruSahBbJlMCG///oywAAADAW/2HzTcIZ+nV9bu0wkjexsAU/GvOU6/7q0vJMGwF6ObG49KJDXynimRkxXAAAAAG0GfDEUVLCv/AAADAHP/pN2taYXGDhSXToh7ZwAAAB8Bnyt0Qn8AAAMAugpNISn4d5pUJgu6L91VJdcv6tuAAAAADgGfLWpCfwAAAwAAAwGpAAAAbEGbMkmoQWyZTAhv//6MsAAARgMXmEHwegBGBoP4EAGyxF3caygbMgvCR9OeRAKHPzGBQygtlztqzYgR00wShM2VfzE+/AX0GGOaZYyR1l+wIvWg77qe8/lko/5HCHNOxfSpL5a3wDGKzcf/FwAAABtBn1BFFSwr/wAAFruUVLHZFdD7Lrl0shLp7bgAAAAsAZ9vdEJ/AAAjrAqbaewBAWAC1EZmwNziNIiXMOrfmx1qA7gQZPI7n4LXkmEAAAAqAZ9xakJ/AAAjvvingnI/1QhN5/TEAEzDVWBzG/NOGCuYuJ8VkXRE8tuAAAAAbUGbdkmoQWyZTAhv//6MsAAARhRe+YuIRz0AHFoRF7c81p9XwusagxyU1lBk54zedO/ahu+bZfDBwQNRCJ4z5iQefA7riRX5huVLyMVTOsmgG/rzB6JQuaDMjvjHENmFP+zlqu7/5pdw0KdbhLUAAAAmQZ+URRUsK/8AABbBMj0aNfrs0zQAARyVYIkIIpbxYqRQoaGOy4EAAAAdAZ+zdEJ/AAAjsKMRgsI5ZHuVZAAJYvDgrycQoIAAAAAtAZ+1akJ/AAAjwjjWKZ8jLI6ZwbYIeadNDHdO/fMEgcMACZLw4K8emvO8KDaAAAAARUGbukmoQWyZTAhv//6MsAAARg5b6IjFswBtVVTHF2Gqjio7IAfmJD9ncR09mxaNB2wQXI4WU81DhcqFLOmyzrDxg1S4gQAAABtBn9hFFSwr/wAAFrxDz4Qt4frRgAA3QOMshcAAAAAQAZ/3dEJ/AAADAAPhFHt7QQAAABUBn/lqQn8AACO/BCvAeA+N8l/GUEAAAABUQZv+SahBbJlMCG///oywAABGAvreAiQ8Rqovj6Io6kJGm+J5m0yWRz9Bqmmuh5l9UgXjBbgM8SWFc5VYa+u0LPB7K4nZRUe5Jw8IGU4UqmWb84P3AAAAM0GeHEUVLCv/AAAWtSs3a1peuJfvfgAuKU/yBtYGHHIlhTrFMxu8cUikKpsptAn4BlyNwQAAACUBnjt0Qn8AACOr+Ft4EARFgA4L1QAWGBXWmGjr/ew8MMUb/3f9AAAAKQGePWpCfwAAAwC6JgHLCgAbrS+bU3VnjqGgU8Po8uP6PI/bI7xvUqjBAAAAY0GaIkmoQWyZTAhv//6MsAAARhRdSR/OaDvdPuToSAm1t+f9xC6Im39c9ex1BPxzsOz0l8iMVdWneolSk6cznjfbYFGvLxwfSAGxmMcMBtovpdG8TbfuGshPk1y4AkXcCPQUgAAAACVBnkBFFSwr/wAAFrxDzbcV0GAvU9AlrReV466IMyLO0+HA6XFgAAAAEgGef3RCfwAAAwAD4Q+1zZzRQQAAADMBnmFqQn8AACOx6GF0CAbeOABwWbe0pOaaidy77s+tchMD3VBOiHT3oqpfr0oIesTkBSQAAACoQZpmSahBbJlMCG///oywAABGDmX3Vrtc3z6wCa+Lp2FrcgeVmGRA6SCljyJtp6KmTNWeUbWxw6DdE9YZXrW3uru38///wAwVsvt9QhDuxEaX+MiECrKmu2VCajbGSZdrVVlwsviyEtqtPogpuISoPgL2sfV6LswrtN+xmGdmp7Pp6U1y98G2JQeO+Gwy9Rljwm47YasMKORDX/pzc4dKH0XJ2fqZuRSAAAAAH0GehEUVLCv/AAAWtStDIrtfUHaEulpQvq7ECaqjgwsAAAAXAZ6jdEJ/AAAjwxd1Uzad4U2UTqYyAi8AAAAaAZ6lakJ/AAAjx72MGk5yZ2RpWBDwbCb2JbcAAABkQZqqSahBbJlMCG///oywAABGKTzlzAG36lCZJ/VmwbriAV5eWoqiTIirCSm/SrXgFXiNtKj3X5KB/zZE/WOZF6sZlSj4nyZmmpt1cSZmDg29FHhWY1QpNEYjpzwzAMNVAsdccAAAAC9BnshFFSwr/wAAFneUjOr+hTceIqY11hjam/o0uni4tUwMMu13nmI+2kirql2jegAAADcBnud0Qn8AACOr2Q+TV0ADigpTHdSPhbGPkJazPe+YklWop4eZO4RBALzfNbOUrqHiusX8cPBhAAAAKQGe6WpCfwAAI7HMCW+NdoO8gAXOoT8kKeQMSTKlMja1mdaZ2p0oR7ZgAAAAZ0Ga7kmoQWyZTAhv//6MsAAAChew+abeR1iMADRRghhjjZf8z+y/X0hfWi1zRrclByPliYD890NVZ/qPVb3cm4jS4WpOdChaG8sJx4ZEGwv/IqlNVESVy5b2+1rs8pKCEOezw9SaSkQAAAAuQZ8MRRUsK/8AAAMDOE1nNq7QobM1zeeADaPR41H8WopkaZV/CbOQQCNJ4coE2QAAACABnyt0Qn8AAAUc9Iaa9Hop0cRs+MRWxanJPwQNhDK2YAAAABgBny1qQn8AAAMB5qEMeq//fUTs87Fwd0EAAABvQZsySahBbJlMCG///oywAABGAs9Xf/XHXQADHkyLTnac50N2vSNZXPf6OBpxr/Bn9rE+1/BiSpyUL0CPklRUVSwhUvXthm3eIfhYwX1Gjow9lC4htGEwu5v4UafRUPOvY4G9EwqS0RGSOvGj5iAJAAAAOUGfUEUVLCv/AAAWvJ14AreNvG5bZKyKUzcqdSQJZY3xk91FJLe0y4vs1SfWCMxIgnznEuQULnYTYAAAAB8Bn290Qn8AACOsPR3JS6daNSj887NBeGqx6IGSVKSTAAAAHQGfcWpCfwAAI78EJxLQxAFOmAVE5hkr931qS2EnAAAAWUGbdkmoQWyZTAhv//6MsAAAGpbtaNEBQ+m1D8wV4aX10RDEj99wSUIhdcRby+QS1A7Vr7pvkvHLATtlGZ/p5mQWeJqGJVMUBFva5QvvYfqNiLABh62kecJBAAAAJEGflEUVLCv/AAAIa/rnG9S1CM5RsrUuIizsUmQAAj8yBWbAmwAAAB0Bn7N0Qn8AAA10thHGGokwldHEq1xIgp3rwO4wrAAAACABn7VqQn8AAAMB5clRhub25c3NuAoAH4fdB2vqe27weAAAAFhBm7pJqEFsmUwIb//+jLAAAEYmiltmgE1RbzX8NYcdpNigR4qlKgTmeJJraYtuZg6A9T2G59zjSMrZdKPeM9d7OQ2PKz20hprh4FVKSNcJRB6zu3RGh8ZhAAAAHEGf2EUVLCv/AAAWLE7pSuDsbSLz7YSTEia+S2gAAAAYAZ/3dEJ/AAADAEVYcf3yW9IjTwkn5ftnAAAAEQGf+WpCfwAAIr8b2GWhXlTAAAAAa0Gb/kmoQWyZTAhv//6MsAAARiYoGJ63gBt+pI7maQRYGrKkplnWXoq7fAjonaCD3eY+V3omE+njei7Va259IJVIXwLKGThthe/E1YOh2DCD1b+qhLHeVpVUkbmYW+Yy9CtT6Kc34eXZlUdhAAAAJUGeHEUVLCv/AAAWqxoAgNiOmmhMWdmagApWx0i3/ulFHlHudsEAAAAnAZ47dEJ/AAAjuREQAcWDTd1N8RWl62ivV/s8dTyoYP3WmcBcJO2BAAAAGwGePWpCfwAAI7PUQAcWDTd1P1SoqApYpQ55bwAAAGtBmiJJqEFsmUwIb//+jLAAAEYlvgFSSB+kPuerDx/V4D83V1RR+xu8CSBqrR+EkQCRBFffBPHTIvDkF5IGaoT+HmHqaRbK8VtjjazlpwLaIX3piR1/8Pbymv1tt6SBbHPmSE2H0VwtIk0uIAAAAC1BnkBFFSwr/wAAFrNIA6MgumGUF+u61uZLoVeDgCESL00xhuAhFDFGfKP1KxMAAAAmAZ5/dEJ/AAAjrDxtC5sSWMKyO7AAqQMSy/fmzoQKGhkqYlGE8CEAAAAlAZ5hakJ/AAAivx+MN7rVOAAlqNq3J0gf4dPIiGHwQ0KfasBDwAAAAJFBmmZJqEFsmUwIb//+jLAAAEYHuQAtFk9+owFLD+MAWhzf9lca/fXsuBN5y+wAC2m7YbqyyRfbI5qylgmb3QdcqXpPge+dzSefwxO1GpXyUtZNaPTlwJ+QVvTfGyTBV5+qcD/wCs38wAKKXBaU046xjwhIubUdXzsyudSCzGHSHVgMA+Te7BZoQhFOA6vah8paAAAAK0GehEUVLCv/AAAWvE74KTs0n8LOP+WzTACZYpNcr7iHM5himQon1ik4bMEAAAAYAZ6jdEJ/AAADAAqApLFwxf6ecgQS3yLdAAAAHgGepWpCfwAAAwC6ZpcN2ACVCvI6KH/abypvM8rE3QAAAIBBmqpJqEFsmUwIb//+jLAAABqHk7ADdepPfoGvB+24m803v/RrR+3Oxu/D+NfIXVnTvfWy/s1nC/AZe7WpcCYRYAxhSnM54nW00wjtyCLcPdiVw0cezj6K1wk0x+S7ber9u9UxD+TAG7J9J1WOWHqmg3QPXGtMKGfNWNQKBPkevgAAAEFBnshFFSwr/wAACG8l4O0ACbbqpoLVygMV5pEopWWk0ixKPnYDLySySyg3ewu6o7GpBUT9OBcxU8BMSciAXkvbMAAAABsBnud0Qn8AAAUf0DUsI8y9L476jG3PEAghz7MAAAAYAZ7pakJ/AAANh5Bqcmg0s/TfrAxbFaPXAAAAW0Ga60moQWyZTAhv//6MsAAAGolVz6vSLyNaUjnYnCTKTq+Vx8xv8uSMolZKDnjH9sqfN1sVJqLhHtmqb3h9bvJwmY/gSODZ4FLIOGyOlIMOpJmkzHWD0ne2S8AAAACcQZsPSeEKUmUwIb/+jLAAAEYHuQAg9Fx4WYkkeXHokxC6ljrY/NB0rmS9+GfCY5AXgx+pqfYfWiTOo6K/VjJyXt7NqqwdmlH1HtMZUMt4JyBwaCeEKusY71FZebBC4/S9SLNze8OYn54l3aGMw7ZKCBIjeBHn23hwVQbu3G8jT1yDeTjVbNwmZ2DpOV4t6AMF8ySVCzrOmlN5qDJrAAAANUGfLUU0TCv/AAAIb+PEiKXdzQPABOIWY2lWQnpu9iScCBfoBsbtl5vTpHkYg0klIV67NcjAAAAAKgGfTHRCfwAADYIbo9Aj96IdT47JmckJwZqgk4RaABB0GwLwf7uCzQZgQQAAABkBn05qQn8AAA2CPWPlpUy8TF4GufJ58BUxAAAAdEGbU0moQWiZTAhv//6MsAAAGqeNC1KOqz+rP10w+wGhjd1GtbHWWsAHBEIyUBSeA0G4cNKpMG5Fkcv/01bActDMEJIyBgChf8GoS8zAVhCP704KcMHd5LzaJAdtNfKu6y2TaYYl7lUn+aZHvvtbWcxJpzdYAAAAL0GfcUURLCv/AAAIbyfFOAVGjJlhobpg1y+0HklWgBLCMoOA5GyYSKnp2wKbxiYDAAAAKgGfkHRCfwAADYe23Xw4xPqd9VKhHU/e5BH1AB+gAg8IFSecVAMMsOPYPgAAABsBn5JqQn8AAA2COi2WRclVRs6z3KHq7WFBAvMAAAByQZuXSahBbJlMCG///oywAABGJiC0sQAv6nN1FOUxU9NqxFKSpUcOd4zRkJ84P6MdoTn0M306doEIybrENvRBpY3iprzLJTGT5ko9V1kmYjte2uugzDDAu1xxxfj0YMxjiHVrbfJeyBSQI6ui3AT3q+LBAAAAKUGftUUVLCv/AAAWvE6A19tKqpdGX5UA1IlklRl7groyQEDQ9WFDJ/KgAAAAGgGf1HRCfwAADYXtNcygFOPXg/ad2kwcoD8XAAAAIAGf1mpCfwAAI78a/fswv831x5vucU1ZJUNzzdEoaA2ZAAAALUGb2UmoQWyZTBRMK//94QAABBfsAe09Zz9xtV9b9ijDNcwfGiPa3W5GQpatgAAAAB0Bn/hqQn8AACPHx0eVgw0RmuDFgxASEnU1JooB8wAAAkdliIQAEP/+906/AptFl2oDklcK9sqkJlm5UmsB8qYAAAMAAAMAAAMC2vR4kzvk1PE2AAADAQcAKGFTESEgFLG8KgSvI/wlJRlgFAh2NaqYqiKcDeCflrswDHdcu5zSGyJwtn8CqgbxEIVhupPwr6yeH7mjGW6BuyZ7iiXlrPe5ntdpdShS5tnwJaVPKN9MlGHadOL/D0jaIcP7Qj/XgLULVx/7oMShZQN39n8dQZCjqI1/3b5wHRZFKAqjLlzmjaMucQsSoPPt+hu1YHduNE8vejjDbp8t06WbYCeOGN3dlNcydWXeFp9wyDx/PZKvdDtdnz8MTf9w70A5Soi8A0bHboGp0dj5FRozsHp01nqNih+GqmMM6bsh+UEADYhKSMed3q//+QXyHrf4orKUh1gFVqdjM6hgMpokR9qb74BC5lBIY2RqYZMjAg4NZWi1I0JQPfGqFv8AazNeFjryAV9jOcbAf+DVCsQL1tKv5/iBiqFyBYjb9EHDe61zSoaQc1k4eqrbaqqaC5vD3sDarE5RI6mKTuNF9GDK/mEU6ReAxJFFnPErU5M6GhB7U/4vaZXwgigMKzB2+nq+dIzG7REY7LhQ6r+E0iyuazopSWl3ucOBNLAYkIXkSDTbjEGX7DKGRFn87DifDKRflFoVwpCUwBEo0a0PuaP827GyiQ9RPkyAN3F6J3SUSCCpIjnZxjL4QBNJ7iHPKHKqFSAc+9iRdm1scS+PtacQiiWGzaRx9Bwz/JKKrVdEJHhpre0AAAMAAAMAAAtYAAAAfUGaJGxDf/6MsAAARkAcogBBlFJZW62bSK4T8aZQKwnDycnhhnx9h0w/hJYCl/v1ROlRGSJvPAwfvUUAtLKSqrMieih26mlSeaiRkn79inylaH/8fUAjRZ3vTwqMcJ75wY/GHhbRgdJa5VABJuqim0bSz9OLaHAorGS1lseBAAAAQ0GeQniFfwAAFr5ayURoAJarHVWGg1V7nPWfr1v0whz+k/GL3zPjkAHCHYFCseLfForXo90ObHSEpZS923ADzEH10hMAAAAyAZ5hdEJ/AAAjuA2agA4xdQAOWTP4HpJyHSalWb8cMfcLMufx+vhcWVdBTX2XHSGQk4EAAAAjAZ5jakJ/AAAjsi3yqa6grBmFtMtGOhdEsytY6aDP2+qw8+EAAABnQZpoSahBaJlMCG///oywAAAar7sCADZxG1K3NArFs9BjolhaG/belfg+II1QBWjiexofSkukF8tNciT7bhJwktWF9vE1FF6hTKJA41d+KS5WriU3PYBuC0ClwVXxmKAI4WdDvGvTQAAAAC9BnoZFESwr/wAACGwKHjtq2K1td0urk6UaABa1mT2Uwb/nOmxB/06W6c6oQyQbMAAAABoBnqV0Qn8AAA1+E6VsYuiel4daPhzht7pHQQAAADABnqdqQn8AAAMB4MEtAC0eaumV8sQXYQBN4iwSEEIi/YZjDCJgksbwwGGmtLZEobMAAABtQZqsSahBbJlMCG///oywAABGAvbzd4wmwUgZ9QgcjcR0Zew0JHXUeqbMr4SGmSvD2nPQYWTVmDsGnHG+TqVMfSbMcHbOwG7NOcCU3Ogvf/FQrYEecgTTtfgrS18jJ2jjk17xlGfY9D5cj9DaBgAAADNBnspFFSwr/wAAFqT7Il0cmohlGbiQvDMe2ZFCidSTVz+KDoSpXQUhqJUtd5peeiRH7MEAAAAVAZ7pdEJ/AAADALoLbzLOVRcgzcfBAAAAGwGe62pCfwAAI78EJxLQLMwoCmGEDwwDsiGWLQAAADxBmvBJqEFsmUwIb//+jLAAAEYQ/gAjfRvwbie1jhd/6xbV/Lhvo9uwCa6wig9xb0lFut91DPHPUUB+cg4AAAA1QZ8ORRUsK/8AABa1XvGz3tzdtfpS+xyADtmcVr77qSfvMxl4NNaiLzgNMjT2WFx/1sOdOSAAAAAiAZ8tdEJ/AAAjw0Z+Hbcl1lKlqSACpAxLL99tKrknYKLCmwAAABkBny9qQn8AAAMAR2OV3iTj4E2vFmGdU8GAAAAAWkGbNEmoQWyZTAhv//6MsAAARiXhvEPzgY8gBsc7SLM5abTE/EGB1+1qjNSTqFqYdty9YHL/sYs2vR/4BcmRP6TyuONH9YghabwH6/OPWuCqL17KX2wbOhnYgAAAACBBn1JFFSwr/wAAFrxDzbcVzKyZST4HQorLh58FTPXFswAAAA4Bn3F0Qn8AAAMAAAMBqQAAACsBn3NqQn8AACOz1EAHE3twnJ6ZXFCyKoRQzq/AYotHiNOew81AAtpfAeDBAAAAK0GbdkmoQWyZTBRMN//+jLAAAEYQ/gAjBhgcKfFLogDj5PN77nh3XtH+cvEAAAAnAZ+VakJ/AAAjudGYgA43QsI//h5T1Kil/lr0ODyMNmFoX1SNnZwcAAAAZEGbmknhClJlMCG//oywAABGAxeln0AmvhTRk7VZ9MY8RMqAfk3jxZMyUoPCeFn9Y8iGyi1vh30ICLMvN3/m002lQxi8OMaGSb9sz40p5hKW+RhbCx1lmLgUJQ314um50P6GQVkAAAAlQZ+4RTRMK/8AABazLBHQgytZA0gygpr2HMd4tQo/mapMTWZKgAAAACUBn9d0Qn8AACOr+GeA5AtgZAAnWHAE86oL/rVQqbCk4hTdwuwZAAAAMAGf2WpCfwAAI78EJijUABWqmJHiIfxNvu0rZmIfDypUSqDSyWx1nETleOVZdJNICQAAAFlBm95JqEFomUwIb//+jLAAAEYHuQAtZ64TLnmBytzMljGcuP+OGNt9HUHLBq8T2JFUu/tlKqqI7bf6Cy6YAcNJSebkyjLnp4OVf0JxyKuuSx2oVGuYAr1XMAAAACRBn/xFESwr/wAAFrxPg7XofsoFaVbNhARSk9zDPgcW0wDmUWwAAAATAZ4bdEJ/AAAE+Ft5ksfH+Sj7gQAAACkBnh1qQn8AACO/HSPCT91eozsAF0AKfkdl6mbBbblKvJJ92xc+DVPnJAAAAElBmgJJqEFsmUwIb//+jLAAAEYDF3v+AFBtqMdgqWAqWIl/rzquikVq0WMesZYFSCtoLPYcbzZv6Nh7apZc+nacjUZCcAnhzshZAAAAKEGeIEUVLCv/AAAWwFoCCMvf8tARM7hp9npCwB7P4FCu0tWegfngYMAAAAAUAZ5fdEJ/AAAjwxdoqay4u8vhAZUAAAASAZ5BakJ/AAAjscwqoqAtwXYNAAAAOkGaRkmoQWyZTAhv//6MsAAARgL28taAL3gGf4+124tGeDBeuNpHRbWxIRbTsNbiQXWfKFiusnX7LG0AAAAhQZ5kRRUsK/8AABa1KzJgYcl2V/bpPcdvl4SQREgdt5yRAAAAHQGeg3RCfwAAI8hr7ehgh6Y/NyACwATbS7le4BzcAAAAIAGehWpCfwAAI7nN0QVM4L+8udFKj64ITMgylmcgzVtmAAAAbEGaikmoQWyZTAhv//6MsAAARg5mFj12aITEj2p1lK7p/OZlw1aAlZHHAAOkLhMbg7DCBhwE7cKt82hcNxMq/4SI6zTSMDJXrftM3S9eS0OX+x6S2oFgt+NVIw/cabsUO/IGEjrw0OLf56O1vQAAAB9BnqhFFSwr/wAAFrUrQzKebxcpJ3PQSggCLpmGZL6QAAAAEgGex3RCfwAAI6v4Z4DkgyDhQQAAACIBnslqQn8AAAMARX4ISHIwXpgAXAOQA5oRdxLmy2a3SduBAAAAKUGazkmoQWyZTAhv//6MsAAARhR0u0bWEpgLfhsYVLrWNQmuVgU0rVQRAAAANEGe7EUVLCv/AAAWtSs3a1peuIa1kAH40GX5zZNdrJ2U+pnGzOsymYez2EIsC5MvBTSN+DEAAAAuAZ8LdEJ/AAAjq61wpGbI8mTngXDwAshKPi+qrDJh5bH8sIDtaAnz5GhIiVS2YAAAABsBnw1qQn8AAAMAuEI1ciG5XguXzqrJ+TSbbbMAAABeQZsSSahBbJlMCG///oywAABGAvbzd4wDUU5BSjYtBFHm9rTPgMyCDCTUkV8l39abslITkWdx3DLB3KAMdi30RP2CjbuTwkp7yDBXMi875TAmGnifWEjSY/aXsva8FwAAACNBnzBFFSwr/wAAFsifgBuioOJNyAccR9KG+MvoDKOhVG3HugAAABEBn090Qn8AACPDF3VQdCBclQAAACoBn1FqQn8AACOx/bE4TKDMFuQRUqw7gl8spQAS1SIRc/Uq/6YkedGZn+8AAABgQZtWSahBbJlMCG///oywAABGDmiAADLHLk5Fwkjqyr7b+f6H5l3iHjOfwTellpoLIEjVFJHQEIqrSHpWGZuG9fox/FmbZfxEX6vDYx7sW2I1U9mpX4yCWMwFzVszD2yMAAAAI0GfdEUVLCv/AAAWvEWZHAwoCE0eWxnoat6+mQtMIitRXu5VAAAALQGfk3RCfwAAI7ixAdRYAOLBpfET35buoA2LU9EulKA3N9p76cAMI25m7bt3KwAAACkBn5VqQn8AACOx3l1FgA4sGl8RPfmv9p/s2m8keVP8nH08UgCCFIL5gAAAAFBBm5pJqEFsmUwIb//+jLAAAEYQ/wxAJAQwR9ok1VZ1XjzvTK0R9XrpQEfkPXhljlgo+lB+LAY/Nc0zcjbZiSLk9L38W64cAQa/i6RChmD1wQAAAD5Bn7hFFSwr/wAAFruUCGbR6oAblJYFWbzl/g6xfpndNb5xx0rSQgXHDgc17oaRYyXKZUrsEA0Ir7WJMP7bMAAAAC0Bn9d0Qn8AACPC7LSD5zcL1KQAN9hPjGKIwalMljVTq3cfJNwc9PUZlJqpLZkAAAAmAZ/ZakJ/AAAjscwqsklS2tLBPOh51J0kXEACYgyqDlfJOX5h24EAAABEQZveSahBbJlMCG///oywAABGAvZZEoAGvCn2tltUwlkBN0giBzpFkQ6C9YMW2k/wnyar9io1dypv9lZokV5Utf/ByY4AAAAwQZ/8RRUsK/8AABa1DweFRh0k0ALWspAlEC5nDV0pGl/oRI0aozhYYnAErNrp4GXAAAAAHAGeG3RCfwAAI8MXaKmlVON1i/7yXigX0fcZEBEAAAAkAZ4dakJ/AAAisjT52CgL8OKoAOC9T9K/UoHDgFsDfPVqMwEPAAAAWUGaAkmoQWyZTAhv//6MsAAARn4mVOkP5irUcoYAW1ufq7HcC3gkHIyhwJMI8qe/esLitNBKr4YGklyRV00Hs3O3Vpih2jlEKQcazKyDPOZ4QjIXipbp+85VAAAAIkGeIEUVLCv/AAAWsywDnj0GbGcOENTsjhiMBCOA7+Hko5IAAAAZAZ5fdEJ/AAADAEVX8LbwTyS2ufZ8uzy24QAAABQBnkFqQn8AACO+9RkapA+LkuAPSQAAAGBBmkZJqEFsmUwIb//+jLAAAERAul6XNFyQdaGGteaNUkuJbLZN0hgSASlReAL7zTyqY6VeHpfFW6+vHV/WqEaQPlLIsCQbFGseSZvhVb0IEyog7ykipDqwrLvd/Hrz/8EAAAAnQZ5kRRUsK/8AABYsT46VyFmgAG6d3mxE+CTq/fyFYZO+lMKpQFwnAAAAIAGeg3RCfwAAIrjCmnDiy+bpF3uVJwT7gDIdCuBcj+fAAAAAJAGehWpCfwAAIsATYAFrI5TKJxmQb28FUWYQJOM+DsgzSsCjPgAAAF5BmopJqEFsmUwIb//+jLAAAEQC/DEAbzlZRDC6b0GkpJ+Ht9MYfQR8XPdxeNmdd84x+iccmf0up3eTc6HU13jz2AliXPZC+MaUebCvuipe09vmmHL06AS7pqjZzurTAAAAJEGeqEUVLCv/AAAWJVhVixDGtubFDIQtqMhaXM7pGHcAEn7FYAAAADIBnsd0Qn8AACKec0va8wALXL1Wn68mM4SxP5GiTX+zdF0eCr+yF1i70/Bp9ZYoM02Z8AAAAC8BnslqQn8AACKaWptMUAHG5n+AeulRWdqnHcVERAI1QuxwB0+N4d9/BdnXEE4TgQAAAIpBms5JqEFsmUwIb//+jLAAAEQl8apwqIA5hWDCPghgByg1PcdSCX6Q6CTaGiS3e9sNGnrc0XxyJTc3ZRC6hzL+GIXxIbRz2ODwgOK7goT3vDEVnXIzxYbnIaqfAR6r2II5JtpeQWv4BHeZ7ycfTJsQUgKsZoEOkqPG28h3C6CI6MCfn/m+5E/aWEEAAAAkQZ7sRRUsK/8AABYsTgGsn6428KXKREjNaE6b07jvy8EE6UVhAAAALAGfC3RCfwAAIpMybiYoAONzP8A9b152qWk5mZccLMwPlhtDXMNvo8XvfCPCAAAAKgGfDWpCfwAAIpn7D8yhyvFdVpIO0Wpx5AABFim7wAg8dmppyDQ9pH8JwAAAAEdBmxJJqEFsmUwIb//+jLAAAEQl3r7jvv2ygLhc4vIU3/ZeO4E7sD+8GvvaMtCrlSmaWMB+GafXFsbQ0btdHWcdqiH2kaQUCQAAACFBnzBFFSwr/wAAFiMsj/kcSvWbH+efqzFuokOREtRAxYAAAAATAZ9PdEJ/AAAirDxT9qTaQCupgAAAACoBn1FqQn8AACK/Gs573gkQRsABbfu39NoPiQnJqMEiorsUg9w7O0qPz4EAAABTQZtWSahBbJlMCG///oywAABEM+6USpJwCLoy0PX7yiECe8CKXQc6CX2hlVRmNLFXQWervoxg7f2dc1XerJO2OS6EjgJYOcXpETeN0WCwOd1UcxYAAAAxQZ90RRUsK/8AABYVLrXbVcWy0x2zdCvoAJ1hGQNzRyk//Fh5a9W0HPMs6O+p/MwqfQAAACsBn5N0Qn8AACKsPn48DyviAAugBT9cmHEskkHNvQ3qZddminZ/AGYAweG9AAAAHwGflWpCfwAAIr8azzj3FXVaAb73xrgkwAlEu6/FxYAAAABYQZuaSahBbJlMCG///oywAABEAvwxAJUCDJejQwalr0GQSKO5VLtV0YDRcVOHK67oXq6XcPRg6BDhlp1epGtl1E16EBuFcj+zcdgSqG75MKZ7JHoxHbwRMQAAADFBn7hFFSwr/wAAFhrjkQii3m55A6QgZAAfuYnsfUU+6aFe1ALU8b2saKwsDEsRS/lAAAAAJwGf13RCfwAAIsNCas7AlUERdOAALITEiAlOYWWfT/EH7DrUPACkgQAAABwBn9lqQn8AACK/HTUe07T9xDveZdNCBWDmBsE/AAAAR0Gb3kmoQWyZTAhv//6MsAAARBD/DEAbzlUpvVdYmOmDQ+lH08Ur1K7Q7Ty0au1K3HsQRrALsetvWAIRLgHgJspWr+UnmtmAAAAAGEGf/EUVLCv/AAAWLE4a7lOzignL16QLSAAAABQBnht0Qn8AAA0uFccbSJa+giAu4QAAABUBnh1qQn8AACKyNP0hBAI8mJ0VWVAAAACEQZoCSahBbJlMCG///oywAABEAvadJ3ouofpeQiWt549xnzH82IbLeSHPvjakw0eVBGzx9Gh2g3jZR8eKG52CD2ep0mwrWaM66I3HSLdcDEXBx2Jo0r1j1L2IFqAP1jEc+sgbyi//0sthB0AwzDnatHNfkkUPML5PtuAwpnt6xLbirqKhAAAAMEGeIEUVLCv/AAAWMFn3xvzWfs/dZkAJminoi3CGqDM5UY4PbfANxAOWueBn198xYAAAADABnl90Qn8AACKr+F+2PgAXDBkAEGZtFwa6YP2EAi6XxPOrgVxwwRDhOrfQpXS8b0EAAAAkAZ5BakJ/AAAisjJF5RWhO/TIIgAJajaqavY6U/VRHc75ytxBAAAAg0GaRkmoQWyZTAhv//6MsAAARBRdRSNs8g5QAEkv7JTwyfBj5Rnu77L3ohHgrGXZJrX2TpMxTKKKmLl5zta3/6O9GjR/LizwSIt4jJ9KoOwbFjTYd1Lujdxsi/tsRcFVMaJYZfsklMoHIj4dMbW5VUxxJ33yoq9Cv1xV0DAxenVPudS1AAAAMkGeZEUVLCv/AAAWMFn3xvzted1JCkiKwATtgCaN7qhqTK0P0+4ULuAyEqAAG8U7HFMXAAAAJQGeg3RCfwAAIqv1+JIAcaVfAk0XPGVzZwXSg0CGM9vskhT/cWAAAAAWAZ6FakJ/AAAisjI75RISl8WwxSBdwAAAAEtBmopJqEFsmUwIb//+jLAAAEQQwUgLW4S/b85rEBwv2H4uNFQjjiVPWLCQ42gaQfGf2/VIKI/PDFaJEYOjnF/v6WK97QWZ8onFM7kAAAAlQZ6oRRUsK/8AABYjK7UGANHPytaZLt7A31rKH6V99EzPnIudMAAAAB0Bnsd0Qn8AACKr+FfgEl4LoSzGvg7Ek5lrCJoqqwAAABsBnslqQn8AACLHMpVsfKg1LT/syZYVqztEC7kAAABZQZrOSahBbJlMCG///oywAABEAvbyef5vsdFXPlhNiuzSKAKrP0rWAc35GZCy2EcFeKnBtcSYNk8jSWstwIi1RQpGXYdrJiTlkEXg8pQWzQkbsdtFcAMHLoEAAAA6QZ7sRRUsK/8AABYsQ80cppWfoSHHwAH7mOTyXGgnDXafwculuq9sL6+eZbhhv82Ar5OKAwt6c6dp5QAAACgBnwt0Qn8AAA0uANIU4fQAqlTEWLr95lRqkk+VRHisqCz+jqVkkUuCAAAAHAGfDWpCfwAAIb8fjDfDI7EJD5LfYn5Bb4yWXv8AAABjQZsSSahBbJlMCG///oywAABEEMFIC1lPCAPn2ZPgaTaej7Vu7OCMK5cD+DNejouNyOQNkxfwYLFJ/StdKWJ6t5Sd2ZigCc33qiITcTd4SMH3d9s3c9FQNe7osiB7ANBFHSCpAAAAP0GfMEUVLCv/AAAWLEPNHKaVsLSM2oKVK0AHbM4rX2J3fhfHW8LcnShquOqtn/99SLexu0iZp0Lpsx5OifJ4IAAAAC0Bn090Qn8AAAT4UmpwgYALRny718TN7F1jhd51yGxLbVps8r3R20GziUutv9MAAAAxAZ9RakJ/AAAiscv8iM4AJHWn6WBmxjFuc9335eHvtS81CjQCHwdeIjRLbpXQfF5CwQAAAGhBm1ZJqEFsmUwIb//+jLAAAEQCBXm7xgGpWdMFiDUoeuiHJMF8M5+jAnbU5qT1PdAGjrh334SFvXLdJYvodRkAsiKdP1jqfx7mwy5C1VGpOxeFBo6woKmhkbJna4wHc+Z4Olo86pg1gAAAAEdBn3RFFSwr/wAAFiuCq7dhu8UnNumpkATC/lbCzGgSTRuV3Xaw1L8X/2ThdldgHBI3+yhnJRxpJTrWOtiAOemsX7GgZsRypwAAACcBn5N0Qn8AACLDF2ipyNd9Y6RMAFkJT9LBCX/D0+HtptAJQlx+knEAAAAfAZ+VakJ/AAAivwQnEsr+iq3Ril4a0sHxAGDAzTYeCAAAAHZBm5pJqEFsmUwIb//+jLAAAEQQeRgwA6JNDzsQaJASJpJ1UKBK8B+RAOWSK1cYf/Xw4XqJurmN/uj1xS1Ngd09WkWwGuWk1M1Vw49hBRNIAJR56r14ao7E+0E+vfMLFz1vPNGbcMO/kmIb148AFv/6yBK4eL0zAAAAL0GfuEUVLCv/AAAWK4Krt2nMLxL2W35XQ0iZ7/KP5E6An7osMYtym06O9OuRoegGAAAALwGf13RCfwAAIsMXYzKvb6SABdRLSCLNoXTpxHtziCW0kTl7rPWMKsrUvd7qeg9JAAAANAGf2WpCfwAAIr8EJg54ALZbm/vA2fHCxeNou+plu6zRMqQGRg6SDeR7f+GGz0gVnW6qldkAAABzQZveSahBbJlMCG///oywAABEem9EZfsMQfABYGMArkF9MCLn9pgDjlwp9t7+nLGoIpYXzkt8URkEexOdx3Ubel2IUtE36yzlfhfUbghPH7EF8fHdQhfsC0UeAd9aV9hy1Yyu0sL5ZV72KtGu9F3A5LC8IAAAADhBn/xFFSwr/wAAFh40euMDmIfuX7h+obj8fQI6PhMOdNPYQQMH15un6gzkx9tBnhIFfI+WsmxIIAAAACcBnht0Qn8AACKpzj6/wJrNKykOSRN1thbKSWj74jWTvQuW9zJ+xtEAAAAtAZ4dakJ/AAAhvx+NmMl8PMrL+gqmE8iFs5HJQIjKOOZ7/G991u4fCQLyrp44AAAAr0GaAkmoQWyZTAhv//6MsAAAQiVDgg2AIjkHmFuOKpSm/2Uh1bpa38G3eDeaPqHq3NRN1bCid+ffq2vBVCRLkvQLc8Di2WLCwKOvTrDRtKr3yxg4pSMq6gnjyCtQ03yGqmqb/fGOuP9pZ3VCwliHlkTm8sbR5N1wZ28eEzz93+J7GmL0/jMMUdoxWoqJzD9WytF2r/mLlt/6rbVTzqjT1FNJ6X9Xr6XRq2QPTqCKvEEAAABWQZ4gRRUsK/8AABWeXFkNBiASll0EkzGITCj2aAwYhRFeSmBTUGmxF+la14C7DifWZ7/l6X99sjXLBA2SLxFGioMlOrS6Rvgb0+5dLAMDbgYqIHA/kyoAAABDAZ5fdEJ/AAAhcJBPcBoIAC6ADPhTLaqqRhcTMw2tthSVru01yewL50d6cYaQ9aXi7WIrIkdNKZ0lytxrAMUNEosOOQAAAEcBnkFqQn8AACDHyJXu0AEsHMUllH2NPoWeNu9vZEz4aBKVi3q8NBbJrysJknUFSInWSrx1CNAwonuzOaV5zNuuRZ87D5MMkQAAAJBBmkNJqEFsmUwIb//+jLAAAEIUXckaAImAIJnL9bQnr/4XBqpI4YL7Gf1tqC7arWqKCrsMkvr4Yi/Lqn5JwsuHw3duItE8Z//uiTRGbhvwC4GilhrFcmnpnLjBZh2SdjQHVXuLiWxZ6k4ZuWcqJeIx3IhKELuT0vnWqHYLxI+nRIY50JaeOtLF02liMiyWE6sAAACuQZpnSeEKUmUwIb/+jLAAAEIQfhgwAi+V/eOIBUC/yFpyxiIMqoMlF4gq9uFKYRa6b0L+TJxGoyX5MtKGZmYSTP4eXUURFXWqNSCMTAL0cehUeTdSyQsm0m/5S33E5JCKywUO6Pr1D8bp84Fcy/9RWH2Po2CAkFP3GqU13SoNki309snsPzi5x1Y5uKJFuP4/YVc3OIyrLVNf5jReQSMpjVJbQ5z1x9goAhsZgQaBAAAAREGehUU0TCv/AAAVm4KvO1LeQlxlh0joMCu4s7XNtJe08D8yl1Yy3l1xDgd3lXqQHs44KZPWoyqOGdZz4CaGTBzpB7wwAAAAOgGepHRCfwAAIaw4yVEHWhtpIQqjw0VI4Ikm+q1ll8ZrIp0CYdhgSwChMgvoArek7DBwxRy8eiZD+0AAAAA4AZ6makJ/AAAhxwtEU+uSv34N8AFvEwTbCKubEzjRlgxVaBBhQP8UqlXjEvY8i851ZI9glXlQR3EAAACNQZqrSahBaJlMCG///oywAABCEJIYMAOge04LX52kxnw5CZexb1v5Zuiw0uN6sGwFisn+Q5gqTrwO9k/pCbMtFb/nANt3nFQnnfHGhwEdRLIJjv0ECZ6lErLfYzxZKTDHBk/UTqX5qE5qLC3XrO+V3FAkGswdw6aWXlLya8M88SildSxcJ1bWfQm9pq5DAAAAVkGeyUURLCv/AAAVkyu1COLHujfZzmgBa6IijJgd3Gir3Bt707Kfj8G+aC915w3Oy6Rl9dMY+dhxQounu84NU0cBLwBeLfN+Et8wC8TusCgzhSYQVIbQAAAAQAGe6HRCfwAAIanOxZZXgOgC4B9sheqYYHnlv0TWjZFrMQgdzx4RbsR1CWwATHB7b1CDUfbs6fR0VeJgv8nGG0EAAAAzAZ7qakJ/AAAhkm5gYDgtvMAfjmvm7Q0HM6XPBC2nzFO9Z3eua4CGgyACAzoNXrMdTA59AAAAlEGa70moQWyZTAhv//6MsAAAQgD22J6gveGYKxwCPsfzsxl/v0X3OUUAapC6g7CmCT+FoXKkBnK5rsXtqiyT+qN4W1DjGzIDtj3L4eD8kNOGWvrMt9Cv/aJKz0ZdS3EdYO3FpiaIdgRIpdehHD1CkbPVKRv/eSjSWbVjFeVRjQtMwVq/egqo2RY7B6CO4JGgx/UVU/EAAABeQZ8NRRUsK/8AABWbX260Z+qxwACdFACUiKAcVixbkRi5bDnb4PrhW94QuKk5nS2/dOJi2dkKGjXtClkafjQGGfok67sCMTc2Ir+5yK/GIrdlGcCTWx+ewrjvlnyFSAAAADsBnyx0Qn8AACHAuN/AZUTWho/WOVDTf7Z/uon5bqjGYckvnWwLIC1/qAE1SK4/GW96noaLQSnukKqtxwAAADQBny5qQn8AACG/BCWPVFJRsk5jgZCXFErQjVZaaK+PukfJFpFc8c5+WDjVWzcjB8tBOWqzAAAAiEGbM0moQWyZTAhv//6MsAAAQhCZrUmplgJF5ITKREAHOtUDpB05+MUvqezYzC6D4mgby8mbHiEioQfDjISUhK2yBYONGstgp3QbwF/NP95FGa3lbbzCQzRcec1ulvgpvnQ+7DY9pipISyzqHpy5jxaUW3+I86tzjQF7irGwh7Mny/hLTe8dB8AAAABQQZ9RRRUsK/8AABWbX260ZnN5bflcl4QKmtV728E7MsRJK5f+A8YQ6HLih1VRXzjBmRh5uN+PkI713cCKuVyNHvbyiH+gmQ15zkyH6IMJJFMAAAAxAZ9wdEJ/AAAhwLjfwYHqaNFVylF/gAFXkN9aIIkMdaj+fQBEN3sfijOlQ3lN3pE22wAAAC8Bn3JqQn8AACG9la27T4XlFOvboEFRTgqPneQg6M8cN7ZdascyYE2bPok1lAcFTAAAAIFBm3dJqEFsmUwIb//+jLAAAEJ6bz9qtuErX10Fiy/JOVE3EqaXkH9XX7jnjbtGjFz1cdfFFZn2uGwA52xWOQL0K72kZiyf+1KTJucU7E/N13e1G3leoBhrcMWSKa/PRYh+OoeoGzxFtEOyIXik+eWzIWDyl3r9Ahc0kTGHmOb0iEEAAAA/QZ+VRRUsK/8AABWblCY2fpccPLLyeFJSojZLjbweMycH2tLwPe9yh3Nfw5wABQsOjdU5R+HbydekoOs6bXtBAAAAMgGftHRCfwAAIawVDf2Bmfh5p3lfO1xZyJ1ujmWfxXCoZOvEe16GVuLaMPyKfJ6y020YAAAAOwGftmpCfwAAIbHBDcdoq+kNWlbQMRudIucCYTp2NqZyyI3BXemlU4Hi4AF1FtSIty2MXvu90sjNbHclAAAA9UGbu0moQWyZTAhv//6MsAAARgHdrSmmwH67ugc6fqfpWH+mN97/XGeMKV4CYb3cX4VUGIBEZaqqeJC7/6jFsFSb+jYTcJBaz7Z5QTvbaCNfMptw1hqFACA8fFeUaFxshYpo2VmnEtcM6HOAEuPJsqrqR5lAnZvM47AeObQEnb3V+bfHNlyzjki8cZTGBPK7T7rdw6QMTrmTy9eDUnddV4IoJSrQb2K7mtazbWhXv7JU6OZ7TxHhzWEhcG3XWSQTDpdlPhECojsd2cydI5D+hFsAGh5+v5e+uQsKWDYiibEVSi+3sTQ4vnRhdaJB8DLA89HzJ6SAAAAAW0Gf2UUVLCv/AAAWsyu1iRAAi94kLiy77mCrELO8lzFmoWnbH8PY497c+jCf/u79JmMYStGFWOtaKh6GXmieKto0HU3n4s6INr3U+1xsmBLsexij59fKbQD6eEEAAAAoAZ/4dEJ/AAAjq/jIY3ikMI6vDmy8L+DnYI3mRLruBmeJyEw3wu4Q2wAAACMBn/pqQn8AACOxy+jB+7DMUZuLjUarhPG40pGuKGKifxSlSAAAAItBm/9JqEFsmUwIb//+jLAAAEYOW9aHesB+kxWPdKuXOaaEPthUOk6U4YWXHmFz30W3P2TLzePw9MFu2q0yAfMaPuFSDu4z5/39zxEfk1zB+QKYp/4NF930V8MAAV6O+/q3GzljEty7zQJZnuRWLbW2URZY9yhoQC6oP5LBKHen3exzdm2xbqMS47I7AAAAL0GeHUUVLCv/AAAWvEPKjpyAFY2Li4PeTdYhWZlk6AV9QXS0WV5TuKd9SC9t4YhVAAAAHgGePHRCfwAADV6N/8xLOV5FXU9KxQU2KwcKwmQO4AAAAC4Bnj5qQn8AACO+7Y33eSrc+U1vk16ho/zhHmP/Zz8AA99oKYQs+H32+rgaQXZhAAAAXUGaI0moQWyZTAhv//6MsAAARgL3emvQBmUXCZJ/5nKu9xR7I53Xswue0uogfNZ7TFVW0qq+lnL++bZM5Ul5G5Uc4zB0nUtA+GQbZmxS/GQca3o4LF6vKea2CZ0dsAAAAEVBnkFFFSwr/wAAFrxDzI6VgzZDXEI1493Z0RcGSoxnTyoK2oDEjtIdP/9Mwea5LnjmJhLPg+G1C67ievIIKpAz1iWUnjkAAAAxAZ5gdEJ/AAANfhLzJY+P6wZjq9lzdyUgAS1TvGtg9Yq4GBE2BXXYsreZvkvA5IpUgQAAAB4BnmJqQn8AACOxzBBaZwFnMvbCZCiY+KogaTuNGfEAAAB6QZpnSahBbJlMCG///oywAAAaimEpgI+K0R9Xrafhbq0LfAYEs/yTPfutd2WJu1AeytJMMWpEcyJLEbd3dLE4Syt1NApMUmxrH8OfkZY3oN+mK42pkNGyJYAud3OQTiXTQZ3CynNtNMMPq9esRAy7cKQ3fYzke/l4YkEAAAA9QZ6FRRUsK/8AAAhxLUx4AbrtpSEpDetj1gNmH2BtV9FaCGSJ3+daN54PHiKL0ofNiJbAzDXYjtdB8obmYAAAACEBnqR0Qn8AAA1/b4muXOve9huv3qAndQl7HwPWuPGuOWAAAAAdAZ6makJ/AAANf7aNeSkDaSQec5q7OX5P2EG0Y7sAAAA5QZqrSahBbJlMCG///oywAAAKBx1k7cPRsCM55YAAFia/eJhfdHskD16BIB3elF0/H5+vZpuFmLmwAAAAJkGeyUUVLCv/AAADAzca5QcDpvlhk9xnkj5HNyu8uSOsxIERttswAAAAGgGe6HRCfwAABRzyQJW0ASsTdwgIxka65RQxAAAAHwGe6mpCfwAABR+qpXSIb5F4odgYkJNJl508x3ynDkkAAABOQZrvSahBbJlMCG///oywAAAKF7D5puENKC6WteggADRn4y5AYfHhffBDtsfrlgWkr/A5fFQmdMztS3c/wW88JSsLfEnHBcAqOpk/cc79AAAAJEGfDUUVLCv/AAADAzhNZkwMOS2uCZU0ZdnG+etj+1GZAGD44AAAABoBnyx0Qn8AAAUcUmnVanLDLtUT6innelBtQAAAACoBny5qQn8AAAMB5clQ/ML9T7rlJhzKinvKbQAThn5kJVTcXNjlmo4vYsEAAAB9QZszSahBbJlMCG///oywAABGAvZY49GakgCZ1zMQ0ctsFE5hqE7S2oiga9cna9qAKlb6EwV7E6PFHgWPqGqzd4FC8+Gb37Yjoz7x8F4EG1cTAH1tUJPUuX6FulI3iDS4Pocgx21dg3jVD0xx7q2OWg6sOAv4GyA5kD1bWiwAAAAvQZ9RRRUsK/8AABa1KzJleAAOA3KN55U11dSr2ijaDtIMDc5CV0yTav7ganTJtmAAAAAgAZ9wdEJ/AAAjwl3gP/8alMtpNu5qfIK3hlEci1klezEAAAAaAZ9yakJ/AAANdPjFIIzXflcawso/D7/VJGAAAABAQZt3SahBbJlMCG///oywAABGAY6xN23mOs7xI37d13id7odT5pbNh1QNIyP5xLwAHTHaG+61fmOYqwUdRaTTgQAAACxBn5VFFSwr/wAAFrMsA7j56cQF7WWAAbXujjpPOoSeTRrUqVzOC+xaKpTYZQAAAB8Bn7R0Qn8AAAUcUmlSDQzmt6gby/QrCkgdY08pofMEAAAAGQGftmpCfwAAI78cCDi9yiZkMFpG8rDwlBEAAABaQZu7SahBbJlMCG///oywAAAahY1PirJw6RWNL0AAyx0tx1anNQLQV8v5p1OysVmSm5reOxbXbjiCovJ1FSpeZgw0G2Q596DaiswUhRt4cNifHKmo16BS/vK2AAAAQ0Gf2UUVLCv/AAAIa/rhJ3IBA48cfmgnZh63Ezor0gJ5NF4JvJMTBEbsl8xzju1Ni8X4sNy7D8ucA5BQdRlSug3MJsEAAAA5AZ/4dEJ/AAANdCJEwBUsqXvR+tOM+ke0/q8cmTu+CpxkbNPJobpoL9r9wOQgBRZtLqK/qw4NdM+BAAAAKwGf+mpCfwAABR0+XdYlmgARVaZLYbh1qSyF/C0eCbXifCzjXweMHcDAJsAAAABeQZv/SahBbJlMCG///oywAABEAvf6ZLVRfgxnkqJ7DvrfyCXKh0skaNatGBI5x/sapCW/HA5sdDsLJU6UtxSHRpyb3wXdGhKEvS7m/keQ5/aUA8gD0SIl7CMODI9IEwAAADBBnh1FFSwr/wAAFiVYVcjQ7o/5HYyE5Hs7KMER9ri8uN5AmedJ7DS5rXCMODSQ8uEAAAAZAZ48dEJ/AAAiwz4PGUICZDyJuZi3Z+uamAAAABkBnj5qQn8AAAT5Pq9hLIC+jOXkgHmowRbdAAAAWkGaI0moQWyZTAhv//6MsAAARBRdWGvklULU8rYmBWPu+BIeorgmBn87POvk14XyToRSzqKpDDTiz19bkXCOJAnM86tbj203kEvRIgl//CKcp82p+l3qDER64AAAABtBnkFFFSwr/wAAFiVWdG1oV+nRzhJDCFztTMEAAAAWAZ5gdEJ/AAAiwz4PF0Lu58uAQyNZQQAAACQBnmJqQn8AAA0v1JJiDmkWwUXKboqzwAgSZByQ56sVmwMs6CEAAACEQZpnSahBbJlMCG///oywAABEAvf6ZNMffRgMEcG7LniyfM9ClWGMNIqX1PQwK8y/Duozhb23jzqkkVJDTox1PUE1DAo9BRYLC09FmJMcZUCa3vRQI0mIAnPBjAJSgRD4NjnLfdNTZFSfIvrWgLSjiuzTiAwhrGXXnJe2bEa+B3InirrpAAAAI0GehUUVLCv/AAAWJVaX6gYXmZ119RufLdyxo7ovl737t5iwAAAAGwGepHRCfwAAIsM+D4jczHl81syGhPKMMh4IbAAAACIBnqZqQn8AAA0v0F3GqZdABXevsPdtTORbHUIPy0MR5gIXAAAAfUGaq0moQWyZTAhv//6MsAAARAIIkYAoBgY9Ee4YJfCA7Tbti3C01OU2ctPTYzLCrOaoxzfF8w745qnZr2aP9m55n5agu35VAu7/jYnpsYNXcq/jsBDHlm6bjZvzY2ZRPpGJQiDl2k9Y1SHrYrCrZTFuPXLanei5jocou0CQAAAAQUGeyUUVLCv/AAAWK5SRMeT5tznKVABMj0B0/qTwms6UQJoliTnhNm2C7YaNh52rltjOIiNgJbjPFX4th/0XfQWAAAAALAGe6HRCfwAADTXq8oHRByQlBfLDvXCABc97qdiEqASbz+DQ++32HUnBJNz5AAAAKQGe6mpCfwAAIr8azB+ZS0Xmlb6kAFqFBXkxv3kUosLCCN1bcsEo2qCBAAAAd0Ga70moQWyZTAhv//6MsAAARAL2j119aLbHEOFhc/kcQT4Amn8wLBSiqUO7wdOFY1E36xyuiLxT7YNMHHBqsb8rurUYqBMEfzkx69NRnzaHZid5ZiqkmNwXF8U+DiIpo9hfImBTDwXv9dYYojFeIYK2c4QcBxJhAAAARkGfDUUVLCv/AAAWMFoFgLiJkJcquZyn/C8sIq5isoc6j3FGb2bSEvmIqzSzIJccYy7Jebkjo3qKIAqyRdbgABeIoEaOIYIAAAAtAZ8sdEJ/AAANLhOIXpiBU8gBKpQcqw1GBp1XRd4dg17NlXT0MUT28l44eNmAAAAAKAGfLmpCfwAAIrHMAxk9e5crTgnX+yDUkLLB6XXaVW5GQyR8IoLHoLEAAABfQZszSahBbJlMCG///oywAABEAgV5PQWW8eB2ZyYt5EDWAEKegQUy//aBC+3eUK+XSTqdAkBv9uSv6vQUdUiMylVkpyDNny+s3Y+t1Y3byWJghzBVSsZ3/9BD+fTTheQAAABIQZ9RRRUsK/8AABYjK7UE8E3ICzcyCghfpgBNWsag+sVXCzBtCsDd2S1GMyPs+xOcxzgVqHiYyIm437z66QJR3rskufzpEfUkAAAAMwGfcHRCfwAAIthcwA3RTnrufT+3nXv4OB7If3xo7ljEcJ1B+yQJ4pi9Rh0tqOcggswsaQAAACgBn3JqQn8AACKSu6kenb4gAG+hA40ksYtnTq2oqyvn18zdNkMeYqSAAAAAokGbd0moQWyZTAhv//6MsAAARAKwgwBQBopyEvkVmXseK8sUwlRCC/JYatBbpZulEZzIzAMw205vBRmCDbvgc0ZIKUECxo0ZVa8BoCR7xYNkKr8zzqaZQ6CB5+E90kZ1jYCXmB5j+tV59pHMF48ZyPLYYFEVPOdT82X7U3Hf3UvT3Hn5DL5suWnnSVe/5aKzmWZPB/OObLbLIg1TE2NVwv6+lwAAAE1Bn5VFFSwr/wAAFiuUPl/Vu2XDgt5GgVQR+hi5i5n5oPV6x+mGaZl1Av2WW3cwRWgx8kA2UUwT1JW3CcJpAYjyfvwPLePhEgB0EPLdMQAAAEcBn7R0Qn8AACLDF2WwljKx5DAALqJWiGrAi/Ey1qzLQhlfzEXLsCOY0s/KIklUBI8HgdBXIT6SNdcP0NOg0IRwHQgcS/yobAAAADUBn7ZqQn8AACK/Gg+GeNhdFcsrR7RGvR3N6aS1aZxVXQfRagtsAE4Z86dmx14T5JuURJdxYQAAAElBm7tJqEFsmUwIb//+jLAAAEQCBbrZxnpVL9tB/YnYdlHqE+po6aXYALZvgc6scqwPy9Kf5yrOqJsMWs3Wc0QeO5vmO0DIGkVwAAAAQ0Gf2UUVLCv/AAAWIyuxxWDgiJLqZ+U/sd4AjUrekreaxSlFoUfv8IHUKFTUJVcgizou54EOQweD8/9OQyMRsswEFvUAAABNAZ/4dEJ/AAAhrEJU9ogBU8EJhNUKM0loDH36UN2BcCxacMywN9/dJMiimOszXxiwjtwI46vLPB/e+hVX7A7x8v8KoFfhNAHtjYWhKsEAAABFAZ/6akJ/AAAhsjyxyYAJYp+dVsfF5eFrCOAAn2bZvHsGf3Q3etOmVdXY3bYOcwXuW0jw/hBi+acEQG4Xu9GPATNedc6YAAAAd0Gb/0moQWyZTAhv//6MsAAARAIFvOZZfJaWAAasRt2KI5terntDLpXLgpv+HmU4/2/gsONT2ushPEZ7YYQEwLc0jmCxWZnc4FCMIZZBsTz9sehR3nYQoRkfLW0p485n3z4+seF+QAIi2baRjIMelR2mlwP0kuuGAAAAU0GeHUUVLCv/AAAWIyu1BRYLw0XHL7e+7Aq2TwAnVAI4cDtC3Su0Vvvn1u4sK/Hdg9g1OQXqDDnfbjdubwW8yqF+rZSi+JIWKVyrwCsyOtYcgvpJAAAAPwGePHRCfwAAIaxCRLBcoAV1Zx07SE47ANq33cJttq8CyLJGnpJE0E5gngl1DXt6nG7Pd0JMvi8a6FcBhsc1SAAAAEIBnj5qQn8AACKxzArFwALqJaQRJ5bmz2ng2nh2ZGFNK3N2ru6dM4lJQzKKqVsEc4zrSwkOqhS9S2KOdQ4RPua9vGcAAACAQZojSahBbJlMCG///oywAABEAgVyPR0awBydv+OD+NUJEKiJCNC2QmlSFpppvV6AHFIqKMCC5bfpskw2K0bGIIP90HuzrldmUu4gx51O/breaXOTbbONH1UIyt5SBt+0Dul0/lIYWY/4DweStXR//KfSbfdtztcHqnisBO0WeTQAAABOQZ5BRRUsK/8AABYjK7UFuUFoAWgKkHLIP3kmHOmx9u1AUgwu9RL4mDTafl9bovhLn5pIcOp6T8BS9Bh0a4WTt+2TalISwu2/MhE3nhUhAAAANAGeYHRCfwAAIqwVDgvIGfYNAAlNdWv/bY6szvNmlz7yNYIQ5ciwF1dHkR9V2HesXdicRx0AAAA+AZ5iakJ/AAAisYWf8XrlQABx6d5DcGiskUPWP+mEtClW0DZJdeoL2mSVZEWtyN2nlAzgDiG78O+lkXAADPkAAABjQZplSahBbJlMFEw3//6MsAAARHpvP9vqQBnJYX6Uv3wABomWylrzsbzds8qHoetHsN8reaYg+xPTRIaWXs/Kp96lOTbhRiNhue+h+A1FqJXpjKZzMXBk7q+Lfd2rMPrdb9E5AAAAPgGehGpCfwAAIqVV81bOeYdqpH1wbAB0gEKRYPsh9SYNPz5aDu58E7uydNldg3CmZpFMOOBNdwhMvLmapjupAAAAiEGaiUnhClJlMCG//oywAABCEJHGvi5iACo0B33/LT5JKkyBz4XaYnTsQ7ZL7u4IY2rzeu2y0ASukcYKbAeu7sletT2dsh82aljVFUhLPWfQam++Yrf/9TAIqIIDTqMLgN74aXet+8e6tf+3DV9a2ZdeasEoZjnOMtB2HsMM6o/cvNUS9CplypoAAABJQZ6nRTRMK/8AABWblI1Wvo/FX+/NzHs7lGEAHbNW2mQMfqdALzSfNWM4LP/GTeViDMSSAOFz1tInmf/YdVxDeGZtkgJIPwTOpQAAACwBnsZ0Qn8AACG3x4CAVbiH9Wik/y8WOaX017Kou/mxmuHX3Aw5u3Cfq1EQ2gAAADEBnshqQn8AACG9lntCxUYQK6nEcLC4PzXYpI5YaAAkHkaNbo+HHmrGgZJ6jnhUURmAAAAAskGazUmoQWiZTAhv//6MsAAAQhCSLfEAUztprMiQJSUyPFOlqvr0ssEcPFye26cOZn3DABwAhGVPH4Fz1Ui7Qwn6jh/a1amPfR6Z3/XWGYGZMLSw7oKrnSoOvBN9QTi27LcPganFMWa9yoAPJnHlEExd5R8kJK/elOsXloqe5G55/5QM22j2TpqGZu/gJB/4lDHVAmQFuZpTP8w73cpFg0bkUMmMxyiHd/B5Px79kMKHDXEAAABWQZ7rRREsK/8AABWblFg7Nep+oRGBCAznEo7tqofllLsjCdDrgNno1ZwiJpARcrkOmBwknKItW4UxGIKZwYCcb3i1SVnIBQ9W92I1sKr01nd/+Do/OL0AAAA6AZ8KdEJ/AAAht8eAnj5jHkAJQXQwH/HklM76wazq1Ubxf6yONYfzTYBLdRiIZkFnAs2Bl2bPuaTGYQAAADkBnwxqQn8AACGuMSnpdsvrjpgzPqjlLwAlNeyg/ksosejWIy2fhiR3VK+EkB0tmsKMK8KEgqGOWHgAAACKQZsRSahBbJlMCG///oywAABCAQrPLbQBCAmWc6lfS3sILEAwCR1g4tNZwcCMzoWBF3Oep9oDfilHiNAietw8R3aIBfCL941I0yuR7p0he1Qz1C0s26P0otYI2IcvQ88edoB59aUm8Zxy7FbQ0c3+N6R542oAAAMAGHkkDcja1hpqCl5fu7Fe6lyAAAAANUGfL0UVLCv/AAAVkp7eNy1L4AHzunsAMiyZugHiMoSVkUSO4p8fWH76OdF77sCnzlAKe5ttAAAAQAGfTnRCfwAAIav4UPwjewdAFJpzGKu782FysqxfCEzRnFp+LSz13OQtxY+mOPOCl3+NK9hQTV0Tceuh5+iz/0kAAAA7AZ9QakJ/AAAhrjEv0jL0gHdHAAuolaIob35OsCFZHorusJYZWF02BT6ZyQ1xlJ5A+xaE0Qo8duSIqYAAAAB2QZtVSahBbJlMCG///oywAABCAgiRgB0dwf3JwKYDWC06XKKZDrQaaDsAqESDrV8xECGUbVSOEnLDj1qfi1636NfM/KiG87h+5MMQB/opsAmFGtSe7e7kPE3vB+r7YLKRtFhAS/+bMhVMNBM1M8V77Scp0pH8qQAAAFBBn3NFFSwr/wAAFZuUNyMJxNMmABdMl85vZ6RtT2hpeFFYkxBMlFQZu/D6fwq/GNz0nBgm7RmuE45xA6zHYheXLyWV/XwsHyCpYSa9l5hZgAAAADMBn5J0Qn8AACHDF2KvH5IMJsz3a8DspLuo3xtAFS+5Nn9QnPBgAttceHxdv7D47ivo6YEAAAA7AZ+UakJ/AAAhvZYCivFRbIGAC1DUQea1nbTm5s3uJw5U4kEd4Kf1nID7MCmkS4TEXctTLR/Jrl3fIIEAAACAQZuZSahBbJlMCG///oywAABCAUgkQHZQDBbPw1K5dneF99Rk3XL+EabGnHhuLXc7W/AJZj1oPxiwDhGXBGT5+ETcr+jmwADChVRRomI285zHgtTHx/EOzIuBP15PFXNEylQXse2z3cKUt4HLletn9YRMvsT3CGfNmYa590+8poAAAABJQZ+3RRUsK/8AABWSnxw3CfkM1QCEq939z1nplvpJIaKfx1B9jjP7W6f1k6Hun9sfpKs9ESitqve9lv4eGhVqyMVk96FmkpUWYQAAADMBn9Z0Qn8AACGpzsWThXSKwdA3LRaAEfJgZ/LBFbEvT9DSRuoFy5+VyuxqgmS7ldk2ccAAAAAzAZ/YakJ/AAAhrjHRoGrQgTYQ4XWX159dZJxkOJo2948yZtMs3af6aACcEj69r5rWrQqRAAAB8mWIggAEP/73Tr8Cm0WXagOSVwr2yqQmWblSawHypgAAAwAAAwAAAwLa9HiTO+TU8TYAAAMBBwAoYVMRISAUsbwqBKOcfgdZ5AfeXaB/d7YPd184pLTHpGybX8r59LkrMWxGh8Jqpd6SAGtEz73i76gbRJGipx3bPbtGalqxlDEQ5TxirK40uWr7pOEXzQ27qUR4O24a6W9KbANCma33FbEiXFqmkZzwFS2d97LTtDQB/4lmu299vjGu5ROIft/Gk/thN1KwVzjWHAJIGDeMLMhDhbIp7J+lG8+JLEb4WJco95ArDfx2duDC0xVZa3Yo8AkUDEfZ45onfn+psKt7dQaD9fcl2xWQdv5REvPKf5SbC74IWCdzkx/yGmggrzxmXqzDIIGv7XlwI4qjrglwcxlvUpvQ+PKq8EmoEfwfsmpuw/SjDmmkDrAnyElDXUvhhIrlmNyJxaSr6/D4ZdMzqSaEF2/hM+8TOYCfR+IPXS805r+yCUxPbCSoLJD09gzUzwabJwujBHDtzaJD7rtMsRQ09z56bz/GIUJqj+7D8MXQqLVW0Cll9re2nCGZGTNO2rShcsJiL4I8Hfv2WLkuH+WSJnBzRoE8NVs5snO5nl3t/nNMLOP6u9lA8k2lYyKOgzx9y4jLdoQA8QAAAwAAAwBswQAAAM5BmiRsQ3/+jLAAAEJ6b0LzvC+MAHGLxEaizfc9ew3i38qC6Cm7m1wNXKtbKfE80Zs1DJvrqOQkX8ikAJExyNX1UuWRWjpvFx1TaG/zYWGA9xhawxAjnhyNlOovkk+lq+VIQbxbfAC0sd7Q+68hAoio2bXlbLvY6MA9GwrXsVgSgczP33zuKQBXBtzsm/sDKddLlMYvgCfhRfz+1ZH9gPDSnLB8+x/+EhWQTIhw5HBw6KZ2kirnsVYLw+V/wwzU/EBmxrpVajakZETgAZW5+AAAAFRBnkJ4hP8AACGxvmKzvWP25iBzbMxOAC6AIS4OkRZHm7j2pt+lQRjNARqLqm/uqFzJPd/Dejk9pNIO5EnneSArUMc+Jnh787xPslbRM77g2yE2PbAAAABGAZ5hdEJ/AAAhpSjgKnSEJHB07wAavQp/YLN/0H3X00+NQS4QZveLZIMr4cCxAz5xPHSp6M/ebdwTN9zE3+W7W70B/XwPjwAAAEcBnmNqQn8AACCuMvskf1pl+PpL62cx+Er6ENDGgAtwCHc+nB/IF6FxXSze3DG6QU/KCsAETx3ey3iQFRnHEflgiT/GvpAqwAAAANtBmmhJqEFomUwIb//+jLAAAEA7aASrLAFbRMNtSLcMXUe/2UJjaoPT9BKPqOG4lIbav/f9W+jMhdCafCbhAwt0NyP11Xr0QPtsyogvlgV0yLtZwPL2+HijrWlHfizxLOWTC2wzKB5G62/63+p9FQ/21xh6C+fVCZeKYp8HriRaOaIJuWvJDeKaiZi3dgJLtttragfZ487dxxlKbXSSMhbTrBorsk0xy5JDFsO5BcUUeDTLZEPJnntLXXCtg6h//xfyFqRfiJG5W4V3ubT7lpkcNbuKFYiNuC2d390AAABQQZ6GRREsK/8AABUQN6lirPuWixNo/0I8//L01OJUj9kHJN0Jc5Qwnr3GxIRpV+2tKx/m8rHEPhPQ0RVqzwAbQFPbjt0NkyPOtyFWbQigJ3QAAAA4AZ6ldEJ/AAAgqc9natXXGE3RtdiiPvXx3jc5N2SwNs+S+/Kb1v/gdTtL0KPuPyNeJVtXpD6Bt5UAAABEAZ6nakJ/AAAgo6pKH1SAT4KnGgYP7hIGknTX6HEzcMC3V+y8+ocJE78CHeOvaeTQ4atXO9d/ZfTFYTpnCIrbR1Ines0AAACiQZqsSahBbJlMCG///oywAABAEJhq11aAIROofXmkxXHBFwYmCAAw2V4yy2xxZ6QAXx0ygVzFsOtZO5coVw5x9wFvZyszXLBr53CZH2KvuKJh30c8pCg40byEV6YoEw0NqEySwBxIwxgpf7Gfpd+so5BcbtQfHe/q14TJcfyvAnwr4GojDuTxifeLOEGes/AYixzjZKGTWiQswuJVx0E7UG0XAAAAN0GeykUVLCv/AAAVC19utHn9R4BvBqePRIo8SMC/8qqATUREGxK0/AEx2LSTXr9M0mU8mS9SDTEAAAAtAZ7pdEJ/AAAgt41/OeEQOVK4Ls6lXcSFkMZtFjqNnbCz9wJPyREFiGZmJOmAAAAALQGe62pCfwAAIK6UVbfYJ9Ls8wWlD14CaeTj9Uibb4ogLX+QUWKZ1bHsE6NXTAAAAIhBmvBJqEFsmUwIb//+jLAAAEABUq0LBrzITLobzgsB6CmVSwVtF9xSaGrhoBzo+VKR4syWErhAx96gEzQq4+ByEqtWze6YOKyTBXG2J7H2xe/tAz8rhkiXx0TAzWwDuQv70lvXpxnLorktx67CQDLggXvuxtX4vheGh0Hn3mUTNi2jhMiJTwuBAAAATUGfDkUVLCv/AAAVAp3IWvDb2M3aqI/PSrKl9kjN4l38T7yyiGq+USYMjLdoIskoNODiDwOdkdKACduoqrNhafMtjiw7CIjjLKkx7+1TAAAAOgGfLXRCfwAAIKnOxZOY6pYurghxyiN4N3ayghzfKC01To8SSSKAC+XQR/VoLArp0j3r8CCz3xRBlWAAAAA2AZ8vakJ/AAAgrjEv0jK3liv0c3OS+ZateyfkrQoJ18EsM+ZwEgAeBM+qluWDqN1rJhOVzY83AAAAjkGbNEmoQWyZTAhv//6MsAAAQHpvPcutYPXv7AhZgGcRwKAanEDNVLx1we9BskXX/K5z31y/jiEKLWk4ul8NydPVg0HT9gliCJWA3Q3JNPQiBj195kceVKGI4y8zJrIAvkIaHgWaTcWu2SyI7FWdS2RDNkAWMiPZS8zfIlANDabPcM4+bprTWjAapHb441cAAABKQZ9SRRUsK/8AABUFJf11BMezAFJLgJenzTr9RArvEBbKsoemZz95PLH2wHmi3c/V+xl3l/81CFexZZcVzaeiZLuWq+53f2KJ/NsAAAA+AZ9xdEJ/AAAgqc7Fk4V0NuUaW8rcq3lUN/bCom2oAR8nFrPbAfsXHFJKNthKwwM7ZG37rgltGJrMgeoo9MAAAAAyAZ9zakJ/AAAfxsDmEmdi7uY4XQ7l5zdUTomeSIxj25ndWI9thKwFUOY9HuM76bUr1swAAAC3QZt4SahBbJlMCG///oywAAA+iKboXqtoAy3kPBfSwqWBrZe7/4qFjz7rTo+ogja9EQCYyqe6uzp+jdteTkIld9drj8t+62OdgbXJ7GEbPWnxt86oXEdRFpkgDBWhJdi+ZZAFAh9ZCAYfRccUOrm1Qd0tFg5AwNS1H3OO5Jpy1EWJhlzIbqUwIulQURn/gQWTnjyz7dXVlP1kMJleogolQlCk61ypCWc8+BuXafK2G5187cdDoeihAAAATUGflkUVLCv/AAAUcf2/8ENdZQMcCwc9hZKxmO37/5LYExmZZ98/xDOIn9w0sqsDpRy1byMGysY5rAAOfFOf2sWQGcyZVwquONlA2QiBAAAAMQGftXRCfwAAH7bpe665EWkilT5X2DZUQwJRtON6RGZQpvCqCoW2b6HuBRe8n8Sixr0AAABFAZ+3akJ/AAAfuaZ/UdBSAYlpkzdYspRBL42BK/TEjULC5FjWZlNSwrMOMCIjaJMgLb3p930ft5Hu8eK/2+oJo2XQPx3RAAAAjkGbuUmoQWyZTAhv//6MsAAAPl3GT8OhNnuQAbQTXw7iNIgyXntuVi5l1ptE2I52w0Mp2MXGzggXOlp4SNLagzWv3QXYGrmZGiTvQMoYdSPQ/prONFo52EnaJ4bmQx9CeAh+7N2jecamN+LInF5r+CLIaOsVFJTTNgI0RvtyaA1I24G/b4iAUdcrcGssHWAAAACNQZvdSeEKUmUwIb/+jLAAAD5n0O7Q1PTrkyorJMAq5CUL35vsg46mWycMHRzJad5qIhplNb+tf/xKqpLjlCGsbzoI91RYBMsO0DwYHcbzKrVjFF5aUW+UQNgrsI+dNWOqE+LHArN2R9eZQlj3MvFKhHCOuXJsz3exc2H+W9qvjaKFGFrJtQmrZtxHlhGxAAAASkGf+0U0TCv/AAAUeyVND12cHolFHoavfAhAbDrAzelgLnY7ATVkFjwJoANcwl19c3fV0mjyLuJBLmlbPYLrv3Mr8rMQVcgLwN7RAAAAMwGeGnRCfwAAH8FlxLiy4CXKCCp3FtTjGLXtn9XymeevwkG8qcVT+kzsAIbBSxZHLHOQAgAAADUBnhxqQn8AAB/G7oq4YuGgTeu9S4sq7EVe9+LKQNng693JBWg6eSs4KYleMkKy4Y1D2WXbMQAAALFBmgFJqEFomUwIb//+jLAAAD68Jz3OaVg9lsBCPRT6zqA1aADVTVJUS2JSD4rfgrVjZnRJXsF9b30T3BWqqYEY4gU4mPkXGODH4c5k/TyB8XlCF2ILh5e6kPiCqDNRBwrnpgrnpG7EkQO29t2JtW29M1klNOoZM59RfRPRrD0WpEO76F5tUtJztPC4A5XkKrChNWFxCRezix9zIyFutO10S3KGCkspf1VF9VKSVCUK3eAAAABXQZ4/RREsK/8AABR1JKSAgAcTI1x0UsBAtDS9W+w79hptl5YxE1WaPO1esiKXrO+JBT3sh0EK2o6KYYhTIQvzNGy3TTP1yKwrxQ4ljpOYkAYAIrNNrzQnAAAAPwGeXnRCfwAAH8jfr1qEWXo9fDtvAhetT72Ls2BAYuhkGu7DQjXRP0QoYIgA2RTFvrNIwbEfBr7BM/bdnrkAIQAAAEMBnkBqQn8AAB+8tqGN+TPl2IwPzudsrlEKdKup/eFUAJZQR/iXv1laSM9axh6zfI1bot+wiZPNnFewWfcEeN+5Lis9AAAA0EGaRUmoQWyZTAhv//6MsAAAPQsUZrkAF+IpHDTV9D+PwD4cTVgK/sL/Am0z+D5aV373vy8gLdVeZ/bl+iC9EWe6a/wjmp3BHScoul/ha+22BFHvrlWsXzDSZskYHCn7bDV1E6LWjrjyBG+ZEcpG4CCI/2GznJxWthV3R7DZAn7pnGeF9H5wPP9Rd8g33/p1L6uQ7Uay1qnHJvOQLnze1s9pAffBxQrwF+LIIZ9OzGXqyIXYu4upbDQVLmlpWdOai5mNFRI/Fm1fJ4kHObuCMm0AAABSQZ5jRRUsK/8AABPwObewKfwCwGo20h4YKjDLQXPxGugBUCW+IwRb524bBUsmEdXikjxEVB9lXZJKqaFi/i2Et5oejvi/1uDozUPQa4oqTkPH3QAAADcBnoJ0Qn8AAB8Yyu2POYaISIE5eB+L8UlCAPFF59UeaVvGC0Edk8213z7mgzn/+mLd0ZMiKjxwAAAAUAGehGpCfwAAHvoz7RN/d0TAAlpny61GEQqT5g6ub9M0k5ZHQMqJ3jgKc6KerHABeakiHLteVAeSQu8bOzhEvwvuMZuvCoFcjkQH6GAN3BHVAAAAZEGaiUmoQWyZTAhv//6MsAAAPPyTsXqbQ82k0/UpYEUFTXwSoAE7Lj1hyuhFucKe789SWBjw/XfI9ujL8NsxzLQe+HskeKcOwlQDOLasLKjCJIk24focE6ohu9Ih6gZbsZEmRK4AAABGQZ6nRRUsK/8AABPh/ZELswroP0Ev3cxhMTCABMKdogkkbgyGLpFdIFX+oCRsNtbpDFhfGS4UD3oHeVkRI2CEx/If2uoTgQAAAEUBnsZ0Qn8AAB8YSWmDZ3wlAAtP7gHESqQ1LZwOQ2QMcUB7bQ7o5lxo8JMyK2/ZZnjCopvkbk7dLYsMcnn21h2g+QytuzUAAAA9AZ7IakJ/AAAfCO02vSwpZEJbwRGFOTqwIZCZilgs+3la0AC56vlmskpkIL4zBU2QaI/cVuwOLGd0ZbQygQAAAJxBms1JqEFsmUwIb//+jLAAAD1cJz3O/ZYADjG5lrJNR7025TH/HwKRtv1KKj/n7k7J4Wderigu9x54fo4t7vCHVgltEb+nREBsmXX3RhcWGreBF/cnooyx9Ei/sSPH6M/3rmrbYERz4E4E51Jy78pxz8Zb8pHX7B9xjnAYcAKJ45Qs12rW6vl/NsPshGH9UOt/mjQvQZQvPWfKKzkAAABFQZ7rRRUsK/8AABPlJOK/hrhcLjU69K2kZ51Wx0SKAQoY3V1bD68bucxPv9ErEAUAlaYiWLDs/WxI1zCCiasNNB71iLTAAAAAQgGfCnRCfwAAHwbo9qAewzAm+MTW3UAFnxC4gtSI5brQ1/XothMNoH5jJb1oc6XUB/N1hqB4/sCNZkYpIQ73wu9mgAAAAD8BnwxqQn8AAB5O7M9gRiK8/gX5B4euIhdiRVWBT3nNURmuVoKNYnywAe1nOlGr5in2GlPMzV6F4k1lEjEkYfEAAABtQZsRSahBbJlMCG///oywAAA7kU7R2CwHMLbKkIsDCXfc0oouukejcxI6ECVqPmAhy6DkyhI8gAyKrMwXlDDd1g38TNmf6S5qXR8XvaG6EwaR18m3BLfXmPcNNuqnKkVGLq7r2MCdM41OKTJfCAAAAE1Bny9FFSwr/wAAE1BhEp0PBIKc5YoASWUhX3tXPjV7Vg93BWXx5Bz28/ouq9ta0iW1QyfCZpxBzRJ6sXulbglCCz5Znqs1dhuTdu6pgAAAAEYBn050Qn8AAB4Eoe97s2uQX14uRtOgAXSV2FwBQP5IyRuhQQvg/8RucAyj5nPYDNh+bQPo57Kqh1n6YfktHTDVC7inwVphAAAAQQGfUGpCfwAAHgTkomqGZznCJ/Y59ABAAVuwsdBWSGXp1stf8tuehAl1UZes41uVCatuVC5dcA5wPcGFcNEpRk6lAAAAfEGbVUmoQWyZTAhv//6MsAAAO6fan9uAoaBPWd5ctRLr1ulGANKxjhVxZZSnIVuQY7VOpyhDAb8oTXvTifcfMaBo1XkaKW2UjmllOd71w5a75+85f3/sqA9VeJ7qIEfh1W4fLZOfiRQsy+3bvm4AEyEmjU5H1Fl3KFbWuYEAAAA6QZ9zRRUsK/8AABNVvffCGuug5m75LaTzq1n5Cv++eI0ABfMIyBpCWAX8QomH+jQs775Mv1+hKmQxBwAAADsBn5J0Qn8AAB5ocrQACDjFwqaMribK/viU4aoMvszQhROi7zYH1nbaT1D3I+d2kKyWc8URuWE/fR26oAAAADQBn5RqQn8AAB5ZpnlpcgOoASKb/CJFxqQFDGKeEv/uUG8Kcj7vqj3elklRWMIadtvzv/T5AAAAakGbmEmoQWyZTAhv//6MsAAAO/wnPc507IAOMW24sHP2ueCTjpGHPYQFSiuWpED7TWHgzXDaKlhdU4o+uGX97mcCw5zjTSZqfHwKn0POhSsUKWyT4dlZXdpUeRgD7gXkc1J+F/fklTViWpAAAAA1QZ+2RRUsK/8AABNX8M1Zro4Gr07TKzAh4aidz1nwxQQb/XHdlyTTGhuXuwxQNGCSceyODugAAAAxAZ/XakJ/AAAdvjFHwFo8vWXvqw0BP9HImJ6QBRklVA9dZFLwh6NorGqhaam9ouI3+QAAAGtBm9xJqEFsmUwIb//+jLAAADo8k8OOz649Zs3uZhp1SMpG1RIVsNc1hHAADHTxX8JyeqoZsOb64C/Hjhgd/vgrHwV9bTQgdBCkwZYexAXiNp31gaOkUAFmqE8A8InLpkv3VfPiMTzn3G3pwAAAAE1Bn/pFFSwr/wAAEsmpRE+jA3Dh33/KTSAE1bsYyiSrfBjbLF/FA3le2XodkGF83yRZfiv2hvqaPG4EyT4Hc0dXSvChJJwdXqC7I6Am6QAAADIBnhl0Qn8AAB24mSpHSbeA3EhTotYGBvKqSmDxjQHU7jh70MBxcDfDckl3bP/gCwqE4QAAADMBnhtqQn8AAB2pEorzlMi6gNScbR/65AABc65Wm+oKmDt6HPj7r7JIhWjLk7saasnRdaAAAACcQZoASahBbJlMCG///oywAAA6mtPgRi+3wBigP40HoYILPIQk1TK0Q66N43u6TDAJ6owUl+AYI1eIH9B4aY8sjjZSv0TIzKsxMBIOxko9RlOQ6lw/d3liX9LOKpzLBEQ5Wdj3PpgsunTuMsRZKFjZd1JYSRQbhoz37ki00QNarAzWCr997ok8V26GUtvNQVyzfqkpKnmfVyu47MtBAAAAQUGePkUVLCv/AAAS1ccCiVw44YN+kbQACd1Xr3nWSSWz1QyHpkgyG0kZdQyHDxmm+7sp5zYG9jdI/vYKw23ChjzdAAAALAGeXXRCfwAAHbiY5R18AxCcuHiWafg95kpLRc1TYtCuwW6NwSl8gOatrzelAAAAQAGeX2pCfwAAHafYJfsmqQAbmYGzHjU3AreM3TyukagbINz4ME1EqhwQRF2vjoY0kDmOYUeIgPFq5rX2ufvW44EAAAB6QZpESahBbJlMCG///oywAAA6nCZCVSN8c420BhRcV8iq4yAFXNC/POxyWgOp0aXikB/ycoSDCWBYYtGEAh6XIOaiUFv/z+uD6EVcC/wKmOIHxxe0l3+5MCRFMzTJ3TfforZ1xyKAnOim5RXCA49cPU1Lrw3KtyR4IPYAAAA7QZ5iRRUsK/8AABLX/mYEg5c2PW7IFuXQhNeKUMQr2gPZgEWKnbXV6B5h/dgDu7DuX2SQ2SZjKs8/ipAAAAA9AZ6BdEJ/AAAdqHNGb0U9YAON2KhoKMmsVdq1YcHYWBy2YmuOkHBKMuVF3EPUleKXXPZa+FehmRwyey/13QAAAEMBnoNqQn8AABzlSvZcTacAC1y/cyey0pXje+LPWY87U4Jehd44bkQGkHGl4+JzCK0m2pztc2o2GZvAHpT8C4v4S5vSAAAAakGaiEmoQWyZTAhv//6MsAAAOOfamrmseXv9MEIA5udIQGA0+5qWrP2Rtty4KoCH4Hj8Q1laba8qwde0oGIac82+3HWaMfxzUSYzwOxgfm/IPZcwC54+GBtZwyK/h5Wfe6kGA2akU5jY+zsAAABMQZ6mRRUsK/8AABJVvlhlRlFFUr/1AFekEjfxVie2YT8zR74DuQlAgAdaUBxD7O/yyGzQZGi1tK5xYy0jaWyixBy7MSloeYucRFCgQAAAAE4BnsV0Qn8AABz2e9zJgBuugcrDF2F4wnASwok7W1Tni2dwqWFwcHDJpR0HPZny+QjSqbE5ydUoiX3UOAO6dj2Jw12ZZsOS4V9VkHrQ0+cAAAAvAZ7HakJ/AAAc+cQ4kjb1F8NvzPBjwZA6wTYiAVAKbmUX9Og1qAHMjkHW8S7ZUHEAAADQQZrKSahBbJlMFEw3//6MsAAAONwxkpMoELACMjaWt10t2KC+Yx7kLKT4kbMMRnwDksFKe4yfuOJ1n/blidruVLIIQUk8w49pZ3ekxkdldar26XUsWa80cbUTgUjYxoNgdNw6cJSUzLQ16hsM12XwKDKtDcbXHGWzgsDkLXX56pXuCyHYoBiT6+HPEBahtp+H5baIuAQ2hHtMZiUF+NSV97/dFKTBj997wJedCzOhz6lfvCQ9qxlKXvAOoOfEjjTDpixuACs2aEaexQlqVlYZeQAAADMBnulqQn8AABz5pn9bFKB8UMsqAAXR+fsJUdaMTot/0UtYMN8KAyQZH2a2iLPHF4zFg4EAAACFQZruSeEKUmUwIb/+jLAAADk8J0GIhFB+Wkq3QjZt964mmfFy4pj/TLSYrGYAbq8VfRIYNL8PuATZJ71qOqt4MBz25CnMbI9xYi0rt78XAxcey+KvlIFK5BNXOr7dttD7E6xClWyLM7FJzEvOvPE5EY4ahSWmxxbc1Jrhe55PvWx2OVmiwAAAAG1BnwxFNEwr/wAAElfwzRBdwRoHgxoejIr8BfEvCNBrg7+F5n3EjPu3TeLcZpqj14n7OqmTxZ/cbqravR6RFEt2MIm5+Pujt+DcTR7NzJQnR+3wBDjAp36tXRxMdjdtWxvJj+Ezz/24wfVtSS+AAAAARAGfK3RCfwAAHPFYmsoa1nPr4Ka2z+UwD1TOx94lveWGpfHFAABc57AVjGxa+YrjXX7Im2qHH5q7ZFQYuNZrk6ph51WZAAAAQwGfLWpCfwAAHEjtisdnr9ACurOQIPy13DpaiKSb0kybi9EnnONzOviPgC59cGVKYuBYgUI3IysoyPtNAKxvLS1WwIAAAACTQZsySahBaJlMCG///oywAAA3ixqiTVQX45vumfADUGm94QtHfELi8B5ytZDp6pQaVrNZPDN3AwAe3sUJxQ3l6+B7TsZcOprL+4BnuPCOpVSgN2sPcDbYG0U5zNGYapZcxl6YcPtm0MebxU5EFvXgjySwC0dhecDAepgvsKXuDPjQyDp+r9dIgsXzsiLzOu1mwvxYAAAARkGfUEURLCv/AAAR3SVDQqG94nMAp1NyIN48LL1kzmvwK+a2I+jreMXYcyQ8mqGDWgBCIK916fv7c2C5cmR0zehxRFGvC8UAAABEAZ9vdEJ/AAAcWMpZE1NaoAAXUAf+1dpISD2t02oIMlUeRhL1x9f7vlemXMBWHHXtHrVVs3p/E85jUjWG24I6I2Nb/mEAAABEAZ9xakJ/AAAcVqOSZua4LgAXOeb9OCRbHBljZH1YVncSE2dTWlBFH2KybdfXqgw1/+bWFzdo08pynwxuG9R08HSpS8UAAACnQZt2SahBbJlMCG///oywAAA33Cc90APDAC1Dw9epJCxvf0NGJKFfa7UmRoFm5FwcGbFn6vkWOubuKt6N+d04AxV4n0vwl9gNGivwYPiL/gt+n7WTTrSld+aWuEb+5TLa2th9GgB5rc8QaWj36tUiZsbYPn5ggOxdHP4e7cXgFBcM/miR7xyx2wer/U/UjUOGIqGlIUbGj9l4Wmes963CTyBXXrPFXIAAAABeQZ+URRUsK/8AABHdKalSrG4RjVWCCHWLk87yfyMgaaLs+vyyjJXe+PYd30hO+Hw7nUlFrCGBYVRQswe2RRZ+K84FhQB5Qz/Q60wG357fhhEExeDPxZ8FUyRu2R6sCAAAAEoBn7N0Qn8AABxGcxcVDqCKyZzM2myTtixux9vwAcFm5/sZRFKCBbAbnw07QZVOuJHR0CltsNnxNBLyVF85lcZ1xHdxUCSYT1vUwQAAAEYBn7VqQn8AABxMqHJ4SaU+enAOiAArVTOk0EPI81XCG7fBb/ZkcWW1e6YG8gmRpvDV1s/eISn/rb9WuKmPL1b7a4xZg+ekAAAAj0GbukmoQWyZTAhv//6MsAAANkKDVqnNPdCqBEB+aQcVPYezaW8K6UnK7fiQP3AAFqHIY0/AZT4HXoJqThc2rZ/Ojz6Tp/aLoXuDFVjt/XrsmcJrfW8jyRp9MX5RPrk4EAXkV2UThK6yYG7bD7P/86B5l8ikUljDUQQN5jvP7O1+tIrC8xyIyqg8fsHGq4aAAAAAVEGf2EUVLCv/AAARVb5a9s8YvdyY5f0mmQEcXJlFnRKlfkB+T9qLn/jVUG91N5y14tbzqwts59nec4lBXfGaxqLCfAxlJ6tJr9FQT4Abo3XTNCEiGQAAAEcBn/d0Qn8AABualAJATYgLEtQAFqI2etm+xTDDCDkppH1smEfsVBpYP3WSaBCCOJbZwvGkQgIci+ctPejCEm4V8OW4CuaZwAAAAD0Bn/lqQn8AABudCdaPlOQWHICYEX4WRHnvB/S6AFrP0Ephtx27KITCcZYZ2QB2lcWS0CYH/CTh+gyfqyfBAAAAn0Gb/UmoQWyZTAhv//6MsAAANkr+iTVA7OADNtShhVnv+2Pf4OQ4whawffNf9hH2f0p6D9z/BOdw96mPbKLCQwX5Q14zZRvDv/Wx+L5ZyqVsUdmsZYCVJ5DDy7o320GUcc7ya86HuTgvJNjsu8Psqo+bbRKofI76rwuXiylkRROhaW2us6XUiXouMY/Z+LZlUEB5gNpqh8eDAmdunZrvgQAAAEZBnhtFFSwr/wAAER0DF6CTTczWvy5pJpQ/2h1g2wzZT0kfrVcuzdThjacOm0UhKl78ACGumg9AIRIccouifFuPK1RHl1BgAAAAQgGePGpCfwAAG6faYoqem3eVxLmLkT39jTAAeCBRwnCzIjBoBOoNhd26XLyknpXXj62rRGb1QAWu7j5P2587uU9rHQAAALBBmiFJqEFsmUwIb//+jLAAADZUfeUFD2T0AIwPfcm6zMtDpGo+pzWJXzRF/CkUYtZJ/gUOARa6ofJW0g2A2SUl0ULlwX+zp733P5o5FzxAmUT5XnYKN418cv5uNv6hOK5FDxmyOX2pSzILOHZtL+/Wbd2VWjsiR1VikRYP6aZ6umFZs9Ne/VFJCSNtR/mEWfCQbW6cQ1i1+mdY6V+WV7Vi6BFK/VF1dS8VFHuWgR0xYAAAAHdBnl9FFSwr/wAAEVW+S3y7PS5MhkYAbaNsX0roW8JiIVvPBP2Fas18OxWLgn8uq2GZxMKUHnq4Rh7xAFVA2Cjv2p3ejiV+Eoh9Kjalr21JUKvD0AbYsZSDtX3Q8Wi/Dh6ex0gTciWFwtK8QjCrksgoUVk0a1t98QAAAEIBnn50Qn8AABuak44NEszy2UPYIC8zaD/qdGf5SW4OnWQy0G7n6xZWIlGD+QoSWO0i58mZVKkmkd/g0e4y3tNgD4EAAABHAZ5gakJ/AAAbnQoOEI7d11KWi2XEvmXeOlhOw1CmGZcqx//Yjy03SFeh2VZpwQxXJr5AW2hAAgXj9hfk02YJsRnDiFp9bFgAAACHQZplSahBbJlMCG///oywAAA2nqLbnbmTKhi0WctLVuMA2m7DBf9igZ/Pi4FngPsHQKKaFs2KvoPs/9TGvfaehFvbDqLT4S1EkbQ67r3AV9dDd8m+KLoc+tvUoMT7PZ5UpR9PCgZOlAVoeb4mzz/4ar2fqWWwO7RnU/DF9zIffMnNXiB8ec+zAAAAY0Geg0UVLCv/AAARV/66n362iyEUAgtLGCPAr0hc3lKUDNQVVQ/cgL77IBNqW9of3JKlWwbKTwCniSoRR9MB2tepCTBIr2AjsldFhm0DTs7aCJFiI4AlzJRNXQWtoVBxb8A8GQAAAEYBnqJ0Qn8AABucEixMDD/jK3dHDOO3rkq17n7VU9GNq+JF5AiH+MnrUATsIZBqZTdSVO8iDL+3b5osuILZoyajYbqtuxbiAAAAMwGepGpCfwAAGvBjrHfQ9OtemSsICxxAdxDt1S0SWdmXLlgUVn4dmB8cDq3QkcXdsKdghwAAAFJBmqZJqEFsmUwIb//+jLAAADUUazO5gMl56+FqfADDeUQJVy7EWOSzGuiD2ItOQ/GVgRy7weRc0tjzgAoFvt6g6BQXI99Ly10IEohBJuZ7SrEQAAACOWWIhAAQ//73Tr8Cm0WXagOSVwr2yqQmWblSawHypgAAAwAAAwAAAwLa9HiTO+TU8TYAAAMBBwAoYVMRISAUsbwqBLEG9h/gvGghyg7GhqZM5+WudcUesWjBhrmoOyHQbLiT3YmFQoLMUJilLmYt52Iav5BxLOq6el85oA4us/nmQ0I1Ts2sAK5Nyx9J2zuXv0WLNX8vw6PYEbviRQLCazi9Wk2rqCkMLVZ+ND8vWswx18374xiV8i9q1eFKsORWY8T0U91M5R1d3HAF4S7i/W0FQJhOEnHXxiENRLCwT38lbl9hjl6RyEBYDWCWUGhgILhQAFv8KPHhxfqFuEQLSo3nU0oDKAiL7xtgEGwq+4sfU3dFADeBmWdLnzTyrrfXPRuG6jreRjMygu5szfodyxoMKFhZnlAgYZ3NNKGgfJsA/Lqok2HZERduPMMwDzfIYCsW0iv3KjQSCx58OJTQumr/jOTcRnvdXbaTCNhhytLAx8GiTqQ7F3P39eB0nXpsTnLnylAkvreySDtj5YYpeUDURE/JXw6sPqBcTYXDESmotazZ7YV7bRkyVTzEvu8eCk3fV09/zHs7bczYLq0hHqTJjaJV4ekahNV7Jp6nJj5mfZ1mNYdMQO7MVImM8q4YebLgfW14AhIfUaqT1kBJzAz671d+11mgo2WoDdy5918vmt3h7mSi5l4GmPR/iaaej2BQDlk6DBxMR487ucayb+udhL+olD3oyDiZTvZpE/lQAAADAAADAAE1AAAAkEGaJGxDf/6MsAAARhKpwFCx1klY4yX3UAlVBVBKvCI6RnY77tFYq0ElnYvkrylxG/Mzq/ZM+y81zU1zuM0CFasx1AwdJ5npdkei7IQrAbR2qX3cay4/hFtyyZ6gN6hnRqu/leW764c1JXGtPlZBZUlTS8o6OmDP/xxoHKap8jVY7x1AvEdqVf+j1MYpT0QMHQAAADVBnkJ4hX8AAAMDNetm/PxtCseOXEWJscSkQBA3wmAMQy33lJFIUIl1SWu4qm2EjqpniXbZgQAAACYBnmF0Qn8AAAUgiCTJO+fTLJ1IjR3uTGHIn/0lK9mbz62VuE9J2QAAACQBnmNqQn8AAAUMXc1Db9CppenEZFAF+NtOtqTt+tme2M6mz4AAAABOQZpoSahBaJlMCG///oywAABGAvbzd4wMVORRLzVCv3hDlePTna+0vcJ3M3RqtZg13AK4lvctS0TS8NmIJplUOG1moIeCfi/ahkuHOiWAAAAAPkGehkURLCv/AAAWvEPNtxdxMk1ADc0V1444H8w6PNSoZXxyJAQuWkiTgpI/ORxV1AH7cHXXo+hYQRzeD1BxAAAAJAGepXRCfwAAAwHluWUPo9zpAvJUYABcT6JpgtgNuw5i4JQPSAAAACUBnqdqQn8AACKyPLkeUTfYSomCGP0/tqsnkGhAsY8HJR7qfg0IAAAAOEGarEmoQWyZTAhv//6MsAAAGopgubL/7+l3sC3m2wP966+iiMrezkndtwSuvYD3zY+zhPQnQPfBAAAANEGeykUVLCv/AAAIa/rlG7iAAnV8TPrMsh4rB8o/As421+tIEEwi8AoDJXqoLbIBgPLHb+EAAAAaAZ7pdEJ/AAANfgDUvp809p5jWa4aCTlm34EAAAAmAZ7rakJ/AAAFHTAP+QeYWqjXsGQABqXgjIpzsI+34eU/skfz23AAAAA/QZrwSahBbJlMCG///oywAABGAvbyegSf0CJQyJ6NzXYKvCCl8QFHrkK+Ka7HggkAVn7GRobYJhdYlGy8PhbAAAAAMEGfDkUVLCv/AAAWLFC29NRkUISuzib+sGoAJmoyHK+x36o26/gxCfaoZKOgx0LBgQAAACABny10Qn8AACPDQBBkz8ALbq+NVrAw/44mV9LHfuJj/AAAACsBny9qQn8AACOxy/yIzgAkHe+jfDGzygBmeAfDWhu2dFn4qpASA0GFlHegAAAASEGbNEmoQWyZTAhv//6MsAAARge5AC1nrhL8aUyqie4fuv2GwI9e3akwRZH5ipfLauno9it29v7v3QA5Ei9D0xODuEhH4fM66QAAAC9Bn1JFFSwr/wAAFrVcF90CfSF40FAxnACWmoXvE7/B68vCKvroBB4tvV2WZ5N4OAAAACIBn3F0Qn8AACPDQle6RRFVABc55vrWQaeLe7CSgK01KoFtAAAAHAGfc2pCfwAAAwAaFcPhxWZ+HuqKE5shuvvP1JUAAAB2QZt4SahBbJlMCG///oywAABGFHUpgCfmcLTwWajUyZu57FykqydFfpw8G5zJaOF+DOAyMNddD2zaAAqLM60ATR6SBLl1gUX4rBY1sWuw5hC0BnKOVChdVV9zihTkaInWCEQm24QC968NFPQpiLi8GuMm0yceOwAAAC9Bn5ZFFSwr/wAAFrU+8HLoZq2lr4/Py5wAlqgEYsOuvo4aPO+2zHsdH0OvY4NH+QAAACUBn7V0Qn8AACOr+Ft4EyoAASx+aI3kIyeFLAPCeASWVXT400jYAAAALwGft2pCfwAAIrIw21PR5rMuACyEZmwjgCV8yLxJbxEJnsi7nCtz29kbqwjpfGv9AAAAVUGbvEmoQWyZTAhv//6MsAAARgL2m9IwgZDV2VsJ49Pmcse6P2Feps7usrXTiySvUOt+9sveYoPb3wJG50AhXhlSPqLBGGDrCmQ+1sVSfUixIJxRRDkAAAAkQZ/aRRUsK/8AABa1Q1WnI6qoe/y9XJF6dNjPn2cQWO/SYlTAAAAAFgGf+XRCfwAAI6v4W3gX1U1byXSAu4AAAAAdAZ/7akJ/AAAisjDbU9HhGiDSdec6ZjYHHkQkW0EAAABrQZvgSahBbJlMCG///oywAABGFF1Kx+59UBhAgi7k8RHi+opfySCIGR/xEmyX06C8hAvnDsOdcpVJv156PnqstQoy3i2MHgEfQCztwCMiEDHne515Ef9cZjFnfcQ+QNjFNk6qkaK+fmM5/1AAAAAlQZ4eRRUsK/8AABa1KzdrWl64l7cBTj1OWjhHaats7zd4/6vdbQAAACcBnj10Qn8AACOr+FfnjIAF1EFwC7VzOksD4Pop+3OSvstHA3F1kfAAAAAdAZ4/akJ/AAADALomAcNx7PU3+GTCmXBI1Xs7dSsAAAA9QZokSahBbJlMCG///oywAABGAvZY49JpIBIGjWyifuzjiPWRmQp6oBwdYDa36N97n3Pr7WTMQkgp9piMwQAAACRBnkJFFSwr/wAAFrUrN2taXriXtwFOPU5aOF36Fnusfs7PnPkAAAAlAZ5hdEJ/AAAjq9g7W6VABtlafpYFluMxEqUO0URvGPzHNYyTgQAAAB4BnmNqQn8AAAMAuiYBw3Hs9Tf4ZMKZcEjVeytWwrAAAABzQZpoSahBbJlMCG///oywAABGAQrE3bgEjYQOsdGJK9oOJnAkck7ennI2qhGhX0T+G4brJnBsZfconQG7VlUmt4kER9pHc/qpladUAHzgqPpfuT3WJTTF1UXYT8AnYFsE3/8CIUmGujz36f6Iv8DhXM22nAAAACRBnoZFFSwr/wAAFrUrN2taXriiigxfIyVF9/K9yPtzYu7ggoMAAAAsAZ6ldEJ/AAAjq9g6ejUGQARTB7qWduwoZ2BXLKTvqBQh/abqiwgiLqfoAW0AAAAtAZ6nakJ/AAADAEVjl/kRnACNPwLp5z8aCAbcD8LR4Jt5wb1i1wg7f9O/t69wAAAAjEGarEmoQWyZTAhv//6MsAAARn++BtJ2tSPvu6GJMgkvNZGh8EHj/gyuK3i9RkCZ8DDd/k6mKhRgXCn3mYylRJMcf2PGhOQWgbfLaxG72dX8YMdv0akRDRNaJz8kVZUdMuIchBpx24UfzxbzMbv29ockZb0DIcg3lnDqCy0X5snaiCSdP5KNrlXGFFchAAAAMkGeykUVLCv/AAAWJVhVis4/wa4gAEzUicFxWoMfBuE0pYCwLYnfUDFt3S5dqUOIPHLBAAAAJAGe6XRCfwAAIqw5Bh6qgAshKf2oBT6ZO6dN9GU4Q1yLzdD5gQAAACgBnutqQn8AAAMAQ2RW7wACWPzPhTNgyM8tRVgpYDBIWWB0c7aMENwnAAAAb0Ga8EmoQWyZTAhv//6MsAAARAIKrOAKDbUY7BUsaP+euZdIV6Kxenrbod8Ou17THtuOG1Uy3nNHxCjac7RbLh0ffY4KiE0d4bXKGLMRD/6VDDQWGOkE5xSIOKI2VuOQVlKTZpGYsEOe+p8/ela+tgAAADJBnw5FFSwr/wAAFiuUjYfZkswDbsFnbAAfuS7WwzRtiDWklnbA6t9NBGmBo5wRRS7BvQAAABsBny10Qn8AACK39gFA/OY2CCnkwIh/z/pA9IAAAAAqAZ8vakJ/AAAivxrOqNXrfLCSSwATBPgBzjo/Ln8f1Xi1SbXcJ0kQw4TgAAAAVEGbNEmoQWyZTAhv//6MsAAARAL3+YyV64OQHoKS4KNC8M0paDdfSHcA/KsrCvE4Y+xFQHqTN7ojTcsO7PhsMQB3Ult1oSvz9DchKRHs7cp9u80IMQAAAC9Bn1JFFSwr/wAAFjBaEV7ED0ytwXXv/VAHWbgbygA/TCxdaNA2NZGpnNbioXzR0wAAACEBn3F0Qn8AACLDO5+qnRLQAtfYtBy8y7on0KIiSBD1OgcAAAAoAZ9zakJ/AAAisiW+2DcR0cA12X61+myoAHtZwR0/sl35TqrqM6/jpwAAAGVBm3hJqEFsmUwIb//+jLAAAEQ7d2D1BrQqwLCdMCppg8USODaQAku2E18l7rZHRqxDfUKYCD6zU3A2zqK2eAmNoPMHMyy/EfBWvd0TSv7bj0cVNDmo7L2559pXbFR3chMgxVFDgAAAADVBn5ZFFSwr/wAAFiuxbgcPqy+oSmr9Ixt7op0IXFYL44Fp6qARjGanYtJymfuP9tw/F1+CwQAAAB0Bn7V0Qn8AACLDF3X8WqhlwmWooDFsGrray5CkgAAAACoBn7dqQn8AACJD/UZ/ISagBa9TUOzI7KPN/77jLbV87cuWAizqIwweflEAAABzQZu8SahBbJlMCG///oywAABEFEFULCmXexAAVJvgPFN5a10W1oLqV5yexWSICbtnHdB5mg9fl4apzS6l3fglaaon0axlFv1+VRoq1Q4BP2CR/P3BQIUJPkVRDEUKI0F/vu0l8Rk3GqoBgZ3TYA1QysUMQQAAAE5Bn9pFFSwr/wAAFiMrscWavgUVqCYATtd21eEOLg+GVDAKg3sWoeU5NMWwaZtvO8/TY5IGXWyvJDUrmmg3HUWUZVU43EYMXtYAzLDOonAAAAAhAZ/5dEJ/AAAiq/hZT65ZH8oMUngYVFPsfMetuZPuHdSAAAAANQGf+2pCfwAAIr8EJxLLG+aST5UAEpFzAOcAvdPhpLrywEdInq8mZVw1kLEDQkEK9OVdp7ehAAAAdUGb4EmoQWyZTAhv//6MsAAARAL8MQCaT0B/30i6/Zp8yRgYmGWDKwbGknzui+01BKmV4sEAG/XLIH3l/5xJNGHBgEA9d0iv8xeE8sNOhJzI/M+/DJ/S4cdMYPSUbeIZczkD9adM+SUyCf7YzTs0VbrSgSo8oQAAAEZBnh5FFSwr/wAAFZVfRXaGqXRQKZS/2PMBPggAJ25+aph1fHigbwkN8sk409PMhV9L7xeIHdtG7BHc4Jd4pSBrlbyyawJ9AAAALQGePXRCfwAAIsMXYzKzyIFxYAC4n6XSwFA0jK5VmZ7+R6gzeewE2fKZuqjuTgAAADEBnj9qQn8AACKyKu6sVsgQr1c0KSRKD8HBCCL4qBFvgBMmfOnZsdq48aGJKFrmKjehAAAAdEGaJEmoQWyZTAhv//6MsAAARnpvPd+l0AXI0zvbYH7p/LLYjn85Vp6+KQ9xemqTsXRiSsk6reDW33M6E2YD1rQxmOhrAHpKhI9xEYbaJvptRIjlC1W4itgpyH2eUn7Y/7X1aTZimq/RygZKSGT4vPZCKSZBAAAARkGeQkUVLCv/AAAWIyu1BbE7JSgIoZlQGP4XtFEBQ03M8hA1GdS2TihSzJN3l8LdzVHaHKLR35CqhIX7L2HKdc3saxZwT4EAAAArAZ5hdEJ/AAAi1SEAHFKpUsapdKv/22WjK94d98ouXWLkgt3zCSWA7LaEPQAAAD0BnmNqQn8AACKxzArSoAFZwQmE1QnxXJNWjzqEC5sjWPh51Kj3L2/QBSmX+vD0hgEaofbdjMc6ghQfZ31IAAAAdUGaaEmoQWyZTAhv//6MsAAARAC8JEAl6iRtHpg1g2gvQktyiKusr55PLXpBxPgMLEpn5xCAhQ3bdwJOPNsiAxmdlN1D0WPKOLexYJi7CSWXpH0QQE+WqtVZ3Lp+qZa6648Zw6ynge0/erXrjyRMSLFCnOW8DAAAAEBBnoZFFSwr/wAAFiNvvwBEIyeHgGMksUAWj4q5dwuggkytsCGqiH8YBdqjA5H4FJUsEYRnR2tbBSrV/V53SkSRAAAAKwGepXRCfwAAIqUzftypOTvjIj2BmlOMmWjbLNufyfhFKPBB26GUXNHAxYAAAAA0AZ6nakJ/AAAhxwtVLVbHnpa9eBMcohYRbD8xZNMPWPc4u5L0unxmO87WvciZcrTt0mTAygAAAJFBmqxJqEFsmUwIb//+jLAAAEQCBU2zhYBFOJaYDzW7M+pzzXEmF0MHw0XpzhFDgwAqzVTVu0BKvSO6oKBVZH/hRSyXlGgPmlz+TBLb5d67u3M/j+83z40bpfjyKOGM6uDvN9BJd9iovaU1yZepZSg1Ej4OhDIsJlVP7L5RixoPknywRSRMP35tL9k5bFLONmCBAAAAUkGeykUVLCv/AAAWK5Q3Iu3tGsgsMOuvFKczjYd0RDQpZaqKjhXc8xeqElFozZnCnj571X93REOFkb5SKgnJ7vSZsRYNCMsEq6J9OY0YufUujFkAAABKAZ7pdEJ/AAAirDtDrgAuJ+f/eeleYNjEadIgqhitLa2ZglrzRYITy7rvUa2m/GFYINZAxC34MMYjbj20vzxNt1GysL0m0ptRKsEAAAA1AZ7rakJ/AAAiscwQREDdmslqAfintzTNdXYabMIAC3Xw5ViX/wuv22Xt4Ga7A1REwffLp58AAACaQZrwSahBbJlMCG///oywAABEerAPl+i5Q2AtbCQSfTem6h44+z/Ak9c1mtUhX3SWKh9bSC7LdoGv33D6j7YPxNpPoNxtwRsbxzOxU2Vu59XcNRo/hZQuQZkzpe8oEREPfUk4JH3gNtJzkWEeIj0w8mWzVd9nvIy8i1gYcoGz7NTmTI/FPDTdCyxgBoKU05hH+J7eQwpSIoVhIAAAAD5Bnw5FFSwr/wAAFiMrtQW2hm9icCZCXMAFxWUgSitI3pjDwuEVaOhSSQZmI/42qvl9wZDpFXYNTWl+YPvf8QAAAEUBny10Qn8AACKr+F9PuZOwy4MZNxR5btoAbT3wA5FjHDuz0kSVDWg2v0Hg7GMPjIBe7H/a5BlpJp3bGCwJ0bAmvKTWOUkAAAA2AZ8vakJ/AAAiscwHaV+b7OpgASwcwfakACZZKmIKeNFviI5qNSkdrZD2FsmyPNglSvUSyqqQAAAAYUGbMUmoQWyZTAhv//6MsAAARHptnm9ImQD44pjOGq+WlsFSu7j8Zgo95MCg05nhNosLuNLROXzZZAd0yoevUsLoM5VwGsMp92y862ozQB1EN7xLAQd0n+NoMUe+s8TZTEMAAACMQZtVSeEKUmUwIb/+jLAAAEICBfzG+mL4l6De+a0KvUu5OruATSDa9cCYDwxVlaM+wBCuYkw0y1EPM0iKia6AJSPmUp6poncxQwl7r+RbTkAu0zmaZ0Ox/gtmXBkC9xPVPalps63ZAJ7p1WH1x+5YzdiU3wxA28tLuMONH7+9beXYyf4DXMcqsOSaJ+oAAABTQZ9zRTRMK/8AABWTLI+CSZSEC6m4wgbBsHjEeShB+uIoHCbMZP5egJzHK5L4oapTx3WZHEfbrl7oygZKsPltDgbMjnD2D5Caz/0rUY8uboWW44EAAAAyAZ+SdEJ/AAAhqgpdX40uAYabAzzxWUuAuVUvhaw/IwAmjob48hrPSr4UPNijjjj+58EAAAA3AZ+UakJ/AAAhsi2/BwAWoU24m2C3H7atrRADqBZ29WCc7WGDGnkk1daRwiNkGbHnFqoSxhkDjgAAAItBm5lJqEFomUwIb//+jLAAAEIlHMOogAjqUl1gOseUI35GP/9VtupktxUli5EQtllmy3P8m8WIww6J7fcyW+cODoX+n//6APxLEOjstOjDc2App4aVUVVFmoBRemuYt7Px9w+NtXAGiUmnz9lcsCnWWRVz1uJLjgVh1roxrRBZYodyN55TOXoWiGoNAAAAM0Gft0URLCv/AAAVkywDpYwaHaKPgnzCs843NL21jTYr9085Ok+DwH0AdfpKdblMp0po2gAAACYBn9Z0Qn8AACE7b/9WZaHkAmQwyYXmhI8nYnQp7yGVxIIDCyEOWQAAACoBn9hqQn8AACGyKvWEzvKyQ3QIALqAZS7x8e/+fWP+Kcmbdx4Oy8CBbMEAAABJQZvbSahBbJlMFEw3//6MsAAAQgIFeT0CTqsG89zsSdsABUnhP7lJp7oBhddbwcSQq26gu2k09R0BXDTrCwYk0gEstZKx7MvvMAAAADoBn/pqQn8AACGuMS/RZ6vNcPsdhqZy82y1O9oWQ2MBYMKgNT6TE2/cAIaz8ezfy7HLLfR62TxNhoqYAAAAZkGb/0nhClJlMCG//oywAABCAPhgwA6CVvl6jJ2xfKUlobMnzOqFy95nbZgD/Uha/h+fcngBFwNp2Ea2fIOpZ3X+srUSOV+yVXZF9QcjbpqpHBgaXB8yNEjdq98YhIEJy8G0uVmZ7QAAADdBnh1FNEwr/wAAFZuUVLGMwCHAeh8jfsajZS7lgBNlpoPF2PlHopRmOp+2Y6sQi7j7+ITLbPJAAAAAHwGePHRCfwAAIcMXaKmlU9T7yVOVq2sCw/QRIhC5ZWcAAAApAZ4+akJ/AAAhrjEv0jL0gk03tuTE6muBAx4hrr7tL50VALgArE2cVSAAAAB8QZojSahBaJlMCG///oywAABCAgVEi4Qyg/PLjj5Y0AVhBbDj1qfYZRnL6UDkJtctGKOmTXvjoJuqrnRWy3OzTAJClR49cpMzGQ6D4zmi84DtalBhnIVRHjHwe1XlHJj0CXc4bT2W5rKdUHYztmsX+oJM1pqDHFAyHIK0sQAAADNBnkFFESwr/wAAFZuUVLF0jKyATdvFL1bgAP20YfvvxIeAd95TkvmqTYBXroiJA3im44EAAAAoAZ5gdEJ/AAAht8dnQ9wAxZ2g7k44blntkaol8FQCPgdnmzQZtLS+TQAAADsBnmJqQn8AACGx6GF0CGQudAC2PdXx4QpoymyAxjHcB3wf7Yvw+HmGQn3/9iK149u+7Zj4w7jsTV8dwQAAAHFBmmdJqEFsmUwIb//+jLAAAEIBDGDAPn2v2Zo1VXA6PnSA7Y14nVOT5r/hrw7PyaOW2Cicx+RloH2aOxiYSI/o+qMuAXKHmJBuzFsNT+GkY2wYD//L7J3lF6TkWdlwVVEFDhwKq9w/lvmYMI/uFa3poAAAAElBnoVFFSwr/wAAFZMsKGWXnFYAhLQCNV5DLrm84OPoYCv7RulwQJTIm3koGyixu+cXyJXuU7eGZfO2GEssuntvTOYkU6GRdDuAAAAAJgGepHRCfwAAIanOxZOFdGgt3w1cmYCfstztgQV5azwCpyAyJStdAAAAJgGepmpCfwAAIbHoYX/FzkAEuu4Xi2f6vitS6TQzsK+9Kje+t0O4AAAAekGaqUmoQWyZTBRMN//+jLAAAEJ6b0Tua/t/ow3uSLfwwAXzKwrA0tUjeAJT1Xb/qNAOo1x9QsvoYgQSlqzef3MQmxGFKSO968GMnEImFAet6Kx3eeqd7YyvUJZj8D6saepc4AKytPOo7r2ssdkV6jvhcZQbps4faIwQAAAANwGeyGpCfwAAIaViLjHcOJ22aCjHEABGlbw89UUDpJwouP1jrWKEl1I1UCJ0MUbIGK2nLnx/WVMAAACTQZrNSeEKUmUwIb/+jLAAAEAA9sVrz/4mDgzpbVVutVxxu1/fKOC4d1fprF/gUAoADJoCjcZbOY1MZ2eRoPksZxp//8QQhPQIu5w41DCmjBKHuGFwEA4RFWsM2qI9a7dx7DlwFuj9EXKI6x7dOxszDpibtGHzzYq8vcVC+BEOfGu/rBZqOfysxvM5KN4nlHEvLU05AAAAPUGe60U0TCv/AAAVAp9fDqa917gOkXWUzJpQAdur/P8IUhQY1xtKV+X+zHT53+hRbjCA8+r0L07yK5zzth8AAAA0AZ8KdEJ/AAAgw0cIZvWVPDshIQwz0YyiRNoASQ/gQQx69mSRyHAaTSidsUBjHCJen7jmmAAAADgBnwxqQn8AACCuMwH/OEs1ABbdBU9YgO3MTZiB+azfJyjV/vKway2p1pakYh9jCKsdWfMBQLfofAAAAI9BmxFJqEFomUwIb//+jLAAAEAUTncDYtgGtn0aKEOHQOPad+HV1I47fIBHQJMiwkuhUz7rnJ6RvqRM2jrCIsJrrnODlQPxQE6tkRrRFLJWv1ETawqsmQw94lxzjnlNA9L386+XXX0ro3577iYz6TBodZXgPPOSMvsc6oBECZ1slV8l10aWnq/EvJxdYkzzgQAAAElBny9FESwr/wAAFQKfB7RXu8NhAB+9pbmC9nj7K92Y7k4d/XYaXg2SlvYF4sF9tAJsL9G4TnI/SeDiTZU9i8CFxNdlLOp3WDH3AAAANQGfTnRCfwAAILz4IVxXp9Rh7YpJX6KAEfJga+0+fQ1+exIr1/kMU1LzzmDU7ndQrO5WwqKwAAAAQQGfUGpCfwAAIK4xL9ijLfXJVtUIACWmcV6jvp48QsOgGXSeQmuW0GswJEwvSZU5yQKRzrNkFjDnlaFwEw2MOlJBAAAAlUGbVUmoQWyZTAhv//6MsAAAQAEKzv8L/icRQOQgNKAdWH2h2ArBpI/GNDeIL/aIQdoAVy+sjfV58pbbxuHKxdoFSGWms/p4jJGuoBA8VtDBL24r/jqlDV6tuPjL94VqVrDVqp6pXa+RcMMYkrBL1Hs9vN9rUcQdclYKRZ3gWPl1OUJwFlbZWqqCPxTMrNFe/qLP3dSUAAAANkGfc0UVLCv/AAAVC4Krt7xJTYkyCPTnLG7qfJsE66jMox7CRpNNdjZmN3MLjT96BqZ7ugKV0wAAAEYBn5J0Qn8AACClLDTMeKH1NznQu75nkByJybfiwAS1FHMDQA1fUXHM72oo02Y33ITn3BWAH46ejBiQgzJvDh1n0xSouTJvAAAAPgGflGpCfwAAIL2VrbriWls/Peq1+hQACtSHB5Kj5LQYJ9RLdyqgWwi5w58BWiBs+CjDwCntdyXniAROIHTAAAAAfUGbmUmoQWyZTAhv//6MsAAAQAFG6MOC2SwA5PgV/mrufPYPc4lN7iX6JfM+LW85KN+BJoOH/eNoWy/2NZZ/EiPn2Pzh8ZQOpJfgXlwIG9o4LjrKy9kxzBs+N5MfvnWVl2C5G+bFxH5PNgqS0876DJPkjl4ANYySk/WGEsfxAAAAREGft0UVLCv/AAAVC1910/tdtvglx5QiAEyC3vQ2X2vA6Dc69EnCfY35agl1lLMN5WCS33tL8fDiBKY0iaNeRR8CWvqYAAAAPAGf1nRCfwAAIMC4HrtnkKTuRmgAAsluIi8nM4JH1bFXBCwalbsFYO2TNQoxLgHn3xLyi+Eks7k2wVXpgQAAAC0Bn9hqQn8AACCuMS/PXDLHhQ8a+jWxnE9VRHur8eCDROgchsE6YjPOZtHGVLMAAADMQZvdSahBbJlMCG///oywAABAem89w2U8fwni7hieFN3QCH1A+T+Aah7QbhiFXotlK6DNrWsIKfcTh8ArEZXyuQ86HOhb6dFpeeXn7FNlbn4FdR7zVTY7+ltA4+Fu6+i9DUS6cmxBAOI21Z+U2zjr3V3nLg8O7HbpKqcjBLCIvhNROdfcCIDp3wAVaOtJ6R0OM/fqCaPdVrZ4oUP/tw6UvHV5oYvs1RP3VXsYn/wj3D/FVLZq1TfegHxjkLxWSxxCnZ9Rm7m8yIXgIAqAAAAAPUGf+0UVLCv/AAAVAp8cNwhVbbAl7tQ1T2oto0zTgMKjNe3JmA+iXtJadTgBMsWUim2m2XYgq8+ZfITkvpgAAAAvAZ4adEJ/AAAgq9eQB/oEZILz4RwpGgQ36wOPC2WBZEA99VAOxjQa8K6otdvY5UEAAAA/AZ4cakJ/AAAgscQk5CSj5MOOyVf9HNmhVX44LbgPCOaabCvwi/muO07/VbVowAjih5mz9gbBHurRPG4qUFmAAAAAp0GaAUmoQWyZTAhv//6MsAAAPmsTXYIAR3lZmDAgD9pKsy/PDrGJ2msWS/zBfGbem9Jm5YFac7kKYzfmRXruI32kKz3+kDctclNLOYPXHys9b0n1u9JI8XcjB26qHMRaH5HB5gXB1QKJgbPewLdmLXW29ooOt19ZqSzEAOvQ9ibA9U+UVUvt6a3HIUHhP4lhFNifEl3Gz6HiSJyI01gAFZJM00vmMDtfAAAAOkGeP0UVLCv/AAAUe19wyvVn/rL++INNZKP7aI2fI2SRCnm8CaRTXClpSHUQ1kGcewAoQMwpdOspPlAAAAApAZ5edEJ/AAAft4JMgw/jiUQ52xvp+CGRx5U+5ESBvKqR3gBAjg7Ei4EAAAA1AZ5AakJ/AAAfuaX92qX0SzJHr/nXAu/3vc0A61JSmEKu0DgAJmuhQQOSkBzcjl8EhmbVLpkAAACyQZpFSahBbJlMCG///oywAAA+Z9DuBXdMfKgFtkzl3261UWU1dtC1Pe5z6MY2LNNt6wBQjeDs4UnqkO9l8CLu22LC75d7ddgL8regaDvobuGvrB8r40WglJ3eCCNCr0j7NtUUouH2nDqhHpoR1JR/xcEo9vx+SI4bn4c4UrWL3mAoFDFaF7AFNzx673TfJWvSH7Fj595BSBbjiLU+VPFrgCwMvCyIPk3zIpsooRjnhVJngQAAAE1BnmNFFSwr/wAAFHK5sRb3H2KqSCF26O6gnayJ4uRYqezZcjiVFYO8cEtCaIWuFmm9CACDx2DCG7JPs9OTNHZ7Rl3kiH4SoKPY9R+4pQAAADMBnoJ0Qn8AAB+ul4ddOClFpKygMIm/uhg8xJO0S7SmrDrwDgaV2yXjwAg7HSB4YRpWdpAAAAAuAZ6EakJ/AAAfuaZ/UXlBaSUzN6n81qdZBeJK6/njdSj4hR/zRNvsMV2IrH4jMAAAAIlBmolJqEFsmUwIb//+jLAAAD5rE1RCa0CXzaHEDQ/ZbpqsfKoyQ9LAAxENngZPMxZH+cfEVyVyEb1JJldxPHPuWOqu8oWE0/rm6MT94vDDx8rXFAF8C68qsOsqF3dnLBWA8j6pPlbe5AEjNxEgAv+ifTGgFWMB3BKVDj6Cx7wWWwTMQDRNQ6WG4QAAAENBnqdFFSwr/wAAFHHcwogBxrfxTWivJihgaV+lPzMyOzs2f6GXw336Xfqs0QnLsVY0MksmcVOT6hWtMmGXwTUXR0XoAAAAKgGexnRCfwAAH8FlxLpbtSb/ZniZhTV2Nvm4oTZ9fEg4HzGXBNeNhLZRegAAAEcBnshqQn8AAB/OOv0YAiXSP8W7lc8JyBS4H7qZWkHmWxxD4l+5WXt/6wvMLVTRXhIpqzEl8wYQWGpyPpuWu8I/utVuJGg4RwAAALVBms1JqEFsmUwIb//+jLAAAD68Jz3LrWD2dgXIEFbwA13QRdnnJq4yA8aARzSJqBTO97luKFOV9DfWjZbx9W5mDlZER/1tBvwUBviMYh1i4FK5LuT+iV15gY0i/AxU0UtnStAZ5EztDVAny9q3yVRzmTyMHGhsA7jd45rpkRGJVfhuLTbHsCtJg7Samsh6zi5uF9Sb2l94ZQg2WgHSfDS4HzgEf4KST0nR0DNeVb1BDGvbxZHpAAAAPkGe60UVLCv/AAAUdSX9TKs/K7um20MSSeASrJG78weyc+PRgXAi7XkKtyX1FnDkED7r0x7gb+vRQbPQWrgZAAAALwGfCnRCfwAAH8iZIJM5hecXjZV9ZDf+lGTF7JORoORuz+ssbGTz345RhJiCcHSVAAAAKwGfDGpCfwAAHxbAy7q3cySNxama2FZrVEVP12X+JdyhCslTwkIcBmpdWP8AAACyQZsRSahBbJlMCG///oywAAA9B9c5bgCtUEBFf3+gmRxYWH1hd0Ggtztm5BwziuYe15vwblbjzdWCBU3433kclRS0mqkx/9vF9CgiI+aC70YKBl8nn6yacERBRuWy22WQaGttQyTwjttk35b9Zv1hgWgrkCZORw4057nOfflBrPZFG+2Q9ujQN5L1GHgK3c7YtX/3T0kDrU3n1f/bE3otPC+ccHL7qAN1NOdtFI/Bzx1wIQAAAEZBny9FFSwr/wAAE/A6GnAQImYiBeoFlHlHwdCXclubsLXKGAl2bFMOsfnADIlB7PC8Ykgnti6kj0tpNKzpT4ODMehXDjFQAAAANwGfTnRCfwAAHwbFqNXvj62VwapylNM3iaQ/w3mGgiOddixn7pLZ/mVACAmIT20S//gOJdQguJIAAAA7AZ9QakJ/AAAfFsBhB8N71kABdOb31qyxIVL3B51p4Mk/JOEjo2eej+SLAugEKv0sKnQ/zEvKQ13YXYEAAACZQZtSSahBbJlMCG///oywAAA88VWnyuAK1KlrU1C8JcwUXyNLc2CCrwce3lPqfzA1kxMCDrGIm7rJ3PYJrtMfcRgByMPQara5eoGDo6mygqJ4kO96PZxn0TeU1/YB5Aj2RoHoG1Bpcx2UwLO9kyWGyH/jilV355INfJYKJW0yzGIrBs43qt2pB1evRMnFq9ZWQn2v7DhWqbB0AAAAl0GbdknhClJlMCG//oywAAA9CxPWuQAtMik6BFIhn4ZZlEfGvLs/MJXtA7aE0ohhIMviAiEDPmBmoxsU63zJpyrG39gBIj9SRrHWrMaXqo2hXBqmubS9yB3S41upfZTgpc/zOlZilhKI36xb/GotEicNAZJzRBs8jheIVJpCADJlyPe8oJQGhUMnGGAvXgFR1wVnTDZn8sEAAABFQZ+URTRMK/8AABPwN6niPpb5/lBvyHuUd2WPxBpS64ek+B/0Py7Gj4lXwxHYfxShmxVe5tR0wAh/F/vyhUYT1lc027thAAAANwGfs3RCfwAAHxFlxLpYZnKZl9Ub7dY058qvQ5Nj0wfaHRiznD1d5J5Hil0ezmHbn96SsqDC58AAAAA9AZ+1akJ/AAAfCadY81Qnkl2YjNMrO3DLvnpZOCKlKCoU3Rkg01DYh+YToMorXPsDNHZXcayU4vRocfGMcQAAAJ5Bm7lJqEFomUwIb//+jLAAAD1cJz3LoJMfZHcOosqt6kPrTXhNq4MN6oCd38UBxhTVJUTVctWih3zaacSMCs7Q5EmRHP/27judizi4w3JYR7Lv80qiHOX0iUn9iW8GXVFGUq+d7KZr7u7ynZJA0YNn+DVCvPvs8YTRUMuI9lWhXQBtU6uD8iVElLrAVYI5dVfMqr0YcAFvN22O6iQLTAAAAGpBn9dFESwr/wAAE+U3ql7v+1W8oENH9DZfIqG0ejCA9lWdk4+MJ2pvvdtOp4H1jOt6F763aaBo5V0gRzTJg5xA7C5WiNB1NuUm9mKIKTA4NhHGvYMi16EWZyOG6PRJzb1spop2FQ0JmDfpAAAAOgGf+GpCfwAAHllrNobEBbuKeW8jFWte6famibts/w+Dwgs/NbFG5FzACHL7S2dCJTHW4PkTIKVOmo0AAACaQZv9SahBbJlMCG///oywAAA7p9naL6AK0LVg5M3yia5PkLUC/pIJ7pk/BpAxat0sX43tzw3LqcnlrqUc4I4q5/8wtXmVJlEAqkDeDuJN/2d962X+hhQFU0TmX0A9kqyDlpL/yk/evDe1niLOvZdOkmh70kyHWhNhIKBQ9q7g0FphT0xMfws1eEuO5v5ZFaZyirzUIrddCwmmgAAAAE9BnhtFFSwr/wAAE1W+EguX2emABdLj4/8tllrB5LBjLkCz8h55GLB6nU2b+5mppGUqcbx8FF9XvtwwT59FTvNMNEXi0q4n6gojRyG6SYqgAAAARwGeOnRCfwAAHlbpB2q1ZN9SAuABHVM0GNNAm3lIBGnn23fco2jX2178olTyogKe2WEHnZ2QcIYTfr9gM1CyiNuahwDD5jjhAAAAXQGePGpCfwAAHlmmf1F5Qvj/uIAFxP0ulgdtCDT7NWGhUm8Fr+YtxiJMzAWzfMn6CPVv7ro1dLzUxCcT6HJyg3o95QanXre2ShKvyEKNsbbJsFx2zXl2gAY+OuD3tAAAAI5Bmj9JqEFsmUwUTDf//oywAAA7nCqfS7umJNgAJawaOVkyni2Ag37/szC0ov/usS+luEdFODWdzvDLpb2MViB1L8WgQY0tSsLJJYZN0M6NiePERftqwH9puavzAVTbQN+lMlYrun1VQSkXwn7lb54fK1RM0HKoJgwgvB+BF0w9905rPJe5z74EXGWNaAExAAAAOAGeXmpCfwAAHlmmf07ns9oAFhFjRrRdDswdOYZOV3VMtXQ1jCrFZeCsDdbyvN05JmbI/mwroFGmAAAAfEGaQ0nhClJlMCG//oywAAA7/Cc90P/YPZLnfotqBdS0q69vsyZc8jvCaihmQWpL5xGWgaaESDaFQOAd2+Hyuiq6GFibnz3XaSytQnFqtVEVsnnMLC4j16t769Nw9IOH0UCfqmGsrvus+Oe/osraQoSp+feJbZ18M9CGRoEAAABGQZ5hRTRMK/8AABNdJUFiCiZwBsaJJhzpwcfxtJBoHZKRH8AYiQ7tHOA8Mf2/kvl+Bb9CFzPpQYGqXLRA10Ao3GcKlSMz0QAAAD4BnoB0Qn8AAB5W6Hr7Y4QMAFxPas3BUFPz9QciA17qdtejfOsD6L4N+HcBywJpheBIwh+s2zwiW9rUPuND1wAAAD8BnoJqQn8AAB5X0Mu81QZteocGFPN4xLF6fIj8jVkexEgARa+nFibgH20lMBBFWTu+eeQtfOab7CaDZbca+vkAAACAQZqGSahBaJlMCG///oywAAA6PG424AiOjaYn/gFFQJ5KCmfVbboIKxRxqk+gFsw+z313DCbr4RRcziN2pYuCPX7Q2a9Drqaq8CPub9cBgS7L/8z01bUofpK6dcjmvZt3xljKweVmmIC8PwYD6Y/V/nYTKSBflLj+RLXR7/Ob8dAAAABEQZ6kRREsK/8AABLVvlrvTGDSxR7Ls0oT8zKrdX9woh8Y3YZqS1wmh2EtRTNAAc0Mne399fTfRqfgI5rhGL2W2blDI4AAAAA6AZ7FakJ/AAAdqacVmAhdfPHK94V4qg+78ALbvwbztM//mcckfMnFrPxAluk2szToIGBbBdZ+wSZVuwAAAGFBmspJqEFsmUwIb//+jLAAADo8lXmKJp1pKB7gSwCfCf4R2ddB3GyFbTcpVKu3a1BbLkLyNxLV+8ftB7PZ3895qxWqxoskGlMxijlM3hn9xJOkkwnHmjIcn3SSpQEe12SAAAAAJUGe6EUVLCv/AAAS3SVUAzl2Wf5GPDPzZ140uxga3i+OX3JeEzQAAAAuAZ8HdEJ/AAAduCz/LuIMktLZTI8i6Ni++ODxrsGG/wh27KhXrBzdStaYrTgr0wAAAC8BnwlqQn8AAB2ppoIBOkOpDUWu3bVeMpQhrdJXxVMNQ8EKaDwVEgejcFv2Gg+u4QAAALdBmw5JqEFsmUwIb//+jLAAADqeudDBxBcTOZrAx1azClAXhcIE5GEQ7i4pWZ1/mUA2kBozGPZpj8QqnUQ4azGG1JgtY2DJ607Y7t7RCxXvY930JNqPGMdF4WwuigVVJWrQf1K0O7vGAPao+mmcrDHvU/sBEC/pybs1SGe53Yh20H/3X+BuI5IHKz1RdsTa+Mm5qEtcDjG45lJEKC0MiC5pwiGceDU8g9/TLp7gKabqQT7sU5kLY4EAAAA4QZ8sRRUsK/8AABLVvkuc05YLNABSsR6dJ9auiKBwClaiMRlSyOYQLKdkEl563GEezoCrJQEv4VAAAAAjAZ9LdEJ/AAAdpuh6+vJCX+hRyAuIQtzo8ozgUKrjqaAByKkAAAA0AZ9NakJ/AAAdto0XAEKlY2Dq6HRxPMQj9bz1DmtVYjyd9QZXHJ3vGMBPnysEzDsJD9wmcQAAAJdBm1JJqEFsmUwIb//+jLAAADjcmDG4ArfouuyrHRsy0V0yzkkkmz1nPKyFYlED0GNYtIXABnOOYrlPeUSz57HL/4HkK0C4mjOxUcMVtcmjF1waJ8ZzKCMLwTr8l9r8qVC32V2wcUUQ+gwV4bYBmm76Scd2J2JN9YwoFqFmpPtPjz8NzSCXnsq5IaEXDvKjW+JAuI886oxAAAAASkGfcEUVLCv/AAASVb5jWNp3OymAA98IVdnhfKRWWFmiXNRsm2Ylb7oVyB2mt7NVoyQsWJmA0UonrvlDeTj++5g6D9ujnftw8bpgAAAAQQGfj3RCfwAAHPZzIcBDyDfAAuf+naU+FbRn+2QC6H3zMsUt+qlKvvq1SmfHLMdDYrXSPtK/SFGBS6clXkbLei7pAAAARgGfkWpCfwAAHPjteP8YLEsQAi86dIniOuH2ulvJaLzCc0ncEzRG/BavEV2KZ+Z8l+MBkBQNfhat9duOFqHk6F5Y1gFogcAAAACaQZuWSahBbJlMCG///oywAAA43JO6bhAutnyRD9a5mWtEJ7QPtzAMQwCKpJmpnzi4OBYEvUY7GJ1rt1q8Fx7eWw5fvBXTKApHKXiHt/uFZ2tSvORuAAWYtrwDWQvTMNboNB7hLB9pangfIRId5SfdbUySjlReUeGrhNpbVGLMw1ydDn81SdwyrvhecGXEL+CC2NA1etycbc6gwwAAAEBBn7RFFSwr/wAAEl0lTIgJ3Z/1dOGAF1C68ckXZcoGh48zA+TNvC/vPFmH+PH8/9jDqAnvKZdXDk/OnnnNErzBAAAAMAGf03RCfwAAHPZzTb5iDms2V0e+iRjP0NScZFHnF5rSVpS+Jm39oO+3xptNQNxBwAAAADkBn9VqQn8AABz47Ta9CGDAegAAsWl0QuLggAxIEPLAIhBvRFlgGd2LXfYMOcuGpmdSWWkhzriu0h8AAADIQZvZSahBbJlMCG///oywAAA5PCc9y61g9pONDA/7ZAET0FfaJWKDENJFYkJ6cPPfoS5cqvuP74ObshLGi0D+QJxraCiW7yXvQwDpusgJe5n8cLcW3uqdumaxTSr3rk8Tx8vt0mFgknfrAmrnmuEgK/QYtaYfGQDCj2J91bZqxufBRFXXuTmNWbfI42s+OCpzqbiRFcClRpkhe49GtYrWTIInLuTjYLcfJKy2LM/1Xnz2Pw5dGy/hJ4F0+tA4+HAX+pVppOrclBYAAABdQZ/3RRUsK/8AABJVvkt8m2rGdQFolfQvTXujEsWjE+af1M7X+C4L8WFUxhrThDOZF4c2pyqYsHZH0VTZPF6BK5oK94FZns6oAs2s9NKHWZWFRfY2EXM29/h6mgPBAAAAUAGeGGpCfwAAHQajkmcCKEDAKBB0Xw8iQyUnS/P9f+Al5mAlgZ56/YI4B4EgWQaVjko4FPDu8EnhSqhdyeqmcW/pZAeDoLMR9szjiFnwhHmBAAAAvEGaHUmoQWyZTAhv//6MsAAAN6Ar2hWFGAF+izABO3i/g0ClTLwW6IfEiLX5ZAnOd7McCZAEhfLzJUNUAZHzw6L29TNgDgo/X+XjF2rlJwK+N2m2y5oIHKh6up9cPnyT7LNsoUXySnLOaYQDAyMg9eZFwjOp5Vd9BaDplFlYFbjQHzMWKi5akfne7pBa8Wsqculz4nmwQO1h3+BW9aNFi2w+4adROl95MhZN1Rwb3FF2wzR5dMbX6PJecqAMAAAAS0GeO0UVLCv/AAAR1b5a7z53fcAJk6aLQ7szdkA/XFdqpTjG0o/4bFzXtK4kl6MQtXL0y0fAbNLvchAbQAJ8rLpBYun6w+cctxv0gAAAAEEBnlp0Qn8AABxG6YBmMmK41yQuL3DkSskvACU11Nt+KpW2UFZP3plW5mGeHnHjZ1qxq2k2sZ6gWSjSeg4xaCKX3wAAAFkBnlxqQn8AABxJpnlqc17ME0HZlO28DFq/pq9EXNPyZw98iyRTiyyNuf1NfjvNe9fYiaA9nWSGD9QDusLgQGiU6RZ3hsre/HWC81a54EXSkuMaC1I3lG2LgAAAAJhBmkBJqEFsmUwIb//+jLAAADeK/ok1PSSd5ZnxiFxP7NhK7LnGLAALFsdDiYXQuTIl/cos0sfV63z0KiM3pGiFfBsWSdkRwmt9m+1koJ4Rb1W22iAPyz64zKCQQsriIebHYlEYGWd6p0RBNeo46rlaOIEdx6Vx5bu29OzDMfNILyzE/iNqebth1Av2jl7taN8B8CNmtd0rkQAAAFRBnn5FFSwr/wAAEd2WKkALY5Eynve6vshSnjSD6Y+Jw6ChMHPOMxGw8lPIREWMqiRIBplchK3M687EDEz3SWPMG0rG3Ig2Vd4jvplGuPTEkHHlhvwAAABGAZ6fakJ/AAAcVsBhByQ81msaSvApcKCCSIu2Jffo8Lpi/MOb0NgpoSDQaSDYnrYsANsrWxIVGci2r9IuTDB2MVYoXurw8QAAAI9BmoRJqEFsmUwIZ//+OEAAANeeoSReyKhTII6m1tmsn8jmL+hzd5EVmxEyJKwUHYLLujk/cTvDXfDaFN0uhxF+/HLYJZCf1DOLd14DLjck20t+v8/bo0vs+9aUYwZE32wcKrVXVuDcDj0g2WJ3895SlgfOd1EiIzPsHLGmpUd6fZjCrYbugTYjnIqTX89XgQAAAF5BnqJFFSwr/wAAEdW1qx7YgAOMWkrN6IdSLouHAIdbU/gdm8d2rRteVaxXRnrat3ll7Kf2xqozlH76eqt4dYK43gGDXtAEqWiueOSEFtRaP7Rfj3HYTAN/leWNVo/PAAAAOwGewXRCfwAAHFFpzxhgdkAUdnz/Xhop6y1ieWvPxniyc+ZKi1kWephox7nMKjLYdmL+2aSHflZd14i5AAAAOgGew2pCfwAAHEmmf08fNZj6mKSuhdy/RGjgRLyDWz+1KQd4IhDtd5Lh/lO61LDhQ1IFZlY7jgl80LgAAABHQZrISahBbJlMCE///IQAAAyH7Crbe9eAkCoyE0aoPQqrFVhUwVtbrJkvi03UE2NqJ9P26HHJeDY4kQ2V19Abwia7JW0SSekAAABjQZ7mRRUsK/8AABHWoHXltADcUr3FcBQDO4VGx5sFcXQ5t41D71WfdBIFW27UYoqZiv4lqur6VOmpaNf5Gwc9LaTbhV8J1kDjODG2DZYPU+tq5iByOKgYf3XrjxnUaHKYQtB7AAAARAGfBXRCfwAAG5pdSLe2AO+sgphRAi1Vj5sAZJHBGxu7REAdVqnyc8ZKV1kMReFwSdQAbD7/881a823myI0eGml0BwVAAAAAMAGfB2pCfwAAHFfoATemtJqq84tqxQERFRWMACCqCXTnnVH9NZkwhgCBBvN2MjYS8AAAMc1tb292AAAAbG12aGQAAAAAAAAAAAAAAAAAAAPoAACC3AABAAABAAAAAAAAAAAAAAAAAQAAAAAAAAAAAAAAAAAAAAEAAAAAAAAAAAAAAAAAAEAAAAAAAAAAAAAAAAAAAAAAAAAAAAAAAAAAAAAAAAACAAAw93RyYWsAAABcdGtoZAAAAAMAAAAAAAAAAAAAAAEAAAAAAACC3AAAAAAAAAAAAAAAAAAAAAAAAQAAAAAAAAAAAAAAAAAAAAEAAAAAAAAAAAAAAAAAAEAAAAACYAAAAZAAAAAAACRlZHRzAAAAHGVsc3QAAAAAAAAAAQAAgtwAAAQAAAEAAAAAMG9tZGlhAAAAIG1kaGQAAAAAAAAAAAAAAAAAADwAAAfaAFXEAAAAAAAtaGRscgAAAAAAAAAAdmlkZQAAAAAAAAAAAAAAAFZpZGVvSGFuZGxlcgAAADAabWluZgAAABR2bWhkAAAAAQAAAAAAAAAAAAAAJGRpbmYAAAAcZHJlZgAAAAAAAAABAAAADHVybCAAAAABAAAv2nN0YmwAAACWc3RzZAAAAAAAAAABAAAAhmF2YzEAAAAAAAAAAQAAAAAAAAAAAAAAAAAAAAACYAGQAEgAAABIAAAAAAAAAAEAAAAAAAAAAAAAAAAAAAAAAAAAAAAAAAAAAAAAAAAAAAAY//8AAAAwYXZjQwFkAB7/4QAYZ2QAHqzZQJgzoQAAAwABAAADADwPFi2WAQAFaOvnLIsAAAAYc3R0cwAAAAAAAAABAAAD7QAAAgAAAAAkc3RzcwAAAAAAAAAFAAAAAQAAAMoAAAHEAAACvgAAAyUAAB8IY3R0cwAAAAAAAAPfAAAAAQAABAAAAAABAAAKAAAAAAEAAAQAAAAAAQAAAAAAAAABAAACAAAAAAEAAAoAAAAAAQAABAAAAAABAAAAAAAAAAEAAAIAAAAAAQAACAAAAAACAAACAAAAAAEAAAoAAAAAAQAABAAAAAABAAAAAAAAAAEAAAIAAAAAAQAACgAAAAABAAAEAAAAAAEAAAAAAAAAAQAAAgAAAAABAAAKAAAAAAEAAAQAAAAAAQAAAAAAAAABAAACAAAAAAEAAAoAAAAAAQAABAAAAAABAAAAAAAAAAEAAAIAAAAAAQAACgAAAAABAAAEAAAAAAEAAAAAAAAAAQAAAgAAAAABAAAKAAAAAAEAAAQAAAAAAQAAAAAAAAABAAACAAAAAAEAAAoAAAAAAQAABAAAAAABAAAAAAAAAAEAAAIAAAAAAQAACgAAAAABAAAEAAAAAAEAAAAAAAAAAQAAAgAAAAABAAAKAAAAAAEAAAQAAAAAAQAAAAAAAAABAAACAAAAAAEAAAoAAAAAAQAABAAAAAABAAAAAAAAAAEAAAIAAAAAAQAACgAAAAABAAAEAAAAAAEAAAAAAAAAAQAAAgAAAAABAAAKAAAAAAEAAAQAAAAAAQAAAAAAAAABAAACAAAAAAEAAAoAAAAAAQAABAAAAAABAAAAAAAAAAEAAAIAAAAAAQAACgAAAAABAAAEAAAAAAEAAAAAAAAAAQAAAgAAAAABAAAKAAAAAAEAAAQAAAAAAQAAAAAAAAABAAACAAAAAAEAAAgAAAAAAgAAAgAAAAABAAAKAAAAAAEAAAQAAAAAAQAAAAAAAAABAAACAAAAAAEAAAoAAAAAAQAABAAAAAABAAAAAAAAAAEAAAIAAAAAAQAACgAAAAABAAAEAAAAAAEAAAAAAAAAAQAAAgAAAAABAAAGAAAAAAEAAAIAAAAAAQAACgAAAAABAAAEAAAAAAEAAAAAAAAAAQAAAgAAAAABAAAGAAAAAAEAAAIAAAAAAQAACgAAAAABAAAEAAAAAAEAAAAAAAAAAQAAAgAAAAABAAAGAAAAAAEAAAIAAAAAAQAABgAAAAABAAACAAAAAAEAAAoAAAAAAQAABAAAAAABAAAAAAAAAAEAAAIAAAAAAQAACgAAAAABAAAEAAAAAAEAAAAAAAAAAQAAAgAAAAABAAAKAAAAAAEAAAQAAAAAAQAAAAAAAAABAAACAAAAAAEAAAoAAAAAAQAABAAAAAABAAAAAAAAAAEAAAIAAAAAAQAACAAAAAACAAACAAAAAAEAAAoAAAAAAQAABAAAAAABAAAAAAAAAAEAAAIAAAAAAQAACgAAAAABAAAEAAAAAAEAAAAAAAAAAQAAAgAAAAABAAAKAAAAAAEAAAQAAAAAAQAAAAAAAAABAAACAAAAAAEAAAoAAAAAAQAABAAAAAABAAAAAAAAAAEAAAIAAAAAAQAACgAAAAABAAAEAAAAAAEAAAAAAAAAAQAAAgAAAAABAAAKAAAAAAEAAAQAAAAAAQAAAAAAAAABAAACAAAAAAEAAAgAAAAAAgAAAgAAAAABAAAKAAAAAAEAAAQAAAAAAQAAAAAAAAABAAACAAAAAAEAAAoAAAAAAQAABAAAAAABAAAAAAAAAAEAAAIAAAAAAQAACgAAAAABAAAEAAAAAAEAAAAAAAAAAQAAAgAAAAABAAAKAAAAAAEAAAQAAAAAAQAAAAAAAAABAAACAAAAAAEAAAoAAAAAAQAABAAAAAABAAAAAAAAAAEAAAIAAAAAAQAACgAAAAABAAAEAAAAAAEAAAAAAAAAAQAAAgAAAAABAAAEAAAAAAEAAAoAAAAAAQAABAAAAAABAAAAAAAAAAEAAAIAAAAAAQAABAAAAAABAAAKAAAAAAEAAAQAAAAAAQAAAAAAAAABAAACAAAAAAEAAAoAAAAAAQAABAAAAAABAAAAAAAAAAEAAAIAAAAAAQAACgAAAAABAAAEAAAAAAEAAAAAAAAAAQAAAgAAAAABAAAEAAAAAAEAAAoAAAAAAQAABAAAAAABAAAAAAAAAAEAAAIAAAAAAQAACgAAAAABAAAEAAAAAAEAAAAAAAAAAQAAAgAAAAACAAAEAAAAAAEAAAgAAAAAAgAAAgAAAAABAAAKAAAAAAEAAAQAAAAAAQAAAAAAAAABAAACAAAAAAEAAAoAAAAAAQAABAAAAAABAAAAAAAAAAEAAAIAAAAAAQAACAAAAAACAAACAAAAAAEAAAoAAAAAAQAABAAAAAABAAAAAAAAAAEAAAIAAAAAAQAACgAAAAABAAAEAAAAAAEAAAAAAAAAAQAAAgAAAAABAAAKAAAAAAEAAAQAAAAAAQAAAAAAAAABAAACAAAAAAEAAAoAAAAAAQAABAAAAAABAAAAAAAAAAEAAAIAAAAAAQAACgAAAAABAAAEAAAAAAEAAAAAAAAAAQAAAgAAAAABAAAKAAAAAAEAAAQAAAAAAQAAAAAAAAABAAACAAAAAAEAAAoAAAAAAQAABAAAAAABAAAAAAAAAAEAAAIAAAAAAQAACgAAAAABAAAEAAAAAAEAAAAAAAAAAQAAAgAAAAABAAAKAAAAAAEAAAQAAAAAAQAAAAAAAAABAAACAAAAAAEAAAoAAAAAAQAABAAAAAABAAAAAAAAAAEAAAIAAAAAAQAACgAAAAABAAAEAAAAAAEAAAAAAAAAAQAAAgAAAAABAAAKAAAAAAEAAAQAAAAAAQAAAAAAAAABAAACAAAAAAEAAAoAAAAAAQAABAAAAAABAAAAAAAAAAEAAAIAAAAAAQAACgAAAAABAAAEAAAAAAEAAAAAAAAAAQAAAgAAAAABAAAKAAAAAAEAAAQAAAAAAQAAAAAAAAABAAACAAAAAAEAAAoAAAAAAQAABAAAAAABAAAAAAAAAAEAAAIAAAAAAQAACgAAAAABAAAEAAAAAAEAAAAAAAAAAQAAAgAAAAABAAAKAAAAAAEAAAQAAAAAAQAAAAAAAAABAAACAAAAAAEAAAoAAAAAAQAABAAAAAABAAAAAAAAAAEAAAIAAAAAAQAACgAAAAABAAAEAAAAAAEAAAAAAAAAAQAAAgAAAAABAAAKAAAAAAEAAAQAAAAAAQAAAAAAAAABAAACAAAAAAEAAAoAAAAAAQAABAAAAAABAAAAAAAAAAEAAAIAAAAAAQAACgAAAAABAAAEAAAAAAEAAAAAAAAAAQAAAgAAAAABAAAKAAAAAAEAAAQAAAAAAQAAAAAAAAABAAACAAAAAAEAAAoAAAAAAQAABAAAAAABAAAAAAAAAAEAAAIAAAAAAQAACgAAAAABAAAEAAAAAAEAAAAAAAAAAQAAAgAAAAABAAAKAAAAAAEAAAQAAAAAAQAAAAAAAAABAAACAAAAAAEAAAoAAAAAAQAABAAAAAABAAAAAAAAAAEAAAIAAAAAAQAACgAAAAABAAAEAAAAAAEAAAAAAAAAAQAAAgAAAAABAAAKAAAAAAEAAAQAAAAAAQAAAAAAAAABAAACAAAAAAEAAAoAAAAAAQAABAAAAAABAAAAAAAAAAEAAAIAAAAAAQAACgAAAAABAAAEAAAAAAEAAAAAAAAAAQAAAgAAAAABAAAKAAAAAAEAAAQAAAAAAQAAAAAAAAABAAACAAAAAAEAAAoAAAAAAQAABAAAAAABAAAAAAAAAAEAAAIAAAAAAQAACgAAAAABAAAEAAAAAAEAAAAAAAAAAQAAAgAAAAABAAAKAAAAAAEAAAQAAAAAAQAAAAAAAAABAAACAAAAAAEAAAoAAAAAAQAABAAAAAABAAAAAAAAAAEAAAIAAAAAAQAACgAAAAABAAAEAAAAAAEAAAAAAAAAAQAAAgAAAAABAAAKAAAAAAEAAAQAAAAAAQAAAAAAAAABAAACAAAAAAEAAAoAAAAAAQAABAAAAAABAAAAAAAAAAEAAAIAAAAAAQAACgAAAAABAAAEAAAAAAEAAAAAAAAAAQAAAgAAAAABAAAKAAAAAAEAAAQAAAAAAQAAAAAAAAABAAACAAAAAAEAAAoAAAAAAQAABAAAAAABAAAAAAAAAAEAAAIAAAAAAQAACgAAAAABAAAEAAAAAAEAAAAAAAAAAQAAAgAAAAABAAAKAAAAAAEAAAQAAAAAAQAAAAAAAAABAAACAAAAAAEAAAoAAAAAAQAABAAAAAABAAAAAAAAAAEAAAIAAAAAAQAACgAAAAABAAAEAAAAAAEAAAAAAAAAAQAAAgAAAAABAAAKAAAAAAEAAAQAAAAAAQAAAAAAAAABAAACAAAAAAEAAAoAAAAAAQAABAAAAAABAAAAAAAAAAEAAAIAAAAAAQAACgAAAAABAAAEAAAAAAEAAAAAAAAAAQAAAgAAAAABAAAKAAAAAAEAAAQAAAAAAQAAAAAAAAABAAACAAAAAAEAAAoAAAAAAQAABAAAAAABAAAAAAAAAAEAAAIAAAAAAQAACgAAAAABAAAEAAAAAAEAAAAAAAAAAQAAAgAAAAABAAAKAAAAAAEAAAQAAAAAAQAAAAAAAAABAAACAAAAAAEAAAoAAAAAAQAABAAAAAABAAAAAAAAAAEAAAIAAAAAAQAABAAAAAABAAAKAAAAAAEAAAQAAAAAAQAAAAAAAAABAAACAAAAAAEAAAoAAAAAAQAABAAAAAABAAAAAAAAAAEAAAIAAAAAAQAACgAAAAABAAAEAAAAAAEAAAAAAAAAAQAAAgAAAAABAAAGAAAAAAEAAAIAAAAAAQAABAAAAAABAAAKAAAAAAEAAAQAAAAAAQAAAAAAAAABAAACAAAAAAEAAAoAAAAAAQAABAAAAAABAAAAAAAAAAEAAAIAAAAAAQAACgAAAAABAAAEAAAAAAEAAAAAAAAAAQAAAgAAAAABAAAKAAAAAAEAAAQAAAAAAQAAAAAAAAABAAACAAAAAAEAAAoAAAAAAQAABAAAAAABAAAAAAAAAAEAAAIAAAAAAQAABgAAAAABAAACAAAAAAEAAAoAAAAAAQAABAAAAAABAAAAAAAAAAEAAAIAAAAAAQAACgAAAAABAAAEAAAAAAEAAAAAAAAAAQAAAgAAAAABAAAKAAAAAAEAAAQAAAAAAQAAAAAAAAABAAACAAAAAAEAAAoAAAAAAQAABAAAAAABAAAAAAAAAAEAAAIAAAAAAQAACgAAAAABAAAEAAAAAAEAAAAAAAAAAQAAAgAAAAABAAAKAAAAAAEAAAQAAAAAAQAAAAAAAAABAAACAAAAAAEAAAoAAAAAAQAABAAAAAABAAAAAAAAAAEAAAIAAAAAAQAACgAAAAABAAAEAAAAAAEAAAAAAAAAAQAAAgAAAAABAAAKAAAAAAEAAAQAAAAAAQAAAAAAAAABAAACAAAAAAEAAAoAAAAAAQAABAAAAAABAAAAAAAAAAEAAAIAAAAAAQAACgAAAAABAAAEAAAAAAEAAAAAAAAAAQAAAgAAAAABAAAKAAAAAAEAAAQAAAAAAQAAAAAAAAABAAACAAAAAAEAAAoAAAAAAQAABAAAAAABAAAAAAAAAAEAAAIAAAAAAQAACgAAAAABAAAEAAAAAAEAAAAAAAAAAQAAAgAAAAABAAAKAAAAAAEAAAQAAAAAAQAAAAAAAAABAAACAAAAAAEAAAoAAAAAAQAABAAAAAABAAAAAAAAAAEAAAIAAAAAAQAACgAAAAABAAAEAAAAAAEAAAAAAAAAAQAAAgAAAAABAAAKAAAAAAEAAAQAAAAAAQAAAAAAAAABAAACAAAAAAEAAAoAAAAAAQAABAAAAAABAAAAAAAAAAEAAAIAAAAAAQAACgAAAAABAAAEAAAAAAEAAAAAAAAAAQAAAgAAAAABAAAKAAAAAAEAAAQAAAAAAQAAAAAAAAABAAACAAAAAAEAAAoAAAAAAQAABAAAAAABAAAAAAAAAAEAAAIAAAAAAQAACgAAAAABAAAEAAAAAAEAAAAAAAAAAQAAAgAAAAABAAAKAAAAAAEAAAQAAAAAAQAAAAAAAAABAAACAAAAAAEAAAoAAAAAAQAABAAAAAABAAAAAAAAAAEAAAIAAAAAAQAACgAAAAABAAAEAAAAAAEAAAAAAAAAAQAAAgAAAAABAAAKAAAAAAEAAAQAAAAAAQAAAAAAAAABAAACAAAAAAEAAAQAAAAAAQAACgAAAAABAAAEAAAAAAEAAAAAAAAAAQAAAgAAAAABAAAKAAAAAAEAAAQAAAAAAQAAAAAAAAABAAACAAAAAAEAAAoAAAAAAQAABAAAAAABAAAAAAAAAAEAAAIAAAAAAQAACgAAAAABAAAEAAAAAAEAAAAAAAAAAQAAAgAAAAABAAAKAAAAAAEAAAQAAAAAAQAAAAAAAAABAAACAAAAAAEAAAoAAAAAAQAABAAAAAABAAAAAAAAAAEAAAIAAAAAAQAACgAAAAABAAAEAAAAAAEAAAAAAAAAAQAAAgAAAAABAAAKAAAAAAEAAAQAAAAAAQAAAAAAAAABAAACAAAAAAEAAAoAAAAAAQAABAAAAAABAAAAAAAAAAEAAAIAAAAAAQAACgAAAAABAAAEAAAAAAEAAAAAAAAAAQAAAgAAAAABAAAKAAAAAAEAAAQAAAAAAQAAAAAAAAABAAACAAAAAAEAAAoAAAAAAQAABAAAAAABAAAAAAAAAAEAAAIAAAAAAQAACgAAAAABAAAEAAAAAAEAAAAAAAAAAQAAAgAAAAABAAAKAAAAAAEAAAQAAAAAAQAAAAAAAAABAAACAAAAAAEAAAoAAAAAAQAABAAAAAABAAAAAAAAAAEAAAIAAAAAAQAACgAAAAABAAAEAAAAAAEAAAAAAAAAAQAAAgAAAAABAAAKAAAAAAEAAAQAAAAAAQAAAAAAAAABAAACAAAAAAEAAAoAAAAAAQAABAAAAAABAAAAAAAAAAEAAAIAAAAAAQAACgAAAAABAAAEAAAAAAEAAAAAAAAAAQAAAgAAAAABAAAKAAAAAAEAAAQAAAAAAQAAAAAAAAABAAACAAAAAAEAAAoAAAAAAQAABAAAAAABAAAAAAAAAAEAAAIAAAAAAQAACgAAAAABAAAEAAAAAAEAAAAAAAAAAQAAAgAAAAABAAAKAAAAAAEAAAQAAAAAAQAAAAAAAAABAAACAAAAAAEAAAoAAAAAAQAABAAAAAABAAAAAAAAAAEAAAIAAAAAAQAABgAAAAABAAACAAAAAAEAAAoAAAAAAQAABAAAAAABAAAAAAAAAAEAAAIAAAAAAQAACgAAAAABAAAEAAAAAAEAAAAAAAAAAQAAAgAAAAABAAAKAAAAAAEAAAQAAAAAAQAAAAAAAAABAAACAAAAAAEAAAoAAAAAAQAABAAAAAABAAAAAAAAAAEAAAIAAAAAAQAACgAAAAABAAAEAAAAAAEAAAAAAAAAAQAAAgAAAAABAAAEAAAAAAEAAAoAAAAAAQAABAAAAAABAAAAAAAAAAEAAAIAAAAAAQAACgAAAAABAAAEAAAAAAEAAAAAAAAAAQAAAgAAAAABAAAKAAAAAAEAAAQAAAAAAQAAAAAAAAABAAACAAAAAAEAAAoAAAAAAQAABAAAAAABAAAAAAAAAAEAAAIAAAAAAQAACgAAAAABAAAEAAAAAAEAAAAAAAAAAQAAAgAAAAABAAAKAAAAAAEAAAQAAAAAAQAAAAAAAAABAAACAAAAAAEAAAQAAAAAAQAACgAAAAABAAAEAAAAAAEAAAAAAAAAAQAAAgAAAAABAAAKAAAAAAEAAAQAAAAAAQAAAAAAAAABAAACAAAAAAEAAAoAAAAAAQAABAAAAAABAAAAAAAAAAEAAAIAAAAAAQAACgAAAAABAAAEAAAAAAEAAAAAAAAAAQAAAgAAAAABAAAKAAAAAAEAAAQAAAAAAQAAAAAAAAABAAACAAAAAAEAAAoAAAAAAQAABAAAAAABAAAAAAAAAAEAAAIAAAAAAQAACgAAAAABAAAEAAAAAAEAAAAAAAAAAQAAAgAAAAABAAAIAAAAAAIAAAIAAAAAAQAACgAAAAABAAAEAAAAAAEAAAAAAAAAAQAAAgAAAAABAAAKAAAAAAEAAAQAAAAAAQAAAAAAAAABAAACAAAAAAEAAAoAAAAAAQAABAAAAAABAAAAAAAAAAEAAAIAAAAAAQAACgAAAAABAAAEAAAAAAEAAAAAAAAAAQAAAgAAAAABAAAGAAAAAAEAAAIAAAAAAQAACgAAAAABAAAEAAAAAAEAAAAAAAAAAQAAAgAAAAABAAAKAAAAAAEAAAQAAAAAAQAAAAAAAAABAAACAAAAAAEAAAoAAAAAAQAABAAAAAABAAAAAAAAAAEAAAIAAAAAAQAACgAAAAABAAAEAAAAAAEAAAAAAAAAAQAAAgAAAAABAAAIAAAAAAIAAAIAAAAAAQAACgAAAAABAAAEAAAAAAEAAAAAAAAAAQAAAgAAAAABAAAKAAAAAAEAAAQAAAAAAQAAAAAAAAABAAACAAAAAAIAAAQAAAAAAQAACgAAAAABAAAEAAAAAAEAAAAAAAAAAQAAAgAAAAABAAAKAAAAAAEAAAQAAAAAAQAAAAAAAAABAAACAAAAAAEAAAoAAAAAAQAABAAAAAABAAAAAAAAAAEAAAIAAAAAAQAACgAAAAABAAAEAAAAAAEAAAAAAAAAAQAAAgAAAAABAAAKAAAAAAEAAAQAAAAAAQAAAAAAAAABAAACAAAAAAEAAAoAAAAAAQAABAAAAAABAAAAAAAAAAEAAAIAAAAAAQAACgAAAAABAAAEAAAAAAEAAAAAAAAAAQAAAgAAAAABAAAKAAAAAAEAAAQAAAAAAQAAAAAAAAABAAACAAAAAAEAAAoAAAAAAQAABAAAAAABAAAAAAAAAAEAAAIAAAAAAQAACgAAAAABAAAEAAAAAAEAAAAAAAAAAQAAAgAAAAABAAAKAAAAAAEAAAQAAAAAAQAAAAAAAAABAAACAAAAAAEAAAoAAAAAAQAABAAAAAABAAAAAAAAAAEAAAIAAAAAAQAACgAAAAABAAAEAAAAAAEAAAAAAAAAAQAAAgAAAAABAAAKAAAAAAEAAAQAAAAAAQAAAAAAAAABAAACAAAAAAEAAAoAAAAAAQAABAAAAAABAAAAAAAAAAEAAAIAAAAAAQAACgAAAAABAAAEAAAAAAEAAAAAAAAAAQAAAgAAAAABAAAKAAAAAAEAAAQAAAAAAQAAAAAAAAABAAACAAAAAAEAAAoAAAAAAQAABAAAAAABAAAAAAAAAAEAAAIAAAAAAQAACgAAAAABAAAEAAAAAAEAAAAAAAAAAQAAAgAAAAABAAAKAAAAAAEAAAQAAAAAAQAAAAAAAAABAAACAAAAAAEAAAQAAAAAAQAACgAAAAABAAAEAAAAAAEAAAAAAAAAAQAAAgAAAAABAAAKAAAAAAEAAAQAAAAAAQAAAAAAAAABAAACAAAAAAEAAAYAAAAAAQAAAgAAAAABAAAKAAAAAAEAAAQAAAAAAQAAAAAAAAABAAACAAAAAAEAAAoAAAAAAQAABAAAAAABAAAAAAAAAAEAAAIAAAAAAQAACgAAAAABAAAEAAAAAAEAAAAAAAAAAQAAAgAAAAABAAAGAAAAAAEAAAIAAAAAAQAACgAAAAABAAAEAAAAAAEAAAAAAAAAAQAAAgAAAAABAAAKAAAAAAEAAAQAAAAAAQAAAAAAAAABAAACAAAAAAEAAAoAAAAAAQAABAAAAAABAAAAAAAAAAEAAAIAAAAAAQAACgAAAAABAAAEAAAAAAEAAAAAAAAAAQAAAgAAAAABAAAKAAAAAAEAAAQAAAAAAQAAAAAAAAABAAACAAAAAAEAAAoAAAAAAQAABAAAAAABAAAAAAAAAAEAAAIAAAAAAQAACgAAAAABAAAEAAAAAAEAAAAAAAAAAQAAAgAAAAABAAAKAAAAAAEAAAQAAAAAAQAAAAAAAAABAAACAAAAAAEAAAoAAAAAAQAABAAAAAABAAAAAAAAAAEAAAIAAAAAAQAACgAAAAABAAAEAAAAAAEAAAAAAAAAAQAAAgAAAAABAAAEAAAAAAEAAAoAAAAAAQAABAAAAAABAAAAAAAAAAEAAAIAAAAAAQAACAAAAAACAAACAAAAAAEAAAoAAAAAAQAABAAAAAABAAAAAAAAAAEAAAIAAAAAAQAABgAAAAABAAACAAAAAAEAAAoAAAAAAQAABAAAAAABAAAAAAAAAAEAAAIAAAAAAQAACAAAAAACAAACAAAAAAEAAAoAAAAAAQAABAAAAAABAAAAAAAAAAEAAAIAAAAAAQAACgAAAAABAAAEAAAAAAEAAAAAAAAAAQAAAgAAAAABAAAKAAAAAAEAAAQAAAAAAQAAAAAAAAABAAACAAAAAAEAAAoAAAAAAQAABAAAAAABAAAAAAAAAAEAAAIAAAAAAQAACAAAAAACAAACAAAAAAEAAAoAAAAAAQAABAAAAAABAAAAAAAAAAEAAAIAAAAAAQAACAAAAAACAAACAAAAAAEAAAoAAAAAAQAABAAAAAABAAAAAAAAAAEAAAIAAAAAAQAACgAAAAABAAAEAAAAAAEAAAAAAAAAAQAAAgAAAAAcc3RzYwAAAAAAAAABAAAAAQAAA+0AAAABAAAPyHN0c3oAAAAAAAAAAAAAA+0AAARyAAAA7QAAAC8AAAA0AAAAHAAAAJkAAABEAAAAJQAAADgAAABlAAAAMAAAACoAAABjAAAASwAAACoAAAAvAAAAgAAAAC0AAAAwAAAAJwAAAFAAAAAzAAAAIwAAABoAAACSAAAAJAAAAB0AAAA5AAAAhgAAAE0AAAAgAAAALQAAAHsAAAA5AAAAGwAAADMAAABiAAAAUgAAACgAAAAwAAAARgAAADcAAAAoAAAAKAAAAH8AAABFAAAALgAAACwAAAB1AAAANgAAACQAAAAyAAAAfgAAAD0AAAAyAAAANgAAAHIAAAA+AAAALAAAADwAAAB6AAAATwAAADYAAAAsAAAAkgAAAFwAAAAuAAAAQgAAAHMAAABTAAAALAAAAEYAAACXAAAARgAAADMAAAC1AAAAVQAAAC4AAABFAAAAhwAAAEwAAAA0AAAAPQAAAI8AAABTAAAANwAAAD4AAACeAAAAOwAAAJAAAABKAAAAPAAAADQAAAC0AAAAMwAAAKgAAABhAAAANgAAAD0AAAB3AAAARgAAAKUAAAA3AAAAjgAAAE8AAABBAAAAMQAAAOMAAABcAAAAOAAAAD8AAACWAAAAXwAAAEIAAAA9AAAAtQAAAGMAAAA3AAAASgAAAJgAAABiAAAAPgAAAIIAAABUAAAAUgAAAEkAAACgAAAAOwAAAD4AAABHAAAAqwAAAEEAAAA1AAAALQAAAMQAAAA2AAAANQAAAD4AAACrAAAAUgAAAEYAAAA6AAAAbwAAAEgAAAA2AAAANQAAAJQAAABDAAAALwAAALUAAABRAAAALwAAADgAAACLAAAASwAAAEQAAAA/AAAAmwAAAEoAAAA6AAAAPQAAAL4AAABTAAAAOgAAAEgAAACCAAAASwAAADEAAAA0AAAAggAAAEkAAAA5AAAANwAAAEkAAACsAAAASgAAAFEAAAA6AAAAWwAAAIoAAABBAAAAKgAAAD0AAABaAAAASgAAADkAAAA6AAAAfwAAAFIAAABBAAAAMgAAAFYAAABxAAAARwAAAEIAAABHAAAAUwAAAGYAAAAyAAAAMAAAAEwAAAKBAAAAuQAAAC0AAAApAAAAUAAAAEEAAAAlAAAALgAAAGAAAAA6AAAAHgAAACMAAABZAAAAQQAAACoAAADUAAAATwAAACQAAAAkAAAAawAAACIAAAArAAAAMgAAAEMAAAAcAAAALgAAABkAAABUAAAAIgAAACYAAAAUAAAAYgAAACMAAAAhAAAAGAAAAHEAAAAuAAAAIQAAACQAAACqAAAALgAAACYAAAAaAAAAYQAAADkAAAAsAAAAGwAAAH4AAAA6AAAAIgAAACAAAACNAAAANgAAACUAAAAhAAAAnwAAAEQAAAApAAAAJwAAAEkAAABBAAAAJAAAACcAAABSAAAAOQAAABoAAAAiAAAASQAAADMAAAAdAAAAHwAAADwAAAAjAAAAGwAAACAAAAB4AAAANQAAABgAAAAjAAAAPAAAACwAAAAdAAAAGgAAAGEAAAA4AAAAFgAAACEAAABNAAAAMgAAACsAAAAnAAAAMAAAABkAAAAZAAAAFQAAAGAAAAAdAAAAFAAAABcAAABMAAAAIAAAACEAAAAgAAAAIgAAABYAAAAUAAAAEgAAAD8AAAAwAAAAIwAAAB8AAAA9AAAAIQAAACIAAAASAAAAhwAAACUAAAAhAAAAHAAAACgAAAAYAAAAFgAAABQAAABfAAAANQAAABYAAAAwAAAANgAAABkAAAASAAAAFwAAAGkAAAAoAAAAIQAAAC4AAAAyAAAAHAAAABYAAAAWAAAATAAAADYAAAAqAAAAMQAAAHQAAAAgAAAAFgAAACwAAABIAAAAMgAAAC8AAAAhAAAAOgAAABoAAAAoAAAAFwAAAD0AAAAhAAAARgAAABIAAABjAAAAHQAAABcAAAAlAAAAXwAAACQAAAAsAAAAFwAAADoAAAA1AAAAIQAAACgAAABDAAAAHwAAACMAAAASAAAAcAAAAB8AAAAwAAAALgAAAHEAAAAqAAAAIQAAADEAAABJAAAAHwAAABQAAAAZAAAAWAAAADcAAAApAAAALQAAAGcAAAApAAAAFgAAADcAAACsAAAAIwAAABsAAAAeAAAAaAAAADMAAAA7AAAALQAAAGsAAAAyAAAAJAAAABwAAABzAAAAPQAAACMAAAAhAAAAXQAAACgAAAAhAAAAJAAAAFwAAAAgAAAAHAAAABUAAABvAAAAKQAAACsAAAAfAAAAbwAAADEAAAAqAAAAKQAAAJUAAAAvAAAAHAAAACIAAACEAAAARQAAAB8AAAAcAAAAXwAAAKAAAAA5AAAALgAAAB0AAAB4AAAAMwAAAC4AAAAfAAAAdgAAAC0AAAAeAAAAJAAAADEAAAAhAAACSwAAAIEAAABHAAAANgAAACcAAABrAAAAMwAAAB4AAAA0AAAAcQAAADcAAAAZAAAAHwAAAEAAAAA5AAAAJgAAAB0AAABeAAAAJAAAABIAAAAvAAAALwAAACsAAABoAAAAKQAAACkAAAA0AAAAXQAAACgAAAAXAAAALQAAAE0AAAAsAAAAGAAAABYAAAA+AAAAJQAAACEAAAAkAAAAcAAAACMAAAAWAAAAJgAAAC0AAAA4AAAAMgAAAB8AAABiAAAAJwAAABUAAAAuAAAAZAAAACcAAAAxAAAALQAAAFQAAABCAAAAMQAAACoAAABIAAAANAAAACAAAAAoAAAAXQAAACYAAAAdAAAAGAAAAGQAAAArAAAAJAAAACgAAABiAAAAKAAAADYAAAAzAAAAjgAAACgAAAAwAAAALgAAAEsAAAAlAAAAFwAAAC4AAABXAAAANQAAAC8AAAAjAAAAXAAAADUAAAArAAAAIAAAAEsAAAAcAAAAGAAAABkAAACIAAAANAAAADQAAAAoAAAAhwAAADYAAAApAAAAGgAAAE8AAAApAAAAIQAAAB8AAABdAAAAPgAAACwAAAAgAAAAZwAAAEMAAAAxAAAANQAAAGwAAABLAAAAKwAAACMAAAB6AAAAMwAAADMAAAA4AAAAdwAAADwAAAArAAAAMQAAALMAAABaAAAARwAAAEsAAACUAAAAsgAAAEgAAAA+AAAAPAAAAJEAAABaAAAARAAAADcAAACYAAAAYgAAAD8AAAA4AAAAjAAAAFQAAAA1AAAAMwAAAIUAAABDAAAANgAAAD8AAAD5AAAAXwAAACwAAAAnAAAAjwAAADMAAAAiAAAAMgAAAGEAAABJAAAANQAAACIAAAB+AAAAQQAAACUAAAAhAAAAPQAAACoAAAAeAAAAIwAAAFIAAAAoAAAAHgAAAC4AAACBAAAAMwAAACQAAAAeAAAARAAAADAAAAAjAAAAHQAAAF4AAABHAAAAPQAAAC8AAABiAAAANAAAAB0AAAAdAAAAXgAAAB8AAAAaAAAAKAAAAIgAAAAnAAAAHwAAACYAAACBAAAARQAAADAAAAAtAAAAewAAAEoAAAAxAAAALAAAAGMAAABMAAAANwAAACwAAACmAAAAUQAAAEsAAAA5AAAATQAAAEcAAABRAAAASQAAAHsAAABXAAAAQwAAAEYAAACEAAAAUgAAADgAAABCAAAAZwAAAEIAAACMAAAATQAAADAAAAA1AAAAtgAAAFoAAAA+AAAAPQAAAI4AAAA5AAAARAAAAD8AAAB6AAAAVAAAADcAAAA/AAAAhAAAAE0AAAA3AAAANwAAAfYAAADSAAAAWAAAAEoAAABLAAAA3wAAAFQAAAA8AAAASAAAAKYAAAA7AAAAMQAAADEAAACMAAAAUQAAAD4AAAA6AAAAkgAAAE4AAABCAAAANgAAALsAAABRAAAANQAAAEkAAACSAAAAkQAAAE4AAAA3AAAAOQAAALUAAABbAAAAQwAAAEcAAADUAAAAVgAAADsAAABUAAAAaAAAAEoAAABJAAAAQQAAAKAAAABJAAAARgAAAEMAAABxAAAAUQAAAEoAAABFAAAAgAAAAD4AAAA/AAAAOAAAAG4AAAA5AAAANQAAAG8AAABRAAAANgAAADcAAACgAAAARQAAADAAAABEAAAAfgAAAD8AAABBAAAARwAAAG4AAABQAAAAUgAAADMAAADUAAAANwAAAIkAAABxAAAASAAAAEcAAACXAAAASgAAAEgAAABIAAAAqwAAAGIAAABOAAAASgAAAJMAAABYAAAASwAAAEEAAACjAAAASgAAAEYAAAC0AAAAewAAAEYAAABLAAAAiwAAAGcAAABKAAAANwAAAFYAAAI9AAAAlAAAADkAAAAqAAAAKAAAAFIAAABCAAAAKAAAACkAAAA8AAAAOAAAAB4AAAAqAAAAQwAAADQAAAAkAAAALwAAAEwAAAAzAAAAJgAAACAAAAB6AAAAMwAAACkAAAAzAAAAWQAAACgAAAAaAAAAIQAAAG8AAAApAAAAKwAAACEAAABBAAAAKAAAACkAAAAiAAAAdwAAACgAAAAwAAAAMQAAAJAAAAA2AAAAKAAAACwAAABzAAAANgAAAB8AAAAuAAAAWAAAADMAAAAlAAAALAAAAGkAAAA5AAAAIQAAAC4AAAB3AAAAUgAAACUAAAA5AAAAeQAAAEoAAAAxAAAANQAAAHgAAABKAAAALwAAAEEAAAB5AAAARAAAAC8AAAA4AAAAlQAAAFYAAABOAAAAOQAAAJ4AAABCAAAASQAAADoAAABlAAAAkAAAAFcAAAA2AAAAOwAAAI8AAAA3AAAAKgAAAC4AAABNAAAAPgAAAGoAAAA7AAAAIwAAAC0AAACAAAAANwAAACwAAAA/AAAAdQAAAE0AAAAqAAAAKgAAAH4AAAA7AAAAlwAAAEEAAAA4AAAAPAAAAJMAAABNAAAAOQAAAEUAAACZAAAAOgAAAEoAAABCAAAAgQAAAEgAAABAAAAAMQAAANAAAABBAAAAMwAAAEMAAACrAAAAPgAAAC0AAAA5AAAAtgAAAFEAAAA3AAAAMgAAAI0AAABHAAAALgAAAEsAAAC5AAAAQgAAADMAAAAvAAAAtgAAAEoAAAA7AAAAPwAAAJ0AAACbAAAASQAAADsAAABBAAAAogAAAG4AAAA+AAAAngAAAFMAAABLAAAAYQAAAJIAAAA8AAAAgAAAAEoAAABCAAAAQwAAAIQAAABIAAAAPgAAAGUAAAApAAAAMgAAADMAAAC7AAAAPAAAACcAAAA4AAAAmwAAAE4AAABFAAAASgAAAJ4AAABEAAAANAAAAD0AAADMAAAAYQAAAFQAAADAAAAATwAAAEUAAABdAAAAnAAAAFgAAABKAAAAkwAAAGIAAAA/AAAAPgAAAEsAAABnAAAASAAAADQAAAAUc3RjbwAAAAAAAAABAAAAMAAAAGJ1ZHRhAAAAWm1ldGEAAAAAAAAAIWhkbHIAAAAAAAAAAG1kaXJhcHBsAAAAAAAAAAAAAAAALWlsc3QAAAAlqXRvbwAAAB1kYXRhAAAAAQAAAABMYXZmNTcuODMuMTAw\" type=\"video/mp4\">\n",
              "  Your browser does not support the video tag.\n",
              "  </video>"
            ],
            "text/plain": [
              "<IPython.core.display.HTML object>"
            ]
          },
          "metadata": {},
          "execution_count": 81
        }
      ]
    },
    {
      "cell_type": "markdown",
      "metadata": {
        "id": "povaAOcZygLw"
      },
      "source": [
        "For fun, compare the trained agent (above) to an agent moving randomly. (It does not do as well.)"
      ]
    },
    {
      "cell_type": "code",
      "metadata": {
        "id": "pJZIdC37yNH4",
        "outputId": "99f326f1-d33d-49e7-d30a-922d474f92bf",
        "colab": {
          "base_uri": "https://localhost:8080/",
          "height": 518
        }
      },
      "source": [
        "create_policy_eval_video(random_policy, \"random-agent\")"
      ],
      "execution_count": 82,
      "outputs": [
        {
          "output_type": "stream",
          "name": "stderr",
          "text": [
            "WARNING:root:IMAGEIO FFMPEG_WRITER WARNING: input image is not divisible by macro_block_size=16, resizing from (400, 600) to (400, 608) to ensure video compatibility with most codecs and players. To prevent resizing, make your input image divisible by the macro_block_size or set the macro_block_size to None (risking incompatibility). You may also see a FFMPEG warning concerning speedloss due to data not being aligned.\n"
          ]
        },
        {
          "output_type": "execute_result",
          "data": {
            "text/html": [
              "\n",
              "  <video width=\"640\" height=\"480\" controls>\n",
              "    <source src=\"data:video/mp4;base64,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\" type=\"video/mp4\">\n",
              "  Your browser does not support the video tag.\n",
              "  </video>"
            ],
            "text/plain": [
              "<IPython.core.display.HTML object>"
            ]
          },
          "metadata": {},
          "execution_count": 82
        }
      ]
    },
    {
      "cell_type": "code",
      "source": [
        ""
      ],
      "metadata": {
        "id": "w1D-hbSTUywt"
      },
      "execution_count": 82,
      "outputs": []
    }
  ]
}